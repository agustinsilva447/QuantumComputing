{
  "nbformat": 4,
  "nbformat_minor": 0,
  "metadata": {
    "colab": {
      "name": "cirq_tutorial_3.ipynb",
      "provenance": [],
      "collapsed_sections": []
    },
    "kernelspec": {
      "name": "python3",
      "display_name": "Python 3"
    }
  },
  "cells": [
    {
      "cell_type": "code",
      "metadata": {
        "id": "xRrbSWCuAbCq",
        "colab_type": "code",
        "colab": {}
      },
      "source": [
        "!pip install cirq"
      ],
      "execution_count": 0,
      "outputs": []
    },
    {
      "cell_type": "code",
      "metadata": {
        "id": "0DcKKWb78JIW",
        "colab_type": "code",
        "outputId": "6aa09ad4-0bc0-4ca7-963c-71ccc283170a",
        "colab": {
          "base_uri": "https://localhost:8080/",
          "height": 68
        }
      },
      "source": [
        "import cirq\n",
        "\n",
        "q0 = cirq.GridQubit(0, 0)\n",
        "q1 = cirq.GridQubit(1, 0)\n",
        "\n",
        "def basic_circuit(meas=True):\n",
        "    sqrt_x = cirq.X**0.5\n",
        "    yield sqrt_x(q0), sqrt_x(q1)\n",
        "    yield cirq.CZ(q0, q1)\n",
        "    yield sqrt_x(q0), sqrt_x(q1)\n",
        "    if meas:\n",
        "        yield cirq.measure(q0, key='q0'), cirq.measure(q1, key='q1')\n",
        "\n",
        "circuit = cirq.Circuit()\n",
        "circuit.append(basic_circuit())\n",
        "\n",
        "print(circuit)"
      ],
      "execution_count": 0,
      "outputs": [
        {
          "output_type": "stream",
          "text": [
            "(0, 0): ───X^0.5───@───X^0.5───M('q0')───\n",
            "                   │\n",
            "(1, 0): ───X^0.5───@───X^0.5───M('q1')───\n"
          ],
          "name": "stdout"
        }
      ]
    },
    {
      "cell_type": "code",
      "metadata": {
        "id": "RX7kwsqFAcep",
        "colab_type": "code",
        "outputId": "d956afa1-fc78-4dd3-f3a9-c105550a937f",
        "colab": {
          "base_uri": "https://localhost:8080/",
          "height": 51
        }
      },
      "source": [
        "from cirq import Simulator\n",
        "simulator = Simulator()\n",
        "result = simulator.run(circuit)\n",
        "\n",
        "print(result)"
      ],
      "execution_count": 0,
      "outputs": [
        {
          "output_type": "stream",
          "text": [
            "q0=0\n",
            "q1=1\n"
          ],
          "name": "stdout"
        }
      ]
    },
    {
      "cell_type": "code",
      "metadata": {
        "id": "LXWtNAjJAe36",
        "colab_type": "code",
        "outputId": "d8700941-8bdd-4c6c-c59b-ac96ddd55212",
        "colab": {
          "base_uri": "https://localhost:8080/",
          "height": 51
        }
      },
      "source": [
        "result = simulator.run(circuit)\n",
        "\n",
        "print(result)"
      ],
      "execution_count": 0,
      "outputs": [
        {
          "output_type": "stream",
          "text": [
            "q0=1\n",
            "q1=1\n"
          ],
          "name": "stdout"
        }
      ]
    },
    {
      "cell_type": "code",
      "metadata": {
        "id": "JLLJEoXYApl3",
        "colab_type": "code",
        "outputId": "491fc590-ae7f-46eb-82f3-f237721cf11a",
        "colab": {
          "base_uri": "https://localhost:8080/",
          "height": 34
        }
      },
      "source": [
        "import numpy as np\n",
        "circuit = cirq.Circuit()\n",
        "circuit.append(basic_circuit(False))\n",
        "result = simulator.simulate(circuit, qubit_order=[q0, q1])\n",
        "\n",
        "print(np.around(result.final_state, 3))"
      ],
      "execution_count": 0,
      "outputs": [
        {
          "output_type": "stream",
          "text": [
            "[0.5+0.j  0. +0.5j 0. +0.5j 0.5+0.j ]\n"
          ],
          "name": "stdout"
        }
      ]
    },
    {
      "cell_type": "code",
      "metadata": {
        "id": "FTFhKnElAysi",
        "colab_type": "code",
        "outputId": "4a55b7ea-0dfc-4467-a434-16637fa197ba",
        "colab": {
          "base_uri": "https://localhost:8080/",
          "height": 34
        }
      },
      "source": [
        "outside = [1, 10]\n",
        "inside = [1, 2]\n",
        "print(np.kron(outside, inside))"
      ],
      "execution_count": 0,
      "outputs": [
        {
          "output_type": "stream",
          "text": [
            "[ 1  2 10 20]\n"
          ],
          "name": "stdout"
        }
      ]
    },
    {
      "cell_type": "code",
      "metadata": {
        "id": "zRzS6YIGBspl",
        "colab_type": "code",
        "outputId": "9de94f11-d13c-42d5-cd68-87a2d776202a",
        "colab": {
          "base_uri": "https://localhost:8080/",
          "height": 85
        }
      },
      "source": [
        "i = 0\n",
        "for first in [0, 1]:\n",
        "    for second in [0, 1]:\n",
        "        print('amps[{}] is for first={}, second={}'.format(i, first, second))\n",
        "        i += 1"
      ],
      "execution_count": 0,
      "outputs": [
        {
          "output_type": "stream",
          "text": [
            "amps[0] is for first=0, second=0\n",
            "amps[1] is for first=0, second=1\n",
            "amps[2] is for first=1, second=0\n",
            "amps[3] is for first=1, second=1\n"
          ],
          "name": "stdout"
        }
      ]
    },
    {
      "cell_type": "code",
      "metadata": {
        "id": "diajMg3qBzua",
        "colab_type": "code",
        "colab": {}
      },
      "source": [
        "q_stay = cirq.NamedQubit('q_stay')\n",
        "q_flip = cirq.NamedQubit('q_flip')\n",
        "c = cirq.Circuit(cirq.X(q_flip))"
      ],
      "execution_count": 0,
      "outputs": []
    },
    {
      "cell_type": "code",
      "metadata": {
        "id": "n6xkpKnNIMkZ",
        "colab_type": "code",
        "outputId": "0a55f4f3-699c-4f4f-bae6-f84f09545d74",
        "colab": {
          "base_uri": "https://localhost:8080/",
          "height": 34
        }
      },
      "source": [
        "# first qubit in order flipped\n",
        "result = simulator.simulate(c, qubit_order=[q_flip, q_stay])\n",
        "print(abs(result.final_state).round(3))"
      ],
      "execution_count": 0,
      "outputs": [
        {
          "output_type": "stream",
          "text": [
            "[0. 0. 1. 0.]\n"
          ],
          "name": "stdout"
        }
      ]
    },
    {
      "cell_type": "code",
      "metadata": {
        "id": "x_lyXUG0B7IK",
        "colab_type": "code",
        "outputId": "e816cbb8-a902-448d-fd41-b0bab7f9343c",
        "colab": {
          "base_uri": "https://localhost:8080/",
          "height": 34
        }
      },
      "source": [
        "# second qubit in order flipped\n",
        "result = simulator.simulate(c, qubit_order=[q_stay, q_flip])\n",
        "print(abs(result.final_state).round(3))"
      ],
      "execution_count": 0,
      "outputs": [
        {
          "output_type": "stream",
          "text": [
            "[0. 1. 0. 0.]\n"
          ],
          "name": "stdout"
        }
      ]
    },
    {
      "cell_type": "code",
      "metadata": {
        "id": "eSYrv9ZHC4Aq",
        "colab_type": "code",
        "outputId": "f67a1808-eaf5-40cb-ad37-b85de8d835f3",
        "colab": {
          "base_uri": "https://localhost:8080/",
          "height": 85
        }
      },
      "source": [
        "circuit = cirq.Circuit()\n",
        "circuit.append(basic_circuit())\n",
        "for i, step in enumerate(simulator.simulate_moment_steps(circuit)):\n",
        "    print('state at step %d: %s' % (i, np.around(step.state_vector(), 3)))"
      ],
      "execution_count": 0,
      "outputs": [
        {
          "output_type": "stream",
          "text": [
            "state at step 0: [0. +0.5j 0.5+0.j  0.5+0.j  0. -0.5j]\n",
            "state at step 1: [0. +0.5j 0.5+0.j  0.5+0.j  0. +0.5j]\n",
            "state at step 2: [0.5+0.j  0. +0.5j 0. +0.5j 0.5+0.j ]\n",
            "state at step 3: [0.+0.j 0.+0.j 0.+1.j 0.+0.j]\n"
          ],
          "name": "stdout"
        }
      ]
    },
    {
      "cell_type": "code",
      "metadata": {
        "id": "Tqig82NiI2Ta",
        "colab_type": "code",
        "outputId": "6c4cc42b-6544-4ca1-ce4c-9ab667de2fc8",
        "colab": {
          "base_uri": "https://localhost:8080/",
          "height": 34
        }
      },
      "source": [
        "q = cirq.NamedQubit('a')\n",
        "circuit = cirq.Circuit(cirq.bit_flip(p=0.2)(q), cirq.measure(q))\n",
        "simulator = cirq.Simulator()\n",
        "result = simulator.run(circuit, repetitions=100)\n",
        "print(result.histogram(key='a'))"
      ],
      "execution_count": 0,
      "outputs": [
        {
          "output_type": "stream",
          "text": [
            "Counter({0: 77, 1: 23})\n"
          ],
          "name": "stdout"
        }
      ]
    },
    {
      "cell_type": "code",
      "metadata": {
        "id": "EVqcJYk2Lk1U",
        "colab_type": "code",
        "outputId": "c6722d02-2c7d-425c-fbc7-edcae7e13c57",
        "colab": {
          "base_uri": "https://localhost:8080/",
          "height": 102
        }
      },
      "source": [
        "import sympy\n",
        "rot_w_gate = cirq.X**sympy.Symbol('x')\n",
        "circuit = cirq.Circuit()\n",
        "circuit.append([rot_w_gate(q0), rot_w_gate(q1)])\n",
        "for y in range(5):\n",
        "    resolver = cirq.ParamResolver({'x': y / 4.0})\n",
        "    result = simulator.simulate(circuit, resolver)\n",
        "    print(np.round(result.final_state, 2))"
      ],
      "execution_count": 0,
      "outputs": [
        {
          "output_type": "stream",
          "text": [
            "[1.+0.j 0.+0.j 0.+0.j 0.+0.j]\n",
            "[ 0.6 +0.6j   0.25-0.25j  0.25-0.25j -0.1 -0.1j ]\n",
            "[0. +0.5j 0.5+0.j  0.5+0.j  0. -0.5j]\n",
            "[-0.1 +0.1j   0.25+0.25j  0.25+0.25j  0.6 -0.6j ]\n",
            "[0.+0.j 0.+0.j 0.+0.j 1.+0.j]\n"
          ],
          "name": "stdout"
        }
      ]
    },
    {
      "cell_type": "code",
      "metadata": {
        "id": "Ce5We52nL5Ww",
        "colab_type": "code",
        "outputId": "aeb3795e-4b1d-4315-a60a-e1b117bdfb36",
        "colab": {
          "base_uri": "https://localhost:8080/",
          "height": 119
        }
      },
      "source": [
        "resolvers = [cirq.ParamResolver({'x': y / 2.0}) for y in range(3)]\n",
        "circuit = cirq.Circuit()\n",
        "circuit.append([rot_w_gate(q0), rot_w_gate(q1)])\n",
        "circuit.append([cirq.measure(q0, key='q0'), cirq.measure(q1, key='q1')])\n",
        "results = simulator.run_sweep(program=circuit,\n",
        "                              params=resolvers,\n",
        "                              repetitions=20)\n",
        "for result in results:\n",
        "    print(result)"
      ],
      "execution_count": 0,
      "outputs": [
        {
          "output_type": "stream",
          "text": [
            "q0=00000000000000000000\n",
            "q1=00000000000000000000\n",
            "q0=10100100110010000010\n",
            "q1=00101010111111000100\n",
            "q0=11111111111111111111\n",
            "q1=11111111111111111111\n"
          ],
          "name": "stdout"
        }
      ]
    },
    {
      "cell_type": "code",
      "metadata": {
        "id": "-_ej7Mq2MzOZ",
        "colab_type": "code",
        "outputId": "3c60ed4d-3c46-4728-99ba-ee1154ee15a0",
        "colab": {
          "base_uri": "https://localhost:8080/",
          "height": 34
        }
      },
      "source": [
        "q = cirq.NamedQubit('a')\n",
        "circuit = cirq.Circuit(cirq.H(q), cirq.amplitude_damp(0.2)(q), cirq.measure(q))\n",
        "simulator = cirq.DensityMatrixSimulator()\n",
        "result = simulator.run(circuit, repetitions=100)\n",
        "print(result.histogram(key='a'))"
      ],
      "execution_count": 0,
      "outputs": [
        {
          "output_type": "stream",
          "text": [
            "Counter({0: 58, 1: 42})\n"
          ],
          "name": "stdout"
        }
      ]
    },
    {
      "cell_type": "code",
      "metadata": {
        "id": "P8n6injYNr1Y",
        "colab_type": "code",
        "outputId": "3453f1e2-f3dd-4294-8285-d5800fa6dc5c",
        "colab": {
          "base_uri": "https://localhost:8080/",
          "height": 51
        }
      },
      "source": [
        "q = cirq.NamedQubit('a')\n",
        "circuit = cirq.Circuit(cirq.H(q), cirq.amplitude_damp(0.2)(q))\n",
        "simulator = cirq.DensityMatrixSimulator()\n",
        "result = simulator.simulate(circuit)\n",
        "print(np.around(result.final_density_matrix, 3))"
      ],
      "execution_count": 0,
      "outputs": [
        {
          "output_type": "stream",
          "text": [
            "[[0.6  +0.j 0.447+0.j]\n",
            " [0.447+0.j 0.4  +0.j]]\n"
          ],
          "name": "stdout"
        }
      ]
    },
    {
      "cell_type": "code",
      "metadata": {
        "id": "G0SjUS_qOTVC",
        "colab_type": "code",
        "colab": {}
      },
      "source": [
        "import cirq\n",
        "from cirq.devices import GridQubit\n",
        "class Xmon10Device(cirq.Device):\n",
        "\n",
        "  def __init__(self):\n",
        "      self.qubits = [GridQubit(i, 0) for i in range(10)]\n",
        "\n",
        "  def validate_operation(self, operation):\n",
        "      if not isinstance(operation, cirq.GateOperation):\n",
        "          raise ValueError('{!r} is not a supported operation'.format(operation))\n",
        "      if not isinstance(operation.gate, (cirq.CZPowGate,\n",
        "                                         cirq.XPowGate,\n",
        "                                         cirq.PhasedXPowGate,\n",
        "                                         cirq.YPowGate)):\n",
        "          raise ValueError('{!r} is not a supported gate'.format(operation.gate))\n",
        "      if len(operation.qubits) == 2:\n",
        "          p, q = operation.qubits\n",
        "          if not p.is_adjacent(q):\n",
        "            raise ValueError('Non-local interaction: {}'.format(repr(operation)))\n",
        "\n",
        "  def validate_circuit(self, circuit):\n",
        "      for moment in circuit:\n",
        "          for operation in moment.operations:\n",
        "              self.validate_operation(operation)"
      ],
      "execution_count": 0,
      "outputs": []
    },
    {
      "cell_type": "code",
      "metadata": {
        "id": "dF49RNbtTMrX",
        "colab_type": "code",
        "outputId": "f77ece78-d41c-4194-d502-dd583d90c980",
        "colab": {
          "base_uri": "https://localhost:8080/",
          "height": 34
        }
      },
      "source": [
        "device = Xmon10Device()\n",
        "circuit = cirq.Circuit()\n",
        "circuit.append([cirq.CZ(device.qubits[0], device.qubits[2])])\n",
        "try: \n",
        "  device.validate_circuit(circuit)\n",
        "except ValueError as e:\n",
        "  print(e)"
      ],
      "execution_count": 0,
      "outputs": [
        {
          "output_type": "stream",
          "text": [
            "Non-local interaction: cirq.CZ(cirq.GridQubit(0, 0), cirq.GridQubit(2, 0))\n"
          ],
          "name": "stdout"
        }
      ]
    },
    {
      "cell_type": "code",
      "metadata": {
        "id": "PpdbY-PuTOwL",
        "colab_type": "code",
        "colab": {}
      },
      "source": [
        ""
      ],
      "execution_count": 0,
      "outputs": []
    }
  ]
}