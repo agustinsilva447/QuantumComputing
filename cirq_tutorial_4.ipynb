{
  "nbformat": 4,
  "nbformat_minor": 0,
  "metadata": {
    "colab": {
      "name": "cirq_tutorial_4.ipynb",
      "provenance": [],
      "collapsed_sections": []
    },
    "kernelspec": {
      "name": "python3",
      "display_name": "Python 3"
    }
  },
  "cells": [
    {
      "cell_type": "code",
      "metadata": {
        "id": "4JdgVDNwZswM",
        "colab_type": "code",
        "colab": {}
      },
      "source": [
        "!pip install cirq"
      ],
      "execution_count": 0,
      "outputs": []
    },
    {
      "cell_type": "code",
      "metadata": {
        "id": "sCY8g2VSZuCs",
        "colab_type": "code",
        "colab": {
          "base_uri": "https://localhost:8080/",
          "height": 527
        },
        "outputId": "583b3eb6-b43a-47f2-d9a0-640f6f84ae33"
      },
      "source": [
        "import cirq\n",
        "\n",
        "# Example circuit\n",
        "circuit = cirq.Circuit(cirq.Z(cirq.GridQubit(1,1)))\n",
        "\n",
        "# Serialize to a JSON string\n",
        "json_string = cirq.to_json(circuit)\n",
        "print('JSON string:')\n",
        "print(json_string)\n",
        "print()\n",
        "\n",
        "# Now, read back the string into a cirq object\n",
        "# cirq.read_json can also read from a file\n",
        "new_circuit = cirq.read_json(json_text=json_string)\n",
        "\n",
        "print(f'Deserialized object of type: {type(new_circuit)}:')\n",
        "print(new_circuit)"
      ],
      "execution_count": 2,
      "outputs": [
        {
          "output_type": "stream",
          "text": [
            "JSON string:\n",
            "{\n",
            "  \"cirq_type\": \"Circuit\",\n",
            "  \"moments\": [\n",
            "    {\n",
            "      \"cirq_type\": \"Moment\",\n",
            "      \"operations\": [\n",
            "        {\n",
            "          \"cirq_type\": \"SingleQubitPauliStringGateOperation\",\n",
            "          \"pauli\": {\n",
            "            \"cirq_type\": \"_PauliZ\",\n",
            "            \"exponent\": 1.0,\n",
            "            \"global_shift\": 0.0\n",
            "          },\n",
            "          \"qubit\": {\n",
            "            \"cirq_type\": \"GridQubit\",\n",
            "            \"row\": 1,\n",
            "            \"col\": 1\n",
            "          }\n",
            "        }\n",
            "      ]\n",
            "    }\n",
            "  ],\n",
            "  \"device\": {\n",
            "    \"cirq_type\": \"_UnconstrainedDevice\"\n",
            "  }\n",
            "}\n",
            "\n",
            "Deserialized object of type: <class 'cirq.circuits.circuit.Circuit'>:\n",
            "(1, 1): ───Z───\n"
          ],
          "name": "stdout"
        }
      ]
    },
    {
      "cell_type": "code",
      "metadata": {
        "id": "THe5fUMbZudP",
        "colab_type": "code",
        "colab": {
          "base_uri": "https://localhost:8080/",
          "height": 51
        },
        "outputId": "6c03ea52-8609-4e3b-f903-04d53a13c160"
      },
      "source": [
        "!pip install --quiet cirq\n",
        "!pip install --quiet ply==3.4"
      ],
      "execution_count": 3,
      "outputs": [
        {
          "output_type": "stream",
          "text": [
            "\u001b[?25l\r\u001b[K     |██▍                             | 10kB 23.6MB/s eta 0:00:01\r\u001b[K     |████▊                           | 20kB 1.7MB/s eta 0:00:01\r\u001b[K     |███████                         | 30kB 2.2MB/s eta 0:00:01\r\u001b[K     |█████████▌                      | 40kB 2.4MB/s eta 0:00:01\r\u001b[K     |███████████▉                    | 51kB 2.0MB/s eta 0:00:01\r\u001b[K     |██████████████▏                 | 61kB 2.2MB/s eta 0:00:01\r\u001b[K     |████████████████▋               | 71kB 2.4MB/s eta 0:00:01\r\u001b[K     |███████████████████             | 81kB 2.7MB/s eta 0:00:01\r\u001b[K     |█████████████████████▎          | 92kB 2.8MB/s eta 0:00:01\r\u001b[K     |███████████████████████▊        | 102kB 2.7MB/s eta 0:00:01\r\u001b[K     |██████████████████████████      | 112kB 2.7MB/s eta 0:00:01\r\u001b[K     |████████████████████████████▍   | 122kB 2.7MB/s eta 0:00:01\r\u001b[K     |██████████████████████████████▉ | 133kB 2.7MB/s eta 0:00:01\r\u001b[K     |████████████████████████████████| 143kB 2.7MB/s \n",
            "\u001b[?25h  Building wheel for ply (setup.py) ... \u001b[?25l\u001b[?25hdone\n"
          ],
          "name": "stdout"
        }
      ]
    },
    {
      "cell_type": "code",
      "metadata": {
        "id": "ETUKNhiwaMzy",
        "colab_type": "code",
        "colab": {
          "base_uri": "https://localhost:8080/",
          "height": 102
        },
        "outputId": "d5bc71f9-fa19-4054-b468-2f297c0c0d58"
      },
      "source": [
        "\n",
        "from cirq.contrib.qasm_import import circuit_from_qasm\n",
        "circuit = circuit_from_qasm(\"\"\"\n",
        "    OPENQASM 2.0;\n",
        "    include \"qelib1.inc\";\n",
        "    qreg q[3];\n",
        "    creg meas[3];\n",
        "    h q;\n",
        "    measure q -> meas;\n",
        "    \"\"\")\n",
        "print(circuit)"
      ],
      "execution_count": 5,
      "outputs": [
        {
          "output_type": "stream",
          "text": [
            "q_0: ───H───M('meas_0')───\n",
            "\n",
            "q_1: ───H───M('meas_1')───\n",
            "\n",
            "q_2: ───H───M('meas_2')───\n"
          ],
          "name": "stdout"
        }
      ]
    },
    {
      "cell_type": "code",
      "metadata": {
        "id": "R9jHGNRRaUUC",
        "colab_type": "code",
        "colab": {
          "base_uri": "https://localhost:8080/",
          "height": 68
        },
        "outputId": "be7880b8-e22f-4d52-cb91-f1665d6c0277"
      },
      "source": [
        "quirk_url = \"https://algassert.com/quirk#circuit={%22cols%22:[[%22H%22,%22H%22],[%22%E2%80%A2%22,%22X%22],[%22H%22,%22H%22]]}\"\n",
        "c= cirq.quirk_url_to_circuit(quirk_url)\n",
        "\n",
        "print(c)"
      ],
      "execution_count": 6,
      "outputs": [
        {
          "output_type": "stream",
          "text": [
            "0: ───H───@───H───\n",
            "          │\n",
            "1: ───H───X───H───\n"
          ],
          "name": "stdout"
        }
      ]
    },
    {
      "cell_type": "code",
      "metadata": {
        "id": "bXngJufsawug",
        "colab_type": "code",
        "colab": {
          "base_uri": "https://localhost:8080/",
          "height": 68
        },
        "outputId": "46de9c67-8772-4621-a857-64997a20248d"
      },
      "source": [
        "\n",
        "import json\n",
        "\n",
        "quirk_str=\"\"\"{\n",
        "  \"cols\": [\n",
        "    [\n",
        "      \"H\",\n",
        "      \"H\"\n",
        "    ],\n",
        "    [\n",
        "      \"•\",\n",
        "      \"X\"\n",
        "    ],\n",
        "    [\n",
        "      \"H\",\n",
        "      \"H\"\n",
        "    ]\n",
        "  ]\n",
        "}\"\"\"\n",
        "quirk_json=json.loads(quirk_str)\n",
        "c= cirq.quirk_json_to_circuit(quirk_json)\n",
        "\n",
        "print(c)"
      ],
      "execution_count": 7,
      "outputs": [
        {
          "output_type": "stream",
          "text": [
            "0: ───H───@───H───\n",
            "          │\n",
            "1: ───H───X───H───\n"
          ],
          "name": "stdout"
        }
      ]
    },
    {
      "cell_type": "code",
      "metadata": {
        "id": "sYbbcv4oa2sy",
        "colab_type": "code",
        "colab": {
          "base_uri": "https://localhost:8080/",
          "height": 34
        },
        "outputId": "78c69227-eb47-4974-a60b-d3db9d48419d"
      },
      "source": [
        "class QutritPlusGate(cirq.SingleQubitGate):\n",
        "    def _qid_shape_(self):\n",
        "        return (3,)\n",
        "\n",
        "    def _unitary_(self):\n",
        "        return np.array([[0, 0, 1],\n",
        "                         [1, 0, 0],\n",
        "                         [0, 1, 0]])\n",
        "\n",
        "    def _circuit_diagram_info_(self, args):\n",
        "        return '[+1]'\n",
        "\n",
        "q0 = cirq.LineQid(0, dimension=3)\n",
        "circuit = cirq.Circuit(\n",
        "    QutritPlusGate().on(q0)\n",
        ")\n",
        "print(circuit)"
      ],
      "execution_count": 8,
      "outputs": [
        {
          "output_type": "stream",
          "text": [
            "0 (d=3): ───[+1]───\n"
          ],
          "name": "stdout"
        }
      ]
    }
  ]
}