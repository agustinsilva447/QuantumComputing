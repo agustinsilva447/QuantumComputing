{
  "nbformat": 4,
  "nbformat_minor": 0,
  "metadata": {
    "colab": {
      "name": "cirq-gates.ipynb",
      "provenance": []
    },
    "kernelspec": {
      "name": "python3",
      "display_name": "Python 3"
    }
  },
  "cells": [
    {
      "cell_type": "code",
      "metadata": {
        "id": "btLta6RXJez7",
        "colab_type": "code",
        "colab": {}
      },
      "source": [
        "!pip install cirq"
      ],
      "execution_count": 0,
      "outputs": []
    },
    {
      "cell_type": "code",
      "metadata": {
        "id": "gXC3O8pCJQ0U",
        "colab_type": "code",
        "colab": {}
      },
      "source": [
        "import cirq"
      ],
      "execution_count": 0,
      "outputs": []
    },
    {
      "cell_type": "code",
      "metadata": {
        "id": "dNsrJHX0JX7x",
        "colab_type": "code",
        "colab": {
          "base_uri": "https://localhost:8080/",
          "height": 85
        },
        "outputId": "8315593b-5ddd-4495-beb0-2474610d9979"
      },
      "source": [
        "print(cirq.google.Foxtail)"
      ],
      "execution_count": 2,
      "outputs": [
        {
          "output_type": "stream",
          "text": [
            "(0, 0)───(0, 1)───(0, 2)───(0, 3)───(0, 4)───(0, 5)───(0, 6)───(0, 7)───(0, 8)───(0, 9)───(0, 10)\n",
            "│        │        │        │        │        │        │        │        │        │        │\n",
            "│        │        │        │        │        │        │        │        │        │        │\n",
            "(1, 0)───(1, 1)───(1, 2)───(1, 3)───(1, 4)───(1, 5)───(1, 6)───(1, 7)───(1, 8)───(1, 9)───(1, 10)\n"
          ],
          "name": "stdout"
        }
      ]
    },
    {
      "cell_type": "code",
      "metadata": {
        "id": "p8k6GkVGJ3m2",
        "colab_type": "code",
        "colab": {
          "base_uri": "https://localhost:8080/",
          "height": 306
        },
        "outputId": "0168640e-e903-4fdc-d308-c47956d719a4"
      },
      "source": [
        "length = 3\n",
        "qubits = [cirq.GridQubit(i, j) for i in range(length) for j in range(length)]\n",
        "\n",
        "circuit = cirq.Circuit()\n",
        "circuit.append(cirq.H(q) for q in qubits if (q.row + q.col) % 2 == 0)\n",
        "circuit.append(cirq.X(q) for q in qubits if (q.row + q.col) % 2 == 1)\n",
        "print(circuit)"
      ],
      "execution_count": 3,
      "outputs": [
        {
          "output_type": "stream",
          "text": [
            "(0, 0): ───H───\n",
            "\n",
            "(0, 1): ───X───\n",
            "\n",
            "(0, 2): ───H───\n",
            "\n",
            "(1, 0): ───X───\n",
            "\n",
            "(1, 1): ───H───\n",
            "\n",
            "(1, 2): ───X───\n",
            "\n",
            "(2, 0): ───H───\n",
            "\n",
            "(2, 1): ───X───\n",
            "\n",
            "(2, 2): ───H───\n"
          ],
          "name": "stdout"
        }
      ]
    },
    {
      "cell_type": "code",
      "metadata": {
        "id": "CkJGTxjGOkbD",
        "colab_type": "code",
        "colab": {}
      },
      "source": [
        ""
      ],
      "execution_count": 0,
      "outputs": []
    }
  ]
}