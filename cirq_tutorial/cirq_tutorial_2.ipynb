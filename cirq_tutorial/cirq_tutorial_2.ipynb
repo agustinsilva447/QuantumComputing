{
  "nbformat": 4,
  "nbformat_minor": 0,
  "metadata": {
    "colab": {
      "name": "cirq_tutorial_2.ipynb",
      "provenance": [],
      "collapsed_sections": []
    },
    "kernelspec": {
      "name": "python3",
      "display_name": "Python 3"
    }
  },
  "cells": [
    {
      "cell_type": "code",
      "metadata": {
        "id": "yjKN0rGtIuna",
        "colab_type": "code",
        "colab": {}
      },
      "source": [
        "!pip install cirq"
      ],
      "execution_count": 0,
      "outputs": []
    },
    {
      "cell_type": "code",
      "metadata": {
        "id": "NV5vEiO1IDdx",
        "colab_type": "code",
        "colab": {
          "base_uri": "https://localhost:8080/",
          "height": 102
        },
        "outputId": "50c3a016-3145-43b2-9c64-1da62776db6e"
      },
      "source": [
        "import cirq\n",
        "\n",
        "# This examples uses named qubits to remain abstract.\n",
        "# However, we can also use LineQubits or GridQubits to specify a geometry\n",
        "a = cirq.NamedQubit('a')\n",
        "b = cirq.NamedQubit('b')\n",
        "c = cirq.NamedQubit('c')\n",
        "\n",
        "# Example Operations, that correspond to the moments above\n",
        "print(cirq.H(b))\n",
        "print(cirq.CNOT(b, c))\n",
        "print(cirq.CNOT(a, b))\n",
        "print(cirq.H(a))\n",
        "print(cirq.measure(a,b))"
      ],
      "execution_count": 3,
      "outputs": [
        {
          "output_type": "stream",
          "text": [
            "H(b)\n",
            "CNOT(b, c)\n",
            "CNOT(a, b)\n",
            "H(a)\n",
            "cirq.MeasurementGate(2, 'a,b', ())(a, b)\n"
          ],
          "name": "stdout"
        }
      ]
    },
    {
      "cell_type": "code",
      "metadata": {
        "id": "7-gOBNh_InxA",
        "colab_type": "code",
        "colab": {
          "base_uri": "https://localhost:8080/",
          "height": 85
        },
        "outputId": "102ec5cf-2da7-4269-e0af-271172e78c53"
      },
      "source": [
        "gate_x = cirq.X\n",
        "print(cirq.unitary(gate_x))\n",
        "\n",
        "sqrt_x = gate_x**0.5\n",
        "print(cirq.unitary(sqrt_x))"
      ],
      "execution_count": 5,
      "outputs": [
        {
          "output_type": "stream",
          "text": [
            "[[0.+0.j 1.+0.j]\n",
            " [1.+0.j 0.+0.j]]\n",
            "[[0.5+0.5j 0.5-0.5j]\n",
            " [0.5-0.5j 0.5+0.5j]]\n"
          ],
          "name": "stdout"
        }
      ]
    },
    {
      "cell_type": "code",
      "metadata": {
        "id": "53lBidCpNA3A",
        "colab_type": "code",
        "colab": {
          "base_uri": "https://localhost:8080/",
          "height": 34
        },
        "outputId": "678ca3a5-fdc2-4213-e0f2-066822443bfe"
      },
      "source": [
        "qubits = [cirq.GridQubit(x, y) for x in range(3) for y in range(3)]\n",
        "\n",
        "print(qubits[0])"
      ],
      "execution_count": 6,
      "outputs": [
        {
          "output_type": "stream",
          "text": [
            "(0, 0)\n"
          ],
          "name": "stdout"
        }
      ]
    },
    {
      "cell_type": "code",
      "metadata": {
        "id": "U3G4wPDKNtQC",
        "colab_type": "code",
        "colab": {
          "base_uri": "https://localhost:8080/",
          "height": 34
        },
        "outputId": "726b7079-2664-4341-9592-6f0a6a834540"
      },
      "source": [
        "# This is an Pauli X gate. It is an object instance.\n",
        "x_gate = cirq.X\n",
        "# Applying it to the qubit at location (0, 0) (defined above)\n",
        "# turns it into an operation.\n",
        "x_op = x_gate(qubits[0])\n",
        "\n",
        "print(x_op)"
      ],
      "execution_count": 7,
      "outputs": [
        {
          "output_type": "stream",
          "text": [
            "X((0, 0))\n"
          ],
          "name": "stdout"
        }
      ]
    },
    {
      "cell_type": "code",
      "metadata": {
        "id": "KYfQaF-TN06s",
        "colab_type": "code",
        "colab": {
          "base_uri": "https://localhost:8080/",
          "height": 34
        },
        "outputId": "5cc8c54d-9936-4876-9032-6adbf0bc085e"
      },
      "source": [
        "cz = cirq.CZ(qubits[0], qubits[1])\n",
        "x = cirq.X(qubits[2])\n",
        "moment = cirq.Moment([x, cz])\n",
        "\n",
        "print(moment)"
      ],
      "execution_count": 8,
      "outputs": [
        {
          "output_type": "stream",
          "text": [
            "X((0, 2)) and CZ((0, 0), (0, 1))\n"
          ],
          "name": "stdout"
        }
      ]
    },
    {
      "cell_type": "code",
      "metadata": {
        "id": "fMHNJiprN-uA",
        "colab_type": "code",
        "colab": {
          "base_uri": "https://localhost:8080/",
          "height": 102
        },
        "outputId": "37632136-860f-46c8-9a6c-2e3a4a5cf913"
      },
      "source": [
        "cz01 = cirq.CZ(qubits[0], qubits[1])\n",
        "x2 = cirq.X(qubits[2])\n",
        "cz12 = cirq.CZ(qubits[1], qubits[2])\n",
        "moment0 = cirq.Moment([cz01, x2])\n",
        "moment1 = cirq.Moment([cz12])\n",
        "circuit = cirq.Circuit((moment0, moment1))\n",
        "\n",
        "print(circuit)"
      ],
      "execution_count": 9,
      "outputs": [
        {
          "output_type": "stream",
          "text": [
            "(0, 0): ───@───────\n",
            "           │\n",
            "(0, 1): ───@───@───\n",
            "               │\n",
            "(0, 2): ───X───@───\n"
          ],
          "name": "stdout"
        }
      ]
    },
    {
      "cell_type": "code",
      "metadata": {
        "id": "GLgWi0BdOKBd",
        "colab_type": "code",
        "colab": {
          "base_uri": "https://localhost:8080/",
          "height": 102
        },
        "outputId": "a78bca46-8d0d-4e85-8af5-d7294f01a092"
      },
      "source": [
        "from cirq.ops import CZ, H\n",
        "q0, q1, q2 = [cirq.GridQubit(i, 0) for i in range(3)]\n",
        "circuit = cirq.Circuit()\n",
        "circuit.append([CZ(q0, q1), H(q2)])\n",
        "\n",
        "print(circuit)"
      ],
      "execution_count": 10,
      "outputs": [
        {
          "output_type": "stream",
          "text": [
            "(0, 0): ───@───\n",
            "           │\n",
            "(1, 0): ───@───\n",
            "\n",
            "(2, 0): ───H───\n"
          ],
          "name": "stdout"
        }
      ]
    },
    {
      "cell_type": "code",
      "metadata": {
        "id": "nh-cBI27OWf4",
        "colab_type": "code",
        "colab": {
          "base_uri": "https://localhost:8080/",
          "height": 102
        },
        "outputId": "b63ff03b-248a-427e-afd2-1226d40e2fe0"
      },
      "source": [
        "circuit.append([H(q0), CZ(q1, q2)])\n",
        "\n",
        "print(circuit)"
      ],
      "execution_count": 11,
      "outputs": [
        {
          "output_type": "stream",
          "text": [
            "(0, 0): ───@───H───\n",
            "           │\n",
            "(1, 0): ───@───@───\n",
            "               │\n",
            "(2, 0): ───H───@───\n"
          ],
          "name": "stdout"
        }
      ]
    },
    {
      "cell_type": "code",
      "metadata": {
        "id": "DRW4Av96OaZf",
        "colab_type": "code",
        "colab": {
          "base_uri": "https://localhost:8080/",
          "height": 102
        },
        "outputId": "2d727beb-0925-458b-f601-9e6098350348"
      },
      "source": [
        "circuit = cirq.Circuit()\n",
        "circuit.append([CZ(q0, q1), H(q2), H(q0), CZ(q1, q2)])\n",
        "\n",
        "print(circuit)"
      ],
      "execution_count": 12,
      "outputs": [
        {
          "output_type": "stream",
          "text": [
            "(0, 0): ───@───H───\n",
            "           │\n",
            "(1, 0): ───@───@───\n",
            "               │\n",
            "(2, 0): ───H───@───\n"
          ],
          "name": "stdout"
        }
      ]
    },
    {
      "cell_type": "code",
      "metadata": {
        "id": "LR7Guh9kOey5",
        "colab_type": "code",
        "colab": {
          "base_uri": "https://localhost:8080/",
          "height": 102
        },
        "outputId": "7cfa6f61-5ffa-4c96-8b59-6c1f79f318de"
      },
      "source": [
        "from cirq.circuits import InsertStrategy\n",
        "circuit = cirq.Circuit()\n",
        "circuit.append([CZ(q0, q1)])\n",
        "circuit.append([H(q0), H(q2)], strategy=InsertStrategy.EARLIEST)\n",
        "\n",
        "print(circuit)"
      ],
      "execution_count": 13,
      "outputs": [
        {
          "output_type": "stream",
          "text": [
            "(0, 0): ───@───H───\n",
            "           │\n",
            "(1, 0): ───@───────\n",
            "\n",
            "(2, 0): ───H───────\n"
          ],
          "name": "stdout"
        }
      ]
    },
    {
      "cell_type": "code",
      "metadata": {
        "id": "oyU1m0FwOtk6",
        "colab_type": "code",
        "colab": {
          "base_uri": "https://localhost:8080/",
          "height": 102
        },
        "outputId": "d8e55d6c-8e00-4082-c77e-295a01b2d521"
      },
      "source": [
        "circuit = cirq.Circuit()\n",
        "circuit.append([H(q0), H(q1), H(q2)], strategy=InsertStrategy.NEW)\n",
        "\n",
        "print(circuit)"
      ],
      "execution_count": 14,
      "outputs": [
        {
          "output_type": "stream",
          "text": [
            "(0, 0): ───H───────────\n",
            "\n",
            "(1, 0): ───────H───────\n",
            "\n",
            "(2, 0): ───────────H───\n"
          ],
          "name": "stdout"
        }
      ]
    },
    {
      "cell_type": "code",
      "metadata": {
        "id": "tZkJ4qImOx4l",
        "colab_type": "code",
        "colab": {
          "base_uri": "https://localhost:8080/",
          "height": 102
        },
        "outputId": "8886bea7-3e5a-408d-fb61-805cc484cd29"
      },
      "source": [
        "circuit = cirq.Circuit()\n",
        "circuit.append([CZ(q1, q2)])\n",
        "circuit.append([CZ(q1, q2)])\n",
        "circuit.append([H(q0), H(q1), H(q2)], strategy=InsertStrategy.INLINE)\n",
        "\n",
        "print(circuit)"
      ],
      "execution_count": 15,
      "outputs": [
        {
          "output_type": "stream",
          "text": [
            "(0, 0): ───────H───────\n",
            "\n",
            "(1, 0): ───@───@───H───\n",
            "           │   │\n",
            "(2, 0): ───@───@───H───\n"
          ],
          "name": "stdout"
        }
      ]
    },
    {
      "cell_type": "code",
      "metadata": {
        "id": "dn9PlnXTPBMw",
        "colab_type": "code",
        "colab": {
          "base_uri": "https://localhost:8080/",
          "height": 102
        },
        "outputId": "173c021f-9410-4084-c0a2-31f4eaa2f55c"
      },
      "source": [
        "circuit = cirq.Circuit()\n",
        "circuit.append([H(q0)])\n",
        "circuit.append([CZ(q1,q2), H(q0)], strategy=InsertStrategy.NEW_THEN_INLINE)\n",
        "\n",
        "print(circuit)"
      ],
      "execution_count": 16,
      "outputs": [
        {
          "output_type": "stream",
          "text": [
            "(0, 0): ───H───H───\n",
            "\n",
            "(1, 0): ───────@───\n",
            "               │\n",
            "(2, 0): ───────@───\n"
          ],
          "name": "stdout"
        }
      ]
    },
    {
      "cell_type": "code",
      "metadata": {
        "id": "tqLCESICPPon",
        "colab_type": "code",
        "colab": {
          "base_uri": "https://localhost:8080/",
          "height": 170
        },
        "outputId": "de6ef5d9-0999-4bfc-c16e-668a7ef08f3a"
      },
      "source": [
        "def my_layer():\n",
        "    yield CZ(q0, q1)\n",
        "    yield [H(q) for q in (q0, q1, q2)]\n",
        "    yield [CZ(q1, q2)]\n",
        "    yield [H(q0), [CZ(q1, q2)]]\n",
        "\n",
        "circuit = cirq.Circuit()\n",
        "circuit.append(my_layer())\n",
        "\n",
        "for x in my_layer():\n",
        "    print(x)\n",
        "\n",
        "print(circuit)"
      ],
      "execution_count": 18,
      "outputs": [
        {
          "output_type": "stream",
          "text": [
            "CZ((0, 0), (1, 0))\n",
            "[cirq.H(cirq.GridQubit(0, 0)), cirq.H(cirq.GridQubit(1, 0)), cirq.H(cirq.GridQubit(2, 0))]\n",
            "[cirq.CZ(cirq.GridQubit(1, 0), cirq.GridQubit(2, 0))]\n",
            "[cirq.H(cirq.GridQubit(0, 0)), [cirq.CZ(cirq.GridQubit(1, 0), cirq.GridQubit(2, 0))]]\n",
            "(0, 0): ───@───H───H───────\n",
            "           │\n",
            "(1, 0): ───@───H───@───@───\n",
            "                   │   │\n",
            "(2, 0): ───H───────@───@───\n"
          ],
          "name": "stdout"
        }
      ]
    },
    {
      "cell_type": "code",
      "metadata": {
        "id": "CFvFSzPqPcD5",
        "colab_type": "code",
        "colab": {
          "base_uri": "https://localhost:8080/",
          "height": 68
        },
        "outputId": "dcc89544-6a74-4197-c78d-c26de9dd05af"
      },
      "source": [
        "circuit = cirq.Circuit(H(q0), H(q1))\n",
        "print(circuit)"
      ],
      "execution_count": 19,
      "outputs": [
        {
          "output_type": "stream",
          "text": [
            "(0, 0): ───H───\n",
            "\n",
            "(1, 0): ───H───\n"
          ],
          "name": "stdout"
        }
      ]
    },
    {
      "cell_type": "code",
      "metadata": {
        "id": "lp-6aikAP89M",
        "colab_type": "code",
        "colab": {
          "base_uri": "https://localhost:8080/",
          "height": 51
        },
        "outputId": "75fe096e-16c1-4673-aec0-58d0b775ba19"
      },
      "source": [
        "circuit = cirq.Circuit(H(q0), CZ(q0, q1))\n",
        "for moment in circuit:\n",
        "    print(moment)"
      ],
      "execution_count": 20,
      "outputs": [
        {
          "output_type": "stream",
          "text": [
            "H((0, 0))\n",
            "CZ((0, 0), (1, 0))\n"
          ],
          "name": "stdout"
        }
      ]
    },
    {
      "cell_type": "code",
      "metadata": {
        "id": "gvbrv4XfQCua",
        "colab_type": "code",
        "colab": {
          "base_uri": "https://localhost:8080/",
          "height": 136
        },
        "outputId": "95f6ae66-2527-4de7-d99f-61c440b89c6b"
      },
      "source": [
        "circuit = cirq.Circuit(H(q0), CZ(q0, q1), H(q1), CZ(q0, q1))\n",
        "print(circuit)\n",
        "print('----------')\n",
        "print(circuit[::-1])"
      ],
      "execution_count": 26,
      "outputs": [
        {
          "output_type": "stream",
          "text": [
            "(0, 0): ───H───@───────@───\n",
            "               │       │\n",
            "(1, 0): ───────@───H───@───\n",
            "----------\n",
            "(0, 0): ───@───────@───H───\n",
            "           │       │\n",
            "(1, 0): ───@───H───@───────\n"
          ],
          "name": "stdout"
        }
      ]
    },
    {
      "cell_type": "code",
      "metadata": {
        "id": "u0CJUXiRQJX4",
        "colab_type": "code",
        "colab": {
          "base_uri": "https://localhost:8080/",
          "height": 51
        },
        "outputId": "3fb90a3b-9b29-4d5c-e652-948137010df3"
      },
      "source": [
        "c=cirq.Circuit()\n",
        "c.append(cirq.Moment([]))\n",
        "c.append(cirq.Moment([cirq.X(cirq.GridQubit(1,1))]))\n",
        "c.append(cirq.Moment([]))\n",
        "print(f'Before optimization, Circuit has {len(c)} moments')\n",
        "\n",
        "cirq.DropEmptyMoments().optimize_circuit(circuit=c)\n",
        "print(f'After optimization, Circuit has {len(c)} moments')"
      ],
      "execution_count": 27,
      "outputs": [
        {
          "output_type": "stream",
          "text": [
            "Before optimization, Circuit has 3 moments\n",
            "After optimization, Circuit has 1 moments\n"
          ],
          "name": "stdout"
        }
      ]
    },
    {
      "cell_type": "code",
      "metadata": {
        "id": "CkCfSwZxVk2o",
        "colab_type": "code",
        "colab": {
          "base_uri": "https://localhost:8080/",
          "height": 85
        },
        "outputId": "a0c1c546-0897-4a2d-f05a-75f41678c880"
      },
      "source": [
        "class RemoveMeasurements(cirq.PointOptimizer):\n",
        "    def optimization_at(self, circuit: cirq.Circuit, index: int, op: cirq.Operation):\n",
        "      if isinstance(op.gate, cirq.MeasurementGate):\n",
        "        return cirq.PointOptimizationSummary(clear_span=1,\n",
        "                                             new_operations=[],\n",
        "                                             clear_qubits=op.qubits)\n",
        "      else:\n",
        "        return None\n",
        "\n",
        "q=cirq.LineQubit(0)\n",
        "c=cirq.Circuit(cirq.X(q), cirq.measure(q))\n",
        "print('Before optimization')\n",
        "print(c)\n",
        "RemoveMeasurements().optimize_circuit(c)\n",
        "print('After optimization')\n",
        "print(c)"
      ],
      "execution_count": 28,
      "outputs": [
        {
          "output_type": "stream",
          "text": [
            "Before optimization\n",
            "0: ───X───M───\n",
            "After optimization\n",
            "0: ───X───────\n"
          ],
          "name": "stdout"
        }
      ]
    },
    {
      "cell_type": "code",
      "metadata": {
        "id": "HuOwYR4SV7d1",
        "colab_type": "code",
        "colab": {}
      },
      "source": [
        ""
      ],
      "execution_count": 0,
      "outputs": []
    }
  ]
}