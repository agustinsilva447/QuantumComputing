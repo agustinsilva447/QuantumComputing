{
  "nbformat": 4,
  "nbformat_minor": 0,
  "metadata": {
    "colab": {
      "name": "TP2_UNPL_Cuantica.ipynb",
      "provenance": [],
      "collapsed_sections": [
        "8Z3sK4JSeByt"
      ]
    },
    "kernelspec": {
      "name": "python3",
      "display_name": "Python 3"
    }
  },
  "cells": [
    {
      "cell_type": "markdown",
      "metadata": {
        "id": "dj2bcCfWl9Ky"
      },
      "source": [
        "$$\n",
        "\\newcommand{\\ket}[1]{\\left|\\,{#1}\\,\\right\\rangle}\n",
        "\\newcommand{\\bra}[1]{\\left\\langle\\,{#1}\\,\\right|}\n",
        "\\newcommand{\\braket}[2]{\\left\\langle\\,{#1}\\,\\middle|\\,{#2}\\,\\right\\rangle}\n",
        "\\newcommand{\\mean}[1]{\\left\\langle\\,{#1}\\,\\right\\rangle}\n",
        "$$"
      ]
    },
    {
      "cell_type": "code",
      "metadata": {
        "id": "8_OWzFvJX6Vw"
      },
      "source": [
        "! pip install qiskit"
      ],
      "execution_count": null,
      "outputs": []
    },
    {
      "cell_type": "markdown",
      "metadata": {
        "id": "IdRMa31hcHXB"
      },
      "source": [
        "# Teoría de la Información Cuántica"
      ]
    },
    {
      "cell_type": "markdown",
      "metadata": {
        "id": "ZINaSZ-icM3C"
      },
      "source": [
        "## Trabajo Práctico Número 2"
      ]
    },
    {
      "cell_type": "markdown",
      "metadata": {
        "id": "Ac1HsOQZcUBB"
      },
      "source": [
        "### I. Traza Parcial, Entrelazamiento y Medidas"
      ]
    },
    {
      "cell_type": "markdown",
      "metadata": {
        "id": "lTSlersXcrvP"
      },
      "source": [
        "#### 1) Hallar el estado reducido del subsistema de los primeros $m$ qubits y evaluar la entropía de entrelazamiento de la correspondiente partición $(m,n-m)$, con $1\\leq m\\leq n-1$, para los estados siguientes:\n",
        "\n",
        "$|\\Psi\\rangle=(|0\\ldots 0\\rangle+|1\\ldots 1\\rangle)/\\sqrt{2}$\n",
        "\n",
        "$|\\Phi\\rangle=(|10\\ldots 0\\rangle+|010\\ldots\\rangle+\\ldots|0\\ldots 01\\rangle)/\\sqrt{n}$"
      ]
    },
    {
      "cell_type": "markdown",
      "metadata": {
        "id": "1g3Y8v2qXHxU"
      },
      "source": [
        "Solución:\n",
        "\n",
        "Desarrollando $\\ket{\\Psi}$:\n",
        "$\\ket{\\Psi} = \\frac{1}{\\sqrt{2}}\\ket{00..0}\\ket{00..0}+\\frac{1}{\\sqrt{2}}\\ket{11..1}\\ket{11..1}=\\frac{1}{\\sqrt{2}}\\ket{0_{A}}\\ket{0_{B}}+\\frac{1}{\\sqrt{2}}\\ket{1_{A}}\\ket{1_{B}}$\n",
        "\n",
        "Calculamos la matriz densidad:\n",
        "$\\rho = \\ket{\\Psi}\\bra{\\Psi} = \\frac{1}{2}(\\ket{0_{A}}\\ket{0_{B}}\\bra{0_{A}}\\bra{0_{B}}+\\ket{0_{A}}\\ket{0_{B}}\\bra{1_{A}}\\bra{1_{B}}+\\ket{1_{A}}\\ket{1_{B}}\\bra{0_{A}}\\bra{0_{B}}+\\ket{1_{A}}\\ket{1_{B}}\\bra{1_{A}}\\bra{1_{B}})$\n",
        "\n",
        "Calculamos la matriz reducida para luego calcular la entropía de entrelazamiento:\n",
        "$\\rho_{A} = \\Sigma_{k}\\sigma_{k}^2\\ket{k}\\bra{k} \\Rightarrow E(A,B) = S(\\rho_{A}) = S(\\rho_{B}) =-\\Sigma_{k}\\sigma_{k}^2log\\sigma_{k}^2$\n",
        "\n",
        "$E(A,B) = -\\frac{1}{2}log\\frac{1}{2}-\\frac{1}{2}log\\frac{1}{2}=1 $ (Estado máximamente entrelazado.)\n",
        "\n",
        "Desarrollando $|\\Phi\\rangle$: $|\\Phi\\rangle=(|10\\ldots 0\\rangle+|010\\ldots\\rangle+\\ldots|0\\ldots 01\\rangle)/\\sqrt{n} = \\frac{1}{\\sqrt{n}}(\\sqrt{m}(\\frac{\\ket{1_{A}0_{B}...0_{m}}+\\ket{0_{A}1_{B}...0_{m}}+\\ket{0_{A}0_{B}...1_{m}}}{\\sqrt{m}})\\ket{0_{m+1}0_{m+2}...0_{n}}+\\sqrt{n-m}\\ket{0_{1}0_{2}...0_{m}}(\\frac{\\ket{1_{m+1}0_{m+2}...0_{n}}+\\ket{0_{m+1}1_{m+2}...0_{n}}+\\ket{0_{m+1}0_{m+2}...1_{n}}}{\\sqrt{m}}))$\n",
        "\n",
        "$|\\Phi\\rangle = \\sqrt{\\frac{m}{n}}\\ket{\\Phi_{m}}\\ket{0_{n-m}}+\\sqrt{\\frac{n-m}{m}}\\ket{0_{m}}\\ket{\\Phi_{n-m}}$\n",
        "\n",
        "Calculamos la matriz densidad:\n",
        "\n",
        "$\\rho = \\ket{\\Phi}\\bra{\\Phi} = \\frac{m}{n}\\ket{\\Phi_{m}}\\ket{0_{n-m}}\\bra{\\Phi_{m}}\\bra{0_{n-m}}+\\frac{\\sqrt{m(n-m)}}{n}\\ket{0_{m}}\\ket{\\Phi_{n-m}}\\bra{\\Phi_{m}}\\bra{0_{n-m}}+\\frac{\\sqrt{m(n-m)}}{n}\\ket{\\Phi_{m}}\\ket{0_{n-m}}\\bra{0_{m}}\\bra{\\Phi_{n-m}}+\\frac{n-m}{n}\\ket{0_{m}}\\ket{\\Phi_{n-m}}\\bra{0_{m}}\\bra{\\Phi_{n-m}}$\n",
        "\n",
        "Calculamos la matriz reducida para poder calcular la entropía de entrelazamiento:\n",
        "$\\rho_{A}= \\frac{m}{n}\\ket{\\Phi_{A}}\\bra{\\Phi_{A}}+\\frac{n-m}{m}\\ket{0_{A}}\\bra{0_{A}}$\n",
        "\n",
        "$E(\\rho)=S(\\rho_{A})=-\\Sigma_{k}\\sigma_{k}^2log_{2}\\sigma_{k}^2=-(\\frac{m}{n}log_{2}\\frac{m}{n}+\\frac{n-m}{n}log_{2}\\frac{n-m}{n})$"
      ]
    },
    {
      "cell_type": "markdown",
      "metadata": {
        "id": "jsDg5zhBc6ZF"
      },
      "source": [
        "#### 2) Dado el estado $|\\Psi_{AB}\\rangle=\\sum_{i,j}C_{ij}|ij\\rangle$, con $\\langle ij|kl\\rangle=\\delta_{ik}\\delta_{jl}$ y $|ij\\rangle\\equiv |i_A\\rangle\\otimes|j_B\\rangle$"
      ]
    },
    {
      "cell_type": "markdown",
      "metadata": {
        "id": "tG3jqeIydmil"
      },
      "source": [
        "##### a) Determine el estado reducido del sistema $A$."
      ]
    },
    {
      "cell_type": "markdown",
      "metadata": {
        "id": "Dt1Gg1yExHEH"
      },
      "source": [
        "Solución:\n",
        "\n",
        "$\\rho=Tra_{B}\\rho_{AB}=\\Sigma_{m}\\Sigma_{ijkl}C_{ij}C^{*}_{kl}\\ket{i}\\bra{j}_{A}\\braket{m}{j}\\braket{l}{m}=\\Sigma_{ijklm}C_{ij}C^{*}_{kl}\\ket{i}\\bra{k}_{A}\\delta_{mj}\\delta{lm}=\\Sigma_{ijk}C_{ij}C^{\\dagger}_{kl}\\ket{i}\\bra{k}_{A}=\\Sigma_{ik}(CC^{\\dagger})_{ik}\\ket{i}\\bra{k}_{A}$"
      ]
    },
    {
      "cell_type": "markdown",
      "metadata": {
        "id": "FcL8Y4z6dsYb"
      },
      "source": [
        "##### b) Supongamos que se realiza una medida local en el sistema $B$, en la base $\\{|j_B\\rangle\\}$. Determine el estado conjunto del sistema y el estado reducido del sistema $A$ luego de la medición, si se obtiene el resultado $j$."
      ]
    },
    {
      "cell_type": "markdown",
      "metadata": {
        "id": "V2Ndm8OVzE-0"
      },
      "source": [
        "Solución:\n",
        "\n",
        "$P_{j}=I_{A}\\otimes\\ket{j}\\bra{j}$\n",
        "\n",
        "$\\ket{\\Psi}=\\Sigma_{j}(\\Sigma_{i}C_{ij}\\ket{i})\\ket{j}=\\Sigma_{j}r_{P_{j}}\\ket{j}\\ket{j}$\n",
        "\n",
        "$\\ket{\\Psi^{'}_{AB}}=\\frac{P_{j}\\ket{\\Psi_{AB}}}{\\sqrt{\\bra{\\Psi_{AB}}P_{j}\\ket{\\Psi_{AB}}}}=\\frac{r_{P_{j}}\\ket{j}\\ket{j}}{r_{P_{j}}}=\\ket{j}\\ket{j}$\n",
        "\n",
        "Por lo tanto: $\\rho_{A}=\\ket{j}\\bra{j}$"
      ]
    },
    {
      "cell_type": "markdown",
      "metadata": {
        "id": "wB4FdRhPdzfY"
      },
      "source": [
        "##### c) Determinar el estado promedio del sistema conjunto y del sistema $A$ luego de la  medición."
      ]
    },
    {
      "cell_type": "markdown",
      "metadata": {
        "id": "8Z3sK4JSeByt"
      },
      "source": [
        "#### 3) Determinar $M_3$ y el valor máximo de $p$ tal que el conjunto $\\{M_1,M_2,M_3\\}$ con $M_1=\\sqrt{p}|1\\rangle\\langle 1|,\\; M_2=\\sqrt{p}|-\\rangle\\langle -|$ y $|-\\rangle = (|0\\rangle - |1\\rangle)/\\sqrt{2}$, represente una medida (generalizada) de un qubit. Utilizar esta medida para distinguir estados $|0\\rangle$ y $|+\\rangle$, y comparar su eficiencia con una medida proyectiva estándar de un qubit."
      ]
    },
    {
      "cell_type": "markdown",
      "metadata": {
        "id": "FuqUznHa3Y4F"
      },
      "source": [
        "Solución:\n",
        "\n",
        "Sabiendoque $M_1^\\dagger M_1 + M_2^\\dagger M_2 + M_3^\\dagger M_3 = I$\n",
        "\n",
        "$M_3^\\dagger M_3 = I - M_1^\\dagger M_1 - M_2^\\dagger M_2 =\n",
        "        \\begin{pmatrix}\n",
        "            1 & 0 \\\\\n",
        "            0 & 1\n",
        "        \\end{pmatrix}\n",
        "        -\n",
        "        \\begin{pmatrix}\n",
        "            0 & 0 \\\\\n",
        "            0 & p\n",
        "        \\end{pmatrix}\n",
        "        -\n",
        "        \\begin{pmatrix}\n",
        "            \\frac{p}{2} & -\\frac{p}{2} \\\\\n",
        "            -\\frac{p}{2} & \\frac{p}{2}\n",
        "        \\end{pmatrix}\n",
        "        =\n",
        "        \\begin{pmatrix}\n",
        "            1-\\frac{p}{2} & \\frac{p}{2} \\\\\n",
        "            \\frac{p}{2} & 1-\\frac{3p}{2}\n",
        "        \\end{pmatrix}.$\n",
        "\n",
        "$|M_{3}M_{3}^{\\dagger}|>0$, ya que los autovalores de $M_{j}^{\\dagger}M_{j}$ deben ser no negativos.\n",
        "\n",
        "$\\left |\n",
        "        \\begin{pmatrix}\n",
        "            1-\\frac{p}{2} & \\frac{p}{2} \\\\\n",
        "            \\frac{p}{2} & 1-\\frac{3p}{2}\n",
        "        \\end{pmatrix}\n",
        "        \\right |  = (1 - \\frac{p}{2}) (1 - \\frac{3p}{2}) - (\\frac{p}{2})^2 = (p - (2 + \\sqrt{2})) (p - (2 - \\sqrt{2})) \\geq 0 \\implies p \\leq 2 - \\sqrt{2}$\n",
        "\n",
        "$Sea \\ket{\\Psi}=cos\\frac{\\sigma}{2}\\ket{0}+sin\\frac{\\sigma}{2}\\ket{1} \\implies p\\ket{1}\\bra{1}+p\\ket{-}\\bra{-}+q\\ket{\\Psi}\\bra{\\Psi}=I$\n",
        "\n",
        "$p\\begin{pmatrix}\n",
        "\\frac{1}{2} &-\\frac{1}{2} \\\\ \n",
        "-\\frac{1}{2} & \\frac{3}{2}\n",
        "\\end{pmatrix}+q\\begin{pmatrix}\n",
        "cos^2\\sigma & sin\\sigma * cos\\sigma\\\\ \n",
        "sin\\sigma * cos\\sigma & sin^2\\sigma\n",
        "\\end{pmatrix}=\\begin{pmatrix}\n",
        "1 & 0\\\\ \n",
        "0 & 1\n",
        "\\end{pmatrix}$\n",
        "\n",
        "$\\left.\\begin{matrix}\n",
        "\\frac{p}{2}+q*cos^2\\sigma=1\\\\ \n",
        "\\frac{3p}{2}+q*sis^2\\sigma=1\n",
        "\\end{matrix}\\right\\} \\implies 2p+q=2$\n",
        "\n",
        "Como queremos distinguie entre los estados $\\ket{0}$ y $\\ket{+}$. Entonces: \n",
        "\n",
        "$\\rho = \\frac{1}{2}\\ket{0}+\\frac{1}{2}\\ket{+}$\n",
        "\n",
        "$\\left.\\begin{matrix}\n",
        "P(M_{1}) = Tr(M_{1}^{\\dagger}M_{1}\\rho) = \\frac{p}{4} > \\frac{1}{4}\\\\ \n",
        "\\\\ P(M_{2}) = Tr(M_{2}^{\\dagger}M_{2}\\rho) = \\frac{p}{4} > \\frac{1}{4}\n",
        "\\end{matrix}\\right\\} P(M_{3}) $ no distingue entre \\ket{0} y \\ket{+} ya que es combinación lineal de $M_{1}$ y $M_{2}$"
      ]
    },
    {
      "cell_type": "markdown",
      "metadata": {
        "id": "q76KnUMWeRax"
      },
      "source": [
        "### II. Compuertas Lógicas Cuánticas"
      ]
    },
    {
      "cell_type": "markdown",
      "metadata": {
        "id": "Tw5w5qcAeZIu"
      },
      "source": [
        "#### 1) Utilizando la notación $X=\\sigma_x$,  $Y=\\sigma_Y$, $Z=\\sigma_z$, escribir las matrices que representan, en la base computacional  $\\{|00\\rangle, |01\\rangle, |10\\rangle, |11\\rangle\\})$, los operadores .Verificar  que  $U_X$ es el Control Not cuántico en la base estándar.  Verificar también que todos los operadores anteriores son unitarios y determinar sus inversas. "
      ]
    },
    {
      "cell_type": "markdown",
      "metadata": {
        "id": "_cFGcC4DOt-S"
      },
      "source": [
        "##### $a)X\\otimes I$"
      ]
    },
    {
      "cell_type": "markdown",
      "metadata": {
        "id": "mLUMzjdLOJ1C"
      },
      "source": [
        "Solución:\n",
        "\n",
        "$X\\otimes I = \\begin{pmatrix}\n",
        "0 & 1\\\\ \n",
        "1 & 0\n",
        "\\end{pmatrix}\\otimes\\begin{pmatrix}\n",
        "1 & 0\\\\ \n",
        "0 & 1\n",
        "\\end{pmatrix}=\\begin{pmatrix}\n",
        "0 &0  &1  &0 \\\\ \n",
        "0 &0  &0  &1 \\\\ \n",
        "1 &0  &0  &0 \\\\ \n",
        "0 &1  &0  &0 \n",
        "\\end{pmatrix}$"
      ]
    },
    {
      "cell_type": "markdown",
      "metadata": {
        "id": "LWxFre76PHrT"
      },
      "source": [
        "##### $b)I\\otimes X$"
      ]
    },
    {
      "cell_type": "markdown",
      "metadata": {
        "id": "_1rXtllkRBfH"
      },
      "source": [
        "Solución:\n",
        "\n",
        "$I\\otimes X = \\begin{pmatrix}\n",
        "1 & 0\\\\ \n",
        "0 & 1\n",
        "\\end{pmatrix}\\otimes \\begin{pmatrix}\n",
        "0 & 1\\\\ \n",
        "1 & 0\n",
        "\\end{pmatrix}=\\begin{pmatrix}\n",
        "0 &1  &0  &0 \\\\ \n",
        "1 &0  &0  &0 \\\\ \n",
        "0 &0  &0  &1 \\\\ \n",
        "0 &0  &1  &0 \n",
        "\\end{pmatrix}$"
      ]
    },
    {
      "cell_type": "markdown",
      "metadata": {
        "id": "6CIkd6kyPJbv"
      },
      "source": [
        "##### $c)X\\otimes X$"
      ]
    },
    {
      "cell_type": "markdown",
      "metadata": {
        "id": "iq498WbHRWLz"
      },
      "source": [
        "Solución:\n",
        "\n",
        "$X\\otimes X = \\begin{pmatrix}\n",
        "0 & 1\\\\ \n",
        "1 & 0\n",
        "\\end{pmatrix}\\otimes \\begin{pmatrix}\n",
        "0 & 1\\\\ \n",
        "1 & 0\n",
        "\\end{pmatrix}=\\begin{pmatrix}\n",
        "0 &0  &0  &1 \\\\ \n",
        "0 &0  &1  &0 \\\\ \n",
        "0 &1  &0  &0 \\\\ \n",
        "1 &0  &0  &0 \n",
        "\\end{pmatrix}$"
      ]
    },
    {
      "cell_type": "markdown",
      "metadata": {
        "id": "S4KBkLs3PLRM"
      },
      "source": [
        "##### $d)U_X=|0\\rangle\\langle 0|\\otimes I+|1\\rangle\\langle 1|\\otimes X$"
      ]
    },
    {
      "cell_type": "markdown",
      "metadata": {
        "id": "QzyixkCxRZL1"
      },
      "source": [
        "Solución:\n",
        "\n",
        "$U_X=|0\\rangle\\langle 0|\\otimes I+|1\\rangle\\langle 1|\\otimes X = \\begin{pmatrix}\n",
        "1 & 0 \\\\ \n",
        "0 & 0\n",
        "\\end{pmatrix}\\otimes \\begin{pmatrix}\n",
        "1 & 0\\\\ \n",
        "0 & 1\n",
        "\\end{pmatrix} + \\begin{pmatrix}\n",
        "0 & 0\\\\ \n",
        "0 & 1\n",
        "\\end{pmatrix}\\otimes \\begin{pmatrix}\n",
        "0 & 1\\\\ \n",
        "1 & 0\n",
        "\\end{pmatrix} = \\begin{pmatrix}\n",
        "1 &0  &0  &0 \\\\ \n",
        "0 &1  &0  &0 \\\\ \n",
        "0 &0  &0  &0 \\\\ \n",
        "0 &0  &0  &0 \n",
        "\\end{pmatrix}+\\begin{pmatrix}\n",
        "0 &0  &0  &0 \\\\ \n",
        "0 &0  &0  &0 \\\\ \n",
        "0 &0  &0  &1 \\\\ \n",
        "0 &0  &1  &0 \n",
        "\\end{pmatrix}=\\begin{pmatrix}\n",
        "1 &0  &0  &0 \\\\ \n",
        "0 &1  &0  &0 \\\\ \n",
        "0 &0  &0  &1 \\\\ \n",
        "0 &0  &1  &0 \n",
        "\\end{pmatrix} \\implies \\left.\\begin{matrix}\n",
        "\\ket{00} \\implies \\ket{00}\\\\ \n",
        "\\ket{01} \\implies \\ket{01}\\\\ \n",
        "\\ket{10} \\implies \\ket{11}\\\\ \n",
        "\\ket{11} \\implies \\ket{10}\n",
        "\\end{matrix}\\right\\} CNOT$"
      ]
    },
    {
      "cell_type": "markdown",
      "metadata": {
        "id": "2gDJcvkde_1R"
      },
      "source": [
        "#### 2) Comprobar que  $W=U_{X}(H\\otimes I)$, con $H=(X+Z)/\\sqrt{2}$ la compuerta de Hadamard, transforma la base computacional en la base de Bell, determinando su representación matricial. Concluir que una medición en la base de Bell (es decir, basada en proyectores ortogonales sobre estos estados) es equivalente a aplicar $W^\\dagger=(H\\otimes I)U_X$ seguido de una medición  en la base computacional (y una nueva aplicación de $W$). Representar mediante un circuito la anterior equivalencia. "
      ]
    },
    {
      "cell_type": "markdown",
      "metadata": {
        "id": "VK5Ke4GJZByL"
      },
      "source": [
        "Solución:\n",
        "\n",
        "Calculo el valor de $W$ y luego lo aplico a la base computacional:\n",
        "\n",
        "$W = U_{X}(H\\otimes I)=\\begin{pmatrix}\n",
        "1 &0  &0  &0 \\\\ \n",
        "0 &1  &0  &0 \\\\ \n",
        "0 &0  &0  &1 \\\\ \n",
        "0 &0  &1  &0 \n",
        "\\end{pmatrix}\\frac{1}{\\sqrt{2}}\\begin{pmatrix}\n",
        "1 &1 \\\\ \n",
        "1 &-1 \n",
        "\\end{pmatrix}\\otimes \\begin{pmatrix}\n",
        "1 &0 \\\\ \n",
        "0 &1 \n",
        "\\end{pmatrix}=\\frac{1}{\\sqrt{2}}\\begin{pmatrix}\n",
        "1 &0  &1  &0 \\\\ \n",
        "0 &1  &0  &1 \\\\ \n",
        "0 &1  &0  &-1 \\\\ \n",
        "1 &0  &-1  &0 \n",
        "\\end{pmatrix}$\n",
        "\n",
        "$W\\ket{00}=\\frac{1}{\\sqrt{2}}\\begin{pmatrix}\n",
        "1 &0  &1  &0 \\\\ \n",
        "0 &1  &0  &1 \\\\ \n",
        "0 &1  &0  &-1 \\\\ \n",
        "1 &0  &-1  &0 \n",
        "\\end{pmatrix}\\begin{pmatrix}\n",
        "1\\\\ \n",
        "0\\\\ \n",
        "0\\\\ \n",
        "0\n",
        "\\end{pmatrix}=\\frac{1}{\\sqrt{2}}\\begin{pmatrix}\n",
        "1\\\\ \n",
        "0\\\\ \n",
        "0\\\\ \n",
        "1\n",
        "\\end{pmatrix}=\\frac{\\ket{00}+\\ket{11}}{\\sqrt{2}}=\\ket{\\Phi_{+}}$\n",
        "\n",
        "$W\\ket{01}=\\frac{1}{\\sqrt{2}}\\begin{pmatrix}\n",
        "1 &0  &1  &0 \\\\ \n",
        "0 &1  &0  &1 \\\\ \n",
        "0 &1  &0  &-1 \\\\ \n",
        "1 &0  &-1  &0 \n",
        "\\end{pmatrix}\\begin{pmatrix}\n",
        "0\\\\ \n",
        "1\\\\ \n",
        "0\\\\ \n",
        "0\n",
        "\\end{pmatrix}=\\frac{1}{\\sqrt{2}}\\begin{pmatrix}\n",
        "0\\\\ \n",
        "1\\\\ \n",
        "1\\\\ \n",
        "0\n",
        "\\end{pmatrix}=\\frac{\\ket{01}+\\ket{10}}{\\sqrt{2}}=\\ket{\\Psi_{+}}$\n",
        "\n",
        "$W\\ket{10}=\\frac{1}{\\sqrt{2}}\\begin{pmatrix}\n",
        "1 &0  &1  &0 \\\\ \n",
        "0 &1  &0  &1 \\\\ \n",
        "0 &1  &0  &-1 \\\\ \n",
        "1 &0  &-1  &0 \n",
        "\\end{pmatrix}\\begin{pmatrix}\n",
        "0\\\\ \n",
        "0\\\\ \n",
        "1\\\\ \n",
        "0\n",
        "\\end{pmatrix}=\\frac{1}{\\sqrt{2}}\\begin{pmatrix}\n",
        "1\\\\ \n",
        "0\\\\ \n",
        "0\\\\ \n",
        "-1\n",
        "\\end{pmatrix}=\\frac{\\ket{00}-\\ket{11}}{\\sqrt{2}}=\\ket{\\Phi_{-}}$\n",
        "\n",
        "$W\\ket{11}=\\frac{1}{\\sqrt{2}}\\begin{pmatrix}\n",
        "1 &0  &1  &0 \\\\ \n",
        "0 &1  &0  &1 \\\\ \n",
        "0 &1  &0  &-1 \\\\ \n",
        "1 &0  &-1  &0 \n",
        "\\end{pmatrix}\\begin{pmatrix}\n",
        "0\\\\ \n",
        "0\\\\ \n",
        "0\\\\ \n",
        "1\n",
        "\\end{pmatrix}=\\frac{1}{\\sqrt{2}}\\begin{pmatrix}\n",
        "0\\\\ \n",
        "1\\\\ \n",
        "-1\\\\ \n",
        "0\n",
        "\\end{pmatrix}=\\frac{\\ket{01}-\\ket{10}}{\\sqrt{2}}=\\ket{\\Psi_{-}}$\n",
        "\n",
        "También se verifica que:\n",
        "\n",
        "$\\left.\\begin{matrix}\n",
        "W^{\\dagger}\\ket{\\Phi_{+}}=\\ket{00}\\\\ \n",
        "W^{\\dagger}\\ket{\\Psi_{+}}=\\ket{01}\\\\ \n",
        "W^{\\dagger}\\ket{\\Phi_{-}}=\\ket{10}\\\\ \n",
        "W^{\\dagger}\\ket{\\Psi_{-}}=\\ket{11}\n",
        "\\end{matrix}\\right\\}$ Base computacional"
      ]
    },
    {
      "cell_type": "code",
      "metadata": {
        "id": "dPABtkMIYXLi",
        "outputId": "71901a88-374d-44c7-a454-ea071a2b0e49",
        "colab": {
          "base_uri": "https://localhost:8080/",
          "height": 136
        }
      },
      "source": [
        "from qiskit import QuantumCircuit\n",
        "#circuito equivalente a aplicar la unitaria W dagger \n",
        "#y luego medir en la base computacional\n",
        "circ = QuantumCircuit(2,2)\n",
        "circ.h(0)\n",
        "circ.cx(0, 1)\n",
        "circ.measure(range(2), range(2))\n",
        "print(circ)"
      ],
      "execution_count": 10,
      "outputs": [
        {
          "output_type": "stream",
          "text": [
            "     ┌───┐     ┌─┐   \n",
            "q_0: ┤ H ├──■──┤M├───\n",
            "     └───┘┌─┴─┐└╥┘┌─┐\n",
            "q_1: ─────┤ X ├─╫─┤M├\n",
            "          └───┘ ║ └╥┘\n",
            "c: 2/═══════════╩══╩═\n",
            "                0  1 \n"
          ],
          "name": "stdout"
        }
      ]
    },
    {
      "cell_type": "markdown",
      "metadata": {
        "id": "wCFJ1stKfdP0"
      },
      "source": [
        "#### 3) Mostrar que $U_S=U_{X}\\bar{U}_{X}U_{X}$, con $U_{X}=|0\\rangle\\langle 0|\\otimes I+|1\\rangle\\langle 1|\\otimes X$ y $\\bar{U}_{X}=I\\otimes|0\\rangle\\langle 0|+X\\otimes |1\\rangle\\langle 1|$,  es el operador de \"swap\", que satisface  $U_S|ab\\rangle=|ba\\rangle$ para todo estado producto  $|ab\\rangle=|a\\rangle|b\\rangle$ in $C^2\\otimes C^2$.  Escribir la matriz que representa a $U_S$ en la base computacional y dibujar el circuito correspondiente."
      ]
    },
    {
      "cell_type": "markdown",
      "metadata": {
        "id": "ZMnNkSdAht0q"
      },
      "source": [
        "Solución:\n",
        "\n",
        "$\\left.\\begin{matrix}\n",
        "U_{X}=|0\\rangle\\langle 0|\\otimes I+|1\\rangle\\langle 1|\\otimes X=\\begin{pmatrix}\n",
        "1 &0 \\\\ \n",
        "0 &0 \n",
        "\\end{pmatrix}\\otimes \\begin{pmatrix}\n",
        "1 &0 \\\\ \n",
        "0 &1 \n",
        "\\end{pmatrix}+\\begin{pmatrix}\n",
        "0 &0 \\\\ \n",
        "0 &1 \n",
        "\\end{pmatrix}\\otimes \\begin{pmatrix}\n",
        "0 &1 \\\\ \n",
        "1 &0 \n",
        "\\end{pmatrix}=\\begin{pmatrix}\n",
        "1 &0  &0  &0 \\\\ \n",
        "0 &1  &0  &0 \\\\ \n",
        "0 &0  &0  &1 \\\\ \n",
        "0 &0  &1  &0 \n",
        "\\end{pmatrix}\\\\ \n",
        "\\bar{U}_{X}=I\\otimes|0\\rangle\\langle 0|+X\\otimes |1\\rangle\\langle 1| = \\begin{pmatrix}\n",
        "1 &0 \\\\ \n",
        "0 &1 \n",
        "\\end{pmatrix}\\otimes \\begin{pmatrix}\n",
        "1 &0 \\\\ \n",
        "0 &0 \n",
        "\\end{pmatrix}+\\begin{pmatrix}\n",
        "0 &1 \\\\ \n",
        "1 &0 \n",
        "\\end{pmatrix}\\otimes \\begin{pmatrix}\n",
        "0 &0 \\\\ \n",
        "0 &1 \n",
        "\\end{pmatrix}=\\begin{pmatrix}\n",
        "1 &0  &0  &0 \\\\ \n",
        "0 &0  &0  &1 \\\\ \n",
        "0 &0  &1  &0 \\\\ \n",
        "0 &1  &0  &0 \n",
        "\\end{pmatrix}\n",
        "\\end{matrix}\\right\\}U_{S}=U_{X}\\bar{U}_{X}U_{X}=\\begin{pmatrix}\n",
        "1 &0  &0  &0 \\\\ \n",
        "0 &0  &1  &0 \\\\ \n",
        "0 &1  &0  &0 \\\\ \n",
        "0 &0  &0  &1 \n",
        "\\end{pmatrix}\\implies U_{S}\\ket{ab}=\\ket{ba}$"
      ]
    },
    {
      "cell_type": "code",
      "metadata": {
        "id": "XR9IGgkBafzg",
        "outputId": "46a0fa91-81e0-47df-e7b6-9938c297a3b2",
        "colab": {
          "base_uri": "https://localhost:8080/",
          "height": 102
        }
      },
      "source": [
        "from qiskit import QuantumCircuit\n",
        "#circuito equivalente a aplicar 3 CNOTs para lograr una SWAP\n",
        "circ = QuantumCircuit(2)\n",
        "circ.cx(0, 1)\n",
        "circ.cx(1, 0)\n",
        "circ.cx(0, 1)\n",
        "print(circ)"
      ],
      "execution_count": 11,
      "outputs": [
        {
          "output_type": "stream",
          "text": [
            "          ┌───┐     \n",
            "q_0: ──■──┤ X ├──■──\n",
            "     ┌─┴─┐└─┬─┘┌─┴─┐\n",
            "q_1: ┤ X ├──■──┤ X ├\n",
            "     └───┘     └───┘\n"
          ],
          "name": "stdout"
        }
      ]
    },
    {
      "cell_type": "markdown",
      "metadata": {
        "id": "bG4ubhryno8T"
      },
      "source": [
        "### III Teleportación Cuántica"
      ]
    },
    {
      "cell_type": "markdown",
      "metadata": {
        "id": "xHotiVfDntxu"
      },
      "source": [
        "#### 1) En el proceso de teleportación, hallar la matriz reducida de $B$ en las siguientes etapas:"
      ]
    },
    {
      "cell_type": "code",
      "metadata": {
        "id": "ByH1gNbhb-wy",
        "outputId": "9def1389-ea00-472d-de2d-2a51dc132025",
        "colab": {
          "base_uri": "https://localhost:8080/",
          "height": 170
        }
      },
      "source": [
        "from qiskit import *\n",
        "\n",
        "#asumimos un estado arbitrario en el qubit 0 (C)\n",
        "circuit = QuantumCircuit(3,3)\n",
        "#creamos el estado de Bell entre el qubit 1 y 2 (A y B)\n",
        "circuit.h(1)\n",
        "circuit.cx(1,2)\n",
        "circuit.barrier() \n",
        "#aplicacmos el circuito de teleportación\n",
        "circuit.cx(0,1)\n",
        "circuit.h(0)\n",
        "circuit.barrier() \n",
        "circuit.measure([0, 1], [0, 1]) \n",
        "circuit.barrier() \n",
        "circuit.cz(0, 2)\n",
        "circuit.cx(1, 2)\n",
        "circuit.barrier() \n",
        "circuit.measure(2,2) \n",
        "print(circuit)"
      ],
      "execution_count": 13,
      "outputs": [
        {
          "output_type": "stream",
          "text": [
            "                ░      ┌───┐ ░ ┌─┐    ░          ░    \n",
            "q_0: ───────────░───■──┤ H ├─░─┤M├────░──■───────░────\n",
            "     ┌───┐      ░ ┌─┴─┐└───┘ ░ └╥┘┌─┐ ░  │       ░    \n",
            "q_1: ┤ H ├──■───░─┤ X ├──────░──╫─┤M├─░──┼───■───░────\n",
            "     └───┘┌─┴─┐ ░ └───┘      ░  ║ └╥┘ ░  │ ┌─┴─┐ ░ ┌─┐\n",
            "q_2: ─────┤ X ├─░────────────░──╫──╫──░──■─┤ X ├─░─┤M├\n",
            "          └───┘ ░            ░  ║  ║  ░    └───┘ ░ └╥┘\n",
            "c: 3/═══════════════════════════╩══╩════════════════╩═\n",
            "                                0  1                2 \n"
          ],
          "name": "stdout"
        }
      ]
    },
    {
      "cell_type": "markdown",
      "metadata": {
        "id": "GXRIzn_zoDsi"
      },
      "source": [
        "##### a) Antes de que $A$ realice la medida"
      ]
    },
    {
      "cell_type": "markdown",
      "metadata": {
        "id": "wHYq_ZpMawyS"
      },
      "source": [
        "Solución:\n",
        "\n",
        "Estado inicial del sistema con un $\\Psi_{C}$ genérico:\n",
        "$\\Phi_{total}=(\\alpha\\ket{0}+\\beta\\ket{1})(\\frac{\\ket{00}+\\ket{11}}{\\sqrt{2}})$\n",
        "\n",
        "Calculo la evolución de $\\Phi_{total}$ a través del circuito hasta la medición de A:\n",
        "\n",
        "$\\Phi_{total} \\overset{CNOT}{\\rightarrow} \\alpha\\ket{0}(\\frac{\\ket{00}+\\ket{11}}{\\sqrt{2}})+\\beta\\ket{1}(\\frac{\\ket{10}+\\ket{01}}{\\sqrt{2}}) \\overset{H\\otimes I}{\\rightarrow} \\alpha(\\frac{\\ket{0}+\\ket{1}}{\\sqrt{2}})(\\frac{\\ket{00}+\\ket{11}}{\\sqrt{2}})+\\beta(\\frac{\\ket{0}-\\ket{1}}{\\sqrt{2}})(\\frac{\\ket{10}+\\ket{01}}{\\sqrt{2}})=\\frac{1}{2}(\\ket{00}(\\alpha\\ket{0}+\\beta\\ket{1}+\\ket{01}(\\alpha\\ket{1}+\\beta\\ket{0}+\\ket{10}(\\alpha\\ket{0}-\\beta\\ket{1}+\\ket{11}(\\alpha\\ket{1}-\\beta\\ket{0})$\n",
        "\n",
        "Calculo la matriz reducida de B:\n",
        "\n",
        "$\\rho_{B}=\\frac{1}{4}((\\alpha^2\\ket{0}\\bra{0}+\\beta^2\\ket{1}\\bra{1}+\\alpha \\beta (\\ket{0}\\bra{1}+\\ket{1}\\bra{0}))+(\\alpha^2\\ket{1}\\bra{1}+\\beta^2\\ket{0}\\bra{0}-\\alpha \\beta (\\ket{0}\\bra{1}+\\ket{1}\\bra{0}))+(\\alpha^2\\ket{1}\\bra{1}+\\beta^2\\ket{0}\\bra{0}+\\alpha \\beta (\\ket{0}\\bra{1}+\\ket{1}\\bra{0}))+(\\alpha^2\\ket{0}\\bra{0}+\\beta^2\\ket{1}\\bra{1}-\\alpha \\beta (\\ket{0}\\bra{1}+\\ket{1}\\bra{0}))) = \\frac{1}{4}(2(\\alpha^2+\\beta^2)\\ket{0}\\bra{0}+2(\\alpha^2+\\beta^2)\\ket{1}\\bra{1}) = \\frac{1}{2}(\\ket{0}\\bra{0}+\\ket{1}\\bra{1})=I_{B}/2$"
      ]
    },
    {
      "cell_type": "markdown",
      "metadata": {
        "id": "N1vu1peRoEWc"
      },
      "source": [
        "##### b) Luego de que $A$ realice la medida, conociendo el resultado de esta."
      ]
    },
    {
      "cell_type": "markdown",
      "metadata": {
        "id": "gnO8O46jpbtV"
      },
      "source": [
        "El valor de $\\rho_{B}$ va a depender del estado AB:\n",
        "\n",
        "$\\rho_{B} =\\begin{cases}\n",
        "\\ket{\\Psi_{C}}\\bra{\\Psi_{C}} & \\text{ si } \\ket{00} \\\\ \n",
        "X\\ket{\\Psi_{C}}\\bra{\\Psi_{C}}X & \\text{ si } \\ket{01} \\\\ \n",
        "Z\\ket{\\Psi_{C}}\\bra{\\Psi_{C}}Z & \\text{ si } \\ket{10} \\\\ \n",
        "XZ\\ket{\\Psi_{C}}\\bra{\\Psi_{C}}ZX & \\text{ si } \\ket{11} \n",
        "\\end{cases}$"
      ]
    },
    {
      "cell_type": "markdown",
      "metadata": {
        "id": "PTjiK02AoEqF"
      },
      "source": [
        "##### c) El estado promedio luego de que $A$ realice la medida, sin conocer el resultado de esta."
      ]
    },
    {
      "cell_type": "markdown",
      "metadata": {
        "id": "0m-A3fbJsQjq"
      },
      "source": [
        "Solución:\n",
        "\n",
        "$Promedio = \\Sigma_{j}P_{j}\\rho_{j}=\\frac{\\mathbb{I}}{2}$"
      ]
    },
    {
      "cell_type": "markdown",
      "metadata": {
        "id": "jt5NUeSsoEC3"
      },
      "source": [
        "#### 2) Aplicar el proceso de teleportación a un estado no puro general:"
      ]
    },
    {
      "cell_type": "markdown",
      "metadata": {
        "id": "PfFQSD2OoDd-"
      },
      "source": [
        "##### a) $\\rho_C=p_0\\,|\\psi_0\\rangle \\langle \\psi_0|+(1-p_0)\\,|\\psi_1\\rangle\\langle \\psi_1|$ indicando si el esquema estándar puede transmitir este estado."
      ]
    },
    {
      "cell_type": "markdown",
      "metadata": {
        "id": "vHo12Sq9ypTb"
      },
      "source": [
        "Solución:\n",
        "\n",
        "Todos los elementos de la teleportación cuántica son lineales, por lo tanto, podemos aplicar la teleportación a cada estado $p_0\\,|\\psi_0\\rangle \\langle \\psi_0|$ y $(1-p_0)\\,|\\psi_1\\rangle\\langle \\psi_1|$ y luego sumarlos.\n",
        "\n",
        "$p_{0}\\ket{\\psi_{0}}\\bra{\\psi_{0}}_{C} \\otimes \\ket{\\Phi_{+}}\\bra{\\Phi_{+}}_{AB} + (1-p_{0})\\ket{\\psi_{1}}\\bra{\\psi_{1}}_{C} \\otimes \\ket{\\Phi_{+}}\\bra{\\Phi_{+}}_{AB} \\overset{Teleportacion}{\\rightarrow} p_{0}\\mathbb{I}_{CA} \\otimes \\ket{\\psi_{0}}\\bra{\\psi_{0}}_{B}+(1-p_{0})\\mathbb{I}_{CA} \\otimes \\ket{\\psi_{1}}\\bra{\\psi_{1}}_{B}$\n",
        "\n",
        "Por lo tanto:\n",
        "\n",
        "$\\rho_{B} = p_{0}\\rho_{0}+(1-p_{0})\\rho_{1}$"
      ]
    },
    {
      "cell_type": "markdown",
      "metadata": {
        "id": "cz82n7Fwo2Sm"
      },
      "source": [
        "##### b) Supongamos ahora que $C$ está inicialmente entrelazado con un cuarto sistema $D$, \n",
        "\n",
        "$|\\Psi_{DC}\\rangle=\\sqrt{p_0}\\,|0\\rangle|\\psi_0\\rangle+\\sqrt{1-p_0}\\,|1\\rangle|\\psi_1\\rangle$ \n",
        "\n",
        "¿Es posible realizar la teleportación cuántica?. Interpretar."
      ]
    },
    {
      "cell_type": "markdown",
      "metadata": {
        "id": "6qgiwDfb3OaA"
      },
      "source": [
        "Solución:\n",
        "\n",
        "Utilizando la linealidad de la teleportación podemos verificar rápidamente que:\n",
        "\n",
        "$\\ket{\\Psi_{DCAB}}_{final}=\\frac{\\sqrt{p_{0}}}{2}\\ket{0}(\\ket{00}\\ket{\\psi_{0}}+\\ket{01}X\\ket{\\psi_{0}}+\\ket{10}Z\\ket{\\psi_{0}}+\\ket{00}XZ\\ket{\\psi_{0}})+\\frac{\\sqrt{1-p_{0}}}{2}\\ket{1}(\\ket{00}\\ket{\\psi_{1}}+\\ket{01}X\\ket{\\psi_{1}}+\\ket{10}Z\\ket{\\psi_{1}}+\\ket{00}XZ\\ket{\\psi_{1}})$\n",
        "\n",
        "Por lo tanto, vemos que podemos trasladar el entrelazamiento que había entre los estados D y C, a un entrelazamiento entre los estados D y B."
      ]
    },
    {
      "cell_type": "markdown",
      "metadata": {
        "id": "RLMRvKHxo3LZ"
      },
      "source": [
        "##### c) Realizar el proceso de teleportación estándar para un estado puro en $C$ con un estado de Bell $|\\Psi_{AB}\\rangle=(|01\\rangle-|10\\rangle)/\\sqrt{2}$, indicando las operaciones  a realizar en $B$ luego de las operaciones usuales en $(C,A)$."
      ]
    }
  ]
}