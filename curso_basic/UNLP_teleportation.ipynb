{
 "cells": [
  {
   "cell_type": "markdown",
   "metadata": {
    "colab_type": "text",
    "id": "I0yV2vKA6PeC"
   },
   "source": [
    "Importamos las librerías de interés. QISKit es una librería de IBM para python en la cual podemos ejecutar circuitos tanto en simuladores como en computadoras cuánticas reales."
   ]
  },
  {
   "cell_type": "code",
   "execution_count": 1,
   "metadata": {
    "colab": {},
    "colab_type": "code",
    "id": "EC4Xe7O56Ig2"
   },
   "outputs": [],
   "source": [
    "from qiskit import *\n",
    "from qiskit import IBMQ\n",
    "from qiskit.visualization import plot_histogram\n",
    "from qiskit.providers.ibmq import least_busy\n",
    "import matplotlib.pyplot as plt"
   ]
  },
  {
   "cell_type": "markdown",
   "metadata": {
    "colab_type": "text",
    "id": "J11PPn0-7lOY"
   },
   "source": [
    "Creamos un circuito donde el primer qubit (qubit[0]) será el qubit que deseamos transmitir (Alice), el segundo qubit (qubit[1]) lo utilizaremos como auxiliar y el tercer qubit (qubit[2]) será el qubit que consideraremos como destino (Bob)."
   ]
  },
  {
   "cell_type": "code",
   "execution_count": 2,
   "metadata": {
    "colab": {
     "base_uri": "https://localhost:8080/",
     "height": 170
    },
    "colab_type": "code",
    "id": "TD6cluIG6mIb",
    "outputId": "c9630ea6-4f3a-4b13-8ab5-06c1da0df5c1"
   },
   "outputs": [
    {
     "name": "stdout",
     "output_type": "stream",
     "text": [
      "     ┌───┐ ░ \n",
      "q_0: ┤ X ├─░─\n",
      "     └───┘ ░ \n",
      "q_1: ──────░─\n",
      "           ░ \n",
      "q_2: ──────░─\n",
      "           ░ \n",
      "c: 3/════════\n",
      "             \n"
     ]
    }
   ],
   "source": [
    "# Creamos un circuitos cuántico que cuente con 3 bits cuánticos (qubits) y 3 bits clásicos (registros)\n",
    "circuit = QuantumCircuit(3,3)\n",
    "\n",
    "# Aplico una compuerta Hadamard al primer qubits para crear el estado cuántico \n",
    "# que deseo transmitir, en este caso el estado |1>\n",
    "circuit.x(0) \n",
    "\n",
    "# La barrera sirve exclusivamente para separar el circuito en partes\n",
    "circuit.barrier() \n",
    "\n",
    "# Visualizamos el circuito hasta el momento\n",
    "print(circuit)"
   ]
  },
  {
   "cell_type": "code",
   "execution_count": 3,
   "metadata": {
    "colab": {
     "base_uri": "https://localhost:8080/",
     "height": 170
    },
    "colab_type": "code",
    "id": "sZtFXqZD7H-L",
    "outputId": "bf61fc72-a4fe-4375-e0fb-77e2859ffda3"
   },
   "outputs": [
    {
     "name": "stdout",
     "output_type": "stream",
     "text": [
      "     ┌───┐ ░            ░ \n",
      "q_0: ┤ X ├─░────────────░─\n",
      "     └───┘ ░ ┌───┐      ░ \n",
      "q_1: ──────░─┤ H ├──■───░─\n",
      "           ░ └───┘┌─┴─┐ ░ \n",
      "q_2: ──────░──────┤ X ├─░─\n",
      "           ░      └───┘ ░ \n",
      "c: 3/═════════════════════\n",
      "                          \n"
     ]
    }
   ],
   "source": [
    "# Creo el estado de Bell entre # Creo el estado de Bell entre \n",
    "# Alice y el qubit auxiliar\n",
    "circuit.h(1)\n",
    "circuit.cx(1,2)\n",
    "\n",
    "# La barrera sirve exclusivamente para separar el circuito en partes\n",
    "circuit.barrier() \n",
    "\n",
    "# Visualizamos el circuito hasta el momento\n",
    "print(circuit)"
   ]
  },
  {
   "cell_type": "code",
   "execution_count": 4,
   "metadata": {
    "colab": {
     "base_uri": "https://localhost:8080/",
     "height": 170
    },
    "colab_type": "code",
    "id": "qBfaZExP8MFE",
    "outputId": "30e6450a-ee23-4bf8-ba7a-72befd6e0347"
   },
   "outputs": [
    {
     "name": "stdout",
     "output_type": "stream",
     "text": [
      "     ┌───┐ ░            ░      ┌───┐ ░ \n",
      "q_0: ┤ X ├─░────────────░───■──┤ H ├─░─\n",
      "     └───┘ ░ ┌───┐      ░ ┌─┴─┐└───┘ ░ \n",
      "q_1: ──────░─┤ H ├──■───░─┤ X ├──────░─\n",
      "           ░ └───┘┌─┴─┐ ░ └───┘      ░ \n",
      "q_2: ──────░──────┤ X ├─░────────────░─\n",
      "           ░      └───┘ ░            ░ \n",
      "c: 3/══════════════════════════════════\n",
      "                                       \n"
     ]
    }
   ],
   "source": [
    "# Coloco las compuertas para crear el circuito de teleportación\n",
    "circuit.cx(0,1)\n",
    "circuit.h(0)\n",
    "\n",
    "# La barrera sirve exclusivamente para separar el circuito en partes\n",
    "circuit.barrier() \n",
    "\n",
    "# Visualizamos el circuito hasta el momento\n",
    "print(circuit)"
   ]
  },
  {
   "cell_type": "code",
   "execution_count": 5,
   "metadata": {
    "colab": {
     "base_uri": "https://localhost:8080/",
     "height": 170
    },
    "colab_type": "code",
    "id": "J_DqTfxq8Xv9",
    "outputId": "258a79ff-7004-4844-ba3c-7a3e0316112a"
   },
   "outputs": [
    {
     "name": "stdout",
     "output_type": "stream",
     "text": [
      "     ┌───┐ ░            ░      ┌───┐ ░          ░ \n",
      "q_0: ┤ X ├─░────────────░───■──┤ H ├─░──■───────░─\n",
      "     └───┘ ░ ┌───┐      ░ ┌─┴─┐└───┘ ░  │       ░ \n",
      "q_1: ──────░─┤ H ├──■───░─┤ X ├──────░──┼───■───░─\n",
      "           ░ └───┘┌─┴─┐ ░ └───┘      ░  │ ┌─┴─┐ ░ \n",
      "q_2: ──────░──────┤ X ├─░────────────░──■─┤ X ├─░─\n",
      "           ░      └───┘ ░            ░    └───┘ ░ \n",
      "c: 3/═════════════════════════════════════════════\n",
      "                                                  \n"
     ]
    }
   ],
   "source": [
    "# Aplico la computerta X a Bob si el valor de Alice es 1 y la compuerta X a Bob  \n",
    "# si el valor del qubit auxiliar es 1\n",
    "circuit.cz(0, 2)\n",
    "circuit.cx(1, 2)\n",
    "\n",
    "# La barrera sirve exclusivamente para separar el circuito en partes\n",
    "circuit.barrier() \n",
    "\n",
    "# Visualizamos el circuito hasta el momento\n",
    "print(circuit)"
   ]
  },
  {
   "cell_type": "code",
   "execution_count": 6,
   "metadata": {
    "colab": {
     "base_uri": "https://localhost:8080/",
     "height": 170
    },
    "colab_type": "code",
    "id": "N5WE1a6w87p7",
    "outputId": "3960f312-9dcb-478a-f8f0-c66e974270e2"
   },
   "outputs": [
    {
     "name": "stdout",
     "output_type": "stream",
     "text": [
      "     ┌───┐ ░            ░      ┌───┐ ░          ░ ┌─┐      \n",
      "q_0: ┤ X ├─░────────────░───■──┤ H ├─░──■───────░─┤M├──────\n",
      "     └───┘ ░ ┌───┐      ░ ┌─┴─┐└───┘ ░  │       ░ └╥┘┌─┐   \n",
      "q_1: ──────░─┤ H ├──■───░─┤ X ├──────░──┼───■───░──╫─┤M├───\n",
      "           ░ └───┘┌─┴─┐ ░ └───┘      ░  │ ┌─┴─┐ ░  ║ └╥┘┌─┐\n",
      "q_2: ──────░──────┤ X ├─░────────────░──■─┤ X ├─░──╫──╫─┤M├\n",
      "           ░      └───┘ ░            ░    └───┘ ░  ║  ║ └╥┘\n",
      "c: 3/══════════════════════════════════════════════╩══╩══╩═\n",
      "                                                   0  1  2 \n"
     ]
    }
   ],
   "source": [
    "# Aplico las mediciones al final del circuito para los 3 qubits guardo sus \n",
    "# mediciones en los registros clásicos\n",
    "circuit.measure([0, 1, 2], [0, 1, 2]) \n",
    "\n",
    "# Visualizamos el circuito hasta el momento\n",
    "print(circuit)"
   ]
  },
  {
   "cell_type": "code",
   "execution_count": 7,
   "metadata": {
    "colab": {
     "base_uri": "https://localhost:8080/",
     "height": 340
    },
    "colab_type": "code",
    "id": "x1glnkkD9Ipc",
    "outputId": "255c1f59-3cdc-4dda-d84c-5f94a8d3556c"
   },
   "outputs": [
    {
     "data": {
      "image/png": "[encoded data removed]",
      "text/plain": [
       "<Figure size 504x360 with 1 Axes>"
      ]
     },
     "execution_count": 7,
     "metadata": {},
     "output_type": "execute_result"
    }
   ],
   "source": [
    "# Asigno el dispositivo en el cual voy a implementar mi circuito, en este caso,\n",
    "# voy a implementarlo en el 'qasm_simulator' \n",
    "backend1 = Aer.get_backend('qasm_simulator')\n",
    "\n",
    "# Defino la ejecución y le asigno la cantidad de veces que se va a ejecutar \n",
    "# circuito (1000 en este caso)\n",
    "job1 = execute(circuit, backend=backend1, shots=1000)\n",
    "\n",
    "# Guardo los resultados del experimento en una variable\n",
    "result1 = job1.result()\n",
    "\n",
    "# Creo un histograma con las distitas mediciones del experimento\n",
    "measurement1 = result1.get_counts(circuit)\n",
    "plot_histogram(measurement1)"
   ]
  },
  {
   "cell_type": "code",
   "execution_count": 8,
   "metadata": {
    "colab": {
     "base_uri": "https://localhost:8080/",
     "height": 88
    },
    "colab_type": "code",
    "id": "P4NJG5Yv9t_J",
    "outputId": "9ac6aefe-dbbd-42ff-d9e7-dcdebcea9834"
   },
   "outputs": [
    {
     "name": "stderr",
     "output_type": "stream",
     "text": [
      "configrc.store_credentials:WARNING:2020-09-21 20:58:56,846: Credentials already present. Set overwrite=True to overwrite.\n",
      "c:\\users\\agustin\\appdata\\local\\programs\\python\\python38\\lib\\site-packages\\qiskit\\providers\\ibmq\\ibmqfactory.py:192: UserWarning: Timestamps in IBMQ backend properties, jobs, and job results are all now in local time instead of UTC.\n",
      "  warnings.warn('Timestamps in IBMQ backend properties, jobs, and job results '\n"
     ]
    }
   ],
   "source": [
    "# Cargo mi cuenta de IBM para poder implementar el circuito en la computadora\n",
    "# cuántica provista por IBM\n",
    "#IBMQ.save_account(#'aquí deben poner el token que sacan de la cuenta de IBM')\n",
    "IBMQ.save_account('bc0221c2c435408a718744a0e3388325cd4241375e15beefb8909a759a28201db7c6a425e8d07e09e54105e373aceccb175fa8eb46700b4db88ac50dbdc6fa84')\n",
    "provider = IBMQ.load_account()"
   ]
  },
  {
   "cell_type": "code",
   "execution_count": 9,
   "metadata": {
    "colab": {},
    "colab_type": "code",
    "id": "30kzANOs-DSq"
   },
   "outputs": [
    {
     "data": {
      "image/png": "[encoded data removed]",
      "text/plain": [
       "<Figure size 504x360 with 1 Axes>"
      ]
     },
     "execution_count": 9,
     "metadata": {},
     "output_type": "execute_result"
    }
   ],
   "source": [
    "# Asigno el dispositivo en el cual voy a implementar mi circuito, en este caso,\n",
    "# voy a implementarlo en la computadora cuántica que esté menos ocupada\n",
    "backend2 = least_busy(provider.backends(filters=lambda b: b.configuration().n_qubits >= 3 and not b.configuration().simulator and b.status().operational==True))\n",
    "\n",
    "# Defino la ejecución y le asigno la cantidad de veces que se va a ejecutar \n",
    "# circuito (1000 en este caso)\n",
    "job2 = execute(circuit, backend=backend2, shots=1000)\n",
    "\n",
    "# Guardo los resultados del experimento en una variable\n",
    "result2 = job2.result()\n",
    "\n",
    "# Creo un histograma con las distitas mediciones del experimento\n",
    "measurement2 = result2.get_counts(circuit)\n",
    "plot_histogram(measurement2)"
   ]
  },
  {
   "cell_type": "markdown",
   "metadata": {},
   "source": [
    "Los resultados son interesantes y es adecuado hacer un análisis: si bien el comportamiento general de los sistemas es similar en ambos casos, podemos ver que en el caso del simulador vemos el estado del bit más significativo (mediciones del tercer qubit) es 1 en todos los casos. Esto ocurre ya que el estado que deseabamos transmitir era el |1>. Por lo tanto evidenciamos que la transmición es perfecta en el 100% de los casos.\n",
    "\n",
    "Sin embargo, en el caso que implementamos el circuito en una computadora cuántica real vemos casos en los cuales el bit más significativo es 0, los cual quiere decir que la transferencia falla. Esto ocurre ya que estamos trabajando con una computadora cuántica real con errores que se producen debido a problemas a la hora de aislar el sistema. Estos problemas técnicos producen la decoherencia del sistema y hacen que en algunos casos el circuito falle.\n",
    "\n",
    "Como conclusión, es interesante destacar como con pocas lineas de código podemos implementar facilmente un circuito en una computadora cuántica real y estudiar su comportamiento."
   ]
  },
  {
   "cell_type": "code",
   "execution_count": null,
   "metadata": {},
   "outputs": [],
   "source": []
  }
 ],
 "metadata": {
  "colab": {
   "collapsed_sections": [],
   "name": "ULP_teleportation.ipynb",
   "provenance": []
  },
  "kernelspec": {
   "display_name": "Python 3",
   "language": "python",
   "name": "python3"
  },
  "language_info": {
   "codemirror_mode": {
    "name": "ipython",
    "version": 3
   },
   "file_extension": ".py",
   "mimetype": "text/x-python",
   "name": "python",
   "nbconvert_exporter": "python",
   "pygments_lexer": "ipython3",
   "version": "3.8.3"
  }
 },
 "nbformat": 4,
 "nbformat_minor": 1
}
