{
  "nbformat": 4,
  "nbformat_minor": 0,
  "metadata": {
    "colab": {
      "name": "TP1_UNLP_Cuantica.ipynb",
      "provenance": []
    },
    "kernelspec": {
      "name": "python3",
      "display_name": "Python 3"
    }
  },
  "cells": [
    {
      "cell_type": "markdown",
      "metadata": {
        "id": "w025-hspsYf5"
      },
      "source": [
        "$$\\newcommand{\\ket}[1]{\\left|\\,{#1}\\,\\right\\rangle}\n",
        "\\newcommand{\\bra}[1]{\\left\\langle\\,{#1}\\,\\right|}\n",
        "\\newcommand{\\braket}[2]{\\left\\langle\\,{#1}\\,\\middle|\\,{#2}\\,\\right\\rangle}\n",
        "\\newcommand{\\mean}[1]{\\left\\langle\\,{#1}\\,\\right\\rangle}$$"
      ]
    },
    {
      "cell_type": "code",
      "metadata": {
        "id": "bxV6tfflpSVY",
        "outputId": "4088ec7c-13d9-4aba-fa27-7e8a95292208",
        "colab": {
          "base_uri": "https://localhost:8080/",
          "height": 85
        }
      },
      "source": [
        "! pip install qutip"
      ],
      "execution_count": 1,
      "outputs": [
        {
          "output_type": "stream",
          "text": [
            "Requirement already satisfied: qutip in /usr/local/lib/python3.6/dist-packages (4.5.2)\n",
            "Requirement already satisfied: numpy>=1.12 in /usr/local/lib/python3.6/dist-packages (from qutip) (1.18.5)\n",
            "Requirement already satisfied: scipy>=1.0 in /usr/local/lib/python3.6/dist-packages (from qutip) (1.4.1)\n",
            "Requirement already satisfied: cython>=0.21 in /usr/local/lib/python3.6/dist-packages (from qutip) (0.29.21)\n"
          ],
          "name": "stdout"
        }
      ]
    },
    {
      "cell_type": "code",
      "metadata": {
        "id": "uC95X5qCp8jf"
      },
      "source": [
        "import qutip as qt\n",
        "import numpy as np"
      ],
      "execution_count": 2,
      "outputs": []
    },
    {
      "cell_type": "code",
      "metadata": {
        "id": "tiploKYNux-v"
      },
      "source": [
        "ket0 = qt.basis(2,0)\n",
        "ket1 = qt.basis(2,1)\n",
        "\n",
        "ket00 = qt.tensor(ket0,ket0)\n",
        "ket01 = qt.tensor(ket0,ket1)\n",
        "ket10 = qt.tensor(ket1,ket0)\n",
        "ket11 = qt.tensor(ket1,ket1)"
      ],
      "execution_count": 3,
      "outputs": []
    },
    {
      "cell_type": "markdown",
      "metadata": {
        "id": "9du6IQszsP5r"
      },
      "source": [
        "**II.1** Para un sistema de dos qubits, escribir explı́citamente la matriz que representa a $\\rho_{AB}=\\ket{\\Phi_{AB}}\\bra{\\Phi_{AB}}$ en la base computacional $\\left\\{\\ket{00}, \\ket{01}, \\ket{10}, \\ket{11}\\right\\}$ para:\n",
        "$$a)\\,\\ket{\\Phi_{AB}}=\\frac{\\ket{00}\\pm\\ket{11}}{\\sqrt{2}}\\text{ ,     }\\,b)\\,\\ket{\\Psi_{AB}}=\\frac{\\ket{00}+\\ket{10}-\\ket{01}-\\ket{11}}{2}$$\n",
        "Verificar en todos los casos que los autovalores de $\\rho$ son $(1, 0, 0, 0)$."
      ]
    },
    {
      "cell_type": "code",
      "metadata": {
        "id": "1v8jc_xqsgw7",
        "outputId": "2d656d9f-ddcd-4d12-8c5c-ee796e509b4c",
        "colab": {
          "base_uri": "https://localhost:8080/",
          "height": 255
        }
      },
      "source": [
        "phi1 = (ket00+ket11)/np.sqrt(2)\n",
        "print(\"\\nEstado (|00>+|11>)/sqrt(2): {}\".format(phi1))\n",
        "rho1 = qt.ket2dm(phi1)\n",
        "print(\"Matriz densidad de (|00>+|11>)/sqrt(2): {}\".format(rho1))\n",
        "autov1, _ = rho1.eigenstates()\n",
        "print('Autovalores: {}'.format(np.round(autov1,2)))"
      ],
      "execution_count": 4,
      "outputs": [
        {
          "output_type": "stream",
          "text": [
            "\n",
            "Estado (|00>+|11>)/sqrt(2): Quantum object: dims = [[2, 2], [1, 1]], shape = (4, 1), type = ket\n",
            "Qobj data =\n",
            "[[0.70710678]\n",
            " [0.        ]\n",
            " [0.        ]\n",
            " [0.70710678]]\n",
            "Matriz densidad de (|00>+|11>)/sqrt(2): Quantum object: dims = [[2, 2], [2, 2]], shape = (4, 4), type = oper, isherm = True\n",
            "Qobj data =\n",
            "[[0.5 0.  0.  0.5]\n",
            " [0.  0.  0.  0. ]\n",
            " [0.  0.  0.  0. ]\n",
            " [0.5 0.  0.  0.5]]\n",
            "Autovalores: [0. 0. 0. 1.]\n"
          ],
          "name": "stdout"
        }
      ]
    },
    {
      "cell_type": "code",
      "metadata": {
        "id": "im0lnOcezHWA",
        "outputId": "c6122f0d-ecfa-4987-d3d0-4b4f1ae76c1d",
        "colab": {
          "base_uri": "https://localhost:8080/",
          "height": 255
        }
      },
      "source": [
        "phi2 = (ket00-ket11)/np.sqrt(2)\n",
        "print(\"\\nEstado (|00>-|11>)/sqrt(2): {}\".format(phi2))\n",
        "rho2 = qt.ket2dm(phi2)\n",
        "print(\"Matriz densidad de (|00>-|11>)/sqrt(2): {}\".format(rho2))\n",
        "autov2, _ = rho2.eigenstates()\n",
        "print('Autovalores: {}'.format(np.round(autov2,2)))\n"
      ],
      "execution_count": 5,
      "outputs": [
        {
          "output_type": "stream",
          "text": [
            "\n",
            "Estado (|00>-|11>)/sqrt(2): Quantum object: dims = [[2, 2], [1, 1]], shape = (4, 1), type = ket\n",
            "Qobj data =\n",
            "[[ 0.70710678]\n",
            " [ 0.        ]\n",
            " [ 0.        ]\n",
            " [-0.70710678]]\n",
            "Matriz densidad de (|00>-|11>)/sqrt(2): Quantum object: dims = [[2, 2], [2, 2]], shape = (4, 4), type = oper, isherm = True\n",
            "Qobj data =\n",
            "[[ 0.5  0.   0.  -0.5]\n",
            " [ 0.   0.   0.   0. ]\n",
            " [ 0.   0.   0.   0. ]\n",
            " [-0.5  0.   0.   0.5]]\n",
            "Autovalores: [0. 0. 0. 1.]\n"
          ],
          "name": "stdout"
        }
      ]
    },
    {
      "cell_type": "code",
      "metadata": {
        "id": "C20n_3oRzODb",
        "outputId": "738d3301-97fa-425d-a63c-db7279d20630",
        "colab": {
          "base_uri": "https://localhost:8080/",
          "height": 255
        }
      },
      "source": [
        "phi3 = (ket00-ket01+ket10-ket11)/2\n",
        "print(\"\\nEstado (|00>-|01>+|10>-|11>)/2: {}\".format(phi3))\n",
        "rho3 = qt.ket2dm(phi3)\n",
        "print(\"Matriz densidad de (|00>-|01>+|10>-|11>)/2: {}\".format(rho3))\n",
        "autov3, _ = rho3.eigenstates()\n",
        "print('Autovalores: {}'.format(np.round(autov3,2)))\n"
      ],
      "execution_count": 6,
      "outputs": [
        {
          "output_type": "stream",
          "text": [
            "\n",
            "Estado (|00>-|01>+|10>-|11>)/2: Quantum object: dims = [[2, 2], [1, 1]], shape = (4, 1), type = ket\n",
            "Qobj data =\n",
            "[[ 0.5]\n",
            " [-0.5]\n",
            " [ 0.5]\n",
            " [-0.5]]\n",
            "Matriz densidad de (|00>-|01>+|10>-|11>)/2: Quantum object: dims = [[2, 2], [2, 2]], shape = (4, 4), type = oper, isherm = True\n",
            "Qobj data =\n",
            "[[ 0.25 -0.25  0.25 -0.25]\n",
            " [-0.25  0.25 -0.25  0.25]\n",
            " [ 0.25 -0.25  0.25 -0.25]\n",
            " [-0.25  0.25 -0.25  0.25]]\n",
            "Autovalores: [-0. -0.  0.  1.]\n"
          ],
          "name": "stdout"
        }
      ]
    },
    {
      "cell_type": "markdown",
      "metadata": {
        "id": "PaodDfWtw_jY"
      },
      "source": [
        "**II.2** Hallar la matriz densidad reducida $\\rho_A = \\text{Tr}_B\\,\\rho_{AB}$ en todos los casos anteriores, y a partir de ella evaluar la entropı́a de entrelazamiento del estado."
      ]
    },
    {
      "cell_type": "code",
      "metadata": {
        "id": "xJF92x24z9AM",
        "outputId": "5cfd4d03-f558-4853-aaf2-406ec790a766",
        "colab": {
          "base_uri": "https://localhost:8080/",
          "height": 102
        }
      },
      "source": [
        "reducida10 = rho1.ptrace(0)\n",
        "reducida1 = rho1.ptrace(1)\n",
        "print(\"Traca parcial de (|00>+|11>)/sqrt(2): {}\".format(reducida1))\n",
        "entropia1 = qt.entropy_vn(reducida1,2)\n",
        "print(\"Entropía de (|00>+|11>)/sqrt(2): {}\".format(entropia1))"
      ],
      "execution_count": 7,
      "outputs": [
        {
          "output_type": "stream",
          "text": [
            "Traca parcial de (|00>+|11>)/sqrt(2): Quantum object: dims = [[2], [2]], shape = (2, 2), type = oper, isherm = True\n",
            "Qobj data =\n",
            "[[0.5 0. ]\n",
            " [0.  0.5]]\n",
            "Entropía de (|00>+|11>)/sqrt(2): 1.0\n"
          ],
          "name": "stdout"
        }
      ]
    },
    {
      "cell_type": "code",
      "metadata": {
        "id": "Y3yB9-nF0whf",
        "outputId": "47e1fdbe-eba7-4e33-af1e-5c2704bf05e5",
        "colab": {
          "base_uri": "https://localhost:8080/",
          "height": 102
        }
      },
      "source": [
        "reducida20 = rho2.ptrace(0)\n",
        "reducida2 = rho2.ptrace(1)\n",
        "print(\"Traca parcial de (|00>-|11>)/sqrt(2): {}\".format(reducida2))\n",
        "entropia2 = qt.entropy_vn(reducida2,2)\n",
        "print(\"Entropía de (|00>-|11>)/sqrt(2): {}\".format(entropia2))"
      ],
      "execution_count": 8,
      "outputs": [
        {
          "output_type": "stream",
          "text": [
            "Traca parcial de (|00>-|11>)/sqrt(2): Quantum object: dims = [[2], [2]], shape = (2, 2), type = oper, isherm = True\n",
            "Qobj data =\n",
            "[[0.5 0. ]\n",
            " [0.  0.5]]\n",
            "Entropía de (|00>-|11>)/sqrt(2): 1.0\n"
          ],
          "name": "stdout"
        }
      ]
    },
    {
      "cell_type": "code",
      "metadata": {
        "id": "eHJX3Hct0xda",
        "outputId": "436f8a2e-21f7-4aba-b9d9-8abaebc7e1f0",
        "colab": {
          "base_uri": "https://localhost:8080/",
          "height": 102
        }
      },
      "source": [
        "reducida30 = rho3.ptrace(0)\n",
        "reducida3 = rho3.ptrace(1)\n",
        "print(\"Traca parcial de (|00>-|01>+|10>-|11>)/2: {}\".format(reducida3))\n",
        "entropia3 = qt.entropy_vn(reducida3,2)\n",
        "print(\"Entropía de (|00>-|01>+|10>-|11>)/2: {}\".format(entropia3))"
      ],
      "execution_count": 9,
      "outputs": [
        {
          "output_type": "stream",
          "text": [
            "Traca parcial de (|00>-|01>+|10>-|11>)/2: Quantum object: dims = [[2], [2]], shape = (2, 2), type = oper, isherm = True\n",
            "Qobj data =\n",
            "[[ 0.5 -0.5]\n",
            " [-0.5  0.5]]\n",
            "Entropía de (|00>-|01>+|10>-|11>)/2: -0.0\n"
          ],
          "name": "stdout"
        }
      ]
    },
    {
      "cell_type": "markdown",
      "metadata": {
        "id": "cntqktVuyK_m"
      },
      "source": [
        "**II.3** Hallar la descomposición de Schmidt de los estados anteriores."
      ]
    },
    {
      "cell_type": "code",
      "metadata": {
        "id": "SbuyHREf2ob7",
        "outputId": "9af4e484-f81c-4f7b-e075-43cdaa6ded7c",
        "colab": {
          "base_uri": "https://localhost:8080/",
          "height": 272
        }
      },
      "source": [
        "sigmaA1, kA1 = reducida1.eigenstates()\n",
        "sigmaB1, kB1 = reducida10.eigenstates()\n",
        "sigmaK1 = np.sqrt(sigmaA1)\n",
        "n_schmidt1 = np.count_nonzero(sigmaA1)\n",
        "\n",
        "print(\"(|00>+|11>)/sqrt(2):\")\n",
        "print(\"     Ket_K A: \\n{} y \\n{}\".format(kA1[0][:], kA1[1][:]))\n",
        "print(\"     Ket_K B: \\n{} y \\n{}\".format(kB1[0][:], kB1[1][:]))\n",
        "print(\"     Sigma k: {}\".format(sigmaK1))\n",
        "print(\"     Sigma A: {}\".format(sigmaA1))\n",
        "print(\"     Sigma B: {}\".format(sigmaB1))\n",
        "print(\"     Número de Schmidt: {}\".format(n_schmidt1))"
      ],
      "execution_count": 10,
      "outputs": [
        {
          "output_type": "stream",
          "text": [
            "(|00>+|11>)/sqrt(2):\n",
            "     Ket_K A: \n",
            "[[-1.+0.j]\n",
            " [ 0.+0.j]] y \n",
            "[[0.+0.j]\n",
            " [1.+0.j]]\n",
            "     Ket_K B: \n",
            "[[-1.+0.j]\n",
            " [ 0.+0.j]] y \n",
            "[[0.+0.j]\n",
            " [1.+0.j]]\n",
            "     Sigma k: [0.70710678 0.70710678]\n",
            "     Sigma A: [0.5 0.5]\n",
            "     Sigma B: [0.5 0.5]\n",
            "     Número de Schmidt: 2\n"
          ],
          "name": "stdout"
        }
      ]
    },
    {
      "cell_type": "code",
      "metadata": {
        "id": "IClPo5SY7lrA",
        "outputId": "bad928ae-de35-49e6-fb7e-719bdfff933d",
        "colab": {
          "base_uri": "https://localhost:8080/",
          "height": 272
        }
      },
      "source": [
        "sigmaA2, kA2 = reducida2.eigenstates()\n",
        "sigmaB2, kB2 = reducida20.eigenstates()\n",
        "sigmaK2 = np.sqrt(sigmaA2)\n",
        "n_schmidt2 = np.count_nonzero(sigmaA2)\n",
        "\n",
        "print(\"(|00>-|11>)/sqrt(2):\")\n",
        "print(\"     Ket_K A: \\n{} y \\n{}\".format(kA2[0][:], kA2[1][:]))\n",
        "print(\"     Ket_K B: \\n{} y \\n{}\".format(kB2[0][:], kB2[1][:]))\n",
        "print(\"     Sigma k: {}\".format(sigmaK2))\n",
        "print(\"     Sigma A: {}\".format(sigmaA2))\n",
        "print(\"     Sigma B: {}\".format(sigmaB2))\n",
        "print(\"     Número de Schmidt: {}\".format(n_schmidt2))"
      ],
      "execution_count": 11,
      "outputs": [
        {
          "output_type": "stream",
          "text": [
            "(|00>-|11>)/sqrt(2):\n",
            "     Ket_K A: \n",
            "[[-1.+0.j]\n",
            " [ 0.+0.j]] y \n",
            "[[0.+0.j]\n",
            " [1.+0.j]]\n",
            "     Ket_K B: \n",
            "[[-1.+0.j]\n",
            " [ 0.+0.j]] y \n",
            "[[0.+0.j]\n",
            " [1.+0.j]]\n",
            "     Sigma k: [0.70710678 0.70710678]\n",
            "     Sigma A: [0.5 0.5]\n",
            "     Sigma B: [0.5 0.5]\n",
            "     Número de Schmidt: 2\n"
          ],
          "name": "stdout"
        }
      ]
    },
    {
      "cell_type": "code",
      "metadata": {
        "id": "dt5mbkF47_uV",
        "outputId": "9d170a1d-e2e0-4987-b840-0b298a3ada57",
        "colab": {
          "base_uri": "https://localhost:8080/",
          "height": 272
        }
      },
      "source": [
        "sigmaA3, kA3 = reducida3.eigenstates()\n",
        "sigmaB3, kB3 = reducida30.eigenstates()\n",
        "sigmaK3 = np.sqrt(sigmaA3)\n",
        "n_schmidt3 = np.count_nonzero(sigmaA3)\n",
        "\n",
        "print(\"(|00>-|01>+|10>-|11>)/2:\")\n",
        "print(\"     Ket_K A: \\n{} y \\n{}\".format(kA3[0][:], kA3[1][:]))\n",
        "print(\"     Ket_K B: \\n{} y \\n{}\".format(kB3[0][:], kB3[1][:]))\n",
        "print(\"     Sigma k: {}\".format(sigmaK3))\n",
        "print(\"     Sigma A: {}\".format(sigmaA3))\n",
        "print(\"     Sigma B: {}\".format(sigmaB3))\n",
        "print(\"     Número de Schmidt: {}\".format(n_schmidt3))"
      ],
      "execution_count": 12,
      "outputs": [
        {
          "output_type": "stream",
          "text": [
            "(|00>-|01>+|10>-|11>)/2:\n",
            "     Ket_K A: \n",
            "[[-0.70710678+0.j]\n",
            " [-0.70710678+0.j]] y \n",
            "[[-0.70710678+0.j]\n",
            " [ 0.70710678+0.j]]\n",
            "     Ket_K B: \n",
            "[[-0.70710678+0.j]\n",
            " [ 0.70710678+0.j]] y \n",
            "[[0.70710678+0.j]\n",
            " [0.70710678+0.j]]\n",
            "     Sigma k: [0. 1.]\n",
            "     Sigma A: [0. 1.]\n",
            "     Sigma B: [0. 1.]\n",
            "     Número de Schmidt: 1\n"
          ],
          "name": "stdout"
        }
      ]
    },
    {
      "cell_type": "markdown",
      "metadata": {
        "id": "UqGM6V5iyfkA"
      },
      "source": [
        "**II.4** Para $|\\alpha|^2+|\\beta|^2=1$, hallar la descomposición de Schmidt del estado\n",
        "$$\\ket{\\Psi_{AB}}=\\alpha\\,\\frac{\\ket{00}+\\ket{11}}{\\sqrt{2}}+\\beta\\,\\frac{\\ket{01}+\\ket{10}}{\\sqrt{2}}$$\n",
        "y a partir de ella indicar: a) cuándo el estado será separable, b) cuándo será entrelazado, y c) en qué caso el entrelazamiento será máximo."
      ]
    },
    {
      "cell_type": "code",
      "metadata": {
        "id": "EvTGemj5HKLL",
        "outputId": "9091af6b-fbd7-4ce0-8256-1d4dd9811b68",
        "colab": {
          "base_uri": "https://localhost:8080/",
          "height": 34
        }
      },
      "source": [
        "from sympy import Matrix, Trace\n",
        "from sympy.abc import a,b\n",
        "\n",
        "rho = Matrix([[a*a, b*a, b*a, a*a],[a*b, b*b, b*b, a*b],[a*b, b*b, b*b, a*b],[a*a, b*a, b*a, a*a]]) / 2\n",
        "print(\"Matriz densidad: {}\".format(rho))"
      ],
      "execution_count": 13,
      "outputs": [
        {
          "output_type": "stream",
          "text": [
            "Matriz densidad: Matrix([[a**2/2, a*b/2, a*b/2, a**2/2], [a*b/2, b**2/2, b**2/2, a*b/2], [a*b/2, b**2/2, b**2/2, a*b/2], [a**2/2, a*b/2, a*b/2, a**2/2]])\n"
          ],
          "name": "stdout"
        }
      ]
    },
    {
      "cell_type": "markdown",
      "metadata": {
        "id": "XsppIvYIzBbR"
      },
      "source": [
        "**II.5** a) Indicar en qué se diferencian el estado de Bell $\\ket{\\Psi_{AB}}=\\frac{\\ket{01}+\\ket{10}}{\\sqrt{2}}$ y el estado descripto por el operador densidad\n",
        "$$\\rho_{AB}=\\frac{1}{2}\\left(\\ket{01}\\bra{01}+\\ket{10}\\bra{10}\\right)$$\n",
        "b) Indicar si es posible distinguirlos mediante\n",
        "\n",
        "i) el valor medio de un observable local $O_A\\otimes I_B$.\n",
        "\n",
        "ii) el valor medio de un observable $O=O_A\\otimes O_B$"
      ]
    },
    {
      "cell_type": "code",
      "metadata": {
        "id": "udbC-VKxNLwp",
        "outputId": "e81eec51-a54e-4d34-8646-48af43727a31",
        "colab": {
          "base_uri": "https://localhost:8080/",
          "height": 306
        }
      },
      "source": [
        "phi_bell = (ket01+ket10)/np.sqrt(2)\n",
        "print(\"\\nEstado (|01>+|10>)/sqrt(2): {}\".format(phi_bell))\n",
        "rho_bell = qt.ket2dm(phi_bell)\n",
        "print(\"Matriz densidad de (|01>+|10>)/sqrt(2): {}\".format(rho_bell))\n",
        "reducida_bell = rho_bell.ptrace(1)\n",
        "print(\"Matriz reducida: {}\".format(reducida_bell))"
      ],
      "execution_count": 14,
      "outputs": [
        {
          "output_type": "stream",
          "text": [
            "\n",
            "Estado (|01>+|10>)/sqrt(2): Quantum object: dims = [[2, 2], [1, 1]], shape = (4, 1), type = ket\n",
            "Qobj data =\n",
            "[[0.        ]\n",
            " [0.70710678]\n",
            " [0.70710678]\n",
            " [0.        ]]\n",
            "Matriz densidad de (|01>+|10>)/sqrt(2): Quantum object: dims = [[2, 2], [2, 2]], shape = (4, 4), type = oper, isherm = True\n",
            "Qobj data =\n",
            "[[0.  0.  0.  0. ]\n",
            " [0.  0.5 0.5 0. ]\n",
            " [0.  0.5 0.5 0. ]\n",
            " [0.  0.  0.  0. ]]\n",
            "Matriz reducida: Quantum object: dims = [[2], [2]], shape = (2, 2), type = oper, isherm = True\n",
            "Qobj data =\n",
            "[[0.5 0. ]\n",
            " [0.  0.5]]\n"
          ],
          "name": "stdout"
        }
      ]
    },
    {
      "cell_type": "code",
      "metadata": {
        "id": "Ydy7QgIMNcv7",
        "outputId": "b13cccb1-89c5-46df-c0a2-2d432ebe1f75",
        "colab": {
          "base_uri": "https://localhost:8080/",
          "height": 187
        }
      },
      "source": [
        "rho_AB = (ket01*ket01.dag()+ket10*ket10.dag())/2\n",
        "print(\"Matriz densidad de (|01><01|+|10><10|)/2: {}\".format(rho_AB))\n",
        "reducida_AB = rho_AB.ptrace(1)\n",
        "print(\"Matriz reducida: {}\".format(reducida_AB))"
      ],
      "execution_count": 15,
      "outputs": [
        {
          "output_type": "stream",
          "text": [
            "Matriz densidad de (|01><01|+|10><10|)/2: Quantum object: dims = [[2, 2], [2, 2]], shape = (4, 4), type = oper, isherm = True\n",
            "Qobj data =\n",
            "[[0.  0.  0.  0. ]\n",
            " [0.  0.5 0.  0. ]\n",
            " [0.  0.  0.5 0. ]\n",
            " [0.  0.  0.  0. ]]\n",
            "Matriz reducida: Quantum object: dims = [[2], [2]], shape = (2, 2), type = oper, isherm = True\n",
            "Qobj data =\n",
            "[[0.5 0. ]\n",
            " [0.  0.5]]\n"
          ],
          "name": "stdout"
        }
      ]
    },
    {
      "cell_type": "code",
      "metadata": {
        "id": "ZapDqd1YOv6E",
        "outputId": "aad92a5e-0097-4b63-8b2c-16661823e6c8",
        "colab": {
          "base_uri": "https://localhost:8080/",
          "height": 51
        }
      },
      "source": [
        "operador = qt.tensor(qt.sigmay(), qt.sigmay())\n",
        "\n",
        "medicion_bell = (rho_bell*operador).tr()\n",
        "print('Matriz reducida de Bell: {}'.format(medicion_bell))\n",
        "\n",
        "medicion_AB = (rho_AB*operador).tr()\n",
        "print('Matriz reducida de AB: {}'.format(medicion_AB))"
      ],
      "execution_count": 16,
      "outputs": [
        {
          "output_type": "stream",
          "text": [
            "Matriz reducida de Bell: 0.9999999999999998\n",
            "Matriz reducida de AB: 0.0\n"
          ],
          "name": "stdout"
        }
      ]
    }
  ]
}