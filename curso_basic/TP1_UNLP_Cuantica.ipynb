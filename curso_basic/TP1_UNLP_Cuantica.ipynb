{
  "nbformat": 4,
  "nbformat_minor": 0,
  "metadata": {
    "colab": {
      "name": "TP1_UNLP_Cuantica.ipynb",
      "provenance": []
    },
    "kernelspec": {
      "name": "python3",
      "display_name": "Python 3"
    }
  },
  "cells": [
    {
      "cell_type": "code",
      "metadata": {
        "id": "bxV6tfflpSVY",
        "outputId": "2f046ab5-3792-4a18-91da-84ca8bcda887",
        "colab": {
          "base_uri": "https://localhost:8080/",
          "height": 85
        }
      },
      "source": [
        "! pip install qutip"
      ],
      "execution_count": null,
      "outputs": [
        {
          "output_type": "stream",
          "text": [
            "Requirement already satisfied: qutip in /usr/local/lib/python3.6/dist-packages (4.5.2)\n",
            "Requirement already satisfied: scipy>=1.0 in /usr/local/lib/python3.6/dist-packages (from qutip) (1.4.1)\n",
            "Requirement already satisfied: cython>=0.21 in /usr/local/lib/python3.6/dist-packages (from qutip) (0.29.21)\n",
            "Requirement already satisfied: numpy>=1.12 in /usr/local/lib/python3.6/dist-packages (from qutip) (1.18.5)\n"
          ],
          "name": "stdout"
        }
      ]
    },
    {
      "cell_type": "code",
      "metadata": {
        "id": "uC95X5qCp8jf"
      },
      "source": [
        "import qutip as qt\n",
        "import numpy as np\n",
        "import sympy as sp\n",
        "from scipy import linalg as la"
      ],
      "execution_count": null,
      "outputs": []
    },
    {
      "cell_type": "markdown",
      "metadata": {
        "id": "w025-hspsYf5"
      },
      "source": [
        "$$\\newcommand{\\ket}[1]{\\left|\\,{#1}\\,\\right\\rangle}\n",
        "\\newcommand{\\bra}[1]{\\left\\langle\\,{#1}\\,\\right|}\n",
        "\\newcommand{\\braket}[2]{\\left\\langle\\,{#1}\\,\\middle|\\,{#2}\\,\\right\\rangle}\n",
        "\\newcommand{\\mean}[1]{\\left\\langle\\,{#1}\\,\\right\\rangle}$$"
      ]
    },
    {
      "cell_type": "markdown",
      "metadata": {
        "id": "9du6IQszsP5r"
      },
      "source": [
        "**II.1** Para un sistema de dos qubits, escribir explı́citamente la matriz que representa a $\\rho_{AB}=\\ket{\\Phi_{AB}}\\bra{\\Phi_{AB}}$ en la base computacional $\\left\\{\\ket{00}, \\ket{01}, \\ket{10}, \\ket{11}\\right\\}$ para:\n",
        "$$a)\\,\\ket{\\Phi_{AB}}=\\frac{\\ket{00}\\pm\\ket{11}}{\\sqrt{2}}\\text{ ,     }\\,b)\\,\\ket{\\Psi_{AB}}=\\frac{\\ket{00}+\\ket{10}-\\ket{01}-\\ket{11}}{2}$$\n",
        "Verificar en todos los casos que los autovalores de $\\rho$ son $(1, 0, 0, 0)$."
      ]
    },
    {
      "cell_type": "code",
      "metadata": {
        "id": "9J1liGfQrOr6"
      },
      "source": [
        "st0 = qt.basis(2,0)\n",
        "st1 = qt.basis(2,1)\n",
        "\n",
        "st00 = qt.tensor(st0,st0)\n",
        "st01 = qt.tensor(st0,st1)\n",
        "st10 = qt.tensor(st1,st0)\n",
        "st11 = qt.tensor(st1,st1)"
      ],
      "execution_count": null,
      "outputs": []
    },
    {
      "cell_type": "code",
      "metadata": {
        "id": "1v8jc_xqsgw7",
        "outputId": "666f5125-9b14-4f5d-eab5-dc1a6509f4ae",
        "colab": {
          "base_uri": "https://localhost:8080/",
          "height": 680
        }
      },
      "source": [
        "phi_p = (st00+st11)/np.sqrt(2)\n",
        "phi_m = (st00-st11)/np.sqrt(2)\n",
        "psi = (st00+st10-st01-st11)/2\n",
        "\n",
        "rho_phi_p = qt.ket2dm(phi_p)\n",
        "rho_phi_m = qt.ket2dm(phi_m)\n",
        "rho_psi = qt.ket2dm(psi)\n",
        "\n",
        "print(\"\\nEstado (|00>+|11>)/sqrt(2): {}\".format(phi_p))\n",
        "print(\"Matriz densidad de (|00>+|11>)/sqrt(2): {}\".format(rho_phi_p))\n",
        "print(\"\\nEstado (|00>-|11>)/sqrt(2): {}\".format(phi_m))\n",
        "print(\"Matriz densidad de (|00>-|11>)/sqrt(2): {}\".format(rho_phi_m))\n",
        "print(\"\\nEstado (|00>+|01>+|10>+|11>)/2: {}\".format(psi))\n",
        "print(\"Matriz densidad de (|00>+|01>+|10>+|11>)/2: {}\".format(rho_psi))"
      ],
      "execution_count": null,
      "outputs": [
        {
          "output_type": "stream",
          "text": [
            "\n",
            "Estado (|00>+|11>)/sqrt(2): Quantum object: dims = [[2, 2], [1, 1]], shape = (4, 1), type = ket\n",
            "Qobj data =\n",
            "[[0.70710678]\n",
            " [0.        ]\n",
            " [0.        ]\n",
            " [0.70710678]]\n",
            "Matriz densidad de (|00>+|11>)/sqrt(2): Quantum object: dims = [[2, 2], [2, 2]], shape = (4, 4), type = oper, isherm = True\n",
            "Qobj data =\n",
            "[[0.5 0.  0.  0.5]\n",
            " [0.  0.  0.  0. ]\n",
            " [0.  0.  0.  0. ]\n",
            " [0.5 0.  0.  0.5]]\n",
            "\n",
            "Estado (|00>-|11>)/sqrt(2): Quantum object: dims = [[2, 2], [1, 1]], shape = (4, 1), type = ket\n",
            "Qobj data =\n",
            "[[ 0.70710678]\n",
            " [ 0.        ]\n",
            " [ 0.        ]\n",
            " [-0.70710678]]\n",
            "Matriz densidad de (|00>-|11>)/sqrt(2): Quantum object: dims = [[2, 2], [2, 2]], shape = (4, 4), type = oper, isherm = True\n",
            "Qobj data =\n",
            "[[ 0.5  0.   0.  -0.5]\n",
            " [ 0.   0.   0.   0. ]\n",
            " [ 0.   0.   0.   0. ]\n",
            " [-0.5  0.   0.   0.5]]\n",
            "\n",
            "Estado (|00>+|01>+|10>+|11>)/2: Quantum object: dims = [[2, 2], [1, 1]], shape = (4, 1), type = ket\n",
            "Qobj data =\n",
            "[[ 0.5]\n",
            " [-0.5]\n",
            " [ 0.5]\n",
            " [-0.5]]\n",
            "Matriz densidad de (|00>+|01>+|10>+|11>)/2: Quantum object: dims = [[2, 2], [2, 2]], shape = (4, 4), type = oper, isherm = True\n",
            "Qobj data =\n",
            "[[ 0.25 -0.25  0.25 -0.25]\n",
            " [-0.25  0.25 -0.25  0.25]\n",
            " [ 0.25 -0.25  0.25 -0.25]\n",
            " [-0.25  0.25 -0.25  0.25]]\n"
          ],
          "name": "stdout"
        }
      ]
    },
    {
      "cell_type": "code",
      "metadata": {
        "id": "lVPE1Uu4sjSw",
        "outputId": "932bcc3c-6326-43b1-e4ca-760d17fb6f76",
        "colab": {
          "base_uri": "https://localhost:8080/",
          "height": 68
        }
      },
      "source": [
        "avals_phi_p,_ = rho_phi_p.eigenstates()\n",
        "avals_phi_m,_ = rho_phi_m.eigenstates()\n",
        "avals_psi,_ = rho_psi.eigenstates()\n",
        "\n",
        "print('Autovalores de phi_p:',np.round(avals_phi_p,3))\n",
        "print('Autovalores de phi_m:',np.round(avals_phi_m,3))\n",
        "print('Autovalores de psi:',np.round(avals_psi,3))"
      ],
      "execution_count": null,
      "outputs": [
        {
          "output_type": "stream",
          "text": [
            "Autovalores de phi_p: [0. 0. 0. 1.]\n",
            "Autovalores de phi_m: [0. 0. 0. 1.]\n",
            "Autovalores de psi: [-0. -0.  0.  1.]\n"
          ],
          "name": "stdout"
        }
      ]
    },
    {
      "cell_type": "markdown",
      "metadata": {
        "id": "PaodDfWtw_jY"
      },
      "source": [
        "**II.2** Hallar la matriz densidad reducida $\\rho_A = \\text{Tr}_B\\,\\rho_{AB}$ en todos los casos anteriores, y a partir de ella evaluar la entropı́a de entrelazamiento del estado."
      ]
    },
    {
      "cell_type": "code",
      "metadata": {
        "id": "ZdUQNFRxsk3q",
        "outputId": "664a5644-fa2d-43d7-feec-ccbe16b403ca",
        "colab": {
          "base_uri": "https://localhost:8080/",
          "height": 221
        }
      },
      "source": [
        "rhoA_phi_p=rho_phi_p.ptrace(1)\n",
        "rhoA_phi_m=rho_phi_m.ptrace(1)\n",
        "rhoA_psi=rho_psi.ptrace(1)\n",
        "\n",
        "print(\"Traca parcial de (|00>+|11>)/sqrt(2): {}\".format(rhoA_phi_p))\n",
        "print(\"Traca parcial de (|00>-|11>)/sqrt(2): {}\".format(rhoA_phi_m))\n",
        "print(\"Traca parcial de (|00>+|01>+|10>+|11>)/2: {}\".format(rhoA_psi))"
      ],
      "execution_count": null,
      "outputs": [
        {
          "output_type": "stream",
          "text": [
            "Traca parcial de (|00>+|11>)/sqrt(2): Quantum object: dims = [[2], [2]], shape = (2, 2), type = oper, isherm = True\n",
            "Qobj data =\n",
            "[[0.5 0. ]\n",
            " [0.  0.5]]\n",
            "Traca parcial de (|00>-|11>)/sqrt(2): Quantum object: dims = [[2], [2]], shape = (2, 2), type = oper, isherm = True\n",
            "Qobj data =\n",
            "[[0.5 0. ]\n",
            " [0.  0.5]]\n",
            "Traca parcial de (|00>+|01>+|10>+|11>)/2: Quantum object: dims = [[2], [2]], shape = (2, 2), type = oper, isherm = True\n",
            "Qobj data =\n",
            "[[ 0.5 -0.5]\n",
            " [-0.5  0.5]]\n"
          ],
          "name": "stdout"
        }
      ]
    },
    {
      "cell_type": "code",
      "metadata": {
        "id": "isBDgwhGxCWZ",
        "outputId": "e969d0fe-09c1-48f5-ac3f-7d66e4625310",
        "colab": {
          "base_uri": "https://localhost:8080/",
          "height": 102
        }
      },
      "source": [
        "E_phi_p = -(rhoA_phi_p*la.logm(rhoA_phi_p)/np.log(2)).trace()\n",
        "E_phi_m = -(rhoA_phi_m*la.logm(rhoA_phi_m)/np.log(2)).trace()\n",
        "E_psi = -(rhoA_psi*la.logm(rhoA_psi)/np.log(2)).trace()\n",
        "\n",
        "print('Entropía de entrelazamiento de phi_p:',np.round(E_phi_p,3))\n",
        "print('Entropía de entrelazamiento de phi_m:',np.round(E_phi_m,3))\n",
        "print('Entropía de entrelazamiento de psi:',np.round(E_psi,3))"
      ],
      "execution_count": null,
      "outputs": [
        {
          "output_type": "stream",
          "text": [
            "Entropía de entrelazamiento de phi_p: (1-0j)\n",
            "Entropía de entrelazamiento de phi_m: (1-0j)\n",
            "Entropía de entrelazamiento de psi: (-0-0j)\n"
          ],
          "name": "stdout"
        },
        {
          "output_type": "stream",
          "text": [
            "/usr/local/lib/python3.6/dist-packages/scipy/linalg/_matfuncs_inv_ssq.py:838: LogmNearlySingularWarning: The logm input matrix may be nearly singular.\n",
            "  warnings.warn(near_singularity_msg, LogmNearlySingularWarning)\n"
          ],
          "name": "stderr"
        }
      ]
    },
    {
      "cell_type": "code",
      "metadata": {
        "id": "hdtMC5dUxorV",
        "outputId": "0bb530f8-38e6-43c5-907d-bcf245a51093",
        "colab": {
          "base_uri": "https://localhost:8080/",
          "height": 68
        }
      },
      "source": [
        "sigma2A_phi_p,_ = rhoA_phi_p.eigenstates()\n",
        "sigma2A_phi_m,_ = rhoA_phi_m.eigenstates()\n",
        "sigma2A_psi,_ = rhoA_psi.eigenstates()\n",
        "\n",
        "sigma2A_phi_p_nonzero = sigma2A_phi_p [sigma2A_phi_p != 0]\n",
        "sigma2A_phi_m_nonzero = sigma2A_phi_m [sigma2A_phi_m != 0]\n",
        "sigma2A_psi_nonzero = sigma2A_psi [sigma2A_psi != 0]\n",
        "\n",
        "E_phi_p = -np.sum(np.square(sigma2A_phi_p_nonzero)*np.log(np.square(sigma2A_phi_p_nonzero))/np.log(2))\n",
        "E_phi_m = -np.sum(np.square(sigma2A_phi_m_nonzero)*np.log(np.square(sigma2A_phi_m_nonzero))/np.log(2))\n",
        "E_psi = -np.sum(np.square(sigma2A_psi_nonzero)*np.log(np.square(sigma2A_psi_nonzero))/np.log(2))\n",
        "\n",
        "print('Entropía de entrelazamiento de phi_p:',np.round(E_phi_p,3))\n",
        "print('Entropía de entrelazamiento de phi_m:',np.round(E_phi_m,3))\n",
        "print('Entropía de entrelazamiento de psi:',np.round(E_psi,3))"
      ],
      "execution_count": null,
      "outputs": [
        {
          "output_type": "stream",
          "text": [
            "Entropía de entrelazamiento de phi_p: 1.0\n",
            "Entropía de entrelazamiento de phi_m: 1.0\n",
            "Entropía de entrelazamiento de psi: -0.0\n"
          ],
          "name": "stdout"
        }
      ]
    },
    {
      "cell_type": "code",
      "metadata": {
        "id": "KGXfxeQ3x-CM",
        "outputId": "0f8e68ff-9763-400f-89f6-3ceebc4a357b",
        "colab": {
          "base_uri": "https://localhost:8080/",
          "height": 68
        }
      },
      "source": [
        "E_phi_p = qt.entropy_vn(rhoA_phi_p,2)\n",
        "E_phi_m = qt.entropy_vn(rhoA_phi_m,2)\n",
        "E_psi = qt.entropy_vn(rhoA_psi,2)\n",
        "\n",
        "print('Entropía de entrelazamiento de phi_p:',np.round(E_phi_p,3))\n",
        "print('Entropía de entrelazamiento de phi_m:',np.round(E_phi_m,3))\n",
        "print('Entropía de entrelazamiento de psi:',np.round(E_psi,3))"
      ],
      "execution_count": null,
      "outputs": [
        {
          "output_type": "stream",
          "text": [
            "Entropía de entrelazamiento de phi_p: 1.0\n",
            "Entropía de entrelazamiento de phi_m: 1.0\n",
            "Entropía de entrelazamiento de psi: -0.0\n"
          ],
          "name": "stdout"
        }
      ]
    },
    {
      "cell_type": "markdown",
      "metadata": {
        "id": "cntqktVuyK_m"
      },
      "source": [
        "**II.3** Hallar la descomposición de Schmidt de los estados anteriores."
      ]
    },
    {
      "cell_type": "code",
      "metadata": {
        "id": "YaDs94npyG_j",
        "outputId": "4248d668-d833-4dba-d1f7-b25a97cd3762",
        "colab": {
          "base_uri": "https://localhost:8080/",
          "height": 1000
        }
      },
      "source": [
        "rhoB_phi_p=rho_phi_p.ptrace(0)\n",
        "rhoB_phi_m=rho_phi_m.ptrace(0)\n",
        "rhoB_psi=rho_psi.ptrace(0)\n",
        "\n",
        "print('Chequeo: los autovalores de rho_A y de rho_B deberían ser iguales.')\n",
        "\n",
        "sigma2A_phi_p,kA_phi_p = rhoA_phi_p.eigenstates()\n",
        "sigma2B_phi_p,kB_phi_p = rhoB_phi_p.eigenstates()\n",
        "print('phi_p:', np.round(sigma2A_phi_p,3), 'y', np.round(sigma2B_phi_p,3))\n",
        "\n",
        "sigma2A_phi_m,kA_phi_m = rhoA_phi_m.eigenstates()\n",
        "sigma2B_phi_m,kB_phi_m = rhoB_phi_m.eigenstates()\n",
        "print('phi_m:', np.round(sigma2A_phi_m,3), 'y', np.round(sigma2B_phi_m,3))\n",
        "\n",
        "sigma2A_psi,kA_psi = rhoA_psi.eigenstates()\n",
        "sigma2B_psi,kB_psi = rhoB_psi.eigenstates()\n",
        "print('psi:', np.round(sigma2A_psi,3), 'y', np.round(sigma2B_psi,3))\n",
        "\n",
        "print('')\n",
        "print('Entonces, el número de Schmidt n_s es:')\n",
        "print('phi_p:', np.count_nonzero(np.round(sigma2A_phi_p,10)))\n",
        "print('phi_m:', np.count_nonzero(np.round(sigma2A_phi_m,10)))\n",
        "print('psi:', np.count_nonzero(np.round(sigma2A_psi,10)))\n",
        "\n",
        "print('')\n",
        "print('Los valores de sigma_k son:')\n",
        "print('phi_p:', np.round(np.sqrt(sigma2A_phi_p),3))\n",
        "print('phi_m:', np.round(np.sqrt(sigma2A_phi_m),3))\n",
        "print('psi:', np.round(np.sqrt(sigma2A_psi),3))\n",
        "\n",
        "print('')\n",
        "print('Y sus correspondientes kets k:')\n",
        "print('- phi_p')\n",
        "print('Para el sistema A:')\n",
        "print(kA_phi_p)\n",
        "print('y para el sistema B:')\n",
        "print(kB_phi_p)\n",
        "print('')\n",
        "print('- phi_m')\n",
        "print('Para el sistema A:')\n",
        "print(kA_phi_m)\n",
        "print('y para el sistema B:')\n",
        "print(kB_phi_m)\n",
        "print('')\n",
        "print('- psi')\n",
        "print('Para el sistema A:')\n",
        "print(kA_psi)\n",
        "print('y para el sistema B:')\n",
        "print(kB_psi)"
      ],
      "execution_count": null,
      "outputs": [
        {
          "output_type": "stream",
          "text": [
            "Chequeo: los autovalores de rho_A y de rho_B deberían ser iguales.\n",
            "phi_p: [0.5 0.5] y [0.5 0.5]\n",
            "phi_m: [0.5 0.5] y [0.5 0.5]\n",
            "psi: [0. 1.] y [0. 1.]\n",
            "\n",
            "Entonces, el número de Schmidt n_s es:\n",
            "phi_p: 2\n",
            "phi_m: 2\n",
            "psi: 1\n",
            "\n",
            "Los valores de sigma_k son:\n",
            "phi_p: [0.707 0.707]\n",
            "phi_m: [0.707 0.707]\n",
            "psi: [0. 1.]\n",
            "\n",
            "Y sus correspondientes kets k:\n",
            "- phi_p\n",
            "Para el sistema A:\n",
            "[Quantum object: dims = [[2], [1]], shape = (2, 1), type = ket\n",
            "Qobj data =\n",
            "[[-1.]\n",
            " [ 0.]]\n",
            " Quantum object: dims = [[2], [1]], shape = (2, 1), type = ket\n",
            "Qobj data =\n",
            "[[0.]\n",
            " [1.]]]\n",
            "y para el sistema B:\n",
            "[Quantum object: dims = [[2], [1]], shape = (2, 1), type = ket\n",
            "Qobj data =\n",
            "[[-1.]\n",
            " [ 0.]]\n",
            " Quantum object: dims = [[2], [1]], shape = (2, 1), type = ket\n",
            "Qobj data =\n",
            "[[0.]\n",
            " [1.]]]\n",
            "\n",
            "- phi_m\n",
            "Para el sistema A:\n",
            "[Quantum object: dims = [[2], [1]], shape = (2, 1), type = ket\n",
            "Qobj data =\n",
            "[[-1.]\n",
            " [ 0.]]\n",
            " Quantum object: dims = [[2], [1]], shape = (2, 1), type = ket\n",
            "Qobj data =\n",
            "[[0.]\n",
            " [1.]]]\n",
            "y para el sistema B:\n",
            "[Quantum object: dims = [[2], [1]], shape = (2, 1), type = ket\n",
            "Qobj data =\n",
            "[[-1.]\n",
            " [ 0.]]\n",
            " Quantum object: dims = [[2], [1]], shape = (2, 1), type = ket\n",
            "Qobj data =\n",
            "[[0.]\n",
            " [1.]]]\n",
            "\n",
            "- psi\n",
            "Para el sistema A:\n",
            "[Quantum object: dims = [[2], [1]], shape = (2, 1), type = ket\n",
            "Qobj data =\n",
            "[[-0.70710678]\n",
            " [-0.70710678]]\n",
            " Quantum object: dims = [[2], [1]], shape = (2, 1), type = ket\n",
            "Qobj data =\n",
            "[[-0.70710678]\n",
            " [ 0.70710678]]]\n",
            "y para el sistema B:\n",
            "[Quantum object: dims = [[2], [1]], shape = (2, 1), type = ket\n",
            "Qobj data =\n",
            "[[-0.70710678]\n",
            " [ 0.70710678]]\n",
            " Quantum object: dims = [[2], [1]], shape = (2, 1), type = ket\n",
            "Qobj data =\n",
            "[[0.70710678]\n",
            " [0.70710678]]]\n"
          ],
          "name": "stdout"
        }
      ]
    },
    {
      "cell_type": "code",
      "metadata": {
        "id": "eefq3ol5yXIh",
        "outputId": "ac079808-8693-483d-d738-03fa9ebf14db",
        "colab": {
          "base_uri": "https://localhost:8080/",
          "height": 1000
        }
      },
      "source": [
        "C_phi_p = np.array([[1,0],[0,1]])/np.sqrt(2)\n",
        "C_phi_m = np.array([[1,0],[0,-1]])/np.sqrt(2)\n",
        "C_psi = np.array([[1,-1],[1,-1]])/2\n",
        "\n",
        "U_phi_p,sigma_phi_p,V_phi_p = np.linalg.svd(C_phi_p)\n",
        "U_phi_m,sigma_phi_m,V_phi_m = np.linalg.svd(C_phi_m)\n",
        "U_psi,sigma_psi,V_psi = np.linalg.svd(C_psi)\n",
        "\n",
        "kA_phi_p = qt.Qobj(U_phi_p)*[st0,st1]\n",
        "kB_phi_p = qt.Qobj(V_phi_p).conj()*[st0,st1]\n",
        "\n",
        "kA_phi_m = qt.Qobj(U_phi_m)*[st0,st1]\n",
        "kB_phi_m = qt.Qobj(V_phi_m).conj()*[st0,st1]\n",
        "\n",
        "kA_psi = qt.Qobj(U_psi)*[st0,st1]\n",
        "kB_psi = qt.Qobj(V_psi).conj()*[st0,st1]\n",
        "\n",
        "print('El número de Schmidt n_s es:')\n",
        "print('phi_p:', np.count_nonzero(np.round(sigma_phi_p,10)))\n",
        "print('phi_m:', np.count_nonzero(np.round(sigma_phi_m,10)))\n",
        "print('psi:', np.count_nonzero(np.round(sigma_psi,10)))\n",
        "\n",
        "print('')\n",
        "print('Los valores de sigma_k son:')\n",
        "print('phi_p:', np.round(sigma_phi_p,3))\n",
        "print('phi_m:', np.round(sigma_phi_m,3))\n",
        "print('psi:', np.round(sigma_psi,3))\n",
        "\n",
        "print('')\n",
        "print('Y sus correspondientes kets k:')\n",
        "print('- phi_p')\n",
        "print('Para el sistema A:')\n",
        "print(kA_phi_p)\n",
        "print('y para el sistema B:')\n",
        "print(kB_phi_p)\n",
        "print('')\n",
        "print('- phi_m')\n",
        "print('Para el sistema A:')\n",
        "print(kA_phi_m)\n",
        "print('y para el sistema B:')\n",
        "print(kB_phi_m)\n",
        "print('')\n",
        "print('- psi')\n",
        "print('Para el sistema A:')\n",
        "print(kA_psi)\n",
        "print('y para el sistema B:')\n",
        "print(kB_psi)"
      ],
      "execution_count": null,
      "outputs": [
        {
          "output_type": "stream",
          "text": [
            "El número de Schmidt n_s es:\n",
            "phi_p: 2\n",
            "phi_m: 2\n",
            "psi: 1\n",
            "\n",
            "Los valores de sigma_k son:\n",
            "phi_p: [0.707 0.707]\n",
            "phi_m: [0.707 0.707]\n",
            "psi: [1. 0.]\n",
            "\n",
            "Y sus correspondientes kets k:\n",
            "- phi_p\n",
            "Para el sistema A:\n",
            "[Quantum object: dims = [[2], [1]], shape = (2, 1), type = ket\n",
            "Qobj data =\n",
            "[[1.]\n",
            " [0.]]\n",
            " Quantum object: dims = [[2], [1]], shape = (2, 1), type = ket\n",
            "Qobj data =\n",
            "[[0.]\n",
            " [1.]]]\n",
            "y para el sistema B:\n",
            "[Quantum object: dims = [[2], [1]], shape = (2, 1), type = ket\n",
            "Qobj data =\n",
            "[[1.]\n",
            " [0.]]\n",
            " Quantum object: dims = [[2], [1]], shape = (2, 1), type = ket\n",
            "Qobj data =\n",
            "[[0.]\n",
            " [1.]]]\n",
            "\n",
            "- phi_m\n",
            "Para el sistema A:\n",
            "[Quantum object: dims = [[2], [1]], shape = (2, 1), type = ket\n",
            "Qobj data =\n",
            "[[1.]\n",
            " [0.]]\n",
            " Quantum object: dims = [[2], [1]], shape = (2, 1), type = ket\n",
            "Qobj data =\n",
            "[[0.]\n",
            " [1.]]]\n",
            "y para el sistema B:\n",
            "[Quantum object: dims = [[2], [1]], shape = (2, 1), type = ket\n",
            "Qobj data =\n",
            "[[1.]\n",
            " [0.]]\n",
            " Quantum object: dims = [[2], [1]], shape = (2, 1), type = ket\n",
            "Qobj data =\n",
            "[[ 0.]\n",
            " [-1.]]]\n",
            "\n",
            "- psi\n",
            "Para el sistema A:\n",
            "[Quantum object: dims = [[2], [1]], shape = (2, 1), type = ket\n",
            "Qobj data =\n",
            "[[-0.70710678]\n",
            " [-0.70710678]]\n",
            " Quantum object: dims = [[2], [1]], shape = (2, 1), type = ket\n",
            "Qobj data =\n",
            "[[-0.70710678]\n",
            " [ 0.70710678]]]\n",
            "y para el sistema B:\n",
            "[Quantum object: dims = [[2], [1]], shape = (2, 1), type = ket\n",
            "Qobj data =\n",
            "[[-0.70710678]\n",
            " [ 0.70710678]]\n",
            " Quantum object: dims = [[2], [1]], shape = (2, 1), type = ket\n",
            "Qobj data =\n",
            "[[0.70710678]\n",
            " [0.70710678]]]\n"
          ],
          "name": "stdout"
        }
      ]
    },
    {
      "cell_type": "markdown",
      "metadata": {
        "id": "UqGM6V5iyfkA"
      },
      "source": [
        "**II.4** Para $|\\alpha|^2+|\\beta|^2=1$, hallar la descomposición de Schmidt del estado\n",
        "$$\\ket{\\Psi_{AB}}=\\alpha\\,\\frac{\\ket{00}+\\ket{11}}{\\sqrt{2}}+\\beta\\,\\frac{\\ket{01}+\\ket{10}}{\\sqrt{2}}$$\n",
        "y a partir de ella indicar: a) cuándo el estado será separable, b) cuándo será entrelazado, y c) en qué caso el entrelazamiento será máximo."
      ]
    },
    {
      "cell_type": "code",
      "metadata": {
        "id": "GJ9GtVugybo6",
        "outputId": "ea1d2598-7017-46b8-8cfd-825de2ae9710",
        "colab": {
          "base_uri": "https://localhost:8080/",
          "height": 438
        }
      },
      "source": [
        "sp.init_printing(use_latex='mathjax')\n",
        "alpha, beta = sp.symbols('alpha,beta')\n",
        "C_psi=sp.Matrix([[alpha/sp.sqrt(2),beta/sp.sqrt(2)],[beta/sp.sqrt(2),alpha/sp.sqrt(2)]])\n",
        "CCd_psi=C_psi * C_psi.H # C * C daga\n",
        "CdC_psi=C_psi * C_psi.H # C daga * C\n",
        "\n",
        "CCd_diag = CCd_psi.diagonalize()\n",
        "CdC_diag = CdC_psi.diagonalize()\n",
        "\n",
        "U_psi = CCd_diag[0]/sp.sqrt(CCd_diag[0].norm()*CCd_diag[0].inv().norm()) # preguntar si esto vale siempre\n",
        "V_psi = CdC_diag[0]/sp.sqrt(CdC_diag[0].norm()*CdC_diag[0].inv().norm()) # (relación daga / inversa)\n",
        "\n",
        "kA_psi = qt.Qobj(np.array(U_psi))*[st0,st1]\n",
        "kB_psi = qt.Qobj(np.array(V_psi)).conj()*[st0,st1]\n",
        "\n",
        "avals_psi_U = CCd_diag[1]\n",
        "avals_psi_V = CdC_diag[1]\n",
        "print('Chequeo: la resta entre las matrices D^2 tiene que ser nula:', avals_psi_U-avals_psi_V)\n",
        "print('')\n",
        "print('Los kets k son:')\n",
        "print('Para el sistema A:')\n",
        "print(kA_psi)\n",
        "print('y para el sistema B:')\n",
        "print(kB_psi)\n",
        "print('')\n",
        "print('Y sus valores de sigma_k^2 son:')\n",
        "avals_psi_U.get_diag_blocks()"
      ],
      "execution_count": null,
      "outputs": [
        {
          "output_type": "stream",
          "text": [
            "Chequeo: la resta entre las matrices D^2 tiene que ser nula: Matrix([[0, 0], [0, 0]])\n",
            "\n",
            "Los kets k son:\n",
            "Para el sistema A:\n",
            "[Quantum object: dims = [[2], [1]], shape = (2, 1), type = ket\n",
            "Qobj data =\n",
            "[[-0.70710678]\n",
            " [ 0.70710678]]\n",
            " Quantum object: dims = [[2], [1]], shape = (2, 1), type = ket\n",
            "Qobj data =\n",
            "[[0.70710678]\n",
            " [0.70710678]]]\n",
            "y para el sistema B:\n",
            "[Quantum object: dims = [[2], [1]], shape = (2, 1), type = ket\n",
            "Qobj data =\n",
            "[[-0.70710678]\n",
            " [ 0.70710678]]\n",
            " Quantum object: dims = [[2], [1]], shape = (2, 1), type = ket\n",
            "Qobj data =\n",
            "[[0.70710678]\n",
            " [0.70710678]]]\n",
            "\n",
            "Y sus valores de sigma_k^2 son:\n"
          ],
          "name": "stdout"
        },
        {
          "output_type": "execute_result",
          "data": {
            "text/latex": "$\\displaystyle \\left[ \\left[\\begin{matrix}\\frac{\\alpha \\overline{\\alpha}}{2} - \\frac{\\alpha \\overline{\\beta}}{2} - \\frac{\\beta \\overline{\\alpha}}{2} + \\frac{\\beta \\overline{\\beta}}{2}\\end{matrix}\\right], \\  \\left[\\begin{matrix}\\frac{\\alpha \\overline{\\alpha}}{2} + \\frac{\\alpha \\overline{\\beta}}{2} + \\frac{\\beta \\overline{\\alpha}}{2} + \\frac{\\beta \\overline{\\beta}}{2}\\end{matrix}\\right]\\right]$",
            "text/plain": [
              "⎡⎡  _     _     _     _⎤  ⎡  _     _     _     _⎤⎤\n",
              "⎢⎢α⋅α   α⋅β   β⋅α   β⋅β⎥  ⎢α⋅α   α⋅β   β⋅α   β⋅β⎥⎥\n",
              "⎢⎢─── - ─── - ─── + ───⎥, ⎢─── + ─── + ─── + ───⎥⎥\n",
              "⎣⎣ 2     2     2     2 ⎦  ⎣ 2     2     2     2 ⎦⎦"
            ]
          },
          "metadata": {
            "tags": []
          },
          "execution_count": 12
        }
      ]
    },
    {
      "cell_type": "markdown",
      "metadata": {
        "id": "XsppIvYIzBbR"
      },
      "source": [
        "**II.5** a) Indicar en qué se diferencian el estado de Bell $\\ket{\\Psi_{AB}}=\\frac{\\ket{01}+\\ket{10}}{\\sqrt{2}}$ y el estado descripto por el operador densidad\n",
        "$$\\rho_{AB}=\\frac{1}{2}\\left(\\ket{01}\\bra{01}+\\ket{10}\\bra{10}\\right)$$\n",
        "b) Indicar si es posible distinguirlos mediante\n",
        "\n",
        "i) el valor medio de un observable local $O_A\\otimes I_B$.\n",
        "\n",
        "ii) el valor medio de un observable $O=O_A\\otimes O_B$"
      ]
    },
    {
      "cell_type": "code",
      "metadata": {
        "id": "XTdwPbuvyimH",
        "outputId": "6b8b7ab6-4d8b-40dc-f961-106502fdc896",
        "colab": {
          "base_uri": "https://localhost:8080/",
          "height": 54
        }
      },
      "source": [
        "chi_AB = qt.ket2dm((st01+st10)/np.sqrt(2))\n",
        "chi_AB"
      ],
      "execution_count": null,
      "outputs": [
        {
          "output_type": "execute_result",
          "data": {
            "text/latex": "Quantum object: dims = [[2, 2], [2, 2]], shape = (4, 4), type = oper, isherm = True\\begin{equation*}\\left(\\begin{array}{*{11}c}0.0 & 0.0 & 0.0 & 0.0\\\\0.0 & 0.500 & 0.500 & 0.0\\\\0.0 & 0.500 & 0.500 & 0.0\\\\0.0 & 0.0 & 0.0 & 0.0\\\\\\end{array}\\right)\\end{equation*}",
            "text/plain": [
              "Quantum object: dims = [[2, 2], [2, 2]], shape = (4, 4), type = oper, isherm = True\n",
              "Qobj data =\n",
              "[[0.  0.  0.  0. ]\n",
              " [0.  0.5 0.5 0. ]\n",
              " [0.  0.5 0.5 0. ]\n",
              " [0.  0.  0.  0. ]]"
            ]
          },
          "metadata": {
            "tags": []
          },
          "execution_count": 13
        }
      ]
    },
    {
      "cell_type": "code",
      "metadata": {
        "id": "qpA8Xdy4y_vR",
        "outputId": "89557bee-831c-45ad-88cc-db594270e1d8",
        "colab": {
          "base_uri": "https://localhost:8080/",
          "height": 71
        }
      },
      "source": [
        "rho_AB = (st01*st01.dag()+st10*st10.dag())/2\n",
        "rho_A = rho_AB.ptrace(1)\n",
        "chi_A = chi_AB.ptrace(1)\n",
        "print('La resta entre sus densidades locales es:')\n",
        "rho_A-chi_A"
      ],
      "execution_count": null,
      "outputs": [
        {
          "output_type": "stream",
          "text": [
            "La resta entre sus densidades locales es:\n"
          ],
          "name": "stdout"
        },
        {
          "output_type": "execute_result",
          "data": {
            "text/latex": "Quantum object: dims = [[2], [2]], shape = (2, 2), type = oper, isherm = True\\begin{equation*}\\left(\\begin{array}{*{11}c}0.0 & 0.0\\\\0.0 & 0.0\\\\\\end{array}\\right)\\end{equation*}",
            "text/plain": [
              "Quantum object: dims = [[2], [2]], shape = (2, 2), type = oper, isherm = True\n",
              "Qobj data =\n",
              "[[0. 0.]\n",
              " [0. 0.]]"
            ]
          },
          "metadata": {
            "tags": []
          },
          "execution_count": 14
        }
      ]
    },
    {
      "cell_type": "code",
      "metadata": {
        "id": "JcltikttzFHa",
        "outputId": "ee2541c1-f63c-487a-edac-3e00f4c0314b",
        "colab": {
          "base_uri": "https://localhost:8080/",
          "height": 51
        }
      },
      "source": [
        "O_AB = qt.tensor(qt.sigmax(),qt.sigmax())\n",
        "res_rho = (rho_AB*O_AB).tr()\n",
        "res_chi = (chi_AB*O_AB).tr()\n",
        "print('Resultado con rho: ',res_rho)\n",
        "print('Resultado con chi: ',res_chi)"
      ],
      "execution_count": null,
      "outputs": [
        {
          "output_type": "stream",
          "text": [
            "Resultado con rho:  0.0\n",
            "Resultado con chi:  0.9999999999999998\n"
          ],
          "name": "stdout"
        }
      ]
    },
    {
      "cell_type": "code",
      "metadata": {
        "id": "3ruepmoOzG27"
      },
      "source": [
        ""
      ],
      "execution_count": null,
      "outputs": []
    }
  ]
}