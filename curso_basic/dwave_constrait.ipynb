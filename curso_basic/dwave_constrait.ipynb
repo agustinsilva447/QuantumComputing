{
  "nbformat": 4,
  "nbformat_minor": 0,
  "metadata": {
    "colab": {
      "name": "dwave-constrait.ipynb",
      "provenance": [],
      "collapsed_sections": []
    },
    "kernelspec": {
      "name": "python3",
      "display_name": "Python 3"
    }
  },
  "cells": [
    {
      "cell_type": "code",
      "metadata": {
        "id": "rbQ6o2SZfxoX",
        "colab_type": "code",
        "colab": {}
      },
      "source": [
        "import dwavebinarycsp\n",
        "from dwave.system.samplers import DWaveSampler\n",
        "from dwave.system.composites import EmbeddingComposite"
      ],
      "execution_count": 0,
      "outputs": []
    },
    {
      "cell_type": "code",
      "metadata": {
        "id": "e6xVqP83gGSM",
        "colab_type": "code",
        "colab": {}
      },
      "source": [
        "sampler = EmbeddingComposite(DWaveSampler())\n",
        "\n",
        "def scheduling(time, location, length, mandatory):\n",
        "    if time: \n",
        "        return (location and mandatory)\n",
        "    else:\n",
        "        return ((not location) and mandatory)\n",
        "\n",
        "csp = dwavebinarycsp.ConstraintSatisfactionProblem(dwavebinarycsp.BINARY)\n",
        "csp.add_constraint(scheduling, ['time', 'location', 'length', 'mandatory'])"
      ],
      "execution_count": 0,
      "outputs": []
    },
    {
      "cell_type": "code",
      "metadata": {
        "id": "MiB-KQ4DgIuI",
        "colab_type": "code",
        "colab": {}
      },
      "source": [
        "bqm = dwavebinarycsp.stitch(csp)\n",
        "response = sampler.sample(bqm, num_reads = 5000)\n",
        "min_energy = next(response.data(['energy']))[0]\n",
        "\n",
        "print(bqm.linear)\n",
        "print(bqm.quadratic)\n",
        "print(response)"
      ],
      "execution_count": 0,
      "outputs": []
    },
    {
      "cell_type": "code",
      "metadata": {
        "id": "UxJj14wigR-d",
        "colab_type": "code",
        "colab": {}
      },
      "source": [
        "total = 0\n",
        "for sample, energy, occurences in response.data(['sample', 'energy', 'num_occurrences']):\n",
        "    total = total + occurences\n",
        "    if energy == min_energy:\n",
        "        time = 'business hours' if sample['time'] else 'evenings'\n",
        "        location = 'office' if sample['location'] else 'home'\n",
        "        length = 'short' if sample['length'] else 'long'\n",
        "        mandatory = 'mandatory' if sample['mandatory'] else 'optional'\n",
        "        print(\"{}: During {} at {}, you can schedule a {} meeting that is {}\"\n",
        "                .format(occurences, time, location, length, mandatory))"
      ],
      "execution_count": 0,
      "outputs": []
    }
  ]
}