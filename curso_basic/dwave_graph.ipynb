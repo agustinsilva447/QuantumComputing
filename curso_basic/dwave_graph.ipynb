{
  "nbformat": 4,
  "nbformat_minor": 0,
  "metadata": {
    "colab": {
      "name": "dwave - graph.ipynb",
      "provenance": [],
      "collapsed_sections": []
    },
    "kernelspec": {
      "name": "python3",
      "display_name": "Python 3"
    }
  },
  "cells": [
    {
      "cell_type": "code",
      "metadata": {
        "id": "Ec5j2ICbQPO9",
        "colab_type": "code",
        "colab": {}
      },
      "source": [
        "!pip install dwave-ocean-sdk"
      ],
      "execution_count": 0,
      "outputs": []
    },
    {
      "cell_type": "code",
      "metadata": {
        "id": "vPtTL0FhQWgC",
        "colab_type": "code",
        "colab": {}
      },
      "source": [
        "!dwave config create"
      ],
      "execution_count": 0,
      "outputs": []
    },
    {
      "cell_type": "code",
      "metadata": {
        "id": "ocl_JG6_QkSD",
        "colab_type": "code",
        "colab": {}
      },
      "source": [
        "import networkx as nx\n",
        "import dwave_networkx as dnx\n",
        "from dwave.system.samplers import DWaveSampler\n",
        "from dwave.system.composites import EmbeddingComposite\n",
        "from dimod.reference.samplers import ExactSolver"
      ],
      "execution_count": 0,
      "outputs": []
    },
    {
      "cell_type": "code",
      "metadata": {
        "id": "BH6uFhCrTNKF",
        "colab_type": "code",
        "colab": {}
      },
      "source": [
        "# create a graph\n",
        "s5 = nx.star_graph(50)\n",
        "\n",
        "# Solve on a qpu\n",
        "sampler = EmbeddingComposite(DWaveSampler())\n",
        "print(dnx.min_vertex_cover(s5, sampler))\n",
        "\n",
        "# Solve on a Classical Computer\n",
        "sampler = ExactSolver()\n",
        "print(dnx.min_vertex_cover(s5, sampler))"
      ],
      "execution_count": 0,
      "outputs": []
    }
  ]
}