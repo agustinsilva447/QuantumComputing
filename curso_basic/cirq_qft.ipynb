{
  "nbformat": 4,
  "nbformat_minor": 0,
  "metadata": {
    "colab": {
      "name": "cirq-qft.ipynb",
      "provenance": []
    },
    "kernelspec": {
      "name": "python3",
      "display_name": "Python 3"
    }
  },
  "cells": [
    {
      "cell_type": "code",
      "metadata": {
        "id": "r6t6iDQPhX-V",
        "colab_type": "code",
        "colab": {}
      },
      "source": [
        "!pip install cirq"
      ],
      "execution_count": 0,
      "outputs": []
    },
    {
      "cell_type": "code",
      "metadata": {
        "id": "vEWoOdbRgwHf",
        "colab_type": "code",
        "colab": {}
      },
      "source": [
        "import numpy as np\n",
        "import cirq"
      ],
      "execution_count": 0,
      "outputs": []
    },
    {
      "cell_type": "code",
      "metadata": {
        "id": "dT15FFwThRPW",
        "colab_type": "code",
        "colab": {}
      },
      "source": [
        "def cz_swap(q0, q1, rot):\n",
        "    yield cirq.CZ(q0, q1)**rot\n",
        "    yield cirq.SWAP(q0, q1)"
      ],
      "execution_count": 0,
      "outputs": []
    },
    {
      "cell_type": "code",
      "metadata": {
        "id": "k7w6zcvEhUNJ",
        "colab_type": "code",
        "colab": {}
      },
      "source": [
        "def generate_2x2_grid():\n",
        "    a,b,c,d = [cirq.GridQubit(0,0), cirq.GridQubit(0,1), cirq.GridQubit(1,1),\n",
        "                cirq.GridQubit(1,0)]\n",
        "    circuit = cirq.Circuit(\n",
        "        cirq.H(a),\n",
        "        cz_swap(a, b, 0.5),\n",
        "        cz_swap(b, c, 0.25),\n",
        "        cz_swap(c, d, 0.125),\n",
        "        cirq.H(a),\n",
        "        cz_swap(a, b, 0.5),\n",
        "        cz_swap(b, c, 0.25),\n",
        "        cirq.H(a),\n",
        "        cz_swap(a, b, 0.5),\n",
        "        cirq.H(a),\n",
        "        strategy=cirq.InsertStrategy.EARLIEST\n",
        "    )\n",
        "    return circuit"
      ],
      "execution_count": 0,
      "outputs": []
    },
    {
      "cell_type": "code",
      "metadata": {
        "id": "ibPhX_1khaGX",
        "colab_type": "code",
        "colab": {
          "base_uri": "https://localhost:8080/",
          "height": 221
        },
        "outputId": "0da3adea-d58c-4bd5-f3c6-74bc2ca9eab0"
      },
      "source": [
        "qft_circuit = generate_2x2_grid()\n",
        "print(\"Circuit:\")\n",
        "print(qft_circuit)\n",
        "\n",
        "# creating a simulator\n",
        "simulator = cirq.Simulator()\n",
        "\n",
        "# pass in the circuit and print the result\n",
        "result = simulator.simulate(qft_circuit)\n",
        "print()\n",
        "print(\"Final State:\")\n",
        "print(np.around(result.final_state, 3))"
      ],
      "execution_count": 10,
      "outputs": [
        {
          "output_type": "stream",
          "text": [
            "Circuit:\n",
            "(0, 0): ───H───@───────×───H────────────@─────────×───H────────────@───────×───H───\n",
            "               │       │                │         │                │       │\n",
            "(0, 1): ───────@^0.5───×───@────────×───@^0.5─────×───@────────×───@^0.5───×───────\n",
            "                           │        │                 │        │\n",
            "(1, 0): ───────────────────┼────────┼───@─────────×───┼────────┼───────────────────\n",
            "                           │        │   │         │   │        │\n",
            "(1, 1): ───────────────────@^0.25───×───@^(1/8)───×───@^0.25───×───────────────────\n",
            "\n",
            "Final State:\n",
            "[0.25+0.j 0.25+0.j 0.25+0.j 0.25+0.j 0.25+0.j 0.25+0.j 0.25+0.j 0.25+0.j\n",
            " 0.25+0.j 0.25+0.j 0.25+0.j 0.25+0.j 0.25+0.j 0.25+0.j 0.25+0.j 0.25+0.j]\n"
          ],
          "name": "stdout"
        }
      ]
    },
    {
      "cell_type": "code",
      "metadata": {
        "id": "n-sVlwCihlqH",
        "colab_type": "code",
        "colab": {}
      },
      "source": [
        ""
      ],
      "execution_count": 0,
      "outputs": []
    }
  ]
}