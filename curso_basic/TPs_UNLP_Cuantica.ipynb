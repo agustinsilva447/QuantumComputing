{
  "nbformat": 4,
  "nbformat_minor": 0,
  "metadata": {
    "colab": {
      "name": "TP1_UNLP_Cuantica.ipynb",
      "provenance": []
    },
    "kernelspec": {
      "name": "python3",
      "display_name": "Python 3"
    }
  },
  "cells": [
    {
      "cell_type": "markdown",
      "metadata": {
        "id": "w025-hspsYf5"
      },
      "source": [
        "$$\n",
        "\\newcommand{\\ket}[1]{\\left|\\,{#1}\\,\\right\\rangle}\n",
        "\\newcommand{\\bra}[1]{\\left\\langle\\,{#1}\\,\\right|}\n",
        "\\newcommand{\\braket}[2]{\\left\\langle\\,{#1}\\,\\middle|\\,{#2}\\,\\right\\rangle}\n",
        "\\newcommand{\\mean}[1]{\\left\\langle\\,{#1}\\,\\right\\rangle}\n",
        "$$"
      ]
    },
    {
      "cell_type": "markdown",
      "metadata": {
        "id": "bptOK3eYPGJd"
      },
      "source": [
        "# Teoría de la Información Cuántica"
      ]
    },
    {
      "cell_type": "markdown",
      "metadata": {
        "id": "Rdb2-WepPLGB"
      },
      "source": [
        "## Trabajo Práctico Número 1"
      ]
    },
    {
      "cell_type": "markdown",
      "metadata": {
        "id": "LSNQ6G35O-_p"
      },
      "source": [
        "### Ejercicio 1"
      ]
    },
    {
      "cell_type": "markdown",
      "metadata": {
        "id": "g4PcRKKfqxZh"
      },
      "source": [
        "#### **I.1** \n",
        "\n",
        "Demostrar que un operador densidad $\\rho$ describe un estado puro sii $\\rho^2=\\rho$."
      ]
    },
    {
      "cell_type": "markdown",
      "metadata": {
        "id": "EZB2PRog8X0I"
      },
      "source": [
        "Solución:\n",
        "\n",
        "Ida\n",
        "\n",
        "$\\rho = \\ket{\\psi} \\bra{\\psi} \\mapsto$ \n",
        "\n",
        "$\\rho^2 = \\rho * \\rho = \\ket{\\psi} \\bra{\\psi} \\ket{\\psi} \\bra{\\psi} = \\ket{\\psi} \\bra{\\psi} = \\rho$\n",
        "\n",
        "Vuelta\n",
        "\n",
        "$\\rho = \\Sigma_{i} p_{i}\\ket{i} \\bra{i} \\mapsto$ \n",
        "\n",
        "$\\rho^2 = (\\Sigma_{i} p_{i}\\ket{i} \\bra{i})^2 = \\Sigma_{i,j}p_{i}p_{i}\\ket{i} \\bra{i}\\ket{j} \\bra{j} = \\Sigma_{i}p_{i}^2 \\ket{i}* \\delta_{ij} * \\bra{j} = \\Sigma_{i}p_{i}^2 \\ket{i}\\bra{i}$\n",
        "\n",
        "Entonces\n",
        "\n",
        "$\\rho = \\rho^2$\n",
        "\n",
        "$\\Sigma_{i} p_{i}\\ket{i} \\bra{i} = \\Sigma_{i}p_{i}^2 \\ket{i}\\bra{i}$ sii $p_{i}=1 \\mapsto$ estado puro "
      ]
    },
    {
      "cell_type": "markdown",
      "metadata": {
        "id": "LV79sl60q1jg"
      },
      "source": [
        "#### **I.2** \n",
        "\n",
        "Mostrar que si $\\rho_i$, $i=1,...,m$, son operadores densidad, entonces\n",
        "$$\\rho=\\sum\\limits_{i=1}^mp_i\\rho_i\\text{, }\\hspace{5pt}p_i\\geq0\\text{, }\\hspace{5pt}\\sum\\limits_{i=1}^mp_i=1\\text{,}$$\n",
        "es también un operador densidad. Esto muestra que el conjunto de operadores de densidad para un dado sistema es un conjunto convexo."
      ]
    },
    {
      "cell_type": "markdown",
      "metadata": {
        "id": "8i7FXEQmAQBH"
      },
      "source": [
        "Solución:\n",
        "\n",
        "$\\rho^{'} = \\Sigma _{i} p_{i} \\rho_{i} = \\Sigma_{i}p_{i}(\\Sigma_{j}p_{j}\\ket{j} \\bra{j}) = \\Sigma_{j}(\\Sigma_{j}p_{i}p_{j})\\ket{j} \\bra{j} = \\Sigma_{j}q_{j}\\ket{j} \\bra{j}$ (operador)\n",
        "\n",
        "$\\Sigma_{j}q_{j} = \\Sigma_{i,j}p_{i}p_{j} = \\Sigma_{i}p_{i}\\Sigma_{j}p_{j} = 1$ (normalizado)"
      ]
    },
    {
      "cell_type": "markdown",
      "metadata": {
        "id": "EzPUYZCdq6qf"
      },
      "source": [
        "#### **I.3** \n",
        "\n",
        "Mostrar que $\\rho=p\\ket{0}\\bra{0}+(1-p)\\ket{1}\\bra{1}$, con $p\\in(1/2,1)$, puede ser escrito como $$\\rho=q\\ket{\\alpha}\\bra{\\alpha}+(1-q)\\ket{\\beta}\\bra{\\beta}$$\n",
        "con $q\\in[1-p,p]$ arbitrario y $\\ket{\\alpha}$, $\\ket{\\beta}$ estados normalizados. Determine $\\ket{\\alpha}$ y $\\ket{\\beta}$ e interprete ambas representaciones."
      ]
    },
    {
      "cell_type": "markdown",
      "metadata": {
        "id": "wqeN8gK8C1lf"
      },
      "source": [
        "Solución:\n",
        "\n",
        "$\\left.\\begin{matrix}\n",
        "\\sqrt{p}\\ket{\\alpha} = u_{1,1}\\sqrt{p'}\\ket{0} + u_{1,2}\\sqrt{1-p'}\\ket{1}\\\\ \n",
        "\\sqrt{1-p}\\ket{\\beta} = u_{2,1}\\sqrt{p'}\\ket{0} + u_{2,2}\\sqrt{1-p'}\\ket{1}\n",
        "\\end{matrix}\\right\\} q = \\Sigma_{j,k}u_{j,k}.u_{j,k}*.\\sqrt{p_{j}}\\sqrt{p_{k}}.\\delta_{j,k} = \\Sigma|u_{j,k}|^2p_{j}$\n"
      ]
    },
    {
      "cell_type": "markdown",
      "metadata": {
        "id": "gnPUPhjSq_eH"
      },
      "source": [
        "#### **I.4** \n",
        "\n",
        "Mostrar que la matriz densidad más general para un qubit puede escribirse como \n",
        "$$\\rho=\\frac{1}{2}\\left(I+\\vec{r}\\cdot\\vec{\\sigma}\\right)$$\n",
        "donde $\\vec{r}=\\left(r_x,r_y,r_z\\right)$ es un vector arbitrario con $|\\vec{r}|\\leq 1$, y $\\vec{\\sigma}=(X,Y,Z)\\equiv(\\sigma_x,\\sigma_y,\\sigma_z)$ las matrices de Pauli. Determine los autovalores de $\\rho$ e indiquide en qué casos $\\rho$ representa un estado puro. Exprese también $\\vec{r}$ en términos de $\\mean{\\sigma}=$ Tr $\\rho\\vec{\\sigma}$."
      ]
    },
    {
      "cell_type": "markdown",
      "metadata": {
        "id": "FaDm42LnFSNZ"
      },
      "source": [
        "Solución:\n",
        "\n",
        "Estado puro $\\Rightarrow \\rho=\\begin{pmatrix}\n",
        "\\alpha & \\beta\\\\ \n",
        "\\gamma & \\delta\n",
        "\\end{pmatrix} ; \\alpha+\\delta=1$\n",
        "\n",
        "$\\left.\\begin{matrix}\n",
        "\\delta = \\frac{\\delta}{2}+\\frac{\\delta}{2} = \\frac{\\delta}{2}+\\frac{\\delta}{2}+\\frac{\\alpha}{2}-\\frac{\\alpha}{2} = \\frac{\\alpha+\\delta}{2}-\\frac{\\alpha-\\delta}{2} = \\frac{1}{2}-\\frac{\\alpha-\\delta}{2}\\\\\n",
        "\\alpha = \\frac{\\alpha}{2}+\\frac{\\alpha}{2} = \\frac{\\alpha}{2}+\\frac{\\alpha}{2}+\\frac{\\delta}{2}-\\frac{\\delta}{2} = \\frac{\\alpha+\\delta}{2}+\\frac{\\alpha-\\delta}{2} = \\frac{1}{2}+\\frac{\\alpha-\\delta}{2}\\\\ \n",
        "\\gamma = \\beta^{*}=\\beta_{r}-i\\beta_{i}\n",
        "\\end{matrix}\\right\\}\\rightarrow$\n",
        "\n",
        "$\\rho = \\begin{pmatrix}\n",
        "\\frac{1}{2} + \\frac{\\alpha-\\delta}{2} & \\beta_{r}+i\\beta_{i}\\\\ \n",
        "\\beta_{r}-i\\beta_{i} & \\frac{1}{2} - \\frac{\\alpha-\\delta}{2} \n",
        "\\end{pmatrix} = \\frac{1}{2}\\begin{pmatrix}\n",
        "1 & 0\\\\ \n",
        "0 & 1\n",
        "\\end{pmatrix} + \\frac{\\alpha - \\delta}{2}\\begin{pmatrix}\n",
        "1 & 0\\\\ \n",
        "0 & -1\n",
        "\\end{pmatrix}+ \\beta_{r}\\begin{pmatrix}\n",
        "0 & 1\\\\ \n",
        "1 & 0\n",
        "\\end{pmatrix} + \\beta_{i}\\begin{pmatrix}\n",
        "0 & i\\\\ \n",
        "-i & 0\n",
        "\\end{pmatrix}$\n",
        "\n",
        "$\\rho = \\frac{1}{2}\\mathbb{I}+\\frac{r_{x}}{2}\\sigma_{x}+\\frac{r_{y}}{2}\\sigma_{y}+\\frac{r_{z}}{2}\\sigma_{z} = \\frac{1}{2}(\\mathbb{I}+\\vec{r}\\vec{\\sigma})$"
      ]
    },
    {
      "cell_type": "markdown",
      "metadata": {
        "id": "DuLteUjvrE34"
      },
      "source": [
        "#### **I.5** \n",
        "\n",
        "Generalizar I.4 a un sistema de 2 qubits."
      ]
    },
    {
      "cell_type": "markdown",
      "metadata": {
        "id": "5RciglOOMVZg"
      },
      "source": [
        "#### **I.6** \n",
        "\n",
        "Determinar todos los valores de x para los cuales\n",
        "\n",
        "$\\rho = x\\ket{\\phi}\\bra{\\phi}+(1-x) I_{d}/d$\n",
        "\n",
        "con $\\ket{\\phi}$ un estado normalizado e $I_{d}$ la identidad de d x d (d = Tr($I_{d}$) es la dimensión del espacio de estados) en un operador densidad. Interpretar el estado."
      ]
    },
    {
      "cell_type": "markdown",
      "metadata": {
        "id": "JFKf3XiUNMls"
      },
      "source": [
        "Solución:\n",
        "\n",
        "$Tr(\\rho) = Tr(x\\ket{\\phi}\\bra{\\phi}+(1-x) I_{d}/d) = xTr(\\ket{\\phi}\\bra{\\phi}) + \\frac{1-x}{d}Tr(I) = x . 1 + \\frac{1-x}{d}1 = 1$"
      ]
    },
    {
      "cell_type": "markdown",
      "metadata": {
        "id": "o-TZDqC6PCf1"
      },
      "source": [
        "### Ejercicio 2"
      ]
    },
    {
      "cell_type": "markdown",
      "metadata": {
        "id": "9du6IQszsP5r"
      },
      "source": [
        "#### **II.1** \n",
        "\n",
        "Para un sistema de dos qubits, escribir explı́citamente la matriz que representa a $\\rho_{AB}=\\ket{\\Phi_{AB}}\\bra{\\Phi_{AB}}$ en la base computacional $\\left\\{\\ket{00}, \\ket{01}, \\ket{10}, \\ket{11}\\right\\}$ para:\n",
        "$$a)\\,\\ket{\\Phi_{AB}}=\\frac{\\ket{00}\\pm\\ket{11}}{\\sqrt{2}}\\text{ ,     }\\,b)\\,\\ket{\\Psi_{AB}}=\\frac{\\ket{00}+\\ket{10}-\\ket{01}-\\ket{11}}{2}$$\n",
        "Verificar en todos los casos que los autovalores de $\\rho$ son $(1, 0, 0, 0)$."
      ]
    },
    {
      "cell_type": "code",
      "metadata": {
        "id": "bxV6tfflpSVY",
        "outputId": "6475ae03-ac2d-4178-88d3-f61079b01c39",
        "colab": {
          "base_uri": "https://localhost:8080/",
          "height": 0
        }
      },
      "source": [
        "! pip install qutip"
      ],
      "execution_count": 1,
      "outputs": [
        {
          "output_type": "stream",
          "text": [
            "Requirement already satisfied: qutip in /usr/local/lib/python3.6/dist-packages (4.5.2)\n",
            "Requirement already satisfied: numpy>=1.12 in /usr/local/lib/python3.6/dist-packages (from qutip) (1.18.5)\n",
            "Requirement already satisfied: cython>=0.21 in /usr/local/lib/python3.6/dist-packages (from qutip) (0.29.21)\n",
            "Requirement already satisfied: scipy>=1.0 in /usr/local/lib/python3.6/dist-packages (from qutip) (1.4.1)\n"
          ],
          "name": "stdout"
        }
      ]
    },
    {
      "cell_type": "code",
      "metadata": {
        "id": "tiploKYNux-v"
      },
      "source": [
        "import qutip as qt\n",
        "import numpy as np\n",
        "\n",
        "ket0 = qt.basis(2,0)\n",
        "ket1 = qt.basis(2,1)\n",
        "\n",
        "ket00 = qt.tensor(ket0,ket0)\n",
        "ket01 = qt.tensor(ket0,ket1)\n",
        "ket10 = qt.tensor(ket1,ket0)\n",
        "ket11 = qt.tensor(ket1,ket1)"
      ],
      "execution_count": 2,
      "outputs": []
    },
    {
      "cell_type": "code",
      "metadata": {
        "id": "1v8jc_xqsgw7",
        "outputId": "4d64675a-4ed1-4ffb-cfcb-e4579a15a91b",
        "colab": {
          "base_uri": "https://localhost:8080/",
          "height": 0
        }
      },
      "source": [
        "phi1 = (ket00+ket11)/np.sqrt(2)\n",
        "print(\"\\nEstado (|00>+|11>)/sqrt(2): {}\".format(phi1))\n",
        "rho1 = qt.ket2dm(phi1)\n",
        "print(\"Matriz densidad de (|00>+|11>)/sqrt(2): {}\".format(rho1))\n",
        "autov1, _ = rho1.eigenstates()\n",
        "print('Autovalores: {}'.format(np.round(autov1,2)))"
      ],
      "execution_count": 3,
      "outputs": [
        {
          "output_type": "stream",
          "text": [
            "\n",
            "Estado (|00>+|11>)/sqrt(2): Quantum object: dims = [[2, 2], [1, 1]], shape = (4, 1), type = ket\n",
            "Qobj data =\n",
            "[[0.70710678]\n",
            " [0.        ]\n",
            " [0.        ]\n",
            " [0.70710678]]\n",
            "Matriz densidad de (|00>+|11>)/sqrt(2): Quantum object: dims = [[2, 2], [2, 2]], shape = (4, 4), type = oper, isherm = True\n",
            "Qobj data =\n",
            "[[0.5 0.  0.  0.5]\n",
            " [0.  0.  0.  0. ]\n",
            " [0.  0.  0.  0. ]\n",
            " [0.5 0.  0.  0.5]]\n",
            "Autovalores: [0. 0. 0. 1.]\n"
          ],
          "name": "stdout"
        }
      ]
    },
    {
      "cell_type": "code",
      "metadata": {
        "id": "im0lnOcezHWA",
        "outputId": "1d5bd939-a8b6-4782-9c52-25a09bb9bb1f",
        "colab": {
          "base_uri": "https://localhost:8080/",
          "height": 0
        }
      },
      "source": [
        "phi2 = (ket00-ket11)/np.sqrt(2)\n",
        "print(\"\\nEstado (|00>-|11>)/sqrt(2): {}\".format(phi2))\n",
        "rho2 = qt.ket2dm(phi2)\n",
        "print(\"Matriz densidad de (|00>-|11>)/sqrt(2): {}\".format(rho2))\n",
        "autov2, _ = rho2.eigenstates()\n",
        "print('Autovalores: {}'.format(np.round(autov2,2)))\n"
      ],
      "execution_count": 4,
      "outputs": [
        {
          "output_type": "stream",
          "text": [
            "\n",
            "Estado (|00>-|11>)/sqrt(2): Quantum object: dims = [[2, 2], [1, 1]], shape = (4, 1), type = ket\n",
            "Qobj data =\n",
            "[[ 0.70710678]\n",
            " [ 0.        ]\n",
            " [ 0.        ]\n",
            " [-0.70710678]]\n",
            "Matriz densidad de (|00>-|11>)/sqrt(2): Quantum object: dims = [[2, 2], [2, 2]], shape = (4, 4), type = oper, isherm = True\n",
            "Qobj data =\n",
            "[[ 0.5  0.   0.  -0.5]\n",
            " [ 0.   0.   0.   0. ]\n",
            " [ 0.   0.   0.   0. ]\n",
            " [-0.5  0.   0.   0.5]]\n",
            "Autovalores: [0. 0. 0. 1.]\n"
          ],
          "name": "stdout"
        }
      ]
    },
    {
      "cell_type": "code",
      "metadata": {
        "id": "C20n_3oRzODb",
        "outputId": "59e319b6-5548-4cca-f909-1fa347f87145",
        "colab": {
          "base_uri": "https://localhost:8080/",
          "height": 0
        }
      },
      "source": [
        "phi3 = (ket00-ket01+ket10-ket11)/2\n",
        "print(\"\\nEstado (|00>-|01>+|10>-|11>)/2: {}\".format(phi3))\n",
        "rho3 = qt.ket2dm(phi3)\n",
        "print(\"Matriz densidad de (|00>-|01>+|10>-|11>)/2: {}\".format(rho3))\n",
        "autov3, _ = rho3.eigenstates()\n",
        "print('Autovalores: {}'.format(np.round(autov3,2)))\n"
      ],
      "execution_count": 5,
      "outputs": [
        {
          "output_type": "stream",
          "text": [
            "\n",
            "Estado (|00>-|01>+|10>-|11>)/2: Quantum object: dims = [[2, 2], [1, 1]], shape = (4, 1), type = ket\n",
            "Qobj data =\n",
            "[[ 0.5]\n",
            " [-0.5]\n",
            " [ 0.5]\n",
            " [-0.5]]\n",
            "Matriz densidad de (|00>-|01>+|10>-|11>)/2: Quantum object: dims = [[2, 2], [2, 2]], shape = (4, 4), type = oper, isherm = True\n",
            "Qobj data =\n",
            "[[ 0.25 -0.25  0.25 -0.25]\n",
            " [-0.25  0.25 -0.25  0.25]\n",
            " [ 0.25 -0.25  0.25 -0.25]\n",
            " [-0.25  0.25 -0.25  0.25]]\n",
            "Autovalores: [-0. -0.  0.  1.]\n"
          ],
          "name": "stdout"
        }
      ]
    },
    {
      "cell_type": "markdown",
      "metadata": {
        "id": "PaodDfWtw_jY"
      },
      "source": [
        "#### **II.2** \n",
        "\n",
        "Hallar la matriz densidad reducida $\\rho_A = \\text{Tr}_B\\,\\rho_{AB}$ en todos los casos anteriores, y a partir de ella evaluar la entropı́a de entrelazamiento del estado."
      ]
    },
    {
      "cell_type": "code",
      "metadata": {
        "id": "xJF92x24z9AM",
        "outputId": "2f112a20-9117-40bc-bd91-b9cb29411394",
        "colab": {
          "base_uri": "https://localhost:8080/",
          "height": 0
        }
      },
      "source": [
        "reducida10 = rho1.ptrace(0)\n",
        "reducida1 = rho1.ptrace(1)\n",
        "print(\"Traca parcial de (|00>+|11>)/sqrt(2): {}\".format(reducida1))\n",
        "entropia1 = qt.entropy_vn(reducida1,2)\n",
        "print(\"Entropía de (|00>+|11>)/sqrt(2): {}\".format(entropia1))"
      ],
      "execution_count": 6,
      "outputs": [
        {
          "output_type": "stream",
          "text": [
            "Traca parcial de (|00>+|11>)/sqrt(2): Quantum object: dims = [[2], [2]], shape = (2, 2), type = oper, isherm = True\n",
            "Qobj data =\n",
            "[[0.5 0. ]\n",
            " [0.  0.5]]\n",
            "Entropía de (|00>+|11>)/sqrt(2): 1.0\n"
          ],
          "name": "stdout"
        }
      ]
    },
    {
      "cell_type": "code",
      "metadata": {
        "id": "Y3yB9-nF0whf",
        "outputId": "0e4be828-3801-4937-fcff-ffc898f1b1f3",
        "colab": {
          "base_uri": "https://localhost:8080/",
          "height": 0
        }
      },
      "source": [
        "reducida20 = rho2.ptrace(0)\n",
        "reducida2 = rho2.ptrace(1)\n",
        "print(\"Traca parcial de (|00>-|11>)/sqrt(2): {}\".format(reducida2))\n",
        "entropia2 = qt.entropy_vn(reducida2,2)\n",
        "print(\"Entropía de (|00>-|11>)/sqrt(2): {}\".format(entropia2))"
      ],
      "execution_count": 7,
      "outputs": [
        {
          "output_type": "stream",
          "text": [
            "Traca parcial de (|00>-|11>)/sqrt(2): Quantum object: dims = [[2], [2]], shape = (2, 2), type = oper, isherm = True\n",
            "Qobj data =\n",
            "[[0.5 0. ]\n",
            " [0.  0.5]]\n",
            "Entropía de (|00>-|11>)/sqrt(2): 1.0\n"
          ],
          "name": "stdout"
        }
      ]
    },
    {
      "cell_type": "code",
      "metadata": {
        "id": "eHJX3Hct0xda",
        "outputId": "8309917f-b403-45ad-bdab-6b2e357ece3c",
        "colab": {
          "base_uri": "https://localhost:8080/",
          "height": 0
        }
      },
      "source": [
        "reducida30 = rho3.ptrace(0)\n",
        "reducida3 = rho3.ptrace(1)\n",
        "print(\"Traca parcial de (|00>-|01>+|10>-|11>)/2: {}\".format(reducida3))\n",
        "entropia3 = qt.entropy_vn(reducida3,2)\n",
        "print(\"Entropía de (|00>-|01>+|10>-|11>)/2: {}\".format(entropia3))"
      ],
      "execution_count": 8,
      "outputs": [
        {
          "output_type": "stream",
          "text": [
            "Traca parcial de (|00>-|01>+|10>-|11>)/2: Quantum object: dims = [[2], [2]], shape = (2, 2), type = oper, isherm = True\n",
            "Qobj data =\n",
            "[[ 0.5 -0.5]\n",
            " [-0.5  0.5]]\n",
            "Entropía de (|00>-|01>+|10>-|11>)/2: -0.0\n"
          ],
          "name": "stdout"
        }
      ]
    },
    {
      "cell_type": "markdown",
      "metadata": {
        "id": "cntqktVuyK_m"
      },
      "source": [
        "#### **II.3** \n",
        "\n",
        "Hallar la descomposición de Schmidt de los estados anteriores."
      ]
    },
    {
      "cell_type": "code",
      "metadata": {
        "id": "SbuyHREf2ob7",
        "outputId": "18027f3a-5382-4227-f0c0-1fde61580a53",
        "colab": {
          "base_uri": "https://localhost:8080/",
          "height": 0
        }
      },
      "source": [
        "sigmaA1, kA1 = reducida1.eigenstates()\n",
        "sigmaB1, kB1 = reducida10.eigenstates()\n",
        "sigmaK1 = np.sqrt(sigmaA1)\n",
        "n_schmidt1 = np.count_nonzero(sigmaA1)\n",
        "\n",
        "print(\"(|00>+|11>)/sqrt(2):\")\n",
        "print(\"     Ket_K A: \\n{} y \\n{}\".format(kA1[0][:], kA1[1][:]))\n",
        "print(\"     Ket_K B: \\n{} y \\n{}\".format(kB1[0][:], kB1[1][:]))\n",
        "print(\"     Sigma k: {}\".format(sigmaK1))\n",
        "print(\"     Sigma A: {}\".format(sigmaA1))\n",
        "print(\"     Sigma B: {}\".format(sigmaB1))\n",
        "print(\"     Número de Schmidt: {}\".format(n_schmidt1))"
      ],
      "execution_count": 9,
      "outputs": [
        {
          "output_type": "stream",
          "text": [
            "(|00>+|11>)/sqrt(2):\n",
            "     Ket_K A: \n",
            "[[-1.+0.j]\n",
            " [ 0.+0.j]] y \n",
            "[[0.+0.j]\n",
            " [1.+0.j]]\n",
            "     Ket_K B: \n",
            "[[-1.+0.j]\n",
            " [ 0.+0.j]] y \n",
            "[[0.+0.j]\n",
            " [1.+0.j]]\n",
            "     Sigma k: [0.70710678 0.70710678]\n",
            "     Sigma A: [0.5 0.5]\n",
            "     Sigma B: [0.5 0.5]\n",
            "     Número de Schmidt: 2\n"
          ],
          "name": "stdout"
        }
      ]
    },
    {
      "cell_type": "code",
      "metadata": {
        "id": "IClPo5SY7lrA",
        "outputId": "58d612e3-644b-46fa-839c-2116d165e012",
        "colab": {
          "base_uri": "https://localhost:8080/",
          "height": 0
        }
      },
      "source": [
        "sigmaA2, kA2 = reducida2.eigenstates()\n",
        "sigmaB2, kB2 = reducida20.eigenstates()\n",
        "sigmaK2 = np.sqrt(sigmaA2)\n",
        "n_schmidt2 = np.count_nonzero(sigmaA2)\n",
        "\n",
        "print(\"(|00>-|11>)/sqrt(2):\")\n",
        "print(\"     Ket_K A: \\n{} y \\n{}\".format(kA2[0][:], kA2[1][:]))\n",
        "print(\"     Ket_K B: \\n{} y \\n{}\".format(kB2[0][:], kB2[1][:]))\n",
        "print(\"     Sigma k: {}\".format(sigmaK2))\n",
        "print(\"     Sigma A: {}\".format(sigmaA2))\n",
        "print(\"     Sigma B: {}\".format(sigmaB2))\n",
        "print(\"     Número de Schmidt: {}\".format(n_schmidt2))"
      ],
      "execution_count": 10,
      "outputs": [
        {
          "output_type": "stream",
          "text": [
            "(|00>-|11>)/sqrt(2):\n",
            "     Ket_K A: \n",
            "[[-1.+0.j]\n",
            " [ 0.+0.j]] y \n",
            "[[0.+0.j]\n",
            " [1.+0.j]]\n",
            "     Ket_K B: \n",
            "[[-1.+0.j]\n",
            " [ 0.+0.j]] y \n",
            "[[0.+0.j]\n",
            " [1.+0.j]]\n",
            "     Sigma k: [0.70710678 0.70710678]\n",
            "     Sigma A: [0.5 0.5]\n",
            "     Sigma B: [0.5 0.5]\n",
            "     Número de Schmidt: 2\n"
          ],
          "name": "stdout"
        }
      ]
    },
    {
      "cell_type": "code",
      "metadata": {
        "id": "dt5mbkF47_uV",
        "outputId": "159fcf82-aa23-453c-aff5-32c821faf0e4",
        "colab": {
          "base_uri": "https://localhost:8080/",
          "height": 0
        }
      },
      "source": [
        "sigmaA3, kA3 = reducida3.eigenstates()\n",
        "sigmaB3, kB3 = reducida30.eigenstates()\n",
        "sigmaK3 = np.sqrt(sigmaA3)\n",
        "n_schmidt3 = np.count_nonzero(sigmaA3)\n",
        "\n",
        "print(\"(|00>-|01>+|10>-|11>)/2:\")\n",
        "print(\"     Ket_K A: \\n{} y \\n{}\".format(kA3[0][:], kA3[1][:]))\n",
        "print(\"     Ket_K B: \\n{} y \\n{}\".format(kB3[0][:], kB3[1][:]))\n",
        "print(\"     Sigma k: {}\".format(sigmaK3))\n",
        "print(\"     Sigma A: {}\".format(sigmaA3))\n",
        "print(\"     Sigma B: {}\".format(sigmaB3))\n",
        "print(\"     Número de Schmidt: {}\".format(n_schmidt3))"
      ],
      "execution_count": 11,
      "outputs": [
        {
          "output_type": "stream",
          "text": [
            "(|00>-|01>+|10>-|11>)/2:\n",
            "     Ket_K A: \n",
            "[[-0.70710678+0.j]\n",
            " [-0.70710678+0.j]] y \n",
            "[[-0.70710678+0.j]\n",
            " [ 0.70710678+0.j]]\n",
            "     Ket_K B: \n",
            "[[-0.70710678+0.j]\n",
            " [ 0.70710678+0.j]] y \n",
            "[[0.70710678+0.j]\n",
            " [0.70710678+0.j]]\n",
            "     Sigma k: [0. 1.]\n",
            "     Sigma A: [0. 1.]\n",
            "     Sigma B: [0. 1.]\n",
            "     Número de Schmidt: 1\n"
          ],
          "name": "stdout"
        }
      ]
    },
    {
      "cell_type": "markdown",
      "metadata": {
        "id": "UqGM6V5iyfkA"
      },
      "source": [
        "#### **II.4** \n",
        "\n",
        "Para $|\\alpha|^2+|\\beta|^2=1$, hallar la descomposición de Schmidt del estado\n",
        "$$\\ket{\\Psi_{AB}}=\\alpha\\,\\frac{\\ket{00}+\\ket{11}}{\\sqrt{2}}+\\beta\\,\\frac{\\ket{01}+\\ket{10}}{\\sqrt{2}}$$\n",
        "y a partir de ella indicar: a) cuándo el estado será separable, b) cuándo será entrelazado, y c) en qué caso el entrelazamiento será máximo."
      ]
    },
    {
      "cell_type": "markdown",
      "metadata": {
        "id": "Pd22QmO9vl6a"
      },
      "source": [
        "Solución:\n",
        "\n",
        "$\\ket{+}=\\frac{\\ket{0}+\\ket{1}}{\\sqrt{2}}$ y $\\ket{-}=\\frac{\\ket{0}-\\ket{1}}{\\sqrt{2}}$\n",
        "\n",
        "$\\ket{++} + \\ket{--} =\\ket{00}+\\ket{11}$ y $\\ket{++} - \\ket{--} =\\ket{01}+\\ket{10}$\n",
        "\n",
        "$\\ket{\\Psi_{AB}}=\\alpha\\,\\frac{\\ket{00}+\\ket{11}}{\\sqrt{2}}+\\beta\\,\\frac{\\ket{01}+\\ket{10}}{\\sqrt{2}} = \\alpha\\,\\frac{\\ket{++}+\\ket{--}}{\\sqrt{2}}+\\beta\\,\\frac{\\ket{++}-\\ket{--}}{\\sqrt{2}}$\n",
        "\n",
        "$\\ket{\\Psi_{AB}} = \\frac{\\alpha + \\beta}{2} \\ket{++} + \\frac{\\alpha - \\beta}{2} \\ket{--}$\n",
        "\n",
        "{$\\ket{k_{a}}$} = {$\\ket{+},\\ket{-}$}, {$\\ket{k_{b}}$} = {$\\ket{+},\\ket{-}$} y $\\lambda_{\\pm} = \\frac{\\alpha \\pm \\beta }{\\sqrt{2}}$\n",
        "\n",
        "a) Separable\n",
        "\n",
        "b) Entrelazado\n",
        "\n",
        "c) Entrelazado máximo\n"
      ]
    },
    {
      "cell_type": "markdown",
      "metadata": {
        "id": "XsppIvYIzBbR"
      },
      "source": [
        "#### **II.5** \n",
        "\n",
        "a) Indicar en qué se diferencian el estado de Bell $\\ket{\\Psi_{AB}}=\\frac{\\ket{01}+\\ket{10}}{\\sqrt{2}}$ y el estado descripto por el operador densidad\n",
        "$$\\rho_{AB}=\\frac{1}{2}\\left(\\ket{01}\\bra{01}+\\ket{10}\\bra{10}\\right)$$\n",
        "b) Indicar si es posible distinguirlos mediante\n",
        "\n",
        "i) el valor medio de un observable local $O_A\\otimes I_B$.\n",
        "\n",
        "ii) el valor medio de un observable $O=O_A\\otimes O_B$"
      ]
    },
    {
      "cell_type": "code",
      "metadata": {
        "id": "udbC-VKxNLwp",
        "outputId": "be1fa034-0032-4eb7-e13d-bd3f53f60ff7",
        "colab": {
          "base_uri": "https://localhost:8080/",
          "height": 0
        }
      },
      "source": [
        "phi_bell = (ket01+ket10)/np.sqrt(2)\n",
        "print(\"\\nEstado (|01>+|10>)/sqrt(2): {}\".format(phi_bell))\n",
        "rho_bell = qt.ket2dm(phi_bell)\n",
        "print(\"Matriz densidad de (|01>+|10>)/sqrt(2): {}\".format(rho_bell))\n",
        "reducida_bell = rho_bell.ptrace(1)\n",
        "print(\"Matriz reducida: {}\".format(reducida_bell))"
      ],
      "execution_count": 12,
      "outputs": [
        {
          "output_type": "stream",
          "text": [
            "\n",
            "Estado (|01>+|10>)/sqrt(2): Quantum object: dims = [[2, 2], [1, 1]], shape = (4, 1), type = ket\n",
            "Qobj data =\n",
            "[[0.        ]\n",
            " [0.70710678]\n",
            " [0.70710678]\n",
            " [0.        ]]\n",
            "Matriz densidad de (|01>+|10>)/sqrt(2): Quantum object: dims = [[2, 2], [2, 2]], shape = (4, 4), type = oper, isherm = True\n",
            "Qobj data =\n",
            "[[0.  0.  0.  0. ]\n",
            " [0.  0.5 0.5 0. ]\n",
            " [0.  0.5 0.5 0. ]\n",
            " [0.  0.  0.  0. ]]\n",
            "Matriz reducida: Quantum object: dims = [[2], [2]], shape = (2, 2), type = oper, isherm = True\n",
            "Qobj data =\n",
            "[[0.5 0. ]\n",
            " [0.  0.5]]\n"
          ],
          "name": "stdout"
        }
      ]
    },
    {
      "cell_type": "code",
      "metadata": {
        "id": "Ydy7QgIMNcv7",
        "outputId": "b67b76c3-f32f-4818-b00a-1c2bfda7a09b",
        "colab": {
          "base_uri": "https://localhost:8080/",
          "height": 0
        }
      },
      "source": [
        "rho_AB = (ket01*ket01.dag()+ket10*ket10.dag())/2\n",
        "print(\"Matriz densidad de (|01><01|+|10><10|)/2: {}\".format(rho_AB))\n",
        "reducida_AB = rho_AB.ptrace(1)\n",
        "print(\"Matriz reducida: {}\".format(reducida_AB))"
      ],
      "execution_count": 13,
      "outputs": [
        {
          "output_type": "stream",
          "text": [
            "Matriz densidad de (|01><01|+|10><10|)/2: Quantum object: dims = [[2, 2], [2, 2]], shape = (4, 4), type = oper, isherm = True\n",
            "Qobj data =\n",
            "[[0.  0.  0.  0. ]\n",
            " [0.  0.5 0.  0. ]\n",
            " [0.  0.  0.5 0. ]\n",
            " [0.  0.  0.  0. ]]\n",
            "Matriz reducida: Quantum object: dims = [[2], [2]], shape = (2, 2), type = oper, isherm = True\n",
            "Qobj data =\n",
            "[[0.5 0. ]\n",
            " [0.  0.5]]\n"
          ],
          "name": "stdout"
        }
      ]
    },
    {
      "cell_type": "code",
      "metadata": {
        "id": "ZapDqd1YOv6E",
        "outputId": "22b74952-1869-424e-a40a-8e26d246e323",
        "colab": {
          "base_uri": "https://localhost:8080/",
          "height": 0
        }
      },
      "source": [
        "operador = qt.tensor(qt.sigmay(), qt.sigmay())\n",
        "\n",
        "medicion_bell = (rho_bell*operador).tr()\n",
        "print('Matriz reducida de Bell: {}'.format(medicion_bell))\n",
        "\n",
        "medicion_AB = (rho_AB*operador).tr()\n",
        "print('Matriz reducida de AB: {}'.format(medicion_AB))"
      ],
      "execution_count": 14,
      "outputs": [
        {
          "output_type": "stream",
          "text": [
            "Matriz reducida de Bell: 0.9999999999999998\n",
            "Matriz reducida de AB: 0.0\n"
          ],
          "name": "stdout"
        }
      ]
    }
  ]
}