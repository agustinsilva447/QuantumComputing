{
  "nbformat": 4,
  "nbformat_minor": 0,
  "metadata": {
    "kernelspec": {
      "display_name": "Python 3",
      "language": "python",
      "name": "python3"
    },
    "language_info": {
      "codemirror_mode": {
        "name": "ipython",
        "version": 3
      },
      "file_extension": ".py",
      "mimetype": "text/x-python",
      "name": "python",
      "nbconvert_exporter": "python",
      "pygments_lexer": "ipython3",
      "version": "3.7.6"
    },
    "varInspector": {
      "cols": {
        "lenName": 16,
        "lenType": 16,
        "lenVar": 40
      },
      "kernels_config": {
        "python": {
          "delete_cmd_postfix": "",
          "delete_cmd_prefix": "del ",
          "library": "var_list.py",
          "varRefreshCmd": "print(var_dic_list())"
        },
        "r": {
          "delete_cmd_postfix": ") ",
          "delete_cmd_prefix": "rm(",
          "library": "var_list.r",
          "varRefreshCmd": "cat(var_dic_list()) "
        }
      },
      "types_to_exclude": [
        "module",
        "function",
        "builtin_function_or_method",
        "instance",
        "_Feature"
      ],
      "window_display": false
    },
    "colab": {
      "name": "State_tomography_UNLP.ipynb",
      "provenance": [],
      "collapsed_sections": []
    }
  },
  "cells": [
    {
      "cell_type": "code",
      "metadata": {
        "id": "1n41F6NVE8jh"
      },
      "source": [
        "! pip install qiskit"
      ],
      "execution_count": null,
      "outputs": []
    },
    {
      "cell_type": "markdown",
      "metadata": {
        "id": "BgQDjhE4E5f6"
      },
      "source": [
        "# Quantum Tomography"
      ]
    },
    {
      "cell_type": "markdown",
      "metadata": {
        "id": "FCnevtPqE5f7"
      },
      "source": [
        "## Introduction\n",
        "\n",
        "Quantum tomography is an experimental procedure to reconstruct a description of part of quantum system from the measurement outcomes of a specific set of experiments. In Qiskit we implement the following types of tomography:\n",
        "\n",
        "1. **Quantum state tomography**: Given a state-preparation circuit that prepares a system in a state, reconstruct a description of the density matrix $\\rho$ of the actual state obtained in the system.\n",
        "2. **Quantum process tomograhpy**: Given a circuit, reconstruct a description of the quantum channel $\\mathcal{E}$ that describes the circuit's operator when running on the system.\n",
        "3. **Quantum gate set tomography**: Performs process tomography on a set of gates in a self-consistant manner, meaning quantum noises on gates used by the tomography process itself is also taken into account.\n",
        "\n",
        "This notebook gives examples for how to use the ``ignis.verification.tomography`` modules."
      ]
    },
    {
      "cell_type": "code",
      "metadata": {
        "ExecuteTime": {
          "end_time": "2019-12-10T22:02:05.692984Z",
          "start_time": "2019-12-10T22:02:02.719087Z"
        },
        "id": "D-AnVOCEE5f8"
      },
      "source": [
        "# Needed for functions\n",
        "import numpy as np\n",
        "import time\n",
        "from copy import deepcopy\n",
        "\n",
        "# Import Qiskit classes\n",
        "import qiskit \n",
        "from qiskit import QuantumRegister, QuantumCircuit, ClassicalRegister, Aer\n",
        "from qiskit.quantum_info import state_fidelity, process_fidelity\n",
        "from qiskit.providers.aer import noise\n",
        "from qiskit.compiler import assemble\n",
        "\n",
        "# Tomography functions\n",
        "from qiskit.ignis.verification.tomography import state_tomography_circuits, StateTomographyFitter\n",
        "from qiskit.ignis.verification.tomography import process_tomography_circuits, ProcessTomographyFitter\n",
        "from qiskit.ignis.verification.tomography import gateset_tomography_circuits, GatesetTomographyFitter\n",
        "import qiskit.ignis.mitigation.measurement as mc\n",
        "\n",
        "# Auxiliary methods\n",
        "from qiskit.quantum_info import Choi, Kraus\n",
        "from qiskit.extensions import HGate, XGate"
      ],
      "execution_count": 2,
      "outputs": []
    },
    {
      "cell_type": "markdown",
      "metadata": {
        "id": "-dVU-tdfE5gE"
      },
      "source": [
        "## Initial examples"
      ]
    },
    {
      "cell_type": "markdown",
      "metadata": {
        "id": "tq5r80wYE5gF"
      },
      "source": [
        "### 2-Qubit state tomography Example"
      ]
    },
    {
      "cell_type": "markdown",
      "metadata": {
        "id": "raI6HuUzE5gG"
      },
      "source": [
        "In the below example we want to perform state tomography on a 2Q Bell state between qubits 3 and 5. To make the reference circuit we generate the expected statevector using ``statevector_simulator`` between qubits 0 and 1. "
      ]
    },
    {
      "cell_type": "code",
      "metadata": {
        "ExecuteTime": {
          "end_time": "2019-12-10T22:02:05.715895Z",
          "start_time": "2019-12-10T22:02:05.695482Z"
        },
        "id": "nJ09Pm2kE5gH",
        "outputId": "05d100b5-3251-4e4d-81f2-6bbfca6f0848",
        "colab": {
          "base_uri": "https://localhost:8080/",
          "height": 119
        }
      },
      "source": [
        "# Create the expected density matrix\n",
        "q2 = QuantumRegister(2)\n",
        "bell = QuantumCircuit(q2)\n",
        "bell.h(q2[0])\n",
        "bell.cx(q2[0], q2[1])\n",
        "print(bell)\n",
        "\n",
        "job = qiskit.execute(bell, Aer.get_backend('statevector_simulator'))\n",
        "psi_bell = job.result().get_statevector(bell)\n",
        "print(psi_bell)"
      ],
      "execution_count": 3,
      "outputs": [
        {
          "output_type": "stream",
          "text": [
            "      ┌───┐     \n",
            "q0_0: ┤ H ├──■──\n",
            "      └───┘┌─┴─┐\n",
            "q0_1: ─────┤ X ├\n",
            "           └───┘\n",
            "[0.70710678+0.j 0.        +0.j 0.        +0.j 0.70710678+0.j]\n"
          ],
          "name": "stdout"
        }
      ]
    },
    {
      "cell_type": "code",
      "metadata": {
        "ExecuteTime": {
          "end_time": "2019-12-10T22:02:05.726381Z",
          "start_time": "2019-12-10T22:02:05.719133Z"
        },
        "id": "SXwzchNkE5gO",
        "outputId": "2a1a48f8-d6f8-48d1-914b-45792cc607c8",
        "colab": {
          "base_uri": "https://localhost:8080/",
          "height": 238
        }
      },
      "source": [
        "# Create the actual circuit \n",
        "q2 = QuantumRegister(6)\n",
        "bell = QuantumCircuit(q2)\n",
        "bell.h(q2[3])\n",
        "bell.cx(q2[3], q2[5])\n",
        "print(bell)"
      ],
      "execution_count": 4,
      "outputs": [
        {
          "output_type": "stream",
          "text": [
            "                \n",
            "q3_0: ──────────\n",
            "                \n",
            "q3_1: ──────────\n",
            "                \n",
            "q3_2: ──────────\n",
            "      ┌───┐     \n",
            "q3_3: ┤ H ├──■──\n",
            "      └───┘  │  \n",
            "q3_4: ───────┼──\n",
            "           ┌─┴─┐\n",
            "q3_5: ─────┤ X ├\n",
            "           └───┘\n"
          ],
          "name": "stdout"
        }
      ]
    },
    {
      "cell_type": "markdown",
      "metadata": {
        "id": "uu-dcsqLE5gT"
      },
      "source": [
        "Here we are going to generate and run the state tomography circuits. By only passing in the 2 registers we want to measure the state tomography will only run on that reduced $2^2$ Hilbert space. However, if we pass the whole register in the state tomography module will try and fit the full $2^6$ space."
      ]
    },
    {
      "cell_type": "code",
      "metadata": {
        "ExecuteTime": {
          "end_time": "2019-12-10T22:02:05.962627Z",
          "start_time": "2019-12-10T22:02:05.729674Z"
        },
        "id": "FWVP16kAE5gU",
        "outputId": "ca844179-b326-4294-9c99-d43f964be6e4",
        "colab": {
          "base_uri": "https://localhost:8080/",
          "height": 34
        }
      },
      "source": [
        "# Generate circuits and run on simulator\n",
        "t = time.time()\n",
        "# Generate the state tomography circuits. Only pass in the \n",
        "# registers we want to measure (in this case 3 and 5)\n",
        "qst_bell = state_tomography_circuits(bell, [q2[3],q2[5]])\n",
        "job = qiskit.execute(qst_bell, Aer.get_backend('qasm_simulator'), shots=5000)\n",
        "print('Time taken:', time.time() - t)\n",
        "\n",
        "tomo_bell = StateTomographyFitter(job.result(), qst_bell)"
      ],
      "execution_count": 5,
      "outputs": [
        {
          "output_type": "stream",
          "text": [
            "Time taken: 0.025388240814208984\n"
          ],
          "name": "stdout"
        }
      ]
    },
    {
      "cell_type": "markdown",
      "metadata": {
        "id": "TX_Y7bISE5gZ"
      },
      "source": [
        "The fitter will output a density matrix ordered according to how we passed in the registers to ``state_tomography_circuits``. "
      ]
    },
    {
      "cell_type": "code",
      "metadata": {
        "ExecuteTime": {
          "end_time": "2019-12-10T22:02:06.222354Z",
          "start_time": "2019-12-10T22:02:05.964786Z"
        },
        "id": "tvCOXVnxE5ga",
        "outputId": "2d36fc13-3c79-4b0c-d3c2-3a7faf0e4229",
        "colab": {
          "base_uri": "https://localhost:8080/",
          "height": 34
        }
      },
      "source": [
        "# Perform the tomography fit\n",
        "# which outputs a density matrix\n",
        "rho_bell = tomo_bell.fit()\n",
        "F_bell = state_fidelity(psi_bell, rho_bell, validate=False)\n",
        "print('Fit Fidelity =', F_bell)"
      ],
      "execution_count": 6,
      "outputs": [
        {
          "output_type": "stream",
          "text": [
            "Fit Fidelity = 0.9999025315929331\n"
          ],
          "name": "stdout"
        }
      ]
    },
    {
      "cell_type": "markdown",
      "metadata": {
        "id": "VuS-j7wNE5gf"
      },
      "source": [
        "### Repeat the Example with Measurement Noise"
      ]
    },
    {
      "cell_type": "code",
      "metadata": {
        "ExecuteTime": {
          "end_time": "2019-12-10T22:02:07.149325Z",
          "start_time": "2019-12-10T22:02:06.224483Z"
        },
        "id": "MGMBAg6WE5gf",
        "outputId": "511d2ba1-7d1b-4a16-b3b8-227e538ce3d4",
        "colab": {
          "base_uri": "https://localhost:8080/",
          "height": 51
        }
      },
      "source": [
        "#Add measurement noise\n",
        "noise_model = noise.NoiseModel()\n",
        "for qi in range(6):\n",
        "    read_err = noise.errors.readout_error.ReadoutError([[0.75, 0.25],[0.1,0.9]])\n",
        "    noise_model.add_readout_error(read_err,[qi])\n",
        "    \n",
        "#generate the calibration circuits\n",
        "meas_calibs, state_labels = mc.complete_meas_cal(qubit_list=[3,5])\n",
        "\n",
        "backend = Aer.get_backend('qasm_simulator')\n",
        "job_cal = qiskit.execute(meas_calibs, backend=backend, shots=15000, noise_model=noise_model)\n",
        "job_tomo = qiskit.execute(qst_bell, backend=backend, shots=15000, noise_model=noise_model)\n",
        "\n",
        "meas_fitter = mc.CompleteMeasFitter(job_cal.result(),state_labels)\n",
        "\n",
        "tomo_bell = StateTomographyFitter(job_tomo.result(), qst_bell)\n",
        "\n",
        "#no correction\n",
        "rho_bell = tomo_bell.fit()\n",
        "F_bell = state_fidelity(psi_bell, rho_bell, validate=False)\n",
        "print('Fit Fidelity (no correction) =', F_bell)\n",
        "\n",
        "#correct data\n",
        "correct_tomo_results = meas_fitter.filter.apply(job_tomo.result(), method='least_squares')\n",
        "tomo_bell = StateTomographyFitter(correct_tomo_results, qst_bell)\n",
        "rho_bell = tomo_bell.fit()\n",
        "F_bell = state_fidelity(psi_bell, rho_bell, validate=False)\n",
        "print('Fit Fidelity (w/ correction) =', F_bell)"
      ],
      "execution_count": 7,
      "outputs": [
        {
          "output_type": "stream",
          "text": [
            "Fit Fidelity (no correction) = 0.5718157098335266\n",
            "Fit Fidelity (w/ correction) = 0.9940361146652712\n"
          ],
          "name": "stdout"
        }
      ]
    },
    {
      "cell_type": "markdown",
      "metadata": {
        "id": "QRQ2yF9FE5gl"
      },
      "source": [
        "## 1-qubit process tomography example"
      ]
    },
    {
      "cell_type": "code",
      "metadata": {
        "ExecuteTime": {
          "end_time": "2019-12-10T22:04:09.537523Z",
          "start_time": "2019-12-10T22:04:09.363669Z"
        },
        "id": "iBe0fbjGE5gm",
        "outputId": "aefb4be3-55a9-4f70-e198-0e6d8dcb0dd7",
        "colab": {
          "base_uri": "https://localhost:8080/",
          "height": 221
        }
      },
      "source": [
        "# Process tomography of a Hadamard gate\n",
        "q = QuantumRegister(1)\n",
        "circ = QuantumCircuit(q)\n",
        "circ.h(q[0])\n",
        "\n",
        "# Run circuit on unitary simulator to find ideal unitary\n",
        "job = qiskit.execute(circ, Aer.get_backend('unitary_simulator'))\n",
        "ideal_unitary = job.result().get_unitary(circ)\n",
        "\n",
        "# convert to Choi-matrix in column-major convention\n",
        "vector_ideal = ideal_unitary.ravel(order='F')\n",
        "choi_ideal = np.outer(vector_ideal, vector_ideal.conj())\n",
        "\n",
        "# Generate process tomography circuits and run on qasm simulator\n",
        "qpt_circs = process_tomography_circuits(circ, q)\n",
        "job = qiskit.execute(qpt_circs, Aer.get_backend('qasm_simulator'), shots=4000)\n",
        "\n",
        "# Extract tomography data so that counts are indexed by measurement configuration\n",
        "qpt_tomo = ProcessTomographyFitter(job.result(), qpt_circs)\n",
        "qpt_tomo.data"
      ],
      "execution_count": 8,
      "outputs": [
        {
          "output_type": "execute_result",
          "data": {
            "text/plain": [
              "{(('Xp',), ('X',)): {'0': 2028, '1': 1972},\n",
              " (('Xp',), ('Y',)): {'0': 1965, '1': 2035},\n",
              " (('Xp',), ('Z',)): {'0': 4000},\n",
              " (('Yp',), ('X',)): {'0': 1996, '1': 2004},\n",
              " (('Yp',), ('Y',)): {'1': 4000},\n",
              " (('Yp',), ('Z',)): {'0': 2025, '1': 1975},\n",
              " (('Zm',), ('X',)): {'1': 4000},\n",
              " (('Zm',), ('Y',)): {'0': 2008, '1': 1992},\n",
              " (('Zm',), ('Z',)): {'0': 2021, '1': 1979},\n",
              " (('Zp',), ('X',)): {'0': 4000},\n",
              " (('Zp',), ('Y',)): {'0': 2008, '1': 1992},\n",
              " (('Zp',), ('Z',)): {'0': 2048, '1': 1952}}"
            ]
          },
          "metadata": {
            "tags": []
          },
          "execution_count": 8
        }
      ]
    },
    {
      "cell_type": "code",
      "metadata": {
        "ExecuteTime": {
          "end_time": "2019-12-10T22:04:09.602711Z",
          "start_time": "2019-12-10T22:04:09.540281Z"
        },
        "id": "pYRjkuRYE5gr",
        "outputId": "dd8131ca-c553-4f7e-aba8-993fc303be7b",
        "colab": {
          "base_uri": "https://localhost:8080/",
          "height": 68
        }
      },
      "source": [
        "# Tomographic reconstruction\n",
        "t = time.time()\n",
        "choi_lstsq = qpt_tomo.fit(method='auto')\n",
        "print('fit time:', time.time() - t)\n",
        "print('fit fidelity (state):', state_fidelity(choi_ideal / 2, choi_lstsq.data / 2, validate=False))\n",
        "print('fit fidelity (process):', np.real(process_fidelity(choi_ideal, choi_lstsq.data, require_cp=False)))"
      ],
      "execution_count": 9,
      "outputs": [
        {
          "output_type": "stream",
          "text": [
            "fit time: 0.06806778907775879\n",
            "fit fidelity (state): 0.9999727492226627\n",
            "fit fidelity (process): 0.9999454990516029\n"
          ],
          "name": "stdout"
        }
      ]
    },
    {
      "cell_type": "markdown",
      "metadata": {
        "id": "YhEvCYeIE5gv"
      },
      "source": [
        "## 1-qubit process tomography of two-qubit swap gate\n",
        "\n",
        "We will prepare qubit-0 and measure qubit-1 so the reconstructed channel should be an identity."
      ]
    },
    {
      "cell_type": "code",
      "metadata": {
        "ExecuteTime": {
          "end_time": "2019-12-10T22:04:09.748538Z",
          "start_time": "2019-12-10T22:04:09.605145Z"
        },
        "id": "nBct6yKTE5gw",
        "outputId": "6ed09acd-54ac-4ddb-f66f-7103e02f1fe7",
        "colab": {
          "base_uri": "https://localhost:8080/",
          "height": 221
        }
      },
      "source": [
        "# Process tomography of a Hadamard gate\n",
        "q = QuantumRegister(2)\n",
        "circ = QuantumCircuit(q)\n",
        "circ.swap(q[0], q[1])\n",
        "\n",
        "# Ideal channel is a unitary\n",
        "ideal_unitary = np.eye(2)\n",
        "vector_ideal = ideal_unitary.ravel(order='F')\n",
        "choi_ideal = np.outer(vector_ideal, vector_ideal.conj())\n",
        "\n",
        "# Generate process tomography circuits and run on qasm simulator\n",
        "# We use the optional prepared_qubits kwarg to specify that the prepared qubit was different to measured qubit\n",
        "qpt_circs = process_tomography_circuits(circ, q[1], prepared_qubits=q[0])\n",
        "job = qiskit.execute(qpt_circs, Aer.get_backend('qasm_simulator'), shots=2000)\n",
        "\n",
        "# Extract tomography data so that counts are indexed by measurement configuration\n",
        "qpt_tomo = ProcessTomographyFitter(job.result(), qpt_circs)\n",
        "qpt_tomo.data"
      ],
      "execution_count": 10,
      "outputs": [
        {
          "output_type": "execute_result",
          "data": {
            "text/plain": [
              "{(('Xp',), ('X',)): {'0': 2000},\n",
              " (('Xp',), ('Y',)): {'0': 978, '1': 1022},\n",
              " (('Xp',), ('Z',)): {'0': 998, '1': 1002},\n",
              " (('Yp',), ('X',)): {'0': 1020, '1': 980},\n",
              " (('Yp',), ('Y',)): {'0': 2000},\n",
              " (('Yp',), ('Z',)): {'0': 1000, '1': 1000},\n",
              " (('Zm',), ('X',)): {'0': 965, '1': 1035},\n",
              " (('Zm',), ('Y',)): {'0': 1000, '1': 1000},\n",
              " (('Zm',), ('Z',)): {'1': 2000},\n",
              " (('Zp',), ('X',)): {'0': 1002, '1': 998},\n",
              " (('Zp',), ('Y',)): {'0': 1017, '1': 983},\n",
              " (('Zp',), ('Z',)): {'0': 2000}}"
            ]
          },
          "metadata": {
            "tags": []
          },
          "execution_count": 10
        }
      ]
    },
    {
      "cell_type": "code",
      "metadata": {
        "ExecuteTime": {
          "end_time": "2019-12-10T22:04:09.802862Z",
          "start_time": "2019-12-10T22:04:09.750362Z"
        },
        "scrolled": true,
        "id": "V4gdzHrgE5g2",
        "outputId": "f8f54f20-f033-422d-966a-d4366a41d1f1",
        "colab": {
          "base_uri": "https://localhost:8080/",
          "height": 68
        }
      },
      "source": [
        "# Tomographic reconstruction\n",
        "\n",
        "t = time.time()\n",
        "choi = qpt_tomo.fit(method='auto')\n",
        "print('fit time:', time.time() - t)\n",
        "print('fit fidelity (state):', state_fidelity(choi_ideal / 2, choi.data / 2, validate=False))\n",
        "print('fit fidelity (process):', np.real(process_fidelity(choi_ideal, choi.data, require_cp=False)))"
      ],
      "execution_count": 11,
      "outputs": [
        {
          "output_type": "stream",
          "text": [
            "fit time: 0.05018925666809082\n",
            "fit fidelity (state): 0.9998825014096921\n",
            "fit fidelity (process): 0.9997650166249735\n"
          ],
          "name": "stdout"
        }
      ]
    },
    {
      "cell_type": "markdown",
      "metadata": {
        "id": "C6T-j4l_E5g6"
      },
      "source": [
        "## Advances examples"
      ]
    },
    {
      "cell_type": "markdown",
      "metadata": {
        "id": "2t4mzfv6E5g7"
      },
      "source": [
        "## Generating and fitting random states\n",
        "\n",
        "We now test the functions on the state generated by a circuit consisting of a layer of random single qubit unitaries u3."
      ]
    },
    {
      "cell_type": "code",
      "metadata": {
        "ExecuteTime": {
          "end_time": "2019-12-10T22:02:07.158424Z",
          "start_time": "2019-12-10T22:02:07.151860Z"
        },
        "id": "Wc_1ZYMqE5g7"
      },
      "source": [
        "def random_u3_tomo(nq, shots):\n",
        "    \n",
        "    def rand_angles():\n",
        "        return tuple(2 * np.pi * np.random.random(3) - np.pi)\n",
        "    q = QuantumRegister(nq)\n",
        "    circ = QuantumCircuit(q)\n",
        "    for j in range(nq):\n",
        "        circ.u3(*rand_angles(), q[j])\n",
        "    job = qiskit.execute(circ, Aer.get_backend('statevector_simulator'))\n",
        "    psi_rand = job.result().get_statevector(circ)\n",
        "    \n",
        "    qst_circs = state_tomography_circuits(circ, q)\n",
        "    job = qiskit.execute(qst_circs, Aer.get_backend('qasm_simulator'),\n",
        "                         shots=shots)\n",
        "    tomo_data = StateTomographyFitter(job.result(), qst_circs)\n",
        "    rho = tomo_data.fit(method='auto')\n",
        "    \n",
        "    print('F fit =', state_fidelity(psi_rand, rho, validate=False))"
      ],
      "execution_count": 12,
      "outputs": []
    },
    {
      "cell_type": "code",
      "metadata": {
        "ExecuteTime": {
          "end_time": "2019-12-10T22:02:10.608393Z",
          "start_time": "2019-12-10T22:02:07.162333Z"
        },
        "id": "7qtzpl29E5hA",
        "outputId": "56871175-1096-4f9e-cc5a-8f6499f30615",
        "colab": {
          "base_uri": "https://localhost:8080/",
          "height": 377
        }
      },
      "source": [
        "for j in range(5):\n",
        "    print('Random single-qubit unitaries: set {}'.format(j))\n",
        "    random_u3_tomo(3, 5000)"
      ],
      "execution_count": 13,
      "outputs": [
        {
          "output_type": "stream",
          "text": [
            "Random single-qubit unitaries: set 0\n"
          ],
          "name": "stdout"
        },
        {
          "output_type": "stream",
          "text": [
            "/usr/local/lib/python3.6/dist-packages/ipykernel_launcher.py:8: DeprecationWarning: The QuantumCircuit.u3 method is deprecated as of 0.16.0. It will be removed no earlier than 3 months after the release date. You should use QuantumCircuit.u instead, which acts identically. Alternatively, you can decompose u3 in terms of QuantumCircuit.p and QuantumCircuit.sx: u3(ϴ,φ,λ) = p(φ+π) sx p(ϴ+π) sx p(λ) (2 pulses on hardware).\n",
            "  \n"
          ],
          "name": "stderr"
        },
        {
          "output_type": "stream",
          "text": [
            "F fit = 0.999930490742537\n",
            "Random single-qubit unitaries: set 1\n"
          ],
          "name": "stdout"
        },
        {
          "output_type": "stream",
          "text": [
            "/usr/local/lib/python3.6/dist-packages/ipykernel_launcher.py:8: DeprecationWarning: The QuantumCircuit.u3 method is deprecated as of 0.16.0. It will be removed no earlier than 3 months after the release date. You should use QuantumCircuit.u instead, which acts identically. Alternatively, you can decompose u3 in terms of QuantumCircuit.p and QuantumCircuit.sx: u3(ϴ,φ,λ) = p(φ+π) sx p(ϴ+π) sx p(λ) (2 pulses on hardware).\n",
            "  \n"
          ],
          "name": "stderr"
        },
        {
          "output_type": "stream",
          "text": [
            "F fit = 0.9959084064357399\n",
            "Random single-qubit unitaries: set 2\n"
          ],
          "name": "stdout"
        },
        {
          "output_type": "stream",
          "text": [
            "/usr/local/lib/python3.6/dist-packages/ipykernel_launcher.py:8: DeprecationWarning: The QuantumCircuit.u3 method is deprecated as of 0.16.0. It will be removed no earlier than 3 months after the release date. You should use QuantumCircuit.u instead, which acts identically. Alternatively, you can decompose u3 in terms of QuantumCircuit.p and QuantumCircuit.sx: u3(ϴ,φ,λ) = p(φ+π) sx p(ϴ+π) sx p(λ) (2 pulses on hardware).\n",
            "  \n"
          ],
          "name": "stderr"
        },
        {
          "output_type": "stream",
          "text": [
            "F fit = 0.9984107329672964\n",
            "Random single-qubit unitaries: set 3\n"
          ],
          "name": "stdout"
        },
        {
          "output_type": "stream",
          "text": [
            "/usr/local/lib/python3.6/dist-packages/ipykernel_launcher.py:8: DeprecationWarning: The QuantumCircuit.u3 method is deprecated as of 0.16.0. It will be removed no earlier than 3 months after the release date. You should use QuantumCircuit.u instead, which acts identically. Alternatively, you can decompose u3 in terms of QuantumCircuit.p and QuantumCircuit.sx: u3(ϴ,φ,λ) = p(φ+π) sx p(ϴ+π) sx p(λ) (2 pulses on hardware).\n",
            "  \n"
          ],
          "name": "stderr"
        },
        {
          "output_type": "stream",
          "text": [
            "F fit = 0.9973775886106064\n",
            "Random single-qubit unitaries: set 4\n"
          ],
          "name": "stdout"
        },
        {
          "output_type": "stream",
          "text": [
            "/usr/local/lib/python3.6/dist-packages/ipykernel_launcher.py:8: DeprecationWarning: The QuantumCircuit.u3 method is deprecated as of 0.16.0. It will be removed no earlier than 3 months after the release date. You should use QuantumCircuit.u instead, which acts identically. Alternatively, you can decompose u3 in terms of QuantumCircuit.p and QuantumCircuit.sx: u3(ϴ,φ,λ) = p(φ+π) sx p(ϴ+π) sx p(λ) (2 pulses on hardware).\n",
            "  \n"
          ],
          "name": "stderr"
        },
        {
          "output_type": "stream",
          "text": [
            "F fit = 0.999554614485418\n"
          ],
          "name": "stdout"
        }
      ]
    },
    {
      "cell_type": "markdown",
      "metadata": {
        "id": "hSK9_CrkE5hJ"
      },
      "source": [
        "## 5-Qubit Bell State"
      ]
    },
    {
      "cell_type": "code",
      "metadata": {
        "ExecuteTime": {
          "end_time": "2019-12-10T22:02:18.551117Z",
          "start_time": "2019-12-10T22:02:10.612471Z"
        },
        "id": "qLn3eBC1E5hK",
        "outputId": "3358aeb1-6284-4744-dd9b-ce50145f5ee0",
        "colab": {
          "base_uri": "https://localhost:8080/",
          "height": 34
        }
      },
      "source": [
        "# Create a state preparation circuit\n",
        "q5 = QuantumRegister(5)\n",
        "bell5 = QuantumCircuit(q5)\n",
        "bell5.h(q5[0])\n",
        "for j in range(4):\n",
        "    bell5.cx(q5[j], q5[j + 1])\n",
        "\n",
        "# Get ideal output state\n",
        "job = qiskit.execute(bell5, Aer.get_backend('statevector_simulator'))\n",
        "psi_bell5 = job.result().get_statevector(bell5)\n",
        "\n",
        "# Generate circuits and run on simulator\n",
        "t = time.time()\n",
        "qst_bell5 = state_tomography_circuits(bell5, q5)\n",
        "job = qiskit.execute(qst_bell5, Aer.get_backend('qasm_simulator'), shots=5000)\n",
        "\n",
        "# Extract tomography data so that counts are indexed by measurement configuration\n",
        "tomo_bell5 = StateTomographyFitter(job.result(), qst_bell5)\n",
        "print('Time taken:', time.time() - t)"
      ],
      "execution_count": 14,
      "outputs": [
        {
          "output_type": "stream",
          "text": [
            "Time taken: 4.933291673660278\n"
          ],
          "name": "stdout"
        }
      ]
    },
    {
      "cell_type": "code",
      "metadata": {
        "ExecuteTime": {
          "end_time": "2019-12-10T22:02:22.223534Z",
          "start_time": "2019-12-10T22:02:18.553830Z"
        },
        "id": "X9lROBszE5hO",
        "outputId": "cb522fec-efed-42af-cfa1-7bd2597d82c8",
        "colab": {
          "base_uri": "https://localhost:8080/",
          "height": 51
        }
      },
      "source": [
        "t = time.time()\n",
        "rho_bell5 = tomo_bell5.fit(method='auto')\n",
        "print('Time taken:', time.time() - t)\n",
        "print('Fit Fidelity:', state_fidelity(psi_bell5, rho_bell5, validate=False))"
      ],
      "execution_count": 15,
      "outputs": [
        {
          "output_type": "stream",
          "text": [
            "Time taken: 46.50314497947693\n",
            "Fit Fidelity: 0.9999206209977957\n"
          ],
          "name": "stdout"
        }
      ]
    },
    {
      "cell_type": "markdown",
      "metadata": {
        "id": "iMroF35lE5hW"
      },
      "source": [
        "## 2-Qubit Conditional State Tomography "
      ]
    },
    {
      "cell_type": "markdown",
      "metadata": {
        "id": "nmaKP9JjE5hY"
      },
      "source": [
        "In this example, we have a three-qubit system where one of the qubits will be an ancilla for performing state tomography, i.e. only perform tomography when the third qubit is in the state \"1\". The circuit is setup in such a way that after conditional tomography we will get a Bell state on the first two qubits.\n",
        "\n",
        "First make a 3Q GHZ state with no classical measurements."
      ]
    },
    {
      "cell_type": "code",
      "metadata": {
        "ExecuteTime": {
          "end_time": "2019-12-10T22:03:01.884883Z",
          "start_time": "2019-12-10T22:03:01.869330Z"
        },
        "scrolled": true,
        "id": "GSHE1W4fE5hZ",
        "outputId": "894552c8-3cd2-4634-acfd-7092baa23c5d",
        "colab": {
          "base_uri": "https://localhost:8080/",
          "height": 136
        }
      },
      "source": [
        "# Create the actual circuit \n",
        "q2 = QuantumRegister(3)\n",
        "ghz = QuantumCircuit(q2)\n",
        "ghz.h(q2[0])\n",
        "ghz.cx(q2[0], q2[1])\n",
        "ghz.cx(q2[1], q2[2])\n",
        "ghz.h(q2[2])\n",
        "print(ghz)"
      ],
      "execution_count": 16,
      "outputs": [
        {
          "output_type": "stream",
          "text": [
            "         ┌───┐               \n",
            "q2029_0: ┤ H ├──■────────────\n",
            "         └───┘┌─┴─┐          \n",
            "q2029_1: ─────┤ X ├──■───────\n",
            "              └───┘┌─┴─┐┌───┐\n",
            "q2029_2: ──────────┤ X ├┤ H ├\n",
            "                   └───┘└───┘\n"
          ],
          "name": "stdout"
        }
      ]
    },
    {
      "cell_type": "markdown",
      "metadata": {
        "id": "CkZB4pX9E5hf"
      },
      "source": [
        "Here we are going to generate and run the state tomography circuits. Only pass the registers we want to perform state tomography on. The code will generate a new classical register for only those measurements."
      ]
    },
    {
      "cell_type": "code",
      "metadata": {
        "ExecuteTime": {
          "end_time": "2019-12-10T22:03:01.903389Z",
          "start_time": "2019-12-10T22:03:01.888165Z"
        },
        "id": "b4rXtVuRE5hf",
        "outputId": "3b72a09c-327d-4676-b468-8075a18fea46",
        "colab": {
          "base_uri": "https://localhost:8080/",
          "height": 170
        }
      },
      "source": [
        "qst_ghz = state_tomography_circuits(ghz, [q2[0],q2[1]])\n",
        "print(qst_ghz[0])"
      ],
      "execution_count": 17,
      "outputs": [
        {
          "output_type": "stream",
          "text": [
            "         ┌───┐                ░ ┌───┐┌─┐   \n",
            "q2029_0: ┤ H ├──■─────────────░─┤ H ├┤M├───\n",
            "         └───┘┌─┴─┐           ░ ├───┤└╥┘┌─┐\n",
            "q2029_1: ─────┤ X ├──■────────░─┤ H ├─╫─┤M├\n",
            "              └───┘┌─┴─┐┌───┐ ░ └───┘ ║ └╥┘\n",
            "q2029_2: ──────────┤ X ├┤ H ├─░───────╫──╫─\n",
            "                   └───┘└───┘ ░       ║  ║ \n",
            "  c10: 2/═════════════════════════════╩══╩═\n",
            "                                      0  1 \n"
          ],
          "name": "stdout"
        }
      ]
    },
    {
      "cell_type": "markdown",
      "metadata": {
        "id": "_QJBSUeTE5hl"
      },
      "source": [
        "Now make a copy of this circuit (we will need it for the fitter) and make a new circuit with an ancilla measurement attached (this is what will be run):"
      ]
    },
    {
      "cell_type": "code",
      "metadata": {
        "ExecuteTime": {
          "end_time": "2019-12-10T22:03:01.915062Z",
          "start_time": "2019-12-10T22:03:01.906411Z"
        },
        "id": "yucn9dglE5hm"
      },
      "source": [
        "#Make a copy without the ancilla register\n",
        "qst_ghz_no_anc = deepcopy(qst_ghz)\n",
        "ca = ClassicalRegister(1)\n",
        "for qst_ghz_circ in qst_ghz:\n",
        "    qst_ghz_circ.add_register(ca)\n",
        "    qst_ghz_circ.measure(q2[2],ca[0])"
      ],
      "execution_count": 18,
      "outputs": []
    },
    {
      "cell_type": "code",
      "metadata": {
        "ExecuteTime": {
          "end_time": "2019-12-10T22:03:02.335643Z",
          "start_time": "2019-12-10T22:03:01.919990Z"
        },
        "id": "xxTY4uadE5hr"
      },
      "source": [
        "#Run in Aer\n",
        "job = qiskit.execute(qst_ghz, Aer.get_backend('qasm_simulator'), shots=10000)\n",
        "raw_results = job.result()"
      ],
      "execution_count": 19,
      "outputs": []
    },
    {
      "cell_type": "markdown",
      "metadata": {
        "id": "q0qZ8iWIE5hv"
      },
      "source": [
        "Before sending the results to the state tomography fitter we must strip the register for the Q2 measurement and only keep the results when that register is 1."
      ]
    },
    {
      "cell_type": "code",
      "metadata": {
        "ExecuteTime": {
          "end_time": "2019-12-10T22:03:02.348493Z",
          "start_time": "2019-12-10T22:03:02.337934Z"
        },
        "id": "bnPkeJT7E5hv"
      },
      "source": [
        "new_result = deepcopy(raw_results)\n",
        "\n",
        "for resultidx, _ in enumerate(raw_results.results):\n",
        "    old_counts = raw_results.get_counts(resultidx)\n",
        "    new_counts = {}\n",
        "    \n",
        "    #change the size of the classical register\n",
        "    new_result.results[resultidx].header.creg_sizes = [new_result.results[resultidx].header.creg_sizes[0]]\n",
        "    new_result.results[resultidx].header.clbit_labels = new_result.results[resultidx].header.clbit_labels[0:-1]\n",
        "    new_result.results[resultidx].header.memory_slots = 2\n",
        "    \n",
        "    for reg_key in old_counts:\n",
        "        reg_bits = reg_key.split(' ')\n",
        "        if reg_bits[0]=='1':\n",
        "            new_counts[reg_bits[1]]=old_counts[reg_key]\n",
        "\n",
        "        new_result.results[resultidx].data.counts = new_counts "
      ],
      "execution_count": 20,
      "outputs": []
    },
    {
      "cell_type": "code",
      "metadata": {
        "ExecuteTime": {
          "end_time": "2019-12-10T22:03:02.381672Z",
          "start_time": "2019-12-10T22:03:02.350264Z"
        },
        "id": "FDTFaT4TE5h0"
      },
      "source": [
        "tomo_bell = StateTomographyFitter(new_result, qst_ghz_no_anc)\n",
        "# Perform the tomography fit\n",
        "# which outputs a density matrix\n",
        "rho_bell = tomo_bell.fit()"
      ],
      "execution_count": 21,
      "outputs": []
    },
    {
      "cell_type": "code",
      "metadata": {
        "ExecuteTime": {
          "end_time": "2019-12-10T22:03:02.390883Z",
          "start_time": "2019-12-10T22:03:02.383619Z"
        },
        "id": "QwG64UukE5h5",
        "outputId": "551037a5-85af-4db5-ceb7-ecefc1c1762f",
        "colab": {
          "base_uri": "https://localhost:8080/",
          "height": 85
        }
      },
      "source": [
        "np.around(rho_bell,3)"
      ],
      "execution_count": 22,
      "outputs": [
        {
          "output_type": "execute_result",
          "data": {
            "text/plain": [
              "array([[ 0.496+0.j   ,  0.   +0.003j,  0.   -0.004j, -0.5  -0.005j],\n",
              "       [ 0.   -0.003j,  0.   +0.j   , -0.   -0.j   , -0.   +0.003j],\n",
              "       [ 0.   +0.004j, -0.   +0.j   ,  0.   +0.j   ,  0.   -0.004j],\n",
              "       [-0.5  +0.005j, -0.   -0.003j,  0.   +0.004j,  0.504+0.j   ]])"
            ]
          },
          "metadata": {
            "tags": []
          },
          "execution_count": 22
        }
      ]
    },
    {
      "cell_type": "markdown",
      "metadata": {
        "id": "ooMEJfbuE5h9"
      },
      "source": [
        "# Gate set tomography"
      ]
    },
    {
      "cell_type": "markdown",
      "metadata": {
        "id": "cGnxkAt8E5h9"
      },
      "source": [
        "## 1-Qubit gate set tomography Examples"
      ]
    },
    {
      "cell_type": "markdown",
      "metadata": {
        "id": "jJo4geyFE5h-"
      },
      "source": [
        "The main difference between gate set tomography and process tomography is that in gate set tomography, the input consists of a gate set basis: A set of gates that are both used in the initialization/measurement phase of the tomography, and are being reconstructed.\n",
        "\n",
        "Qiskit supplies a default gateset basis; in order to use this gateset basis in order to reconstruct another gate, this gate should be added to the basis. We use the following method to simplify the process:"
      ]
    },
    {
      "cell_type": "code",
      "metadata": {
        "id": "eFhohmGsE5h_"
      },
      "source": [
        "from qiskit.ignis.verification.tomography.basis import default_gateset_basis\n",
        "\n",
        "def collect_tomography_data(shots=10000,\n",
        "                            noise_model=None,\n",
        "                            gateset_basis='Standard GST'):\n",
        "    backend_qasm = Aer.get_backend('qasm_simulator')\n",
        "    circuits = gateset_tomography_circuits(gateset_basis=gateset_basis)\n",
        "    qobj = assemble(circuits, shots=shots)\n",
        "    result = backend_qasm.run(qobj, noise_model=noise_model).result()\n",
        "    fitter = GatesetTomographyFitter(result, circuits, gateset_basis)\n",
        "    return fitter\n",
        "\n",
        "def gate_set_tomography(gate, noise_model=None):\n",
        "    basis = default_gateset_basis()\n",
        "    basis.add_gate(gate)\n",
        "    fitter = collect_tomography_data(shots=10000, noise_model=noise_model, gateset_basis=basis)\n",
        "    result_gates = fitter.fit()\n",
        "    result_gate = result_gates[gate.name]\n",
        "    return Choi(result_gate)"
      ],
      "execution_count": 23,
      "outputs": []
    },
    {
      "cell_type": "markdown",
      "metadata": {
        "id": "4QmtAlzRE5iF"
      },
      "source": [
        "### Noiseless 1-qubit gate set tomography"
      ]
    },
    {
      "cell_type": "code",
      "metadata": {
        "id": "4OKL9ANOE5iH",
        "outputId": "ea756cbe-11ce-4608-f53b-b921719457d9",
        "colab": {
          "base_uri": "https://localhost:8080/",
          "height": 1000
        }
      },
      "source": [
        "choi_ideal = Choi(HGate()).data\n",
        "t = time.time()\n",
        "choi = gate_set_tomography(HGate())\n",
        "print('fit time:', time.time() - t)\n",
        "print('fit fidelity (state):', state_fidelity(choi_ideal / 2, choi.data / 2, validate=False))\n",
        "print('fit fidelity (process):', np.real(process_fidelity(choi_ideal, choi.data, require_cp=False)))"
      ],
      "execution_count": 24,
      "outputs": [
        {
          "output_type": "stream",
          "text": [
            "/usr/local/lib/python3.6/dist-packages/qiskit/ignis/verification/tomography/basis/gatesetbasis.py:255: DeprecationWarning: The QuantumCircuit.u2 method is deprecated as of 0.16.0. It will be removed no earlier than 3 months after the release date. You can use the general 1-qubit gate QuantumCircuit.u instead: u2(φ,λ) = u(π/2, φ, λ). Alternatively, you can decompose it in terms of QuantumCircuit.p and QuantumCircuit.sx: u2(φ,λ) = p(π/2+φ) sx p(π/2+λ) (1 pulse on hardware).\n",
            "  'X_Rot_90': lambda circ, qubit: circ.u2(-np.pi / 2, np.pi / 2, qubit),\n",
            "/usr/local/lib/python3.6/dist-packages/qiskit/ignis/verification/tomography/basis/gatesetbasis.py:256: DeprecationWarning: The QuantumCircuit.u2 method is deprecated as of 0.16.0. It will be removed no earlier than 3 months after the release date. You can use the general 1-qubit gate QuantumCircuit.u instead: u2(φ,λ) = u(π/2, φ, λ). Alternatively, you can decompose it in terms of QuantumCircuit.p and QuantumCircuit.sx: u2(φ,λ) = p(π/2+φ) sx p(π/2+λ) (1 pulse on hardware).\n",
            "  'Y_Rot_90': lambda circ, qubit: circ.u2(np.pi, np.pi, qubit)\n",
            "/usr/local/lib/python3.6/dist-packages/qiskit/ignis/verification/tomography/basis/gatesetbasis.py:255: DeprecationWarning: The QuantumCircuit.u2 method is deprecated as of 0.16.0. It will be removed no earlier than 3 months after the release date. You can use the general 1-qubit gate QuantumCircuit.u instead: u2(φ,λ) = u(π/2, φ, λ). Alternatively, you can decompose it in terms of QuantumCircuit.p and QuantumCircuit.sx: u2(φ,λ) = p(π/2+φ) sx p(π/2+λ) (1 pulse on hardware).\n",
            "  'X_Rot_90': lambda circ, qubit: circ.u2(-np.pi / 2, np.pi / 2, qubit),\n",
            "/usr/local/lib/python3.6/dist-packages/qiskit/ignis/verification/tomography/basis/gatesetbasis.py:256: DeprecationWarning: The QuantumCircuit.u2 method is deprecated as of 0.16.0. It will be removed no earlier than 3 months after the release date. You can use the general 1-qubit gate QuantumCircuit.u instead: u2(φ,λ) = u(π/2, φ, λ). Alternatively, you can decompose it in terms of QuantumCircuit.p and QuantumCircuit.sx: u2(φ,λ) = p(π/2+φ) sx p(π/2+λ) (1 pulse on hardware).\n",
            "  'Y_Rot_90': lambda circ, qubit: circ.u2(np.pi, np.pi, qubit)\n",
            "/usr/local/lib/python3.6/dist-packages/qiskit/ignis/verification/tomography/basis/gatesetbasis.py:255: DeprecationWarning: The QuantumCircuit.u2 method is deprecated as of 0.16.0. It will be removed no earlier than 3 months after the release date. You can use the general 1-qubit gate QuantumCircuit.u instead: u2(φ,λ) = u(π/2, φ, λ). Alternatively, you can decompose it in terms of QuantumCircuit.p and QuantumCircuit.sx: u2(φ,λ) = p(π/2+φ) sx p(π/2+λ) (1 pulse on hardware).\n",
            "  'X_Rot_90': lambda circ, qubit: circ.u2(-np.pi / 2, np.pi / 2, qubit),\n",
            "/usr/local/lib/python3.6/dist-packages/qiskit/ignis/verification/tomography/basis/gatesetbasis.py:255: DeprecationWarning: The QuantumCircuit.u2 method is deprecated as of 0.16.0. It will be removed no earlier than 3 months after the release date. You can use the general 1-qubit gate QuantumCircuit.u instead: u2(φ,λ) = u(π/2, φ, λ). Alternatively, you can decompose it in terms of QuantumCircuit.p and QuantumCircuit.sx: u2(φ,λ) = p(π/2+φ) sx p(π/2+λ) (1 pulse on hardware).\n",
            "  'X_Rot_90': lambda circ, qubit: circ.u2(-np.pi / 2, np.pi / 2, qubit),\n",
            "/usr/local/lib/python3.6/dist-packages/qiskit/ignis/verification/tomography/basis/gatesetbasis.py:255: DeprecationWarning: The QuantumCircuit.u2 method is deprecated as of 0.16.0. It will be removed no earlier than 3 months after the release date. You can use the general 1-qubit gate QuantumCircuit.u instead: u2(φ,λ) = u(π/2, φ, λ). Alternatively, you can decompose it in terms of QuantumCircuit.p and QuantumCircuit.sx: u2(φ,λ) = p(π/2+φ) sx p(π/2+λ) (1 pulse on hardware).\n",
            "  'X_Rot_90': lambda circ, qubit: circ.u2(-np.pi / 2, np.pi / 2, qubit),\n",
            "/usr/local/lib/python3.6/dist-packages/qiskit/ignis/verification/tomography/basis/gatesetbasis.py:255: DeprecationWarning: The QuantumCircuit.u2 method is deprecated as of 0.16.0. It will be removed no earlier than 3 months after the release date. You can use the general 1-qubit gate QuantumCircuit.u instead: u2(φ,λ) = u(π/2, φ, λ). Alternatively, you can decompose it in terms of QuantumCircuit.p and QuantumCircuit.sx: u2(φ,λ) = p(π/2+φ) sx p(π/2+λ) (1 pulse on hardware).\n",
            "  'X_Rot_90': lambda circ, qubit: circ.u2(-np.pi / 2, np.pi / 2, qubit),\n",
            "/usr/local/lib/python3.6/dist-packages/qiskit/ignis/verification/tomography/basis/gatesetbasis.py:256: DeprecationWarning: The QuantumCircuit.u2 method is deprecated as of 0.16.0. It will be removed no earlier than 3 months after the release date. You can use the general 1-qubit gate QuantumCircuit.u instead: u2(φ,λ) = u(π/2, φ, λ). Alternatively, you can decompose it in terms of QuantumCircuit.p and QuantumCircuit.sx: u2(φ,λ) = p(π/2+φ) sx p(π/2+λ) (1 pulse on hardware).\n",
            "  'Y_Rot_90': lambda circ, qubit: circ.u2(np.pi, np.pi, qubit)\n",
            "/usr/local/lib/python3.6/dist-packages/qiskit/ignis/verification/tomography/basis/gatesetbasis.py:255: DeprecationWarning: The QuantumCircuit.u2 method is deprecated as of 0.16.0. It will be removed no earlier than 3 months after the release date. You can use the general 1-qubit gate QuantumCircuit.u instead: u2(φ,λ) = u(π/2, φ, λ). Alternatively, you can decompose it in terms of QuantumCircuit.p and QuantumCircuit.sx: u2(φ,λ) = p(π/2+φ) sx p(π/2+λ) (1 pulse on hardware).\n",
            "  'X_Rot_90': lambda circ, qubit: circ.u2(-np.pi / 2, np.pi / 2, qubit),\n",
            "/usr/local/lib/python3.6/dist-packages/qiskit/ignis/verification/tomography/basis/gatesetbasis.py:255: DeprecationWarning: The QuantumCircuit.u2 method is deprecated as of 0.16.0. It will be removed no earlier than 3 months after the release date. You can use the general 1-qubit gate QuantumCircuit.u instead: u2(φ,λ) = u(π/2, φ, λ). Alternatively, you can decompose it in terms of QuantumCircuit.p and QuantumCircuit.sx: u2(φ,λ) = p(π/2+φ) sx p(π/2+λ) (1 pulse on hardware).\n",
            "  'X_Rot_90': lambda circ, qubit: circ.u2(-np.pi / 2, np.pi / 2, qubit),\n",
            "/usr/local/lib/python3.6/dist-packages/qiskit/ignis/verification/tomography/basis/gatesetbasis.py:256: DeprecationWarning: The QuantumCircuit.u2 method is deprecated as of 0.16.0. It will be removed no earlier than 3 months after the release date. You can use the general 1-qubit gate QuantumCircuit.u instead: u2(φ,λ) = u(π/2, φ, λ). Alternatively, you can decompose it in terms of QuantumCircuit.p and QuantumCircuit.sx: u2(φ,λ) = p(π/2+φ) sx p(π/2+λ) (1 pulse on hardware).\n",
            "  'Y_Rot_90': lambda circ, qubit: circ.u2(np.pi, np.pi, qubit)\n",
            "/usr/local/lib/python3.6/dist-packages/qiskit/ignis/verification/tomography/basis/gatesetbasis.py:255: DeprecationWarning: The QuantumCircuit.u2 method is deprecated as of 0.16.0. It will be removed no earlier than 3 months after the release date. You can use the general 1-qubit gate QuantumCircuit.u instead: u2(φ,λ) = u(π/2, φ, λ). Alternatively, you can decompose it in terms of QuantumCircuit.p and QuantumCircuit.sx: u2(φ,λ) = p(π/2+φ) sx p(π/2+λ) (1 pulse on hardware).\n",
            "  'X_Rot_90': lambda circ, qubit: circ.u2(-np.pi / 2, np.pi / 2, qubit),\n",
            "/usr/local/lib/python3.6/dist-packages/qiskit/ignis/verification/tomography/basis/gatesetbasis.py:256: DeprecationWarning: The QuantumCircuit.u2 method is deprecated as of 0.16.0. It will be removed no earlier than 3 months after the release date. You can use the general 1-qubit gate QuantumCircuit.u instead: u2(φ,λ) = u(π/2, φ, λ). Alternatively, you can decompose it in terms of QuantumCircuit.p and QuantumCircuit.sx: u2(φ,λ) = p(π/2+φ) sx p(π/2+λ) (1 pulse on hardware).\n",
            "  'Y_Rot_90': lambda circ, qubit: circ.u2(np.pi, np.pi, qubit)\n",
            "/usr/local/lib/python3.6/dist-packages/qiskit/ignis/verification/tomography/basis/gatesetbasis.py:255: DeprecationWarning: The QuantumCircuit.u2 method is deprecated as of 0.16.0. It will be removed no earlier than 3 months after the release date. You can use the general 1-qubit gate QuantumCircuit.u instead: u2(φ,λ) = u(π/2, φ, λ). Alternatively, you can decompose it in terms of QuantumCircuit.p and QuantumCircuit.sx: u2(φ,λ) = p(π/2+φ) sx p(π/2+λ) (1 pulse on hardware).\n",
            "  'X_Rot_90': lambda circ, qubit: circ.u2(-np.pi / 2, np.pi / 2, qubit),\n",
            "/usr/local/lib/python3.6/dist-packages/qiskit/ignis/verification/tomography/basis/gatesetbasis.py:255: DeprecationWarning: The QuantumCircuit.u2 method is deprecated as of 0.16.0. It will be removed no earlier than 3 months after the release date. You can use the general 1-qubit gate QuantumCircuit.u instead: u2(φ,λ) = u(π/2, φ, λ). Alternatively, you can decompose it in terms of QuantumCircuit.p and QuantumCircuit.sx: u2(φ,λ) = p(π/2+φ) sx p(π/2+λ) (1 pulse on hardware).\n",
            "  'X_Rot_90': lambda circ, qubit: circ.u2(-np.pi / 2, np.pi / 2, qubit),\n",
            "/usr/local/lib/python3.6/dist-packages/qiskit/ignis/verification/tomography/basis/gatesetbasis.py:255: DeprecationWarning: The QuantumCircuit.u2 method is deprecated as of 0.16.0. It will be removed no earlier than 3 months after the release date. You can use the general 1-qubit gate QuantumCircuit.u instead: u2(φ,λ) = u(π/2, φ, λ). Alternatively, you can decompose it in terms of QuantumCircuit.p and QuantumCircuit.sx: u2(φ,λ) = p(π/2+φ) sx p(π/2+λ) (1 pulse on hardware).\n",
            "  'X_Rot_90': lambda circ, qubit: circ.u2(-np.pi / 2, np.pi / 2, qubit),\n",
            "/usr/local/lib/python3.6/dist-packages/qiskit/ignis/verification/tomography/basis/gatesetbasis.py:255: DeprecationWarning: The QuantumCircuit.u2 method is deprecated as of 0.16.0. It will be removed no earlier than 3 months after the release date. You can use the general 1-qubit gate QuantumCircuit.u instead: u2(φ,λ) = u(π/2, φ, λ). Alternatively, you can decompose it in terms of QuantumCircuit.p and QuantumCircuit.sx: u2(φ,λ) = p(π/2+φ) sx p(π/2+λ) (1 pulse on hardware).\n",
            "  'X_Rot_90': lambda circ, qubit: circ.u2(-np.pi / 2, np.pi / 2, qubit),\n",
            "/usr/local/lib/python3.6/dist-packages/qiskit/ignis/verification/tomography/basis/gatesetbasis.py:255: DeprecationWarning: The QuantumCircuit.u2 method is deprecated as of 0.16.0. It will be removed no earlier than 3 months after the release date. You can use the general 1-qubit gate QuantumCircuit.u instead: u2(φ,λ) = u(π/2, φ, λ). Alternatively, you can decompose it in terms of QuantumCircuit.p and QuantumCircuit.sx: u2(φ,λ) = p(π/2+φ) sx p(π/2+λ) (1 pulse on hardware).\n",
            "  'X_Rot_90': lambda circ, qubit: circ.u2(-np.pi / 2, np.pi / 2, qubit),\n",
            "/usr/local/lib/python3.6/dist-packages/qiskit/ignis/verification/tomography/basis/gatesetbasis.py:256: DeprecationWarning: The QuantumCircuit.u2 method is deprecated as of 0.16.0. It will be removed no earlier than 3 months after the release date. You can use the general 1-qubit gate QuantumCircuit.u instead: u2(φ,λ) = u(π/2, φ, λ). Alternatively, you can decompose it in terms of QuantumCircuit.p and QuantumCircuit.sx: u2(φ,λ) = p(π/2+φ) sx p(π/2+λ) (1 pulse on hardware).\n",
            "  'Y_Rot_90': lambda circ, qubit: circ.u2(np.pi, np.pi, qubit)\n",
            "/usr/local/lib/python3.6/dist-packages/qiskit/ignis/verification/tomography/basis/gatesetbasis.py:255: DeprecationWarning: The QuantumCircuit.u2 method is deprecated as of 0.16.0. It will be removed no earlier than 3 months after the release date. You can use the general 1-qubit gate QuantumCircuit.u instead: u2(φ,λ) = u(π/2, φ, λ). Alternatively, you can decompose it in terms of QuantumCircuit.p and QuantumCircuit.sx: u2(φ,λ) = p(π/2+φ) sx p(π/2+λ) (1 pulse on hardware).\n",
            "  'X_Rot_90': lambda circ, qubit: circ.u2(-np.pi / 2, np.pi / 2, qubit),\n",
            "/usr/local/lib/python3.6/dist-packages/qiskit/ignis/verification/tomography/basis/gatesetbasis.py:255: DeprecationWarning: The QuantumCircuit.u2 method is deprecated as of 0.16.0. It will be removed no earlier than 3 months after the release date. You can use the general 1-qubit gate QuantumCircuit.u instead: u2(φ,λ) = u(π/2, φ, λ). Alternatively, you can decompose it in terms of QuantumCircuit.p and QuantumCircuit.sx: u2(φ,λ) = p(π/2+φ) sx p(π/2+λ) (1 pulse on hardware).\n",
            "  'X_Rot_90': lambda circ, qubit: circ.u2(-np.pi / 2, np.pi / 2, qubit),\n",
            "/usr/local/lib/python3.6/dist-packages/qiskit/ignis/verification/tomography/basis/gatesetbasis.py:255: DeprecationWarning: The QuantumCircuit.u2 method is deprecated as of 0.16.0. It will be removed no earlier than 3 months after the release date. You can use the general 1-qubit gate QuantumCircuit.u instead: u2(φ,λ) = u(π/2, φ, λ). Alternatively, you can decompose it in terms of QuantumCircuit.p and QuantumCircuit.sx: u2(φ,λ) = p(π/2+φ) sx p(π/2+λ) (1 pulse on hardware).\n",
            "  'X_Rot_90': lambda circ, qubit: circ.u2(-np.pi / 2, np.pi / 2, qubit),\n",
            "/usr/local/lib/python3.6/dist-packages/qiskit/ignis/verification/tomography/basis/gatesetbasis.py:255: DeprecationWarning: The QuantumCircuit.u2 method is deprecated as of 0.16.0. It will be removed no earlier than 3 months after the release date. You can use the general 1-qubit gate QuantumCircuit.u instead: u2(φ,λ) = u(π/2, φ, λ). Alternatively, you can decompose it in terms of QuantumCircuit.p and QuantumCircuit.sx: u2(φ,λ) = p(π/2+φ) sx p(π/2+λ) (1 pulse on hardware).\n",
            "  'X_Rot_90': lambda circ, qubit: circ.u2(-np.pi / 2, np.pi / 2, qubit),\n",
            "/usr/local/lib/python3.6/dist-packages/qiskit/ignis/verification/tomography/basis/gatesetbasis.py:256: DeprecationWarning: The QuantumCircuit.u2 method is deprecated as of 0.16.0. It will be removed no earlier than 3 months after the release date. You can use the general 1-qubit gate QuantumCircuit.u instead: u2(φ,λ) = u(π/2, φ, λ). Alternatively, you can decompose it in terms of QuantumCircuit.p and QuantumCircuit.sx: u2(φ,λ) = p(π/2+φ) sx p(π/2+λ) (1 pulse on hardware).\n",
            "  'Y_Rot_90': lambda circ, qubit: circ.u2(np.pi, np.pi, qubit)\n",
            "/usr/local/lib/python3.6/dist-packages/qiskit/ignis/verification/tomography/basis/gatesetbasis.py:255: DeprecationWarning: The QuantumCircuit.u2 method is deprecated as of 0.16.0. It will be removed no earlier than 3 months after the release date. You can use the general 1-qubit gate QuantumCircuit.u instead: u2(φ,λ) = u(π/2, φ, λ). Alternatively, you can decompose it in terms of QuantumCircuit.p and QuantumCircuit.sx: u2(φ,λ) = p(π/2+φ) sx p(π/2+λ) (1 pulse on hardware).\n",
            "  'X_Rot_90': lambda circ, qubit: circ.u2(-np.pi / 2, np.pi / 2, qubit),\n",
            "/usr/local/lib/python3.6/dist-packages/qiskit/ignis/verification/tomography/basis/gatesetbasis.py:255: DeprecationWarning: The QuantumCircuit.u2 method is deprecated as of 0.16.0. It will be removed no earlier than 3 months after the release date. You can use the general 1-qubit gate QuantumCircuit.u instead: u2(φ,λ) = u(π/2, φ, λ). Alternatively, you can decompose it in terms of QuantumCircuit.p and QuantumCircuit.sx: u2(φ,λ) = p(π/2+φ) sx p(π/2+λ) (1 pulse on hardware).\n",
            "  'X_Rot_90': lambda circ, qubit: circ.u2(-np.pi / 2, np.pi / 2, qubit),\n",
            "/usr/local/lib/python3.6/dist-packages/qiskit/ignis/verification/tomography/basis/gatesetbasis.py:255: DeprecationWarning: The QuantumCircuit.u2 method is deprecated as of 0.16.0. It will be removed no earlier than 3 months after the release date. You can use the general 1-qubit gate QuantumCircuit.u instead: u2(φ,λ) = u(π/2, φ, λ). Alternatively, you can decompose it in terms of QuantumCircuit.p and QuantumCircuit.sx: u2(φ,λ) = p(π/2+φ) sx p(π/2+λ) (1 pulse on hardware).\n",
            "  'X_Rot_90': lambda circ, qubit: circ.u2(-np.pi / 2, np.pi / 2, qubit),\n",
            "/usr/local/lib/python3.6/dist-packages/qiskit/ignis/verification/tomography/basis/gatesetbasis.py:255: DeprecationWarning: The QuantumCircuit.u2 method is deprecated as of 0.16.0. It will be removed no earlier than 3 months after the release date. You can use the general 1-qubit gate QuantumCircuit.u instead: u2(φ,λ) = u(π/2, φ, λ). Alternatively, you can decompose it in terms of QuantumCircuit.p and QuantumCircuit.sx: u2(φ,λ) = p(π/2+φ) sx p(π/2+λ) (1 pulse on hardware).\n",
            "  'X_Rot_90': lambda circ, qubit: circ.u2(-np.pi / 2, np.pi / 2, qubit),\n",
            "/usr/local/lib/python3.6/dist-packages/qiskit/ignis/verification/tomography/basis/gatesetbasis.py:256: DeprecationWarning: The QuantumCircuit.u2 method is deprecated as of 0.16.0. It will be removed no earlier than 3 months after the release date. You can use the general 1-qubit gate QuantumCircuit.u instead: u2(φ,λ) = u(π/2, φ, λ). Alternatively, you can decompose it in terms of QuantumCircuit.p and QuantumCircuit.sx: u2(φ,λ) = p(π/2+φ) sx p(π/2+λ) (1 pulse on hardware).\n",
            "  'Y_Rot_90': lambda circ, qubit: circ.u2(np.pi, np.pi, qubit)\n",
            "/usr/local/lib/python3.6/dist-packages/qiskit/ignis/verification/tomography/basis/gatesetbasis.py:255: DeprecationWarning: The QuantumCircuit.u2 method is deprecated as of 0.16.0. It will be removed no earlier than 3 months after the release date. You can use the general 1-qubit gate QuantumCircuit.u instead: u2(φ,λ) = u(π/2, φ, λ). Alternatively, you can decompose it in terms of QuantumCircuit.p and QuantumCircuit.sx: u2(φ,λ) = p(π/2+φ) sx p(π/2+λ) (1 pulse on hardware).\n",
            "  'X_Rot_90': lambda circ, qubit: circ.u2(-np.pi / 2, np.pi / 2, qubit),\n",
            "/usr/local/lib/python3.6/dist-packages/qiskit/ignis/verification/tomography/basis/gatesetbasis.py:255: DeprecationWarning: The QuantumCircuit.u2 method is deprecated as of 0.16.0. It will be removed no earlier than 3 months after the release date. You can use the general 1-qubit gate QuantumCircuit.u instead: u2(φ,λ) = u(π/2, φ, λ). Alternatively, you can decompose it in terms of QuantumCircuit.p and QuantumCircuit.sx: u2(φ,λ) = p(π/2+φ) sx p(π/2+λ) (1 pulse on hardware).\n",
            "  'X_Rot_90': lambda circ, qubit: circ.u2(-np.pi / 2, np.pi / 2, qubit),\n",
            "/usr/local/lib/python3.6/dist-packages/qiskit/ignis/verification/tomography/basis/gatesetbasis.py:256: DeprecationWarning: The QuantumCircuit.u2 method is deprecated as of 0.16.0. It will be removed no earlier than 3 months after the release date. You can use the general 1-qubit gate QuantumCircuit.u instead: u2(φ,λ) = u(π/2, φ, λ). Alternatively, you can decompose it in terms of QuantumCircuit.p and QuantumCircuit.sx: u2(φ,λ) = p(π/2+φ) sx p(π/2+λ) (1 pulse on hardware).\n",
            "  'Y_Rot_90': lambda circ, qubit: circ.u2(np.pi, np.pi, qubit)\n",
            "/usr/local/lib/python3.6/dist-packages/qiskit/ignis/verification/tomography/basis/gatesetbasis.py:255: DeprecationWarning: The QuantumCircuit.u2 method is deprecated as of 0.16.0. It will be removed no earlier than 3 months after the release date. You can use the general 1-qubit gate QuantumCircuit.u instead: u2(φ,λ) = u(π/2, φ, λ). Alternatively, you can decompose it in terms of QuantumCircuit.p and QuantumCircuit.sx: u2(φ,λ) = p(π/2+φ) sx p(π/2+λ) (1 pulse on hardware).\n",
            "  'X_Rot_90': lambda circ, qubit: circ.u2(-np.pi / 2, np.pi / 2, qubit),\n",
            "/usr/local/lib/python3.6/dist-packages/qiskit/ignis/verification/tomography/basis/gatesetbasis.py:256: DeprecationWarning: The QuantumCircuit.u2 method is deprecated as of 0.16.0. It will be removed no earlier than 3 months after the release date. You can use the general 1-qubit gate QuantumCircuit.u instead: u2(φ,λ) = u(π/2, φ, λ). Alternatively, you can decompose it in terms of QuantumCircuit.p and QuantumCircuit.sx: u2(φ,λ) = p(π/2+φ) sx p(π/2+λ) (1 pulse on hardware).\n",
            "  'Y_Rot_90': lambda circ, qubit: circ.u2(np.pi, np.pi, qubit)\n",
            "/usr/local/lib/python3.6/dist-packages/qiskit/ignis/verification/tomography/basis/gatesetbasis.py:255: DeprecationWarning: The QuantumCircuit.u2 method is deprecated as of 0.16.0. It will be removed no earlier than 3 months after the release date. You can use the general 1-qubit gate QuantumCircuit.u instead: u2(φ,λ) = u(π/2, φ, λ). Alternatively, you can decompose it in terms of QuantumCircuit.p and QuantumCircuit.sx: u2(φ,λ) = p(π/2+φ) sx p(π/2+λ) (1 pulse on hardware).\n",
            "  'X_Rot_90': lambda circ, qubit: circ.u2(-np.pi / 2, np.pi / 2, qubit),\n",
            "/usr/local/lib/python3.6/dist-packages/qiskit/ignis/verification/tomography/basis/gatesetbasis.py:255: DeprecationWarning: The QuantumCircuit.u2 method is deprecated as of 0.16.0. It will be removed no earlier than 3 months after the release date. You can use the general 1-qubit gate QuantumCircuit.u instead: u2(φ,λ) = u(π/2, φ, λ). Alternatively, you can decompose it in terms of QuantumCircuit.p and QuantumCircuit.sx: u2(φ,λ) = p(π/2+φ) sx p(π/2+λ) (1 pulse on hardware).\n",
            "  'X_Rot_90': lambda circ, qubit: circ.u2(-np.pi / 2, np.pi / 2, qubit),\n",
            "/usr/local/lib/python3.6/dist-packages/qiskit/ignis/verification/tomography/basis/gatesetbasis.py:255: DeprecationWarning: The QuantumCircuit.u2 method is deprecated as of 0.16.0. It will be removed no earlier than 3 months after the release date. You can use the general 1-qubit gate QuantumCircuit.u instead: u2(φ,λ) = u(π/2, φ, λ). Alternatively, you can decompose it in terms of QuantumCircuit.p and QuantumCircuit.sx: u2(φ,λ) = p(π/2+φ) sx p(π/2+λ) (1 pulse on hardware).\n",
            "  'X_Rot_90': lambda circ, qubit: circ.u2(-np.pi / 2, np.pi / 2, qubit),\n",
            "/usr/local/lib/python3.6/dist-packages/qiskit/ignis/verification/tomography/basis/gatesetbasis.py:255: DeprecationWarning: The QuantumCircuit.u2 method is deprecated as of 0.16.0. It will be removed no earlier than 3 months after the release date. You can use the general 1-qubit gate QuantumCircuit.u instead: u2(φ,λ) = u(π/2, φ, λ). Alternatively, you can decompose it in terms of QuantumCircuit.p and QuantumCircuit.sx: u2(φ,λ) = p(π/2+φ) sx p(π/2+λ) (1 pulse on hardware).\n",
            "  'X_Rot_90': lambda circ, qubit: circ.u2(-np.pi / 2, np.pi / 2, qubit),\n",
            "/usr/local/lib/python3.6/dist-packages/qiskit/ignis/verification/tomography/basis/gatesetbasis.py:255: DeprecationWarning: The QuantumCircuit.u2 method is deprecated as of 0.16.0. It will be removed no earlier than 3 months after the release date. You can use the general 1-qubit gate QuantumCircuit.u instead: u2(φ,λ) = u(π/2, φ, λ). Alternatively, you can decompose it in terms of QuantumCircuit.p and QuantumCircuit.sx: u2(φ,λ) = p(π/2+φ) sx p(π/2+λ) (1 pulse on hardware).\n",
            "  'X_Rot_90': lambda circ, qubit: circ.u2(-np.pi / 2, np.pi / 2, qubit),\n",
            "/usr/local/lib/python3.6/dist-packages/qiskit/ignis/verification/tomography/basis/gatesetbasis.py:256: DeprecationWarning: The QuantumCircuit.u2 method is deprecated as of 0.16.0. It will be removed no earlier than 3 months after the release date. You can use the general 1-qubit gate QuantumCircuit.u instead: u2(φ,λ) = u(π/2, φ, λ). Alternatively, you can decompose it in terms of QuantumCircuit.p and QuantumCircuit.sx: u2(φ,λ) = p(π/2+φ) sx p(π/2+λ) (1 pulse on hardware).\n",
            "  'Y_Rot_90': lambda circ, qubit: circ.u2(np.pi, np.pi, qubit)\n",
            "/usr/local/lib/python3.6/dist-packages/qiskit/ignis/verification/tomography/basis/gatesetbasis.py:255: DeprecationWarning: The QuantumCircuit.u2 method is deprecated as of 0.16.0. It will be removed no earlier than 3 months after the release date. You can use the general 1-qubit gate QuantumCircuit.u instead: u2(φ,λ) = u(π/2, φ, λ). Alternatively, you can decompose it in terms of QuantumCircuit.p and QuantumCircuit.sx: u2(φ,λ) = p(π/2+φ) sx p(π/2+λ) (1 pulse on hardware).\n",
            "  'X_Rot_90': lambda circ, qubit: circ.u2(-np.pi / 2, np.pi / 2, qubit),\n",
            "/usr/local/lib/python3.6/dist-packages/qiskit/ignis/verification/tomography/basis/gatesetbasis.py:255: DeprecationWarning: The QuantumCircuit.u2 method is deprecated as of 0.16.0. It will be removed no earlier than 3 months after the release date. You can use the general 1-qubit gate QuantumCircuit.u instead: u2(φ,λ) = u(π/2, φ, λ). Alternatively, you can decompose it in terms of QuantumCircuit.p and QuantumCircuit.sx: u2(φ,λ) = p(π/2+φ) sx p(π/2+λ) (1 pulse on hardware).\n",
            "  'X_Rot_90': lambda circ, qubit: circ.u2(-np.pi / 2, np.pi / 2, qubit),\n",
            "/usr/local/lib/python3.6/dist-packages/qiskit/ignis/verification/tomography/basis/gatesetbasis.py:256: DeprecationWarning: The QuantumCircuit.u2 method is deprecated as of 0.16.0. It will be removed no earlier than 3 months after the release date. You can use the general 1-qubit gate QuantumCircuit.u instead: u2(φ,λ) = u(π/2, φ, λ). Alternatively, you can decompose it in terms of QuantumCircuit.p and QuantumCircuit.sx: u2(φ,λ) = p(π/2+φ) sx p(π/2+λ) (1 pulse on hardware).\n",
            "  'Y_Rot_90': lambda circ, qubit: circ.u2(np.pi, np.pi, qubit)\n",
            "/usr/local/lib/python3.6/dist-packages/qiskit/ignis/verification/tomography/basis/gatesetbasis.py:255: DeprecationWarning: The QuantumCircuit.u2 method is deprecated as of 0.16.0. It will be removed no earlier than 3 months after the release date. You can use the general 1-qubit gate QuantumCircuit.u instead: u2(φ,λ) = u(π/2, φ, λ). Alternatively, you can decompose it in terms of QuantumCircuit.p and QuantumCircuit.sx: u2(φ,λ) = p(π/2+φ) sx p(π/2+λ) (1 pulse on hardware).\n",
            "  'X_Rot_90': lambda circ, qubit: circ.u2(-np.pi / 2, np.pi / 2, qubit),\n",
            "/usr/local/lib/python3.6/dist-packages/qiskit/ignis/verification/tomography/basis/gatesetbasis.py:256: DeprecationWarning: The QuantumCircuit.u2 method is deprecated as of 0.16.0. It will be removed no earlier than 3 months after the release date. You can use the general 1-qubit gate QuantumCircuit.u instead: u2(φ,λ) = u(π/2, φ, λ). Alternatively, you can decompose it in terms of QuantumCircuit.p and QuantumCircuit.sx: u2(φ,λ) = p(π/2+φ) sx p(π/2+λ) (1 pulse on hardware).\n",
            "  'Y_Rot_90': lambda circ, qubit: circ.u2(np.pi, np.pi, qubit)\n",
            "/usr/local/lib/python3.6/dist-packages/qiskit/ignis/verification/tomography/basis/gatesetbasis.py:255: DeprecationWarning: The QuantumCircuit.u2 method is deprecated as of 0.16.0. It will be removed no earlier than 3 months after the release date. You can use the general 1-qubit gate QuantumCircuit.u instead: u2(φ,λ) = u(π/2, φ, λ). Alternatively, you can decompose it in terms of QuantumCircuit.p and QuantumCircuit.sx: u2(φ,λ) = p(π/2+φ) sx p(π/2+λ) (1 pulse on hardware).\n",
            "  'X_Rot_90': lambda circ, qubit: circ.u2(-np.pi / 2, np.pi / 2, qubit),\n",
            "/usr/local/lib/python3.6/dist-packages/qiskit/ignis/verification/tomography/basis/gatesetbasis.py:255: DeprecationWarning: The QuantumCircuit.u2 method is deprecated as of 0.16.0. It will be removed no earlier than 3 months after the release date. You can use the general 1-qubit gate QuantumCircuit.u instead: u2(φ,λ) = u(π/2, φ, λ). Alternatively, you can decompose it in terms of QuantumCircuit.p and QuantumCircuit.sx: u2(φ,λ) = p(π/2+φ) sx p(π/2+λ) (1 pulse on hardware).\n",
            "  'X_Rot_90': lambda circ, qubit: circ.u2(-np.pi / 2, np.pi / 2, qubit),\n",
            "/usr/local/lib/python3.6/dist-packages/qiskit/ignis/verification/tomography/basis/gatesetbasis.py:255: DeprecationWarning: The QuantumCircuit.u2 method is deprecated as of 0.16.0. It will be removed no earlier than 3 months after the release date. You can use the general 1-qubit gate QuantumCircuit.u instead: u2(φ,λ) = u(π/2, φ, λ). Alternatively, you can decompose it in terms of QuantumCircuit.p and QuantumCircuit.sx: u2(φ,λ) = p(π/2+φ) sx p(π/2+λ) (1 pulse on hardware).\n",
            "  'X_Rot_90': lambda circ, qubit: circ.u2(-np.pi / 2, np.pi / 2, qubit),\n",
            "/usr/local/lib/python3.6/dist-packages/qiskit/ignis/verification/tomography/basis/gatesetbasis.py:255: DeprecationWarning: The QuantumCircuit.u2 method is deprecated as of 0.16.0. It will be removed no earlier than 3 months after the release date. You can use the general 1-qubit gate QuantumCircuit.u instead: u2(φ,λ) = u(π/2, φ, λ). Alternatively, you can decompose it in terms of QuantumCircuit.p and QuantumCircuit.sx: u2(φ,λ) = p(π/2+φ) sx p(π/2+λ) (1 pulse on hardware).\n",
            "  'X_Rot_90': lambda circ, qubit: circ.u2(-np.pi / 2, np.pi / 2, qubit),\n",
            "/usr/local/lib/python3.6/dist-packages/qiskit/ignis/verification/tomography/basis/gatesetbasis.py:256: DeprecationWarning: The QuantumCircuit.u2 method is deprecated as of 0.16.0. It will be removed no earlier than 3 months after the release date. You can use the general 1-qubit gate QuantumCircuit.u instead: u2(φ,λ) = u(π/2, φ, λ). Alternatively, you can decompose it in terms of QuantumCircuit.p and QuantumCircuit.sx: u2(φ,λ) = p(π/2+φ) sx p(π/2+λ) (1 pulse on hardware).\n",
            "  'Y_Rot_90': lambda circ, qubit: circ.u2(np.pi, np.pi, qubit)\n",
            "/usr/local/lib/python3.6/dist-packages/qiskit/ignis/verification/tomography/basis/gatesetbasis.py:255: DeprecationWarning: The QuantumCircuit.u2 method is deprecated as of 0.16.0. It will be removed no earlier than 3 months after the release date. You can use the general 1-qubit gate QuantumCircuit.u instead: u2(φ,λ) = u(π/2, φ, λ). Alternatively, you can decompose it in terms of QuantumCircuit.p and QuantumCircuit.sx: u2(φ,λ) = p(π/2+φ) sx p(π/2+λ) (1 pulse on hardware).\n",
            "  'X_Rot_90': lambda circ, qubit: circ.u2(-np.pi / 2, np.pi / 2, qubit),\n",
            "/usr/local/lib/python3.6/dist-packages/qiskit/ignis/verification/tomography/basis/gatesetbasis.py:255: DeprecationWarning: The QuantumCircuit.u2 method is deprecated as of 0.16.0. It will be removed no earlier than 3 months after the release date. You can use the general 1-qubit gate QuantumCircuit.u instead: u2(φ,λ) = u(π/2, φ, λ). Alternatively, you can decompose it in terms of QuantumCircuit.p and QuantumCircuit.sx: u2(φ,λ) = p(π/2+φ) sx p(π/2+λ) (1 pulse on hardware).\n",
            "  'X_Rot_90': lambda circ, qubit: circ.u2(-np.pi / 2, np.pi / 2, qubit),\n",
            "/usr/local/lib/python3.6/dist-packages/qiskit/ignis/verification/tomography/basis/gatesetbasis.py:256: DeprecationWarning: The QuantumCircuit.u2 method is deprecated as of 0.16.0. It will be removed no earlier than 3 months after the release date. You can use the general 1-qubit gate QuantumCircuit.u instead: u2(φ,λ) = u(π/2, φ, λ). Alternatively, you can decompose it in terms of QuantumCircuit.p and QuantumCircuit.sx: u2(φ,λ) = p(π/2+φ) sx p(π/2+λ) (1 pulse on hardware).\n",
            "  'Y_Rot_90': lambda circ, qubit: circ.u2(np.pi, np.pi, qubit)\n",
            "/usr/local/lib/python3.6/dist-packages/qiskit/ignis/verification/tomography/basis/gatesetbasis.py:255: DeprecationWarning: The QuantumCircuit.u2 method is deprecated as of 0.16.0. It will be removed no earlier than 3 months after the release date. You can use the general 1-qubit gate QuantumCircuit.u instead: u2(φ,λ) = u(π/2, φ, λ). Alternatively, you can decompose it in terms of QuantumCircuit.p and QuantumCircuit.sx: u2(φ,λ) = p(π/2+φ) sx p(π/2+λ) (1 pulse on hardware).\n",
            "  'X_Rot_90': lambda circ, qubit: circ.u2(-np.pi / 2, np.pi / 2, qubit),\n",
            "/usr/local/lib/python3.6/dist-packages/qiskit/ignis/verification/tomography/basis/gatesetbasis.py:256: DeprecationWarning: The QuantumCircuit.u2 method is deprecated as of 0.16.0. It will be removed no earlier than 3 months after the release date. You can use the general 1-qubit gate QuantumCircuit.u instead: u2(φ,λ) = u(π/2, φ, λ). Alternatively, you can decompose it in terms of QuantumCircuit.p and QuantumCircuit.sx: u2(φ,λ) = p(π/2+φ) sx p(π/2+λ) (1 pulse on hardware).\n",
            "  'Y_Rot_90': lambda circ, qubit: circ.u2(np.pi, np.pi, qubit)\n",
            "/usr/local/lib/python3.6/dist-packages/qiskit/ignis/verification/tomography/basis/gatesetbasis.py:255: DeprecationWarning: The QuantumCircuit.u2 method is deprecated as of 0.16.0. It will be removed no earlier than 3 months after the release date. You can use the general 1-qubit gate QuantumCircuit.u instead: u2(φ,λ) = u(π/2, φ, λ). Alternatively, you can decompose it in terms of QuantumCircuit.p and QuantumCircuit.sx: u2(φ,λ) = p(π/2+φ) sx p(π/2+λ) (1 pulse on hardware).\n",
            "  'X_Rot_90': lambda circ, qubit: circ.u2(-np.pi / 2, np.pi / 2, qubit),\n",
            "/usr/local/lib/python3.6/dist-packages/qiskit/ignis/verification/tomography/basis/gatesetbasis.py:255: DeprecationWarning: The QuantumCircuit.u2 method is deprecated as of 0.16.0. It will be removed no earlier than 3 months after the release date. You can use the general 1-qubit gate QuantumCircuit.u instead: u2(φ,λ) = u(π/2, φ, λ). Alternatively, you can decompose it in terms of QuantumCircuit.p and QuantumCircuit.sx: u2(φ,λ) = p(π/2+φ) sx p(π/2+λ) (1 pulse on hardware).\n",
            "  'X_Rot_90': lambda circ, qubit: circ.u2(-np.pi / 2, np.pi / 2, qubit),\n",
            "/usr/local/lib/python3.6/dist-packages/qiskit/ignis/verification/tomography/basis/gatesetbasis.py:255: DeprecationWarning: The QuantumCircuit.u2 method is deprecated as of 0.16.0. It will be removed no earlier than 3 months after the release date. You can use the general 1-qubit gate QuantumCircuit.u instead: u2(φ,λ) = u(π/2, φ, λ). Alternatively, you can decompose it in terms of QuantumCircuit.p and QuantumCircuit.sx: u2(φ,λ) = p(π/2+φ) sx p(π/2+λ) (1 pulse on hardware).\n",
            "  'X_Rot_90': lambda circ, qubit: circ.u2(-np.pi / 2, np.pi / 2, qubit),\n",
            "/usr/local/lib/python3.6/dist-packages/qiskit/ignis/verification/tomography/basis/gatesetbasis.py:255: DeprecationWarning: The QuantumCircuit.u2 method is deprecated as of 0.16.0. It will be removed no earlier than 3 months after the release date. You can use the general 1-qubit gate QuantumCircuit.u instead: u2(φ,λ) = u(π/2, φ, λ). Alternatively, you can decompose it in terms of QuantumCircuit.p and QuantumCircuit.sx: u2(φ,λ) = p(π/2+φ) sx p(π/2+λ) (1 pulse on hardware).\n",
            "  'X_Rot_90': lambda circ, qubit: circ.u2(-np.pi / 2, np.pi / 2, qubit),\n",
            "/usr/local/lib/python3.6/dist-packages/qiskit/ignis/verification/tomography/basis/gatesetbasis.py:255: DeprecationWarning: The QuantumCircuit.u2 method is deprecated as of 0.16.0. It will be removed no earlier than 3 months after the release date. You can use the general 1-qubit gate QuantumCircuit.u instead: u2(φ,λ) = u(π/2, φ, λ). Alternatively, you can decompose it in terms of QuantumCircuit.p and QuantumCircuit.sx: u2(φ,λ) = p(π/2+φ) sx p(π/2+λ) (1 pulse on hardware).\n",
            "  'X_Rot_90': lambda circ, qubit: circ.u2(-np.pi / 2, np.pi / 2, qubit),\n",
            "/usr/local/lib/python3.6/dist-packages/qiskit/ignis/verification/tomography/basis/gatesetbasis.py:256: DeprecationWarning: The QuantumCircuit.u2 method is deprecated as of 0.16.0. It will be removed no earlier than 3 months after the release date. You can use the general 1-qubit gate QuantumCircuit.u instead: u2(φ,λ) = u(π/2, φ, λ). Alternatively, you can decompose it in terms of QuantumCircuit.p and QuantumCircuit.sx: u2(φ,λ) = p(π/2+φ) sx p(π/2+λ) (1 pulse on hardware).\n",
            "  'Y_Rot_90': lambda circ, qubit: circ.u2(np.pi, np.pi, qubit)\n",
            "/usr/local/lib/python3.6/dist-packages/qiskit/ignis/verification/tomography/basis/gatesetbasis.py:255: DeprecationWarning: The QuantumCircuit.u2 method is deprecated as of 0.16.0. It will be removed no earlier than 3 months after the release date. You can use the general 1-qubit gate QuantumCircuit.u instead: u2(φ,λ) = u(π/2, φ, λ). Alternatively, you can decompose it in terms of QuantumCircuit.p and QuantumCircuit.sx: u2(φ,λ) = p(π/2+φ) sx p(π/2+λ) (1 pulse on hardware).\n",
            "  'X_Rot_90': lambda circ, qubit: circ.u2(-np.pi / 2, np.pi / 2, qubit),\n",
            "/usr/local/lib/python3.6/dist-packages/qiskit/ignis/verification/tomography/basis/gatesetbasis.py:255: DeprecationWarning: The QuantumCircuit.u2 method is deprecated as of 0.16.0. It will be removed no earlier than 3 months after the release date. You can use the general 1-qubit gate QuantumCircuit.u instead: u2(φ,λ) = u(π/2, φ, λ). Alternatively, you can decompose it in terms of QuantumCircuit.p and QuantumCircuit.sx: u2(φ,λ) = p(π/2+φ) sx p(π/2+λ) (1 pulse on hardware).\n",
            "  'X_Rot_90': lambda circ, qubit: circ.u2(-np.pi / 2, np.pi / 2, qubit),\n",
            "/usr/local/lib/python3.6/dist-packages/qiskit/ignis/verification/tomography/basis/gatesetbasis.py:255: DeprecationWarning: The QuantumCircuit.u2 method is deprecated as of 0.16.0. It will be removed no earlier than 3 months after the release date. You can use the general 1-qubit gate QuantumCircuit.u instead: u2(φ,λ) = u(π/2, φ, λ). Alternatively, you can decompose it in terms of QuantumCircuit.p and QuantumCircuit.sx: u2(φ,λ) = p(π/2+φ) sx p(π/2+λ) (1 pulse on hardware).\n",
            "  'X_Rot_90': lambda circ, qubit: circ.u2(-np.pi / 2, np.pi / 2, qubit),\n",
            "/usr/local/lib/python3.6/dist-packages/qiskit/ignis/verification/tomography/basis/gatesetbasis.py:256: DeprecationWarning: The QuantumCircuit.u2 method is deprecated as of 0.16.0. It will be removed no earlier than 3 months after the release date. You can use the general 1-qubit gate QuantumCircuit.u instead: u2(φ,λ) = u(π/2, φ, λ). Alternatively, you can decompose it in terms of QuantumCircuit.p and QuantumCircuit.sx: u2(φ,λ) = p(π/2+φ) sx p(π/2+λ) (1 pulse on hardware).\n",
            "  'Y_Rot_90': lambda circ, qubit: circ.u2(np.pi, np.pi, qubit)\n",
            "/usr/local/lib/python3.6/dist-packages/qiskit/ignis/verification/tomography/basis/gatesetbasis.py:255: DeprecationWarning: The QuantumCircuit.u2 method is deprecated as of 0.16.0. It will be removed no earlier than 3 months after the release date. You can use the general 1-qubit gate QuantumCircuit.u instead: u2(φ,λ) = u(π/2, φ, λ). Alternatively, you can decompose it in terms of QuantumCircuit.p and QuantumCircuit.sx: u2(φ,λ) = p(π/2+φ) sx p(π/2+λ) (1 pulse on hardware).\n",
            "  'X_Rot_90': lambda circ, qubit: circ.u2(-np.pi / 2, np.pi / 2, qubit),\n",
            "/usr/local/lib/python3.6/dist-packages/qiskit/ignis/verification/tomography/basis/gatesetbasis.py:255: DeprecationWarning: The QuantumCircuit.u2 method is deprecated as of 0.16.0. It will be removed no earlier than 3 months after the release date. You can use the general 1-qubit gate QuantumCircuit.u instead: u2(φ,λ) = u(π/2, φ, λ). Alternatively, you can decompose it in terms of QuantumCircuit.p and QuantumCircuit.sx: u2(φ,λ) = p(π/2+φ) sx p(π/2+λ) (1 pulse on hardware).\n",
            "  'X_Rot_90': lambda circ, qubit: circ.u2(-np.pi / 2, np.pi / 2, qubit),\n",
            "/usr/local/lib/python3.6/dist-packages/qiskit/ignis/verification/tomography/basis/gatesetbasis.py:255: DeprecationWarning: The QuantumCircuit.u2 method is deprecated as of 0.16.0. It will be removed no earlier than 3 months after the release date. You can use the general 1-qubit gate QuantumCircuit.u instead: u2(φ,λ) = u(π/2, φ, λ). Alternatively, you can decompose it in terms of QuantumCircuit.p and QuantumCircuit.sx: u2(φ,λ) = p(π/2+φ) sx p(π/2+λ) (1 pulse on hardware).\n",
            "  'X_Rot_90': lambda circ, qubit: circ.u2(-np.pi / 2, np.pi / 2, qubit),\n",
            "/usr/local/lib/python3.6/dist-packages/qiskit/ignis/verification/tomography/basis/gatesetbasis.py:255: DeprecationWarning: The QuantumCircuit.u2 method is deprecated as of 0.16.0. It will be removed no earlier than 3 months after the release date. You can use the general 1-qubit gate QuantumCircuit.u instead: u2(φ,λ) = u(π/2, φ, λ). Alternatively, you can decompose it in terms of QuantumCircuit.p and QuantumCircuit.sx: u2(φ,λ) = p(π/2+φ) sx p(π/2+λ) (1 pulse on hardware).\n",
            "  'X_Rot_90': lambda circ, qubit: circ.u2(-np.pi / 2, np.pi / 2, qubit),\n",
            "/usr/local/lib/python3.6/dist-packages/qiskit/ignis/verification/tomography/basis/gatesetbasis.py:256: DeprecationWarning: The QuantumCircuit.u2 method is deprecated as of 0.16.0. It will be removed no earlier than 3 months after the release date. You can use the general 1-qubit gate QuantumCircuit.u instead: u2(φ,λ) = u(π/2, φ, λ). Alternatively, you can decompose it in terms of QuantumCircuit.p and QuantumCircuit.sx: u2(φ,λ) = p(π/2+φ) sx p(π/2+λ) (1 pulse on hardware).\n",
            "  'Y_Rot_90': lambda circ, qubit: circ.u2(np.pi, np.pi, qubit)\n",
            "/usr/local/lib/python3.6/dist-packages/qiskit/ignis/verification/tomography/basis/gatesetbasis.py:255: DeprecationWarning: The QuantumCircuit.u2 method is deprecated as of 0.16.0. It will be removed no earlier than 3 months after the release date. You can use the general 1-qubit gate QuantumCircuit.u instead: u2(φ,λ) = u(π/2, φ, λ). Alternatively, you can decompose it in terms of QuantumCircuit.p and QuantumCircuit.sx: u2(φ,λ) = p(π/2+φ) sx p(π/2+λ) (1 pulse on hardware).\n",
            "  'X_Rot_90': lambda circ, qubit: circ.u2(-np.pi / 2, np.pi / 2, qubit),\n",
            "/usr/local/lib/python3.6/dist-packages/qiskit/ignis/verification/tomography/basis/gatesetbasis.py:255: DeprecationWarning: The QuantumCircuit.u2 method is deprecated as of 0.16.0. It will be removed no earlier than 3 months after the release date. You can use the general 1-qubit gate QuantumCircuit.u instead: u2(φ,λ) = u(π/2, φ, λ). Alternatively, you can decompose it in terms of QuantumCircuit.p and QuantumCircuit.sx: u2(φ,λ) = p(π/2+φ) sx p(π/2+λ) (1 pulse on hardware).\n",
            "  'X_Rot_90': lambda circ, qubit: circ.u2(-np.pi / 2, np.pi / 2, qubit),\n",
            "/usr/local/lib/python3.6/dist-packages/qiskit/ignis/verification/tomography/basis/gatesetbasis.py:256: DeprecationWarning: The QuantumCircuit.u2 method is deprecated as of 0.16.0. It will be removed no earlier than 3 months after the release date. You can use the general 1-qubit gate QuantumCircuit.u instead: u2(φ,λ) = u(π/2, φ, λ). Alternatively, you can decompose it in terms of QuantumCircuit.p and QuantumCircuit.sx: u2(φ,λ) = p(π/2+φ) sx p(π/2+λ) (1 pulse on hardware).\n",
            "  'Y_Rot_90': lambda circ, qubit: circ.u2(np.pi, np.pi, qubit)\n",
            "/usr/local/lib/python3.6/dist-packages/qiskit/ignis/verification/tomography/basis/gatesetbasis.py:255: DeprecationWarning: The QuantumCircuit.u2 method is deprecated as of 0.16.0. It will be removed no earlier than 3 months after the release date. You can use the general 1-qubit gate QuantumCircuit.u instead: u2(φ,λ) = u(π/2, φ, λ). Alternatively, you can decompose it in terms of QuantumCircuit.p and QuantumCircuit.sx: u2(φ,λ) = p(π/2+φ) sx p(π/2+λ) (1 pulse on hardware).\n",
            "  'X_Rot_90': lambda circ, qubit: circ.u2(-np.pi / 2, np.pi / 2, qubit),\n",
            "/usr/local/lib/python3.6/dist-packages/qiskit/ignis/verification/tomography/basis/gatesetbasis.py:256: DeprecationWarning: The QuantumCircuit.u2 method is deprecated as of 0.16.0. It will be removed no earlier than 3 months after the release date. You can use the general 1-qubit gate QuantumCircuit.u instead: u2(φ,λ) = u(π/2, φ, λ). Alternatively, you can decompose it in terms of QuantumCircuit.p and QuantumCircuit.sx: u2(φ,λ) = p(π/2+φ) sx p(π/2+λ) (1 pulse on hardware).\n",
            "  'Y_Rot_90': lambda circ, qubit: circ.u2(np.pi, np.pi, qubit)\n",
            "/usr/local/lib/python3.6/dist-packages/qiskit/ignis/verification/tomography/basis/gatesetbasis.py:255: DeprecationWarning: The QuantumCircuit.u2 method is deprecated as of 0.16.0. It will be removed no earlier than 3 months after the release date. You can use the general 1-qubit gate QuantumCircuit.u instead: u2(φ,λ) = u(π/2, φ, λ). Alternatively, you can decompose it in terms of QuantumCircuit.p and QuantumCircuit.sx: u2(φ,λ) = p(π/2+φ) sx p(π/2+λ) (1 pulse on hardware).\n",
            "  'X_Rot_90': lambda circ, qubit: circ.u2(-np.pi / 2, np.pi / 2, qubit),\n",
            "/usr/local/lib/python3.6/dist-packages/qiskit/ignis/verification/tomography/basis/gatesetbasis.py:255: DeprecationWarning: The QuantumCircuit.u2 method is deprecated as of 0.16.0. It will be removed no earlier than 3 months after the release date. You can use the general 1-qubit gate QuantumCircuit.u instead: u2(φ,λ) = u(π/2, φ, λ). Alternatively, you can decompose it in terms of QuantumCircuit.p and QuantumCircuit.sx: u2(φ,λ) = p(π/2+φ) sx p(π/2+λ) (1 pulse on hardware).\n",
            "  'X_Rot_90': lambda circ, qubit: circ.u2(-np.pi / 2, np.pi / 2, qubit),\n",
            "/usr/local/lib/python3.6/dist-packages/qiskit/ignis/verification/tomography/basis/gatesetbasis.py:255: DeprecationWarning: The QuantumCircuit.u2 method is deprecated as of 0.16.0. It will be removed no earlier than 3 months after the release date. You can use the general 1-qubit gate QuantumCircuit.u instead: u2(φ,λ) = u(π/2, φ, λ). Alternatively, you can decompose it in terms of QuantumCircuit.p and QuantumCircuit.sx: u2(φ,λ) = p(π/2+φ) sx p(π/2+λ) (1 pulse on hardware).\n",
            "  'X_Rot_90': lambda circ, qubit: circ.u2(-np.pi / 2, np.pi / 2, qubit),\n",
            "/usr/local/lib/python3.6/dist-packages/qiskit/ignis/verification/tomography/basis/gatesetbasis.py:255: DeprecationWarning: The QuantumCircuit.u2 method is deprecated as of 0.16.0. It will be removed no earlier than 3 months after the release date. You can use the general 1-qubit gate QuantumCircuit.u instead: u2(φ,λ) = u(π/2, φ, λ). Alternatively, you can decompose it in terms of QuantumCircuit.p and QuantumCircuit.sx: u2(φ,λ) = p(π/2+φ) sx p(π/2+λ) (1 pulse on hardware).\n",
            "  'X_Rot_90': lambda circ, qubit: circ.u2(-np.pi / 2, np.pi / 2, qubit),\n",
            "/usr/local/lib/python3.6/dist-packages/qiskit/ignis/verification/tomography/basis/gatesetbasis.py:255: DeprecationWarning: The QuantumCircuit.u2 method is deprecated as of 0.16.0. It will be removed no earlier than 3 months after the release date. You can use the general 1-qubit gate QuantumCircuit.u instead: u2(φ,λ) = u(π/2, φ, λ). Alternatively, you can decompose it in terms of QuantumCircuit.p and QuantumCircuit.sx: u2(φ,λ) = p(π/2+φ) sx p(π/2+λ) (1 pulse on hardware).\n",
            "  'X_Rot_90': lambda circ, qubit: circ.u2(-np.pi / 2, np.pi / 2, qubit),\n",
            "/usr/local/lib/python3.6/dist-packages/qiskit/ignis/verification/tomography/basis/gatesetbasis.py:256: DeprecationWarning: The QuantumCircuit.u2 method is deprecated as of 0.16.0. It will be removed no earlier than 3 months after the release date. You can use the general 1-qubit gate QuantumCircuit.u instead: u2(φ,λ) = u(π/2, φ, λ). Alternatively, you can decompose it in terms of QuantumCircuit.p and QuantumCircuit.sx: u2(φ,λ) = p(π/2+φ) sx p(π/2+λ) (1 pulse on hardware).\n",
            "  'Y_Rot_90': lambda circ, qubit: circ.u2(np.pi, np.pi, qubit)\n",
            "/usr/local/lib/python3.6/dist-packages/qiskit/ignis/verification/tomography/basis/gatesetbasis.py:255: DeprecationWarning: The QuantumCircuit.u2 method is deprecated as of 0.16.0. It will be removed no earlier than 3 months after the release date. You can use the general 1-qubit gate QuantumCircuit.u instead: u2(φ,λ) = u(π/2, φ, λ). Alternatively, you can decompose it in terms of QuantumCircuit.p and QuantumCircuit.sx: u2(φ,λ) = p(π/2+φ) sx p(π/2+λ) (1 pulse on hardware).\n",
            "  'X_Rot_90': lambda circ, qubit: circ.u2(-np.pi / 2, np.pi / 2, qubit),\n",
            "/usr/local/lib/python3.6/dist-packages/qiskit/ignis/verification/tomography/basis/gatesetbasis.py:255: DeprecationWarning: The QuantumCircuit.u2 method is deprecated as of 0.16.0. It will be removed no earlier than 3 months after the release date. You can use the general 1-qubit gate QuantumCircuit.u instead: u2(φ,λ) = u(π/2, φ, λ). Alternatively, you can decompose it in terms of QuantumCircuit.p and QuantumCircuit.sx: u2(φ,λ) = p(π/2+φ) sx p(π/2+λ) (1 pulse on hardware).\n",
            "  'X_Rot_90': lambda circ, qubit: circ.u2(-np.pi / 2, np.pi / 2, qubit),\n",
            "/usr/local/lib/python3.6/dist-packages/qiskit/ignis/verification/tomography/basis/gatesetbasis.py:255: DeprecationWarning: The QuantumCircuit.u2 method is deprecated as of 0.16.0. It will be removed no earlier than 3 months after the release date. You can use the general 1-qubit gate QuantumCircuit.u instead: u2(φ,λ) = u(π/2, φ, λ). Alternatively, you can decompose it in terms of QuantumCircuit.p and QuantumCircuit.sx: u2(φ,λ) = p(π/2+φ) sx p(π/2+λ) (1 pulse on hardware).\n",
            "  'X_Rot_90': lambda circ, qubit: circ.u2(-np.pi / 2, np.pi / 2, qubit),\n",
            "/usr/local/lib/python3.6/dist-packages/qiskit/ignis/verification/tomography/basis/gatesetbasis.py:256: DeprecationWarning: The QuantumCircuit.u2 method is deprecated as of 0.16.0. It will be removed no earlier than 3 months after the release date. You can use the general 1-qubit gate QuantumCircuit.u instead: u2(φ,λ) = u(π/2, φ, λ). Alternatively, you can decompose it in terms of QuantumCircuit.p and QuantumCircuit.sx: u2(φ,λ) = p(π/2+φ) sx p(π/2+λ) (1 pulse on hardware).\n",
            "  'Y_Rot_90': lambda circ, qubit: circ.u2(np.pi, np.pi, qubit)\n",
            "/usr/local/lib/python3.6/dist-packages/qiskit/ignis/verification/tomography/basis/gatesetbasis.py:255: DeprecationWarning: The QuantumCircuit.u2 method is deprecated as of 0.16.0. It will be removed no earlier than 3 months after the release date. You can use the general 1-qubit gate QuantumCircuit.u instead: u2(φ,λ) = u(π/2, φ, λ). Alternatively, you can decompose it in terms of QuantumCircuit.p and QuantumCircuit.sx: u2(φ,λ) = p(π/2+φ) sx p(π/2+λ) (1 pulse on hardware).\n",
            "  'X_Rot_90': lambda circ, qubit: circ.u2(-np.pi / 2, np.pi / 2, qubit),\n",
            "/usr/local/lib/python3.6/dist-packages/qiskit/ignis/verification/tomography/basis/gatesetbasis.py:255: DeprecationWarning: The QuantumCircuit.u2 method is deprecated as of 0.16.0. It will be removed no earlier than 3 months after the release date. You can use the general 1-qubit gate QuantumCircuit.u instead: u2(φ,λ) = u(π/2, φ, λ). Alternatively, you can decompose it in terms of QuantumCircuit.p and QuantumCircuit.sx: u2(φ,λ) = p(π/2+φ) sx p(π/2+λ) (1 pulse on hardware).\n",
            "  'X_Rot_90': lambda circ, qubit: circ.u2(-np.pi / 2, np.pi / 2, qubit),\n",
            "/usr/local/lib/python3.6/dist-packages/qiskit/ignis/verification/tomography/basis/gatesetbasis.py:255: DeprecationWarning: The QuantumCircuit.u2 method is deprecated as of 0.16.0. It will be removed no earlier than 3 months after the release date. You can use the general 1-qubit gate QuantumCircuit.u instead: u2(φ,λ) = u(π/2, φ, λ). Alternatively, you can decompose it in terms of QuantumCircuit.p and QuantumCircuit.sx: u2(φ,λ) = p(π/2+φ) sx p(π/2+λ) (1 pulse on hardware).\n",
            "  'X_Rot_90': lambda circ, qubit: circ.u2(-np.pi / 2, np.pi / 2, qubit),\n",
            "/usr/local/lib/python3.6/dist-packages/qiskit/ignis/verification/tomography/basis/gatesetbasis.py:255: DeprecationWarning: The QuantumCircuit.u2 method is deprecated as of 0.16.0. It will be removed no earlier than 3 months after the release date. You can use the general 1-qubit gate QuantumCircuit.u instead: u2(φ,λ) = u(π/2, φ, λ). Alternatively, you can decompose it in terms of QuantumCircuit.p and QuantumCircuit.sx: u2(φ,λ) = p(π/2+φ) sx p(π/2+λ) (1 pulse on hardware).\n",
            "  'X_Rot_90': lambda circ, qubit: circ.u2(-np.pi / 2, np.pi / 2, qubit),\n",
            "/usr/local/lib/python3.6/dist-packages/qiskit/ignis/verification/tomography/basis/gatesetbasis.py:256: DeprecationWarning: The QuantumCircuit.u2 method is deprecated as of 0.16.0. It will be removed no earlier than 3 months after the release date. You can use the general 1-qubit gate QuantumCircuit.u instead: u2(φ,λ) = u(π/2, φ, λ). Alternatively, you can decompose it in terms of QuantumCircuit.p and QuantumCircuit.sx: u2(φ,λ) = p(π/2+φ) sx p(π/2+λ) (1 pulse on hardware).\n",
            "  'Y_Rot_90': lambda circ, qubit: circ.u2(np.pi, np.pi, qubit)\n",
            "/usr/local/lib/python3.6/dist-packages/qiskit/ignis/verification/tomography/basis/gatesetbasis.py:255: DeprecationWarning: The QuantumCircuit.u2 method is deprecated as of 0.16.0. It will be removed no earlier than 3 months after the release date. You can use the general 1-qubit gate QuantumCircuit.u instead: u2(φ,λ) = u(π/2, φ, λ). Alternatively, you can decompose it in terms of QuantumCircuit.p and QuantumCircuit.sx: u2(φ,λ) = p(π/2+φ) sx p(π/2+λ) (1 pulse on hardware).\n",
            "  'X_Rot_90': lambda circ, qubit: circ.u2(-np.pi / 2, np.pi / 2, qubit),\n",
            "/usr/local/lib/python3.6/dist-packages/qiskit/ignis/verification/tomography/basis/gatesetbasis.py:255: DeprecationWarning: The QuantumCircuit.u2 method is deprecated as of 0.16.0. It will be removed no earlier than 3 months after the release date. You can use the general 1-qubit gate QuantumCircuit.u instead: u2(φ,λ) = u(π/2, φ, λ). Alternatively, you can decompose it in terms of QuantumCircuit.p and QuantumCircuit.sx: u2(φ,λ) = p(π/2+φ) sx p(π/2+λ) (1 pulse on hardware).\n",
            "  'X_Rot_90': lambda circ, qubit: circ.u2(-np.pi / 2, np.pi / 2, qubit),\n",
            "/usr/local/lib/python3.6/dist-packages/qiskit/ignis/verification/tomography/basis/gatesetbasis.py:256: DeprecationWarning: The QuantumCircuit.u2 method is deprecated as of 0.16.0. It will be removed no earlier than 3 months after the release date. You can use the general 1-qubit gate QuantumCircuit.u instead: u2(φ,λ) = u(π/2, φ, λ). Alternatively, you can decompose it in terms of QuantumCircuit.p and QuantumCircuit.sx: u2(φ,λ) = p(π/2+φ) sx p(π/2+λ) (1 pulse on hardware).\n",
            "  'Y_Rot_90': lambda circ, qubit: circ.u2(np.pi, np.pi, qubit)\n",
            "/usr/local/lib/python3.6/dist-packages/qiskit/ignis/verification/tomography/basis/gatesetbasis.py:255: DeprecationWarning: The QuantumCircuit.u2 method is deprecated as of 0.16.0. It will be removed no earlier than 3 months after the release date. You can use the general 1-qubit gate QuantumCircuit.u instead: u2(φ,λ) = u(π/2, φ, λ). Alternatively, you can decompose it in terms of QuantumCircuit.p and QuantumCircuit.sx: u2(φ,λ) = p(π/2+φ) sx p(π/2+λ) (1 pulse on hardware).\n",
            "  'X_Rot_90': lambda circ, qubit: circ.u2(-np.pi / 2, np.pi / 2, qubit),\n",
            "/usr/local/lib/python3.6/dist-packages/qiskit/ignis/verification/tomography/basis/gatesetbasis.py:256: DeprecationWarning: The QuantumCircuit.u2 method is deprecated as of 0.16.0. It will be removed no earlier than 3 months after the release date. You can use the general 1-qubit gate QuantumCircuit.u instead: u2(φ,λ) = u(π/2, φ, λ). Alternatively, you can decompose it in terms of QuantumCircuit.p and QuantumCircuit.sx: u2(φ,λ) = p(π/2+φ) sx p(π/2+λ) (1 pulse on hardware).\n",
            "  'Y_Rot_90': lambda circ, qubit: circ.u2(np.pi, np.pi, qubit)\n",
            "/usr/local/lib/python3.6/dist-packages/qiskit/ignis/verification/tomography/basis/gatesetbasis.py:255: DeprecationWarning: The QuantumCircuit.u2 method is deprecated as of 0.16.0. It will be removed no earlier than 3 months after the release date. You can use the general 1-qubit gate QuantumCircuit.u instead: u2(φ,λ) = u(π/2, φ, λ). Alternatively, you can decompose it in terms of QuantumCircuit.p and QuantumCircuit.sx: u2(φ,λ) = p(π/2+φ) sx p(π/2+λ) (1 pulse on hardware).\n",
            "  'X_Rot_90': lambda circ, qubit: circ.u2(-np.pi / 2, np.pi / 2, qubit),\n",
            "/usr/local/lib/python3.6/dist-packages/qiskit/ignis/verification/tomography/basis/gatesetbasis.py:255: DeprecationWarning: The QuantumCircuit.u2 method is deprecated as of 0.16.0. It will be removed no earlier than 3 months after the release date. You can use the general 1-qubit gate QuantumCircuit.u instead: u2(φ,λ) = u(π/2, φ, λ). Alternatively, you can decompose it in terms of QuantumCircuit.p and QuantumCircuit.sx: u2(φ,λ) = p(π/2+φ) sx p(π/2+λ) (1 pulse on hardware).\n",
            "  'X_Rot_90': lambda circ, qubit: circ.u2(-np.pi / 2, np.pi / 2, qubit),\n",
            "/usr/local/lib/python3.6/dist-packages/qiskit/ignis/verification/tomography/basis/gatesetbasis.py:255: DeprecationWarning: The QuantumCircuit.u2 method is deprecated as of 0.16.0. It will be removed no earlier than 3 months after the release date. You can use the general 1-qubit gate QuantumCircuit.u instead: u2(φ,λ) = u(π/2, φ, λ). Alternatively, you can decompose it in terms of QuantumCircuit.p and QuantumCircuit.sx: u2(φ,λ) = p(π/2+φ) sx p(π/2+λ) (1 pulse on hardware).\n",
            "  'X_Rot_90': lambda circ, qubit: circ.u2(-np.pi / 2, np.pi / 2, qubit),\n",
            "/usr/local/lib/python3.6/dist-packages/qiskit/ignis/verification/tomography/basis/gatesetbasis.py:255: DeprecationWarning: The QuantumCircuit.u2 method is deprecated as of 0.16.0. It will be removed no earlier than 3 months after the release date. You can use the general 1-qubit gate QuantumCircuit.u instead: u2(φ,λ) = u(π/2, φ, λ). Alternatively, you can decompose it in terms of QuantumCircuit.p and QuantumCircuit.sx: u2(φ,λ) = p(π/2+φ) sx p(π/2+λ) (1 pulse on hardware).\n",
            "  'X_Rot_90': lambda circ, qubit: circ.u2(-np.pi / 2, np.pi / 2, qubit),\n",
            "/usr/local/lib/python3.6/dist-packages/qiskit/ignis/verification/tomography/basis/gatesetbasis.py:255: DeprecationWarning: The QuantumCircuit.u2 method is deprecated as of 0.16.0. It will be removed no earlier than 3 months after the release date. You can use the general 1-qubit gate QuantumCircuit.u instead: u2(φ,λ) = u(π/2, φ, λ). Alternatively, you can decompose it in terms of QuantumCircuit.p and QuantumCircuit.sx: u2(φ,λ) = p(π/2+φ) sx p(π/2+λ) (1 pulse on hardware).\n",
            "  'X_Rot_90': lambda circ, qubit: circ.u2(-np.pi / 2, np.pi / 2, qubit),\n",
            "/usr/local/lib/python3.6/dist-packages/qiskit/ignis/verification/tomography/basis/gatesetbasis.py:256: DeprecationWarning: The QuantumCircuit.u2 method is deprecated as of 0.16.0. It will be removed no earlier than 3 months after the release date. You can use the general 1-qubit gate QuantumCircuit.u instead: u2(φ,λ) = u(π/2, φ, λ). Alternatively, you can decompose it in terms of QuantumCircuit.p and QuantumCircuit.sx: u2(φ,λ) = p(π/2+φ) sx p(π/2+λ) (1 pulse on hardware).\n",
            "  'Y_Rot_90': lambda circ, qubit: circ.u2(np.pi, np.pi, qubit)\n",
            "/usr/local/lib/python3.6/dist-packages/qiskit/ignis/verification/tomography/basis/gatesetbasis.py:255: DeprecationWarning: The QuantumCircuit.u2 method is deprecated as of 0.16.0. It will be removed no earlier than 3 months after the release date. You can use the general 1-qubit gate QuantumCircuit.u instead: u2(φ,λ) = u(π/2, φ, λ). Alternatively, you can decompose it in terms of QuantumCircuit.p and QuantumCircuit.sx: u2(φ,λ) = p(π/2+φ) sx p(π/2+λ) (1 pulse on hardware).\n",
            "  'X_Rot_90': lambda circ, qubit: circ.u2(-np.pi / 2, np.pi / 2, qubit),\n",
            "/usr/local/lib/python3.6/dist-packages/qiskit/ignis/verification/tomography/basis/gatesetbasis.py:255: DeprecationWarning: The QuantumCircuit.u2 method is deprecated as of 0.16.0. It will be removed no earlier than 3 months after the release date. You can use the general 1-qubit gate QuantumCircuit.u instead: u2(φ,λ) = u(π/2, φ, λ). Alternatively, you can decompose it in terms of QuantumCircuit.p and QuantumCircuit.sx: u2(φ,λ) = p(π/2+φ) sx p(π/2+λ) (1 pulse on hardware).\n",
            "  'X_Rot_90': lambda circ, qubit: circ.u2(-np.pi / 2, np.pi / 2, qubit),\n",
            "/usr/local/lib/python3.6/dist-packages/qiskit/ignis/verification/tomography/basis/gatesetbasis.py:255: DeprecationWarning: The QuantumCircuit.u2 method is deprecated as of 0.16.0. It will be removed no earlier than 3 months after the release date. You can use the general 1-qubit gate QuantumCircuit.u instead: u2(φ,λ) = u(π/2, φ, λ). Alternatively, you can decompose it in terms of QuantumCircuit.p and QuantumCircuit.sx: u2(φ,λ) = p(π/2+φ) sx p(π/2+λ) (1 pulse on hardware).\n",
            "  'X_Rot_90': lambda circ, qubit: circ.u2(-np.pi / 2, np.pi / 2, qubit),\n",
            "/usr/local/lib/python3.6/dist-packages/qiskit/ignis/verification/tomography/basis/gatesetbasis.py:256: DeprecationWarning: The QuantumCircuit.u2 method is deprecated as of 0.16.0. It will be removed no earlier than 3 months after the release date. You can use the general 1-qubit gate QuantumCircuit.u instead: u2(φ,λ) = u(π/2, φ, λ). Alternatively, you can decompose it in terms of QuantumCircuit.p and QuantumCircuit.sx: u2(φ,λ) = p(π/2+φ) sx p(π/2+λ) (1 pulse on hardware).\n",
            "  'Y_Rot_90': lambda circ, qubit: circ.u2(np.pi, np.pi, qubit)\n",
            "/usr/local/lib/python3.6/dist-packages/qiskit/ignis/verification/tomography/basis/gatesetbasis.py:255: DeprecationWarning: The QuantumCircuit.u2 method is deprecated as of 0.16.0. It will be removed no earlier than 3 months after the release date. You can use the general 1-qubit gate QuantumCircuit.u instead: u2(φ,λ) = u(π/2, φ, λ). Alternatively, you can decompose it in terms of QuantumCircuit.p and QuantumCircuit.sx: u2(φ,λ) = p(π/2+φ) sx p(π/2+λ) (1 pulse on hardware).\n",
            "  'X_Rot_90': lambda circ, qubit: circ.u2(-np.pi / 2, np.pi / 2, qubit),\n",
            "/usr/local/lib/python3.6/dist-packages/qiskit/ignis/verification/tomography/basis/gatesetbasis.py:255: DeprecationWarning: The QuantumCircuit.u2 method is deprecated as of 0.16.0. It will be removed no earlier than 3 months after the release date. You can use the general 1-qubit gate QuantumCircuit.u instead: u2(φ,λ) = u(π/2, φ, λ). Alternatively, you can decompose it in terms of QuantumCircuit.p and QuantumCircuit.sx: u2(φ,λ) = p(π/2+φ) sx p(π/2+λ) (1 pulse on hardware).\n",
            "  'X_Rot_90': lambda circ, qubit: circ.u2(-np.pi / 2, np.pi / 2, qubit),\n"
          ],
          "name": "stderr"
        },
        {
          "output_type": "stream",
          "text": [
            "fit time: 2.103721857070923\n",
            "fit fidelity (state): 0.9925447831402663\n",
            "fit fidelity (process): 0.9851451465389605\n"
          ],
          "name": "stdout"
        }
      ]
    },
    {
      "cell_type": "markdown",
      "metadata": {
        "id": "0kSRBjYoE5iK"
      },
      "source": [
        "### 1-qubit gate set tomography with amplitude damping noise\n",
        "\n",
        "Note that we add the noise to all gates (meaning also to the gates performing the tomography)"
      ]
    },
    {
      "cell_type": "code",
      "metadata": {
        "id": "pHCcX9bUE5iL"
      },
      "source": [
        "gamma = 0.1\n",
        "A0 = [[1, 0], [0, np.sqrt(1 - gamma)]]\n",
        "A1 = [[0, np.sqrt(gamma)], [0, 0]]\n",
        "noise_choi = Choi(Kraus([A0, A1])).data\n",
        "error = noise.errors.QuantumError([([{'name': 'kraus',\n",
        "                         'qubits': [0],\n",
        "                         'params': [A0, A1]}], 1)])\n",
        "noise_model = noise.NoiseModel()\n",
        "noise_model.add_all_qubit_quantum_error(error, ['u1', 'u2', 'u3', 'x'])"
      ],
      "execution_count": 25,
      "outputs": []
    },
    {
      "cell_type": "code",
      "metadata": {
        "id": "SauYkotkE5iP",
        "outputId": "60135c5e-1488-4fc5-fa75-12d1d8fe4c07",
        "colab": {
          "base_uri": "https://localhost:8080/",
          "height": 1000
        }
      },
      "source": [
        "choi_ideal = (Choi(XGate()).compose(noise_choi)).data\n",
        "t = time.time()\n",
        "choi = gate_set_tomography(XGate(), noise_model)\n",
        "print('fit time:', time.time() - t)\n",
        "print('fit fidelity (state):', state_fidelity(choi_ideal / 2, choi.data / 2, validate=False))\n",
        "print('fit fidelity (process):', np.real(process_fidelity(choi_ideal, choi.data, require_cp=False)))"
      ],
      "execution_count": 26,
      "outputs": [
        {
          "output_type": "stream",
          "text": [
            "/usr/local/lib/python3.6/dist-packages/qiskit/ignis/verification/tomography/basis/gatesetbasis.py:255: DeprecationWarning: The QuantumCircuit.u2 method is deprecated as of 0.16.0. It will be removed no earlier than 3 months after the release date. You can use the general 1-qubit gate QuantumCircuit.u instead: u2(φ,λ) = u(π/2, φ, λ). Alternatively, you can decompose it in terms of QuantumCircuit.p and QuantumCircuit.sx: u2(φ,λ) = p(π/2+φ) sx p(π/2+λ) (1 pulse on hardware).\n",
            "  'X_Rot_90': lambda circ, qubit: circ.u2(-np.pi / 2, np.pi / 2, qubit),\n",
            "/usr/local/lib/python3.6/dist-packages/qiskit/ignis/verification/tomography/basis/gatesetbasis.py:256: DeprecationWarning: The QuantumCircuit.u2 method is deprecated as of 0.16.0. It will be removed no earlier than 3 months after the release date. You can use the general 1-qubit gate QuantumCircuit.u instead: u2(φ,λ) = u(π/2, φ, λ). Alternatively, you can decompose it in terms of QuantumCircuit.p and QuantumCircuit.sx: u2(φ,λ) = p(π/2+φ) sx p(π/2+λ) (1 pulse on hardware).\n",
            "  'Y_Rot_90': lambda circ, qubit: circ.u2(np.pi, np.pi, qubit)\n",
            "/usr/local/lib/python3.6/dist-packages/qiskit/ignis/verification/tomography/basis/gatesetbasis.py:255: DeprecationWarning: The QuantumCircuit.u2 method is deprecated as of 0.16.0. It will be removed no earlier than 3 months after the release date. You can use the general 1-qubit gate QuantumCircuit.u instead: u2(φ,λ) = u(π/2, φ, λ). Alternatively, you can decompose it in terms of QuantumCircuit.p and QuantumCircuit.sx: u2(φ,λ) = p(π/2+φ) sx p(π/2+λ) (1 pulse on hardware).\n",
            "  'X_Rot_90': lambda circ, qubit: circ.u2(-np.pi / 2, np.pi / 2, qubit),\n",
            "/usr/local/lib/python3.6/dist-packages/qiskit/ignis/verification/tomography/basis/gatesetbasis.py:256: DeprecationWarning: The QuantumCircuit.u2 method is deprecated as of 0.16.0. It will be removed no earlier than 3 months after the release date. You can use the general 1-qubit gate QuantumCircuit.u instead: u2(φ,λ) = u(π/2, φ, λ). Alternatively, you can decompose it in terms of QuantumCircuit.p and QuantumCircuit.sx: u2(φ,λ) = p(π/2+φ) sx p(π/2+λ) (1 pulse on hardware).\n",
            "  'Y_Rot_90': lambda circ, qubit: circ.u2(np.pi, np.pi, qubit)\n",
            "/usr/local/lib/python3.6/dist-packages/qiskit/ignis/verification/tomography/basis/gatesetbasis.py:255: DeprecationWarning: The QuantumCircuit.u2 method is deprecated as of 0.16.0. It will be removed no earlier than 3 months after the release date. You can use the general 1-qubit gate QuantumCircuit.u instead: u2(φ,λ) = u(π/2, φ, λ). Alternatively, you can decompose it in terms of QuantumCircuit.p and QuantumCircuit.sx: u2(φ,λ) = p(π/2+φ) sx p(π/2+λ) (1 pulse on hardware).\n",
            "  'X_Rot_90': lambda circ, qubit: circ.u2(-np.pi / 2, np.pi / 2, qubit),\n",
            "/usr/local/lib/python3.6/dist-packages/qiskit/ignis/verification/tomography/basis/gatesetbasis.py:255: DeprecationWarning: The QuantumCircuit.u2 method is deprecated as of 0.16.0. It will be removed no earlier than 3 months after the release date. You can use the general 1-qubit gate QuantumCircuit.u instead: u2(φ,λ) = u(π/2, φ, λ). Alternatively, you can decompose it in terms of QuantumCircuit.p and QuantumCircuit.sx: u2(φ,λ) = p(π/2+φ) sx p(π/2+λ) (1 pulse on hardware).\n",
            "  'X_Rot_90': lambda circ, qubit: circ.u2(-np.pi / 2, np.pi / 2, qubit),\n",
            "/usr/local/lib/python3.6/dist-packages/qiskit/ignis/verification/tomography/basis/gatesetbasis.py:255: DeprecationWarning: The QuantumCircuit.u2 method is deprecated as of 0.16.0. It will be removed no earlier than 3 months after the release date. You can use the general 1-qubit gate QuantumCircuit.u instead: u2(φ,λ) = u(π/2, φ, λ). Alternatively, you can decompose it in terms of QuantumCircuit.p and QuantumCircuit.sx: u2(φ,λ) = p(π/2+φ) sx p(π/2+λ) (1 pulse on hardware).\n",
            "  'X_Rot_90': lambda circ, qubit: circ.u2(-np.pi / 2, np.pi / 2, qubit),\n",
            "/usr/local/lib/python3.6/dist-packages/qiskit/ignis/verification/tomography/basis/gatesetbasis.py:255: DeprecationWarning: The QuantumCircuit.u2 method is deprecated as of 0.16.0. It will be removed no earlier than 3 months after the release date. You can use the general 1-qubit gate QuantumCircuit.u instead: u2(φ,λ) = u(π/2, φ, λ). Alternatively, you can decompose it in terms of QuantumCircuit.p and QuantumCircuit.sx: u2(φ,λ) = p(π/2+φ) sx p(π/2+λ) (1 pulse on hardware).\n",
            "  'X_Rot_90': lambda circ, qubit: circ.u2(-np.pi / 2, np.pi / 2, qubit),\n",
            "/usr/local/lib/python3.6/dist-packages/qiskit/ignis/verification/tomography/basis/gatesetbasis.py:256: DeprecationWarning: The QuantumCircuit.u2 method is deprecated as of 0.16.0. It will be removed no earlier than 3 months after the release date. You can use the general 1-qubit gate QuantumCircuit.u instead: u2(φ,λ) = u(π/2, φ, λ). Alternatively, you can decompose it in terms of QuantumCircuit.p and QuantumCircuit.sx: u2(φ,λ) = p(π/2+φ) sx p(π/2+λ) (1 pulse on hardware).\n",
            "  'Y_Rot_90': lambda circ, qubit: circ.u2(np.pi, np.pi, qubit)\n",
            "/usr/local/lib/python3.6/dist-packages/qiskit/ignis/verification/tomography/basis/gatesetbasis.py:255: DeprecationWarning: The QuantumCircuit.u2 method is deprecated as of 0.16.0. It will be removed no earlier than 3 months after the release date. You can use the general 1-qubit gate QuantumCircuit.u instead: u2(φ,λ) = u(π/2, φ, λ). Alternatively, you can decompose it in terms of QuantumCircuit.p and QuantumCircuit.sx: u2(φ,λ) = p(π/2+φ) sx p(π/2+λ) (1 pulse on hardware).\n",
            "  'X_Rot_90': lambda circ, qubit: circ.u2(-np.pi / 2, np.pi / 2, qubit),\n",
            "/usr/local/lib/python3.6/dist-packages/qiskit/ignis/verification/tomography/basis/gatesetbasis.py:255: DeprecationWarning: The QuantumCircuit.u2 method is deprecated as of 0.16.0. It will be removed no earlier than 3 months after the release date. You can use the general 1-qubit gate QuantumCircuit.u instead: u2(φ,λ) = u(π/2, φ, λ). Alternatively, you can decompose it in terms of QuantumCircuit.p and QuantumCircuit.sx: u2(φ,λ) = p(π/2+φ) sx p(π/2+λ) (1 pulse on hardware).\n",
            "  'X_Rot_90': lambda circ, qubit: circ.u2(-np.pi / 2, np.pi / 2, qubit),\n",
            "/usr/local/lib/python3.6/dist-packages/qiskit/ignis/verification/tomography/basis/gatesetbasis.py:256: DeprecationWarning: The QuantumCircuit.u2 method is deprecated as of 0.16.0. It will be removed no earlier than 3 months after the release date. You can use the general 1-qubit gate QuantumCircuit.u instead: u2(φ,λ) = u(π/2, φ, λ). Alternatively, you can decompose it in terms of QuantumCircuit.p and QuantumCircuit.sx: u2(φ,λ) = p(π/2+φ) sx p(π/2+λ) (1 pulse on hardware).\n",
            "  'Y_Rot_90': lambda circ, qubit: circ.u2(np.pi, np.pi, qubit)\n",
            "/usr/local/lib/python3.6/dist-packages/qiskit/ignis/verification/tomography/basis/gatesetbasis.py:255: DeprecationWarning: The QuantumCircuit.u2 method is deprecated as of 0.16.0. It will be removed no earlier than 3 months after the release date. You can use the general 1-qubit gate QuantumCircuit.u instead: u2(φ,λ) = u(π/2, φ, λ). Alternatively, you can decompose it in terms of QuantumCircuit.p and QuantumCircuit.sx: u2(φ,λ) = p(π/2+φ) sx p(π/2+λ) (1 pulse on hardware).\n",
            "  'X_Rot_90': lambda circ, qubit: circ.u2(-np.pi / 2, np.pi / 2, qubit),\n",
            "/usr/local/lib/python3.6/dist-packages/qiskit/ignis/verification/tomography/basis/gatesetbasis.py:256: DeprecationWarning: The QuantumCircuit.u2 method is deprecated as of 0.16.0. It will be removed no earlier than 3 months after the release date. You can use the general 1-qubit gate QuantumCircuit.u instead: u2(φ,λ) = u(π/2, φ, λ). Alternatively, you can decompose it in terms of QuantumCircuit.p and QuantumCircuit.sx: u2(φ,λ) = p(π/2+φ) sx p(π/2+λ) (1 pulse on hardware).\n",
            "  'Y_Rot_90': lambda circ, qubit: circ.u2(np.pi, np.pi, qubit)\n",
            "/usr/local/lib/python3.6/dist-packages/qiskit/ignis/verification/tomography/basis/gatesetbasis.py:255: DeprecationWarning: The QuantumCircuit.u2 method is deprecated as of 0.16.0. It will be removed no earlier than 3 months after the release date. You can use the general 1-qubit gate QuantumCircuit.u instead: u2(φ,λ) = u(π/2, φ, λ). Alternatively, you can decompose it in terms of QuantumCircuit.p and QuantumCircuit.sx: u2(φ,λ) = p(π/2+φ) sx p(π/2+λ) (1 pulse on hardware).\n",
            "  'X_Rot_90': lambda circ, qubit: circ.u2(-np.pi / 2, np.pi / 2, qubit),\n",
            "/usr/local/lib/python3.6/dist-packages/qiskit/ignis/verification/tomography/basis/gatesetbasis.py:255: DeprecationWarning: The QuantumCircuit.u2 method is deprecated as of 0.16.0. It will be removed no earlier than 3 months after the release date. You can use the general 1-qubit gate QuantumCircuit.u instead: u2(φ,λ) = u(π/2, φ, λ). Alternatively, you can decompose it in terms of QuantumCircuit.p and QuantumCircuit.sx: u2(φ,λ) = p(π/2+φ) sx p(π/2+λ) (1 pulse on hardware).\n",
            "  'X_Rot_90': lambda circ, qubit: circ.u2(-np.pi / 2, np.pi / 2, qubit),\n",
            "/usr/local/lib/python3.6/dist-packages/qiskit/ignis/verification/tomography/basis/gatesetbasis.py:255: DeprecationWarning: The QuantumCircuit.u2 method is deprecated as of 0.16.0. It will be removed no earlier than 3 months after the release date. You can use the general 1-qubit gate QuantumCircuit.u instead: u2(φ,λ) = u(π/2, φ, λ). Alternatively, you can decompose it in terms of QuantumCircuit.p and QuantumCircuit.sx: u2(φ,λ) = p(π/2+φ) sx p(π/2+λ) (1 pulse on hardware).\n",
            "  'X_Rot_90': lambda circ, qubit: circ.u2(-np.pi / 2, np.pi / 2, qubit),\n",
            "/usr/local/lib/python3.6/dist-packages/qiskit/ignis/verification/tomography/basis/gatesetbasis.py:255: DeprecationWarning: The QuantumCircuit.u2 method is deprecated as of 0.16.0. It will be removed no earlier than 3 months after the release date. You can use the general 1-qubit gate QuantumCircuit.u instead: u2(φ,λ) = u(π/2, φ, λ). Alternatively, you can decompose it in terms of QuantumCircuit.p and QuantumCircuit.sx: u2(φ,λ) = p(π/2+φ) sx p(π/2+λ) (1 pulse on hardware).\n",
            "  'X_Rot_90': lambda circ, qubit: circ.u2(-np.pi / 2, np.pi / 2, qubit),\n",
            "/usr/local/lib/python3.6/dist-packages/qiskit/ignis/verification/tomography/basis/gatesetbasis.py:255: DeprecationWarning: The QuantumCircuit.u2 method is deprecated as of 0.16.0. It will be removed no earlier than 3 months after the release date. You can use the general 1-qubit gate QuantumCircuit.u instead: u2(φ,λ) = u(π/2, φ, λ). Alternatively, you can decompose it in terms of QuantumCircuit.p and QuantumCircuit.sx: u2(φ,λ) = p(π/2+φ) sx p(π/2+λ) (1 pulse on hardware).\n",
            "  'X_Rot_90': lambda circ, qubit: circ.u2(-np.pi / 2, np.pi / 2, qubit),\n",
            "/usr/local/lib/python3.6/dist-packages/qiskit/ignis/verification/tomography/basis/gatesetbasis.py:256: DeprecationWarning: The QuantumCircuit.u2 method is deprecated as of 0.16.0. It will be removed no earlier than 3 months after the release date. You can use the general 1-qubit gate QuantumCircuit.u instead: u2(φ,λ) = u(π/2, φ, λ). Alternatively, you can decompose it in terms of QuantumCircuit.p and QuantumCircuit.sx: u2(φ,λ) = p(π/2+φ) sx p(π/2+λ) (1 pulse on hardware).\n",
            "  'Y_Rot_90': lambda circ, qubit: circ.u2(np.pi, np.pi, qubit)\n",
            "/usr/local/lib/python3.6/dist-packages/qiskit/ignis/verification/tomography/basis/gatesetbasis.py:255: DeprecationWarning: The QuantumCircuit.u2 method is deprecated as of 0.16.0. It will be removed no earlier than 3 months after the release date. You can use the general 1-qubit gate QuantumCircuit.u instead: u2(φ,λ) = u(π/2, φ, λ). Alternatively, you can decompose it in terms of QuantumCircuit.p and QuantumCircuit.sx: u2(φ,λ) = p(π/2+φ) sx p(π/2+λ) (1 pulse on hardware).\n",
            "  'X_Rot_90': lambda circ, qubit: circ.u2(-np.pi / 2, np.pi / 2, qubit),\n",
            "/usr/local/lib/python3.6/dist-packages/qiskit/ignis/verification/tomography/basis/gatesetbasis.py:255: DeprecationWarning: The QuantumCircuit.u2 method is deprecated as of 0.16.0. It will be removed no earlier than 3 months after the release date. You can use the general 1-qubit gate QuantumCircuit.u instead: u2(φ,λ) = u(π/2, φ, λ). Alternatively, you can decompose it in terms of QuantumCircuit.p and QuantumCircuit.sx: u2(φ,λ) = p(π/2+φ) sx p(π/2+λ) (1 pulse on hardware).\n",
            "  'X_Rot_90': lambda circ, qubit: circ.u2(-np.pi / 2, np.pi / 2, qubit),\n",
            "/usr/local/lib/python3.6/dist-packages/qiskit/ignis/verification/tomography/basis/gatesetbasis.py:255: DeprecationWarning: The QuantumCircuit.u2 method is deprecated as of 0.16.0. It will be removed no earlier than 3 months after the release date. You can use the general 1-qubit gate QuantumCircuit.u instead: u2(φ,λ) = u(π/2, φ, λ). Alternatively, you can decompose it in terms of QuantumCircuit.p and QuantumCircuit.sx: u2(φ,λ) = p(π/2+φ) sx p(π/2+λ) (1 pulse on hardware).\n",
            "  'X_Rot_90': lambda circ, qubit: circ.u2(-np.pi / 2, np.pi / 2, qubit),\n",
            "/usr/local/lib/python3.6/dist-packages/qiskit/ignis/verification/tomography/basis/gatesetbasis.py:255: DeprecationWarning: The QuantumCircuit.u2 method is deprecated as of 0.16.0. It will be removed no earlier than 3 months after the release date. You can use the general 1-qubit gate QuantumCircuit.u instead: u2(φ,λ) = u(π/2, φ, λ). Alternatively, you can decompose it in terms of QuantumCircuit.p and QuantumCircuit.sx: u2(φ,λ) = p(π/2+φ) sx p(π/2+λ) (1 pulse on hardware).\n",
            "  'X_Rot_90': lambda circ, qubit: circ.u2(-np.pi / 2, np.pi / 2, qubit),\n",
            "/usr/local/lib/python3.6/dist-packages/qiskit/ignis/verification/tomography/basis/gatesetbasis.py:256: DeprecationWarning: The QuantumCircuit.u2 method is deprecated as of 0.16.0. It will be removed no earlier than 3 months after the release date. You can use the general 1-qubit gate QuantumCircuit.u instead: u2(φ,λ) = u(π/2, φ, λ). Alternatively, you can decompose it in terms of QuantumCircuit.p and QuantumCircuit.sx: u2(φ,λ) = p(π/2+φ) sx p(π/2+λ) (1 pulse on hardware).\n",
            "  'Y_Rot_90': lambda circ, qubit: circ.u2(np.pi, np.pi, qubit)\n",
            "/usr/local/lib/python3.6/dist-packages/qiskit/ignis/verification/tomography/basis/gatesetbasis.py:255: DeprecationWarning: The QuantumCircuit.u2 method is deprecated as of 0.16.0. It will be removed no earlier than 3 months after the release date. You can use the general 1-qubit gate QuantumCircuit.u instead: u2(φ,λ) = u(π/2, φ, λ). Alternatively, you can decompose it in terms of QuantumCircuit.p and QuantumCircuit.sx: u2(φ,λ) = p(π/2+φ) sx p(π/2+λ) (1 pulse on hardware).\n",
            "  'X_Rot_90': lambda circ, qubit: circ.u2(-np.pi / 2, np.pi / 2, qubit),\n",
            "/usr/local/lib/python3.6/dist-packages/qiskit/ignis/verification/tomography/basis/gatesetbasis.py:255: DeprecationWarning: The QuantumCircuit.u2 method is deprecated as of 0.16.0. It will be removed no earlier than 3 months after the release date. You can use the general 1-qubit gate QuantumCircuit.u instead: u2(φ,λ) = u(π/2, φ, λ). Alternatively, you can decompose it in terms of QuantumCircuit.p and QuantumCircuit.sx: u2(φ,λ) = p(π/2+φ) sx p(π/2+λ) (1 pulse on hardware).\n",
            "  'X_Rot_90': lambda circ, qubit: circ.u2(-np.pi / 2, np.pi / 2, qubit),\n",
            "/usr/local/lib/python3.6/dist-packages/qiskit/ignis/verification/tomography/basis/gatesetbasis.py:255: DeprecationWarning: The QuantumCircuit.u2 method is deprecated as of 0.16.0. It will be removed no earlier than 3 months after the release date. You can use the general 1-qubit gate QuantumCircuit.u instead: u2(φ,λ) = u(π/2, φ, λ). Alternatively, you can decompose it in terms of QuantumCircuit.p and QuantumCircuit.sx: u2(φ,λ) = p(π/2+φ) sx p(π/2+λ) (1 pulse on hardware).\n",
            "  'X_Rot_90': lambda circ, qubit: circ.u2(-np.pi / 2, np.pi / 2, qubit),\n",
            "/usr/local/lib/python3.6/dist-packages/qiskit/ignis/verification/tomography/basis/gatesetbasis.py:255: DeprecationWarning: The QuantumCircuit.u2 method is deprecated as of 0.16.0. It will be removed no earlier than 3 months after the release date. You can use the general 1-qubit gate QuantumCircuit.u instead: u2(φ,λ) = u(π/2, φ, λ). Alternatively, you can decompose it in terms of QuantumCircuit.p and QuantumCircuit.sx: u2(φ,λ) = p(π/2+φ) sx p(π/2+λ) (1 pulse on hardware).\n",
            "  'X_Rot_90': lambda circ, qubit: circ.u2(-np.pi / 2, np.pi / 2, qubit),\n",
            "/usr/local/lib/python3.6/dist-packages/qiskit/ignis/verification/tomography/basis/gatesetbasis.py:256: DeprecationWarning: The QuantumCircuit.u2 method is deprecated as of 0.16.0. It will be removed no earlier than 3 months after the release date. You can use the general 1-qubit gate QuantumCircuit.u instead: u2(φ,λ) = u(π/2, φ, λ). Alternatively, you can decompose it in terms of QuantumCircuit.p and QuantumCircuit.sx: u2(φ,λ) = p(π/2+φ) sx p(π/2+λ) (1 pulse on hardware).\n",
            "  'Y_Rot_90': lambda circ, qubit: circ.u2(np.pi, np.pi, qubit)\n",
            "/usr/local/lib/python3.6/dist-packages/qiskit/ignis/verification/tomography/basis/gatesetbasis.py:255: DeprecationWarning: The QuantumCircuit.u2 method is deprecated as of 0.16.0. It will be removed no earlier than 3 months after the release date. You can use the general 1-qubit gate QuantumCircuit.u instead: u2(φ,λ) = u(π/2, φ, λ). Alternatively, you can decompose it in terms of QuantumCircuit.p and QuantumCircuit.sx: u2(φ,λ) = p(π/2+φ) sx p(π/2+λ) (1 pulse on hardware).\n",
            "  'X_Rot_90': lambda circ, qubit: circ.u2(-np.pi / 2, np.pi / 2, qubit),\n",
            "/usr/local/lib/python3.6/dist-packages/qiskit/ignis/verification/tomography/basis/gatesetbasis.py:255: DeprecationWarning: The QuantumCircuit.u2 method is deprecated as of 0.16.0. It will be removed no earlier than 3 months after the release date. You can use the general 1-qubit gate QuantumCircuit.u instead: u2(φ,λ) = u(π/2, φ, λ). Alternatively, you can decompose it in terms of QuantumCircuit.p and QuantumCircuit.sx: u2(φ,λ) = p(π/2+φ) sx p(π/2+λ) (1 pulse on hardware).\n",
            "  'X_Rot_90': lambda circ, qubit: circ.u2(-np.pi / 2, np.pi / 2, qubit),\n",
            "/usr/local/lib/python3.6/dist-packages/qiskit/ignis/verification/tomography/basis/gatesetbasis.py:256: DeprecationWarning: The QuantumCircuit.u2 method is deprecated as of 0.16.0. It will be removed no earlier than 3 months after the release date. You can use the general 1-qubit gate QuantumCircuit.u instead: u2(φ,λ) = u(π/2, φ, λ). Alternatively, you can decompose it in terms of QuantumCircuit.p and QuantumCircuit.sx: u2(φ,λ) = p(π/2+φ) sx p(π/2+λ) (1 pulse on hardware).\n",
            "  'Y_Rot_90': lambda circ, qubit: circ.u2(np.pi, np.pi, qubit)\n",
            "/usr/local/lib/python3.6/dist-packages/qiskit/ignis/verification/tomography/basis/gatesetbasis.py:255: DeprecationWarning: The QuantumCircuit.u2 method is deprecated as of 0.16.0. It will be removed no earlier than 3 months after the release date. You can use the general 1-qubit gate QuantumCircuit.u instead: u2(φ,λ) = u(π/2, φ, λ). Alternatively, you can decompose it in terms of QuantumCircuit.p and QuantumCircuit.sx: u2(φ,λ) = p(π/2+φ) sx p(π/2+λ) (1 pulse on hardware).\n",
            "  'X_Rot_90': lambda circ, qubit: circ.u2(-np.pi / 2, np.pi / 2, qubit),\n",
            "/usr/local/lib/python3.6/dist-packages/qiskit/ignis/verification/tomography/basis/gatesetbasis.py:256: DeprecationWarning: The QuantumCircuit.u2 method is deprecated as of 0.16.0. It will be removed no earlier than 3 months after the release date. You can use the general 1-qubit gate QuantumCircuit.u instead: u2(φ,λ) = u(π/2, φ, λ). Alternatively, you can decompose it in terms of QuantumCircuit.p and QuantumCircuit.sx: u2(φ,λ) = p(π/2+φ) sx p(π/2+λ) (1 pulse on hardware).\n",
            "  'Y_Rot_90': lambda circ, qubit: circ.u2(np.pi, np.pi, qubit)\n",
            "/usr/local/lib/python3.6/dist-packages/qiskit/ignis/verification/tomography/basis/gatesetbasis.py:255: DeprecationWarning: The QuantumCircuit.u2 method is deprecated as of 0.16.0. It will be removed no earlier than 3 months after the release date. You can use the general 1-qubit gate QuantumCircuit.u instead: u2(φ,λ) = u(π/2, φ, λ). Alternatively, you can decompose it in terms of QuantumCircuit.p and QuantumCircuit.sx: u2(φ,λ) = p(π/2+φ) sx p(π/2+λ) (1 pulse on hardware).\n",
            "  'X_Rot_90': lambda circ, qubit: circ.u2(-np.pi / 2, np.pi / 2, qubit),\n",
            "/usr/local/lib/python3.6/dist-packages/qiskit/ignis/verification/tomography/basis/gatesetbasis.py:255: DeprecationWarning: The QuantumCircuit.u2 method is deprecated as of 0.16.0. It will be removed no earlier than 3 months after the release date. You can use the general 1-qubit gate QuantumCircuit.u instead: u2(φ,λ) = u(π/2, φ, λ). Alternatively, you can decompose it in terms of QuantumCircuit.p and QuantumCircuit.sx: u2(φ,λ) = p(π/2+φ) sx p(π/2+λ) (1 pulse on hardware).\n",
            "  'X_Rot_90': lambda circ, qubit: circ.u2(-np.pi / 2, np.pi / 2, qubit),\n",
            "/usr/local/lib/python3.6/dist-packages/qiskit/ignis/verification/tomography/basis/gatesetbasis.py:255: DeprecationWarning: The QuantumCircuit.u2 method is deprecated as of 0.16.0. It will be removed no earlier than 3 months after the release date. You can use the general 1-qubit gate QuantumCircuit.u instead: u2(φ,λ) = u(π/2, φ, λ). Alternatively, you can decompose it in terms of QuantumCircuit.p and QuantumCircuit.sx: u2(φ,λ) = p(π/2+φ) sx p(π/2+λ) (1 pulse on hardware).\n",
            "  'X_Rot_90': lambda circ, qubit: circ.u2(-np.pi / 2, np.pi / 2, qubit),\n",
            "/usr/local/lib/python3.6/dist-packages/qiskit/ignis/verification/tomography/basis/gatesetbasis.py:255: DeprecationWarning: The QuantumCircuit.u2 method is deprecated as of 0.16.0. It will be removed no earlier than 3 months after the release date. You can use the general 1-qubit gate QuantumCircuit.u instead: u2(φ,λ) = u(π/2, φ, λ). Alternatively, you can decompose it in terms of QuantumCircuit.p and QuantumCircuit.sx: u2(φ,λ) = p(π/2+φ) sx p(π/2+λ) (1 pulse on hardware).\n",
            "  'X_Rot_90': lambda circ, qubit: circ.u2(-np.pi / 2, np.pi / 2, qubit),\n",
            "/usr/local/lib/python3.6/dist-packages/qiskit/ignis/verification/tomography/basis/gatesetbasis.py:255: DeprecationWarning: The QuantumCircuit.u2 method is deprecated as of 0.16.0. It will be removed no earlier than 3 months after the release date. You can use the general 1-qubit gate QuantumCircuit.u instead: u2(φ,λ) = u(π/2, φ, λ). Alternatively, you can decompose it in terms of QuantumCircuit.p and QuantumCircuit.sx: u2(φ,λ) = p(π/2+φ) sx p(π/2+λ) (1 pulse on hardware).\n",
            "  'X_Rot_90': lambda circ, qubit: circ.u2(-np.pi / 2, np.pi / 2, qubit),\n",
            "/usr/local/lib/python3.6/dist-packages/qiskit/ignis/verification/tomography/basis/gatesetbasis.py:256: DeprecationWarning: The QuantumCircuit.u2 method is deprecated as of 0.16.0. It will be removed no earlier than 3 months after the release date. You can use the general 1-qubit gate QuantumCircuit.u instead: u2(φ,λ) = u(π/2, φ, λ). Alternatively, you can decompose it in terms of QuantumCircuit.p and QuantumCircuit.sx: u2(φ,λ) = p(π/2+φ) sx p(π/2+λ) (1 pulse on hardware).\n",
            "  'Y_Rot_90': lambda circ, qubit: circ.u2(np.pi, np.pi, qubit)\n",
            "/usr/local/lib/python3.6/dist-packages/qiskit/ignis/verification/tomography/basis/gatesetbasis.py:255: DeprecationWarning: The QuantumCircuit.u2 method is deprecated as of 0.16.0. It will be removed no earlier than 3 months after the release date. You can use the general 1-qubit gate QuantumCircuit.u instead: u2(φ,λ) = u(π/2, φ, λ). Alternatively, you can decompose it in terms of QuantumCircuit.p and QuantumCircuit.sx: u2(φ,λ) = p(π/2+φ) sx p(π/2+λ) (1 pulse on hardware).\n",
            "  'X_Rot_90': lambda circ, qubit: circ.u2(-np.pi / 2, np.pi / 2, qubit),\n",
            "/usr/local/lib/python3.6/dist-packages/qiskit/ignis/verification/tomography/basis/gatesetbasis.py:255: DeprecationWarning: The QuantumCircuit.u2 method is deprecated as of 0.16.0. It will be removed no earlier than 3 months after the release date. You can use the general 1-qubit gate QuantumCircuit.u instead: u2(φ,λ) = u(π/2, φ, λ). Alternatively, you can decompose it in terms of QuantumCircuit.p and QuantumCircuit.sx: u2(φ,λ) = p(π/2+φ) sx p(π/2+λ) (1 pulse on hardware).\n",
            "  'X_Rot_90': lambda circ, qubit: circ.u2(-np.pi / 2, np.pi / 2, qubit),\n",
            "/usr/local/lib/python3.6/dist-packages/qiskit/ignis/verification/tomography/basis/gatesetbasis.py:256: DeprecationWarning: The QuantumCircuit.u2 method is deprecated as of 0.16.0. It will be removed no earlier than 3 months after the release date. You can use the general 1-qubit gate QuantumCircuit.u instead: u2(φ,λ) = u(π/2, φ, λ). Alternatively, you can decompose it in terms of QuantumCircuit.p and QuantumCircuit.sx: u2(φ,λ) = p(π/2+φ) sx p(π/2+λ) (1 pulse on hardware).\n",
            "  'Y_Rot_90': lambda circ, qubit: circ.u2(np.pi, np.pi, qubit)\n",
            "/usr/local/lib/python3.6/dist-packages/qiskit/ignis/verification/tomography/basis/gatesetbasis.py:255: DeprecationWarning: The QuantumCircuit.u2 method is deprecated as of 0.16.0. It will be removed no earlier than 3 months after the release date. You can use the general 1-qubit gate QuantumCircuit.u instead: u2(φ,λ) = u(π/2, φ, λ). Alternatively, you can decompose it in terms of QuantumCircuit.p and QuantumCircuit.sx: u2(φ,λ) = p(π/2+φ) sx p(π/2+λ) (1 pulse on hardware).\n",
            "  'X_Rot_90': lambda circ, qubit: circ.u2(-np.pi / 2, np.pi / 2, qubit),\n",
            "/usr/local/lib/python3.6/dist-packages/qiskit/ignis/verification/tomography/basis/gatesetbasis.py:256: DeprecationWarning: The QuantumCircuit.u2 method is deprecated as of 0.16.0. It will be removed no earlier than 3 months after the release date. You can use the general 1-qubit gate QuantumCircuit.u instead: u2(φ,λ) = u(π/2, φ, λ). Alternatively, you can decompose it in terms of QuantumCircuit.p and QuantumCircuit.sx: u2(φ,λ) = p(π/2+φ) sx p(π/2+λ) (1 pulse on hardware).\n",
            "  'Y_Rot_90': lambda circ, qubit: circ.u2(np.pi, np.pi, qubit)\n",
            "/usr/local/lib/python3.6/dist-packages/qiskit/ignis/verification/tomography/basis/gatesetbasis.py:255: DeprecationWarning: The QuantumCircuit.u2 method is deprecated as of 0.16.0. It will be removed no earlier than 3 months after the release date. You can use the general 1-qubit gate QuantumCircuit.u instead: u2(φ,λ) = u(π/2, φ, λ). Alternatively, you can decompose it in terms of QuantumCircuit.p and QuantumCircuit.sx: u2(φ,λ) = p(π/2+φ) sx p(π/2+λ) (1 pulse on hardware).\n",
            "  'X_Rot_90': lambda circ, qubit: circ.u2(-np.pi / 2, np.pi / 2, qubit),\n",
            "/usr/local/lib/python3.6/dist-packages/qiskit/ignis/verification/tomography/basis/gatesetbasis.py:255: DeprecationWarning: The QuantumCircuit.u2 method is deprecated as of 0.16.0. It will be removed no earlier than 3 months after the release date. You can use the general 1-qubit gate QuantumCircuit.u instead: u2(φ,λ) = u(π/2, φ, λ). Alternatively, you can decompose it in terms of QuantumCircuit.p and QuantumCircuit.sx: u2(φ,λ) = p(π/2+φ) sx p(π/2+λ) (1 pulse on hardware).\n",
            "  'X_Rot_90': lambda circ, qubit: circ.u2(-np.pi / 2, np.pi / 2, qubit),\n",
            "/usr/local/lib/python3.6/dist-packages/qiskit/ignis/verification/tomography/basis/gatesetbasis.py:255: DeprecationWarning: The QuantumCircuit.u2 method is deprecated as of 0.16.0. It will be removed no earlier than 3 months after the release date. You can use the general 1-qubit gate QuantumCircuit.u instead: u2(φ,λ) = u(π/2, φ, λ). Alternatively, you can decompose it in terms of QuantumCircuit.p and QuantumCircuit.sx: u2(φ,λ) = p(π/2+φ) sx p(π/2+λ) (1 pulse on hardware).\n",
            "  'X_Rot_90': lambda circ, qubit: circ.u2(-np.pi / 2, np.pi / 2, qubit),\n",
            "/usr/local/lib/python3.6/dist-packages/qiskit/ignis/verification/tomography/basis/gatesetbasis.py:255: DeprecationWarning: The QuantumCircuit.u2 method is deprecated as of 0.16.0. It will be removed no earlier than 3 months after the release date. You can use the general 1-qubit gate QuantumCircuit.u instead: u2(φ,λ) = u(π/2, φ, λ). Alternatively, you can decompose it in terms of QuantumCircuit.p and QuantumCircuit.sx: u2(φ,λ) = p(π/2+φ) sx p(π/2+λ) (1 pulse on hardware).\n",
            "  'X_Rot_90': lambda circ, qubit: circ.u2(-np.pi / 2, np.pi / 2, qubit),\n",
            "/usr/local/lib/python3.6/dist-packages/qiskit/ignis/verification/tomography/basis/gatesetbasis.py:256: DeprecationWarning: The QuantumCircuit.u2 method is deprecated as of 0.16.0. It will be removed no earlier than 3 months after the release date. You can use the general 1-qubit gate QuantumCircuit.u instead: u2(φ,λ) = u(π/2, φ, λ). Alternatively, you can decompose it in terms of QuantumCircuit.p and QuantumCircuit.sx: u2(φ,λ) = p(π/2+φ) sx p(π/2+λ) (1 pulse on hardware).\n",
            "  'Y_Rot_90': lambda circ, qubit: circ.u2(np.pi, np.pi, qubit)\n",
            "/usr/local/lib/python3.6/dist-packages/qiskit/ignis/verification/tomography/basis/gatesetbasis.py:255: DeprecationWarning: The QuantumCircuit.u2 method is deprecated as of 0.16.0. It will be removed no earlier than 3 months after the release date. You can use the general 1-qubit gate QuantumCircuit.u instead: u2(φ,λ) = u(π/2, φ, λ). Alternatively, you can decompose it in terms of QuantumCircuit.p and QuantumCircuit.sx: u2(φ,λ) = p(π/2+φ) sx p(π/2+λ) (1 pulse on hardware).\n",
            "  'X_Rot_90': lambda circ, qubit: circ.u2(-np.pi / 2, np.pi / 2, qubit),\n",
            "/usr/local/lib/python3.6/dist-packages/qiskit/ignis/verification/tomography/basis/gatesetbasis.py:255: DeprecationWarning: The QuantumCircuit.u2 method is deprecated as of 0.16.0. It will be removed no earlier than 3 months after the release date. You can use the general 1-qubit gate QuantumCircuit.u instead: u2(φ,λ) = u(π/2, φ, λ). Alternatively, you can decompose it in terms of QuantumCircuit.p and QuantumCircuit.sx: u2(φ,λ) = p(π/2+φ) sx p(π/2+λ) (1 pulse on hardware).\n",
            "  'X_Rot_90': lambda circ, qubit: circ.u2(-np.pi / 2, np.pi / 2, qubit),\n",
            "/usr/local/lib/python3.6/dist-packages/qiskit/ignis/verification/tomography/basis/gatesetbasis.py:256: DeprecationWarning: The QuantumCircuit.u2 method is deprecated as of 0.16.0. It will be removed no earlier than 3 months after the release date. You can use the general 1-qubit gate QuantumCircuit.u instead: u2(φ,λ) = u(π/2, φ, λ). Alternatively, you can decompose it in terms of QuantumCircuit.p and QuantumCircuit.sx: u2(φ,λ) = p(π/2+φ) sx p(π/2+λ) (1 pulse on hardware).\n",
            "  'Y_Rot_90': lambda circ, qubit: circ.u2(np.pi, np.pi, qubit)\n",
            "/usr/local/lib/python3.6/dist-packages/qiskit/ignis/verification/tomography/basis/gatesetbasis.py:255: DeprecationWarning: The QuantumCircuit.u2 method is deprecated as of 0.16.0. It will be removed no earlier than 3 months after the release date. You can use the general 1-qubit gate QuantumCircuit.u instead: u2(φ,λ) = u(π/2, φ, λ). Alternatively, you can decompose it in terms of QuantumCircuit.p and QuantumCircuit.sx: u2(φ,λ) = p(π/2+φ) sx p(π/2+λ) (1 pulse on hardware).\n",
            "  'X_Rot_90': lambda circ, qubit: circ.u2(-np.pi / 2, np.pi / 2, qubit),\n",
            "/usr/local/lib/python3.6/dist-packages/qiskit/ignis/verification/tomography/basis/gatesetbasis.py:256: DeprecationWarning: The QuantumCircuit.u2 method is deprecated as of 0.16.0. It will be removed no earlier than 3 months after the release date. You can use the general 1-qubit gate QuantumCircuit.u instead: u2(φ,λ) = u(π/2, φ, λ). Alternatively, you can decompose it in terms of QuantumCircuit.p and QuantumCircuit.sx: u2(φ,λ) = p(π/2+φ) sx p(π/2+λ) (1 pulse on hardware).\n",
            "  'Y_Rot_90': lambda circ, qubit: circ.u2(np.pi, np.pi, qubit)\n",
            "/usr/local/lib/python3.6/dist-packages/qiskit/ignis/verification/tomography/basis/gatesetbasis.py:255: DeprecationWarning: The QuantumCircuit.u2 method is deprecated as of 0.16.0. It will be removed no earlier than 3 months after the release date. You can use the general 1-qubit gate QuantumCircuit.u instead: u2(φ,λ) = u(π/2, φ, λ). Alternatively, you can decompose it in terms of QuantumCircuit.p and QuantumCircuit.sx: u2(φ,λ) = p(π/2+φ) sx p(π/2+λ) (1 pulse on hardware).\n",
            "  'X_Rot_90': lambda circ, qubit: circ.u2(-np.pi / 2, np.pi / 2, qubit),\n",
            "/usr/local/lib/python3.6/dist-packages/qiskit/ignis/verification/tomography/basis/gatesetbasis.py:255: DeprecationWarning: The QuantumCircuit.u2 method is deprecated as of 0.16.0. It will be removed no earlier than 3 months after the release date. You can use the general 1-qubit gate QuantumCircuit.u instead: u2(φ,λ) = u(π/2, φ, λ). Alternatively, you can decompose it in terms of QuantumCircuit.p and QuantumCircuit.sx: u2(φ,λ) = p(π/2+φ) sx p(π/2+λ) (1 pulse on hardware).\n",
            "  'X_Rot_90': lambda circ, qubit: circ.u2(-np.pi / 2, np.pi / 2, qubit),\n",
            "/usr/local/lib/python3.6/dist-packages/qiskit/ignis/verification/tomography/basis/gatesetbasis.py:255: DeprecationWarning: The QuantumCircuit.u2 method is deprecated as of 0.16.0. It will be removed no earlier than 3 months after the release date. You can use the general 1-qubit gate QuantumCircuit.u instead: u2(φ,λ) = u(π/2, φ, λ). Alternatively, you can decompose it in terms of QuantumCircuit.p and QuantumCircuit.sx: u2(φ,λ) = p(π/2+φ) sx p(π/2+λ) (1 pulse on hardware).\n",
            "  'X_Rot_90': lambda circ, qubit: circ.u2(-np.pi / 2, np.pi / 2, qubit),\n",
            "/usr/local/lib/python3.6/dist-packages/qiskit/ignis/verification/tomography/basis/gatesetbasis.py:255: DeprecationWarning: The QuantumCircuit.u2 method is deprecated as of 0.16.0. It will be removed no earlier than 3 months after the release date. You can use the general 1-qubit gate QuantumCircuit.u instead: u2(φ,λ) = u(π/2, φ, λ). Alternatively, you can decompose it in terms of QuantumCircuit.p and QuantumCircuit.sx: u2(φ,λ) = p(π/2+φ) sx p(π/2+λ) (1 pulse on hardware).\n",
            "  'X_Rot_90': lambda circ, qubit: circ.u2(-np.pi / 2, np.pi / 2, qubit),\n",
            "/usr/local/lib/python3.6/dist-packages/qiskit/ignis/verification/tomography/basis/gatesetbasis.py:255: DeprecationWarning: The QuantumCircuit.u2 method is deprecated as of 0.16.0. It will be removed no earlier than 3 months after the release date. You can use the general 1-qubit gate QuantumCircuit.u instead: u2(φ,λ) = u(π/2, φ, λ). Alternatively, you can decompose it in terms of QuantumCircuit.p and QuantumCircuit.sx: u2(φ,λ) = p(π/2+φ) sx p(π/2+λ) (1 pulse on hardware).\n",
            "  'X_Rot_90': lambda circ, qubit: circ.u2(-np.pi / 2, np.pi / 2, qubit),\n",
            "/usr/local/lib/python3.6/dist-packages/qiskit/ignis/verification/tomography/basis/gatesetbasis.py:256: DeprecationWarning: The QuantumCircuit.u2 method is deprecated as of 0.16.0. It will be removed no earlier than 3 months after the release date. You can use the general 1-qubit gate QuantumCircuit.u instead: u2(φ,λ) = u(π/2, φ, λ). Alternatively, you can decompose it in terms of QuantumCircuit.p and QuantumCircuit.sx: u2(φ,λ) = p(π/2+φ) sx p(π/2+λ) (1 pulse on hardware).\n",
            "  'Y_Rot_90': lambda circ, qubit: circ.u2(np.pi, np.pi, qubit)\n",
            "/usr/local/lib/python3.6/dist-packages/qiskit/ignis/verification/tomography/basis/gatesetbasis.py:255: DeprecationWarning: The QuantumCircuit.u2 method is deprecated as of 0.16.0. It will be removed no earlier than 3 months after the release date. You can use the general 1-qubit gate QuantumCircuit.u instead: u2(φ,λ) = u(π/2, φ, λ). Alternatively, you can decompose it in terms of QuantumCircuit.p and QuantumCircuit.sx: u2(φ,λ) = p(π/2+φ) sx p(π/2+λ) (1 pulse on hardware).\n",
            "  'X_Rot_90': lambda circ, qubit: circ.u2(-np.pi / 2, np.pi / 2, qubit),\n",
            "/usr/local/lib/python3.6/dist-packages/qiskit/ignis/verification/tomography/basis/gatesetbasis.py:255: DeprecationWarning: The QuantumCircuit.u2 method is deprecated as of 0.16.0. It will be removed no earlier than 3 months after the release date. You can use the general 1-qubit gate QuantumCircuit.u instead: u2(φ,λ) = u(π/2, φ, λ). Alternatively, you can decompose it in terms of QuantumCircuit.p and QuantumCircuit.sx: u2(φ,λ) = p(π/2+φ) sx p(π/2+λ) (1 pulse on hardware).\n",
            "  'X_Rot_90': lambda circ, qubit: circ.u2(-np.pi / 2, np.pi / 2, qubit),\n",
            "/usr/local/lib/python3.6/dist-packages/qiskit/ignis/verification/tomography/basis/gatesetbasis.py:255: DeprecationWarning: The QuantumCircuit.u2 method is deprecated as of 0.16.0. It will be removed no earlier than 3 months after the release date. You can use the general 1-qubit gate QuantumCircuit.u instead: u2(φ,λ) = u(π/2, φ, λ). Alternatively, you can decompose it in terms of QuantumCircuit.p and QuantumCircuit.sx: u2(φ,λ) = p(π/2+φ) sx p(π/2+λ) (1 pulse on hardware).\n",
            "  'X_Rot_90': lambda circ, qubit: circ.u2(-np.pi / 2, np.pi / 2, qubit),\n",
            "/usr/local/lib/python3.6/dist-packages/qiskit/ignis/verification/tomography/basis/gatesetbasis.py:256: DeprecationWarning: The QuantumCircuit.u2 method is deprecated as of 0.16.0. It will be removed no earlier than 3 months after the release date. You can use the general 1-qubit gate QuantumCircuit.u instead: u2(φ,λ) = u(π/2, φ, λ). Alternatively, you can decompose it in terms of QuantumCircuit.p and QuantumCircuit.sx: u2(φ,λ) = p(π/2+φ) sx p(π/2+λ) (1 pulse on hardware).\n",
            "  'Y_Rot_90': lambda circ, qubit: circ.u2(np.pi, np.pi, qubit)\n",
            "/usr/local/lib/python3.6/dist-packages/qiskit/ignis/verification/tomography/basis/gatesetbasis.py:255: DeprecationWarning: The QuantumCircuit.u2 method is deprecated as of 0.16.0. It will be removed no earlier than 3 months after the release date. You can use the general 1-qubit gate QuantumCircuit.u instead: u2(φ,λ) = u(π/2, φ, λ). Alternatively, you can decompose it in terms of QuantumCircuit.p and QuantumCircuit.sx: u2(φ,λ) = p(π/2+φ) sx p(π/2+λ) (1 pulse on hardware).\n",
            "  'X_Rot_90': lambda circ, qubit: circ.u2(-np.pi / 2, np.pi / 2, qubit),\n",
            "/usr/local/lib/python3.6/dist-packages/qiskit/ignis/verification/tomography/basis/gatesetbasis.py:255: DeprecationWarning: The QuantumCircuit.u2 method is deprecated as of 0.16.0. It will be removed no earlier than 3 months after the release date. You can use the general 1-qubit gate QuantumCircuit.u instead: u2(φ,λ) = u(π/2, φ, λ). Alternatively, you can decompose it in terms of QuantumCircuit.p and QuantumCircuit.sx: u2(φ,λ) = p(π/2+φ) sx p(π/2+λ) (1 pulse on hardware).\n",
            "  'X_Rot_90': lambda circ, qubit: circ.u2(-np.pi / 2, np.pi / 2, qubit),\n",
            "/usr/local/lib/python3.6/dist-packages/qiskit/ignis/verification/tomography/basis/gatesetbasis.py:255: DeprecationWarning: The QuantumCircuit.u2 method is deprecated as of 0.16.0. It will be removed no earlier than 3 months after the release date. You can use the general 1-qubit gate QuantumCircuit.u instead: u2(φ,λ) = u(π/2, φ, λ). Alternatively, you can decompose it in terms of QuantumCircuit.p and QuantumCircuit.sx: u2(φ,λ) = p(π/2+φ) sx p(π/2+λ) (1 pulse on hardware).\n",
            "  'X_Rot_90': lambda circ, qubit: circ.u2(-np.pi / 2, np.pi / 2, qubit),\n",
            "/usr/local/lib/python3.6/dist-packages/qiskit/ignis/verification/tomography/basis/gatesetbasis.py:255: DeprecationWarning: The QuantumCircuit.u2 method is deprecated as of 0.16.0. It will be removed no earlier than 3 months after the release date. You can use the general 1-qubit gate QuantumCircuit.u instead: u2(φ,λ) = u(π/2, φ, λ). Alternatively, you can decompose it in terms of QuantumCircuit.p and QuantumCircuit.sx: u2(φ,λ) = p(π/2+φ) sx p(π/2+λ) (1 pulse on hardware).\n",
            "  'X_Rot_90': lambda circ, qubit: circ.u2(-np.pi / 2, np.pi / 2, qubit),\n",
            "/usr/local/lib/python3.6/dist-packages/qiskit/ignis/verification/tomography/basis/gatesetbasis.py:256: DeprecationWarning: The QuantumCircuit.u2 method is deprecated as of 0.16.0. It will be removed no earlier than 3 months after the release date. You can use the general 1-qubit gate QuantumCircuit.u instead: u2(φ,λ) = u(π/2, φ, λ). Alternatively, you can decompose it in terms of QuantumCircuit.p and QuantumCircuit.sx: u2(φ,λ) = p(π/2+φ) sx p(π/2+λ) (1 pulse on hardware).\n",
            "  'Y_Rot_90': lambda circ, qubit: circ.u2(np.pi, np.pi, qubit)\n",
            "/usr/local/lib/python3.6/dist-packages/qiskit/ignis/verification/tomography/basis/gatesetbasis.py:255: DeprecationWarning: The QuantumCircuit.u2 method is deprecated as of 0.16.0. It will be removed no earlier than 3 months after the release date. You can use the general 1-qubit gate QuantumCircuit.u instead: u2(φ,λ) = u(π/2, φ, λ). Alternatively, you can decompose it in terms of QuantumCircuit.p and QuantumCircuit.sx: u2(φ,λ) = p(π/2+φ) sx p(π/2+λ) (1 pulse on hardware).\n",
            "  'X_Rot_90': lambda circ, qubit: circ.u2(-np.pi / 2, np.pi / 2, qubit),\n",
            "/usr/local/lib/python3.6/dist-packages/qiskit/ignis/verification/tomography/basis/gatesetbasis.py:255: DeprecationWarning: The QuantumCircuit.u2 method is deprecated as of 0.16.0. It will be removed no earlier than 3 months after the release date. You can use the general 1-qubit gate QuantumCircuit.u instead: u2(φ,λ) = u(π/2, φ, λ). Alternatively, you can decompose it in terms of QuantumCircuit.p and QuantumCircuit.sx: u2(φ,λ) = p(π/2+φ) sx p(π/2+λ) (1 pulse on hardware).\n",
            "  'X_Rot_90': lambda circ, qubit: circ.u2(-np.pi / 2, np.pi / 2, qubit),\n",
            "/usr/local/lib/python3.6/dist-packages/qiskit/ignis/verification/tomography/basis/gatesetbasis.py:256: DeprecationWarning: The QuantumCircuit.u2 method is deprecated as of 0.16.0. It will be removed no earlier than 3 months after the release date. You can use the general 1-qubit gate QuantumCircuit.u instead: u2(φ,λ) = u(π/2, φ, λ). Alternatively, you can decompose it in terms of QuantumCircuit.p and QuantumCircuit.sx: u2(φ,λ) = p(π/2+φ) sx p(π/2+λ) (1 pulse on hardware).\n",
            "  'Y_Rot_90': lambda circ, qubit: circ.u2(np.pi, np.pi, qubit)\n",
            "/usr/local/lib/python3.6/dist-packages/qiskit/ignis/verification/tomography/basis/gatesetbasis.py:255: DeprecationWarning: The QuantumCircuit.u2 method is deprecated as of 0.16.0. It will be removed no earlier than 3 months after the release date. You can use the general 1-qubit gate QuantumCircuit.u instead: u2(φ,λ) = u(π/2, φ, λ). Alternatively, you can decompose it in terms of QuantumCircuit.p and QuantumCircuit.sx: u2(φ,λ) = p(π/2+φ) sx p(π/2+λ) (1 pulse on hardware).\n",
            "  'X_Rot_90': lambda circ, qubit: circ.u2(-np.pi / 2, np.pi / 2, qubit),\n",
            "/usr/local/lib/python3.6/dist-packages/qiskit/ignis/verification/tomography/basis/gatesetbasis.py:256: DeprecationWarning: The QuantumCircuit.u2 method is deprecated as of 0.16.0. It will be removed no earlier than 3 months after the release date. You can use the general 1-qubit gate QuantumCircuit.u instead: u2(φ,λ) = u(π/2, φ, λ). Alternatively, you can decompose it in terms of QuantumCircuit.p and QuantumCircuit.sx: u2(φ,λ) = p(π/2+φ) sx p(π/2+λ) (1 pulse on hardware).\n",
            "  'Y_Rot_90': lambda circ, qubit: circ.u2(np.pi, np.pi, qubit)\n",
            "/usr/local/lib/python3.6/dist-packages/qiskit/ignis/verification/tomography/basis/gatesetbasis.py:255: DeprecationWarning: The QuantumCircuit.u2 method is deprecated as of 0.16.0. It will be removed no earlier than 3 months after the release date. You can use the general 1-qubit gate QuantumCircuit.u instead: u2(φ,λ) = u(π/2, φ, λ). Alternatively, you can decompose it in terms of QuantumCircuit.p and QuantumCircuit.sx: u2(φ,λ) = p(π/2+φ) sx p(π/2+λ) (1 pulse on hardware).\n",
            "  'X_Rot_90': lambda circ, qubit: circ.u2(-np.pi / 2, np.pi / 2, qubit),\n",
            "/usr/local/lib/python3.6/dist-packages/qiskit/ignis/verification/tomography/basis/gatesetbasis.py:255: DeprecationWarning: The QuantumCircuit.u2 method is deprecated as of 0.16.0. It will be removed no earlier than 3 months after the release date. You can use the general 1-qubit gate QuantumCircuit.u instead: u2(φ,λ) = u(π/2, φ, λ). Alternatively, you can decompose it in terms of QuantumCircuit.p and QuantumCircuit.sx: u2(φ,λ) = p(π/2+φ) sx p(π/2+λ) (1 pulse on hardware).\n",
            "  'X_Rot_90': lambda circ, qubit: circ.u2(-np.pi / 2, np.pi / 2, qubit),\n",
            "/usr/local/lib/python3.6/dist-packages/qiskit/ignis/verification/tomography/basis/gatesetbasis.py:255: DeprecationWarning: The QuantumCircuit.u2 method is deprecated as of 0.16.0. It will be removed no earlier than 3 months after the release date. You can use the general 1-qubit gate QuantumCircuit.u instead: u2(φ,λ) = u(π/2, φ, λ). Alternatively, you can decompose it in terms of QuantumCircuit.p and QuantumCircuit.sx: u2(φ,λ) = p(π/2+φ) sx p(π/2+λ) (1 pulse on hardware).\n",
            "  'X_Rot_90': lambda circ, qubit: circ.u2(-np.pi / 2, np.pi / 2, qubit),\n",
            "/usr/local/lib/python3.6/dist-packages/qiskit/ignis/verification/tomography/basis/gatesetbasis.py:255: DeprecationWarning: The QuantumCircuit.u2 method is deprecated as of 0.16.0. It will be removed no earlier than 3 months after the release date. You can use the general 1-qubit gate QuantumCircuit.u instead: u2(φ,λ) = u(π/2, φ, λ). Alternatively, you can decompose it in terms of QuantumCircuit.p and QuantumCircuit.sx: u2(φ,λ) = p(π/2+φ) sx p(π/2+λ) (1 pulse on hardware).\n",
            "  'X_Rot_90': lambda circ, qubit: circ.u2(-np.pi / 2, np.pi / 2, qubit),\n",
            "/usr/local/lib/python3.6/dist-packages/qiskit/ignis/verification/tomography/basis/gatesetbasis.py:255: DeprecationWarning: The QuantumCircuit.u2 method is deprecated as of 0.16.0. It will be removed no earlier than 3 months after the release date. You can use the general 1-qubit gate QuantumCircuit.u instead: u2(φ,λ) = u(π/2, φ, λ). Alternatively, you can decompose it in terms of QuantumCircuit.p and QuantumCircuit.sx: u2(φ,λ) = p(π/2+φ) sx p(π/2+λ) (1 pulse on hardware).\n",
            "  'X_Rot_90': lambda circ, qubit: circ.u2(-np.pi / 2, np.pi / 2, qubit),\n",
            "/usr/local/lib/python3.6/dist-packages/qiskit/ignis/verification/tomography/basis/gatesetbasis.py:256: DeprecationWarning: The QuantumCircuit.u2 method is deprecated as of 0.16.0. It will be removed no earlier than 3 months after the release date. You can use the general 1-qubit gate QuantumCircuit.u instead: u2(φ,λ) = u(π/2, φ, λ). Alternatively, you can decompose it in terms of QuantumCircuit.p and QuantumCircuit.sx: u2(φ,λ) = p(π/2+φ) sx p(π/2+λ) (1 pulse on hardware).\n",
            "  'Y_Rot_90': lambda circ, qubit: circ.u2(np.pi, np.pi, qubit)\n",
            "/usr/local/lib/python3.6/dist-packages/qiskit/ignis/verification/tomography/basis/gatesetbasis.py:255: DeprecationWarning: The QuantumCircuit.u2 method is deprecated as of 0.16.0. It will be removed no earlier than 3 months after the release date. You can use the general 1-qubit gate QuantumCircuit.u instead: u2(φ,λ) = u(π/2, φ, λ). Alternatively, you can decompose it in terms of QuantumCircuit.p and QuantumCircuit.sx: u2(φ,λ) = p(π/2+φ) sx p(π/2+λ) (1 pulse on hardware).\n",
            "  'X_Rot_90': lambda circ, qubit: circ.u2(-np.pi / 2, np.pi / 2, qubit),\n",
            "/usr/local/lib/python3.6/dist-packages/qiskit/ignis/verification/tomography/basis/gatesetbasis.py:255: DeprecationWarning: The QuantumCircuit.u2 method is deprecated as of 0.16.0. It will be removed no earlier than 3 months after the release date. You can use the general 1-qubit gate QuantumCircuit.u instead: u2(φ,λ) = u(π/2, φ, λ). Alternatively, you can decompose it in terms of QuantumCircuit.p and QuantumCircuit.sx: u2(φ,λ) = p(π/2+φ) sx p(π/2+λ) (1 pulse on hardware).\n",
            "  'X_Rot_90': lambda circ, qubit: circ.u2(-np.pi / 2, np.pi / 2, qubit),\n",
            "/usr/local/lib/python3.6/dist-packages/qiskit/ignis/verification/tomography/basis/gatesetbasis.py:255: DeprecationWarning: The QuantumCircuit.u2 method is deprecated as of 0.16.0. It will be removed no earlier than 3 months after the release date. You can use the general 1-qubit gate QuantumCircuit.u instead: u2(φ,λ) = u(π/2, φ, λ). Alternatively, you can decompose it in terms of QuantumCircuit.p and QuantumCircuit.sx: u2(φ,λ) = p(π/2+φ) sx p(π/2+λ) (1 pulse on hardware).\n",
            "  'X_Rot_90': lambda circ, qubit: circ.u2(-np.pi / 2, np.pi / 2, qubit),\n",
            "/usr/local/lib/python3.6/dist-packages/qiskit/ignis/verification/tomography/basis/gatesetbasis.py:256: DeprecationWarning: The QuantumCircuit.u2 method is deprecated as of 0.16.0. It will be removed no earlier than 3 months after the release date. You can use the general 1-qubit gate QuantumCircuit.u instead: u2(φ,λ) = u(π/2, φ, λ). Alternatively, you can decompose it in terms of QuantumCircuit.p and QuantumCircuit.sx: u2(φ,λ) = p(π/2+φ) sx p(π/2+λ) (1 pulse on hardware).\n",
            "  'Y_Rot_90': lambda circ, qubit: circ.u2(np.pi, np.pi, qubit)\n",
            "/usr/local/lib/python3.6/dist-packages/qiskit/ignis/verification/tomography/basis/gatesetbasis.py:255: DeprecationWarning: The QuantumCircuit.u2 method is deprecated as of 0.16.0. It will be removed no earlier than 3 months after the release date. You can use the general 1-qubit gate QuantumCircuit.u instead: u2(φ,λ) = u(π/2, φ, λ). Alternatively, you can decompose it in terms of QuantumCircuit.p and QuantumCircuit.sx: u2(φ,λ) = p(π/2+φ) sx p(π/2+λ) (1 pulse on hardware).\n",
            "  'X_Rot_90': lambda circ, qubit: circ.u2(-np.pi / 2, np.pi / 2, qubit),\n",
            "/usr/local/lib/python3.6/dist-packages/qiskit/ignis/verification/tomography/basis/gatesetbasis.py:255: DeprecationWarning: The QuantumCircuit.u2 method is deprecated as of 0.16.0. It will be removed no earlier than 3 months after the release date. You can use the general 1-qubit gate QuantumCircuit.u instead: u2(φ,λ) = u(π/2, φ, λ). Alternatively, you can decompose it in terms of QuantumCircuit.p and QuantumCircuit.sx: u2(φ,λ) = p(π/2+φ) sx p(π/2+λ) (1 pulse on hardware).\n",
            "  'X_Rot_90': lambda circ, qubit: circ.u2(-np.pi / 2, np.pi / 2, qubit),\n",
            "/usr/local/lib/python3.6/dist-packages/qiskit/ignis/verification/tomography/basis/gatesetbasis.py:255: DeprecationWarning: The QuantumCircuit.u2 method is deprecated as of 0.16.0. It will be removed no earlier than 3 months after the release date. You can use the general 1-qubit gate QuantumCircuit.u instead: u2(φ,λ) = u(π/2, φ, λ). Alternatively, you can decompose it in terms of QuantumCircuit.p and QuantumCircuit.sx: u2(φ,λ) = p(π/2+φ) sx p(π/2+λ) (1 pulse on hardware).\n",
            "  'X_Rot_90': lambda circ, qubit: circ.u2(-np.pi / 2, np.pi / 2, qubit),\n",
            "/usr/local/lib/python3.6/dist-packages/qiskit/ignis/verification/tomography/basis/gatesetbasis.py:255: DeprecationWarning: The QuantumCircuit.u2 method is deprecated as of 0.16.0. It will be removed no earlier than 3 months after the release date. You can use the general 1-qubit gate QuantumCircuit.u instead: u2(φ,λ) = u(π/2, φ, λ). Alternatively, you can decompose it in terms of QuantumCircuit.p and QuantumCircuit.sx: u2(φ,λ) = p(π/2+φ) sx p(π/2+λ) (1 pulse on hardware).\n",
            "  'X_Rot_90': lambda circ, qubit: circ.u2(-np.pi / 2, np.pi / 2, qubit),\n",
            "/usr/local/lib/python3.6/dist-packages/qiskit/ignis/verification/tomography/basis/gatesetbasis.py:256: DeprecationWarning: The QuantumCircuit.u2 method is deprecated as of 0.16.0. It will be removed no earlier than 3 months after the release date. You can use the general 1-qubit gate QuantumCircuit.u instead: u2(φ,λ) = u(π/2, φ, λ). Alternatively, you can decompose it in terms of QuantumCircuit.p and QuantumCircuit.sx: u2(φ,λ) = p(π/2+φ) sx p(π/2+λ) (1 pulse on hardware).\n",
            "  'Y_Rot_90': lambda circ, qubit: circ.u2(np.pi, np.pi, qubit)\n",
            "/usr/local/lib/python3.6/dist-packages/qiskit/ignis/verification/tomography/basis/gatesetbasis.py:255: DeprecationWarning: The QuantumCircuit.u2 method is deprecated as of 0.16.0. It will be removed no earlier than 3 months after the release date. You can use the general 1-qubit gate QuantumCircuit.u instead: u2(φ,λ) = u(π/2, φ, λ). Alternatively, you can decompose it in terms of QuantumCircuit.p and QuantumCircuit.sx: u2(φ,λ) = p(π/2+φ) sx p(π/2+λ) (1 pulse on hardware).\n",
            "  'X_Rot_90': lambda circ, qubit: circ.u2(-np.pi / 2, np.pi / 2, qubit),\n",
            "/usr/local/lib/python3.6/dist-packages/qiskit/ignis/verification/tomography/basis/gatesetbasis.py:255: DeprecationWarning: The QuantumCircuit.u2 method is deprecated as of 0.16.0. It will be removed no earlier than 3 months after the release date. You can use the general 1-qubit gate QuantumCircuit.u instead: u2(φ,λ) = u(π/2, φ, λ). Alternatively, you can decompose it in terms of QuantumCircuit.p and QuantumCircuit.sx: u2(φ,λ) = p(π/2+φ) sx p(π/2+λ) (1 pulse on hardware).\n",
            "  'X_Rot_90': lambda circ, qubit: circ.u2(-np.pi / 2, np.pi / 2, qubit),\n",
            "/usr/local/lib/python3.6/dist-packages/qiskit/ignis/verification/tomography/basis/gatesetbasis.py:256: DeprecationWarning: The QuantumCircuit.u2 method is deprecated as of 0.16.0. It will be removed no earlier than 3 months after the release date. You can use the general 1-qubit gate QuantumCircuit.u instead: u2(φ,λ) = u(π/2, φ, λ). Alternatively, you can decompose it in terms of QuantumCircuit.p and QuantumCircuit.sx: u2(φ,λ) = p(π/2+φ) sx p(π/2+λ) (1 pulse on hardware).\n",
            "  'Y_Rot_90': lambda circ, qubit: circ.u2(np.pi, np.pi, qubit)\n",
            "/usr/local/lib/python3.6/dist-packages/qiskit/ignis/verification/tomography/basis/gatesetbasis.py:255: DeprecationWarning: The QuantumCircuit.u2 method is deprecated as of 0.16.0. It will be removed no earlier than 3 months after the release date. You can use the general 1-qubit gate QuantumCircuit.u instead: u2(φ,λ) = u(π/2, φ, λ). Alternatively, you can decompose it in terms of QuantumCircuit.p and QuantumCircuit.sx: u2(φ,λ) = p(π/2+φ) sx p(π/2+λ) (1 pulse on hardware).\n",
            "  'X_Rot_90': lambda circ, qubit: circ.u2(-np.pi / 2, np.pi / 2, qubit),\n",
            "/usr/local/lib/python3.6/dist-packages/qiskit/ignis/verification/tomography/basis/gatesetbasis.py:256: DeprecationWarning: The QuantumCircuit.u2 method is deprecated as of 0.16.0. It will be removed no earlier than 3 months after the release date. You can use the general 1-qubit gate QuantumCircuit.u instead: u2(φ,λ) = u(π/2, φ, λ). Alternatively, you can decompose it in terms of QuantumCircuit.p and QuantumCircuit.sx: u2(φ,λ) = p(π/2+φ) sx p(π/2+λ) (1 pulse on hardware).\n",
            "  'Y_Rot_90': lambda circ, qubit: circ.u2(np.pi, np.pi, qubit)\n",
            "/usr/local/lib/python3.6/dist-packages/qiskit/ignis/verification/tomography/basis/gatesetbasis.py:255: DeprecationWarning: The QuantumCircuit.u2 method is deprecated as of 0.16.0. It will be removed no earlier than 3 months after the release date. You can use the general 1-qubit gate QuantumCircuit.u instead: u2(φ,λ) = u(π/2, φ, λ). Alternatively, you can decompose it in terms of QuantumCircuit.p and QuantumCircuit.sx: u2(φ,λ) = p(π/2+φ) sx p(π/2+λ) (1 pulse on hardware).\n",
            "  'X_Rot_90': lambda circ, qubit: circ.u2(-np.pi / 2, np.pi / 2, qubit),\n",
            "/usr/local/lib/python3.6/dist-packages/qiskit/ignis/verification/tomography/basis/gatesetbasis.py:255: DeprecationWarning: The QuantumCircuit.u2 method is deprecated as of 0.16.0. It will be removed no earlier than 3 months after the release date. You can use the general 1-qubit gate QuantumCircuit.u instead: u2(φ,λ) = u(π/2, φ, λ). Alternatively, you can decompose it in terms of QuantumCircuit.p and QuantumCircuit.sx: u2(φ,λ) = p(π/2+φ) sx p(π/2+λ) (1 pulse on hardware).\n",
            "  'X_Rot_90': lambda circ, qubit: circ.u2(-np.pi / 2, np.pi / 2, qubit),\n",
            "/usr/local/lib/python3.6/dist-packages/qiskit/ignis/verification/tomography/basis/gatesetbasis.py:255: DeprecationWarning: The QuantumCircuit.u2 method is deprecated as of 0.16.0. It will be removed no earlier than 3 months after the release date. You can use the general 1-qubit gate QuantumCircuit.u instead: u2(φ,λ) = u(π/2, φ, λ). Alternatively, you can decompose it in terms of QuantumCircuit.p and QuantumCircuit.sx: u2(φ,λ) = p(π/2+φ) sx p(π/2+λ) (1 pulse on hardware).\n",
            "  'X_Rot_90': lambda circ, qubit: circ.u2(-np.pi / 2, np.pi / 2, qubit),\n",
            "/usr/local/lib/python3.6/dist-packages/qiskit/ignis/verification/tomography/basis/gatesetbasis.py:255: DeprecationWarning: The QuantumCircuit.u2 method is deprecated as of 0.16.0. It will be removed no earlier than 3 months after the release date. You can use the general 1-qubit gate QuantumCircuit.u instead: u2(φ,λ) = u(π/2, φ, λ). Alternatively, you can decompose it in terms of QuantumCircuit.p and QuantumCircuit.sx: u2(φ,λ) = p(π/2+φ) sx p(π/2+λ) (1 pulse on hardware).\n",
            "  'X_Rot_90': lambda circ, qubit: circ.u2(-np.pi / 2, np.pi / 2, qubit),\n",
            "/usr/local/lib/python3.6/dist-packages/qiskit/ignis/verification/tomography/basis/gatesetbasis.py:255: DeprecationWarning: The QuantumCircuit.u2 method is deprecated as of 0.16.0. It will be removed no earlier than 3 months after the release date. You can use the general 1-qubit gate QuantumCircuit.u instead: u2(φ,λ) = u(π/2, φ, λ). Alternatively, you can decompose it in terms of QuantumCircuit.p and QuantumCircuit.sx: u2(φ,λ) = p(π/2+φ) sx p(π/2+λ) (1 pulse on hardware).\n",
            "  'X_Rot_90': lambda circ, qubit: circ.u2(-np.pi / 2, np.pi / 2, qubit),\n",
            "/usr/local/lib/python3.6/dist-packages/qiskit/ignis/verification/tomography/basis/gatesetbasis.py:256: DeprecationWarning: The QuantumCircuit.u2 method is deprecated as of 0.16.0. It will be removed no earlier than 3 months after the release date. You can use the general 1-qubit gate QuantumCircuit.u instead: u2(φ,λ) = u(π/2, φ, λ). Alternatively, you can decompose it in terms of QuantumCircuit.p and QuantumCircuit.sx: u2(φ,λ) = p(π/2+φ) sx p(π/2+λ) (1 pulse on hardware).\n",
            "  'Y_Rot_90': lambda circ, qubit: circ.u2(np.pi, np.pi, qubit)\n",
            "/usr/local/lib/python3.6/dist-packages/qiskit/ignis/verification/tomography/basis/gatesetbasis.py:255: DeprecationWarning: The QuantumCircuit.u2 method is deprecated as of 0.16.0. It will be removed no earlier than 3 months after the release date. You can use the general 1-qubit gate QuantumCircuit.u instead: u2(φ,λ) = u(π/2, φ, λ). Alternatively, you can decompose it in terms of QuantumCircuit.p and QuantumCircuit.sx: u2(φ,λ) = p(π/2+φ) sx p(π/2+λ) (1 pulse on hardware).\n",
            "  'X_Rot_90': lambda circ, qubit: circ.u2(-np.pi / 2, np.pi / 2, qubit),\n",
            "/usr/local/lib/python3.6/dist-packages/qiskit/ignis/verification/tomography/basis/gatesetbasis.py:255: DeprecationWarning: The QuantumCircuit.u2 method is deprecated as of 0.16.0. It will be removed no earlier than 3 months after the release date. You can use the general 1-qubit gate QuantumCircuit.u instead: u2(φ,λ) = u(π/2, φ, λ). Alternatively, you can decompose it in terms of QuantumCircuit.p and QuantumCircuit.sx: u2(φ,λ) = p(π/2+φ) sx p(π/2+λ) (1 pulse on hardware).\n",
            "  'X_Rot_90': lambda circ, qubit: circ.u2(-np.pi / 2, np.pi / 2, qubit),\n",
            "/usr/local/lib/python3.6/dist-packages/qiskit/ignis/verification/tomography/basis/gatesetbasis.py:255: DeprecationWarning: The QuantumCircuit.u2 method is deprecated as of 0.16.0. It will be removed no earlier than 3 months after the release date. You can use the general 1-qubit gate QuantumCircuit.u instead: u2(φ,λ) = u(π/2, φ, λ). Alternatively, you can decompose it in terms of QuantumCircuit.p and QuantumCircuit.sx: u2(φ,λ) = p(π/2+φ) sx p(π/2+λ) (1 pulse on hardware).\n",
            "  'X_Rot_90': lambda circ, qubit: circ.u2(-np.pi / 2, np.pi / 2, qubit),\n",
            "/usr/local/lib/python3.6/dist-packages/qiskit/ignis/verification/tomography/basis/gatesetbasis.py:256: DeprecationWarning: The QuantumCircuit.u2 method is deprecated as of 0.16.0. It will be removed no earlier than 3 months after the release date. You can use the general 1-qubit gate QuantumCircuit.u instead: u2(φ,λ) = u(π/2, φ, λ). Alternatively, you can decompose it in terms of QuantumCircuit.p and QuantumCircuit.sx: u2(φ,λ) = p(π/2+φ) sx p(π/2+λ) (1 pulse on hardware).\n",
            "  'Y_Rot_90': lambda circ, qubit: circ.u2(np.pi, np.pi, qubit)\n",
            "/usr/local/lib/python3.6/dist-packages/qiskit/ignis/verification/tomography/basis/gatesetbasis.py:255: DeprecationWarning: The QuantumCircuit.u2 method is deprecated as of 0.16.0. It will be removed no earlier than 3 months after the release date. You can use the general 1-qubit gate QuantumCircuit.u instead: u2(φ,λ) = u(π/2, φ, λ). Alternatively, you can decompose it in terms of QuantumCircuit.p and QuantumCircuit.sx: u2(φ,λ) = p(π/2+φ) sx p(π/2+λ) (1 pulse on hardware).\n",
            "  'X_Rot_90': lambda circ, qubit: circ.u2(-np.pi / 2, np.pi / 2, qubit),\n",
            "/usr/local/lib/python3.6/dist-packages/qiskit/ignis/verification/tomography/basis/gatesetbasis.py:255: DeprecationWarning: The QuantumCircuit.u2 method is deprecated as of 0.16.0. It will be removed no earlier than 3 months after the release date. You can use the general 1-qubit gate QuantumCircuit.u instead: u2(φ,λ) = u(π/2, φ, λ). Alternatively, you can decompose it in terms of QuantumCircuit.p and QuantumCircuit.sx: u2(φ,λ) = p(π/2+φ) sx p(π/2+λ) (1 pulse on hardware).\n",
            "  'X_Rot_90': lambda circ, qubit: circ.u2(-np.pi / 2, np.pi / 2, qubit),\n"
          ],
          "name": "stderr"
        },
        {
          "output_type": "stream",
          "text": [
            "fit time: 2.3144452571868896\n",
            "fit fidelity (state): 0.9897020602145838\n",
            "fit fidelity (process): 0.8202802961563214\n"
          ],
          "name": "stdout"
        }
      ]
    }
  ]
}