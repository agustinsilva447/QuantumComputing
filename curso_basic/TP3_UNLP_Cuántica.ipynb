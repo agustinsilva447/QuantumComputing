{
  "nbformat": 4,
  "nbformat_minor": 0,
  "metadata": {
    "colab": {
      "name": "TP3_UNLP_Cuántica.ipynb",
      "provenance": [],
      "collapsed_sections": [
        "TwFrefN2S-FX",
        "Tr43utI-TJWX",
        "Xu9Z-q9WTNU_",
        "ZhI76YWqdkyD",
        "nheYqhxcjv79"
      ]
    },
    "kernelspec": {
      "name": "python3",
      "display_name": "Python 3"
    }
  },
  "cells": [
    {
      "cell_type": "markdown",
      "metadata": {
        "id": "XtfoWX34S2jh"
      },
      "source": [
        "$$\n",
        "\\newcommand{\\ket}[1]{\\left|\\,{#1}\\,\\right\\rangle}\n",
        "\\newcommand{\\bra}[1]{\\left\\langle\\,{#1}\\,\\right|}\n",
        "\\newcommand{\\braket}[2]{\\left\\langle\\,{#1}\\,\\middle|\\,{#2}\\,\\right\\rangle}\n",
        "\\newcommand{\\mean}[1]{\\left\\langle\\,{#1}\\,\\right\\rangle}\n",
        "$$"
      ]
    },
    {
      "cell_type": "markdown",
      "metadata": {
        "id": "b_6Uh8LQS9Cg"
      },
      "source": [
        "# Teoría de la Información Cuántica"
      ]
    },
    {
      "cell_type": "markdown",
      "metadata": {
        "id": "TwFrefN2S-FX"
      },
      "source": [
        "## Trabajo Práctica Número 3"
      ]
    },
    {
      "cell_type": "markdown",
      "metadata": {
        "id": "Tr43utI-TJWX"
      },
      "source": [
        "### I. Compuertas Lógicas"
      ]
    },
    {
      "cell_type": "markdown",
      "metadata": {
        "id": "z4M3t40wTcCs"
      },
      "source": [
        "#### 1) Escribir explícitamente el operador de rotación de un qubit alrededor de un eje n, $R_{n}(\\theta)=exp[-i\\theta n \\sigma /2]$, y mostrar que una transformación unitaria arbirratia de un qubit puede escribirse como $U = e^{i\\alpha}R_{\\vec{n}}(\\theta)$."
      ]
    },
    {
      "cell_type": "markdown",
      "metadata": {
        "id": "_gWeQubcUNW_"
      },
      "source": [
        "#### 2) Verificar que $X=iR_{x}(\\pi)$, $Y=iR_{y}(\\pi)$, $Z=iR_{z}(\\pi)$, $H=iR_{n}(\\pi)$ con $n = \\frac{1}{\\sqrt{2}}(1,0,1)$ y que por lo tanto $XZX=-Z, XYX=-Y,HXH=Z, HZH=X$."
      ]
    },
    {
      "cell_type": "markdown",
      "metadata": {
        "id": "o2i4KG4iU3cQ"
      },
      "source": [
        "#### 3) Determinar los tiempos t y el Hamiltorniano de dos qubits tales que el operaor evolución $U(t)=exp[-iHt/h]$ coincida con $R_{n}(\\theta) \\otimes R_{m}(\\phi)$."
      ]
    },
    {
      "cell_type": "markdown",
      "metadata": {
        "id": "xOZtzwoLW-fk"
      },
      "source": [
        "#### 4) Determinar un Hamiltoniano de dos qubits H y un tiempo t tal que $U=exp[-iHt/h]$ sea el operador QCnot usual $U_{X}$."
      ]
    },
    {
      "cell_type": "markdown",
      "metadata": {
        "id": "Xu9Z-q9WTNU_"
      },
      "source": [
        "### II. Estados de dos qubits y traspuesta parcial"
      ]
    },
    {
      "cell_type": "markdown",
      "metadata": {
        "id": "ZhI76YWqdkyD"
      },
      "source": [
        "#### 1) A partir de la forma general de un estado de dos qubits\n",
        "\n",
        "$$\\rho_{AB}=\\frac{1}{4}[I\\otimes I+\\sum_{i,j=1}^{3}\\delta_{ij}(r_{i}^{A}\\sigma_{i} \\otimes I + r_{i}^{B}I \\otimes \\sigma_{i}) + J_{ij} \\sigma_{i} \\otimes \\sigma_{j}]$$\n",
        "\n",
        "donde $\\sigma_{i}, i = x,y,z$ son las matrices de Pauli de cada qubit."
      ]
    },
    {
      "cell_type": "markdown",
      "metadata": {
        "id": "OsgtOMb5iGrC"
      },
      "source": [
        "##### a) Expresar $r_{i}^{A}$, $r_{i}^{B}$ y J_{ij} en terminos de valores medios de observables del sistema."
      ]
    },
    {
      "cell_type": "markdown",
      "metadata": {
        "id": "UAsxJVq8iXQ9"
      },
      "source": [
        "##### b) Indicar si es siempre posible encontrar ejes locales tales que la matriz de elementos $J_{ij}$ es diagonal."
      ]
    },
    {
      "cell_type": "markdown",
      "metadata": {
        "id": "fzTp3Ep8ihht"
      },
      "source": [
        "##### c) Hallar las matrices densidad reducidas $\\rho_{A}=Tr_{B}(\\rho_{AB})$, $\\rho_{B}=Tr_{A}(\\rho_{AB})$"
      ]
    },
    {
      "cell_type": "markdown",
      "metadata": {
        "id": "FGpV5u-fi0aQ"
      },
      "source": [
        "##### d) Hallar la traspuesta parcial respecto de B en esta representación."
      ]
    },
    {
      "cell_type": "markdown",
      "metadata": {
        "id": "XSiJ7Ln5i63P"
      },
      "source": [
        "##### e) Expresar en la forma anterior el estado puro $\\rho_{AB} = \\ket{\\Psi}\\bra{\\Psi}$ para (i) $\\Psi = \\frac{1}{\\sqrt{2}}(\\ket{00}+\\ket{11})$ y (ii) $\\Psi = \\frac{1}{\\sqrt{2}}(\\ket{01}+\\ket{10})$"
      ]
    },
    {
      "cell_type": "markdown",
      "metadata": {
        "id": "nheYqhxcjv79"
      },
      "source": [
        "#### 2) Para $\\ket{\\Psi}=\\frac{1}{\\sqrt{2}}(\\ket{01}-\\ket{10})$, considerar el estado $\\rho_{AB}=x\\ket{\\Psi}\\bra{\\Psi}+(1-x)I\\otimes I/4$"
      ]
    },
    {
      "cell_type": "markdown",
      "metadata": {
        "id": "5dX3yPfclZE7"
      },
      "source": [
        "##### a) Indicar para qué valores de x es $\\rho_{AB}$ un estado físico"
      ]
    },
    {
      "cell_type": "markdown",
      "metadata": {
        "id": "_IVmPq0Zli9K"
      },
      "source": [
        "##### b) Indicar para qué valores de x es $\\rho_{AB}$ un estado puro"
      ]
    },
    {
      "cell_type": "markdown",
      "metadata": {
        "id": "D10FhrB4lqZv"
      },
      "source": [
        "##### c) Indicar para qué valores de x se viola la desigualdad de Bell $|Tr(\\rho_{AB}O)| \\leq 2$ con O el observable CHSH descripto en clase."
      ]
    },
    {
      "cell_type": "markdown",
      "metadata": {
        "id": "tqeVyDOhnvbN"
      },
      "source": [
        "##### d) Indicar para qué valores de x es $\\rho_{AB}$ entrelazado."
      ]
    },
    {
      "cell_type": "markdown",
      "metadata": {
        "id": "GDRGAyA6n2-R"
      },
      "source": [
        "##### e) Evaluar la negatividad, concurrencia y entrelazamiento de formación de $\\rho_{AB}$."
      ]
    },
    {
      "cell_type": "code",
      "metadata": {
        "id": "OXUuCBGwlYT7"
      },
      "source": [
        ""
      ],
      "execution_count": null,
      "outputs": []
    }
  ]
}