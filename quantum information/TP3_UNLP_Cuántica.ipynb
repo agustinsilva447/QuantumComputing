{
  "nbformat": 4,
  "nbformat_minor": 0,
  "metadata": {
    "colab": {
      "name": "TP3_UNLP_Cuántica.ipynb",
      "provenance": [],
      "collapsed_sections": []
    },
    "kernelspec": {
      "name": "python3",
      "display_name": "Python 3"
    }
  },
  "cells": [
    {
      "cell_type": "markdown",
      "metadata": {
        "id": "XtfoWX34S2jh"
      },
      "source": [
        "$$\n",
        "\\newcommand{\\ket}[1]{\\left|\\,{#1}\\,\\right\\rangle}\n",
        "\\newcommand{\\bra}[1]{\\left\\langle\\,{#1}\\,\\right|}\n",
        "\\newcommand{\\braket}[2]{\\left\\langle\\,{#1}\\,\\middle|\\,{#2}\\,\\right\\rangle}\n",
        "\\newcommand{\\mean}[1]{\\left\\langle\\,{#1}\\,\\right\\rangle}\n",
        "$$"
      ]
    },
    {
      "cell_type": "markdown",
      "metadata": {
        "id": "b_6Uh8LQS9Cg"
      },
      "source": [
        "# Teoría de la Información Cuántica"
      ]
    },
    {
      "cell_type": "markdown",
      "metadata": {
        "id": "TwFrefN2S-FX"
      },
      "source": [
        "## Trabajo Práctica Número 3"
      ]
    },
    {
      "cell_type": "markdown",
      "metadata": {
        "id": "Tr43utI-TJWX"
      },
      "source": [
        "### I. Compuertas Lógicas"
      ]
    },
    {
      "cell_type": "markdown",
      "metadata": {
        "id": "z4M3t40wTcCs"
      },
      "source": [
        "#### 1) Escribir explícitamente el operador de rotación de un qubit alrededor de un eje n, $R_{n}(\\theta)=exp[-i\\theta n \\sigma /2]$, y mostrar que una transformación unitaria arbirratia de un qubit puede escribirse como $U = e^{i\\alpha}R_{\\vec{n}}(\\theta)$."
      ]
    },
    {
      "cell_type": "markdown",
      "metadata": {
        "id": "HIzbM8iyThGC"
      },
      "source": [
        "Sabiendo que:\n",
        "\n",
        "$\\left.\\begin{matrix}\n",
        "\\vec{n} = (\\sin(\\theta)\\cos(\\phi),\\sin(\\theta)\\sin(\\phi),\\cos(\\theta))\\\\ \n",
        "\\vec{\\sigma} = (\\sigma_{x},\\sigma_{y}, \\sigma_{z})\n",
        "\\end{matrix}\\right\\} \\vec{n}\\vec{\\sigma}=\\sin(\\theta)\\cos(\\phi)\\sigma_{x} + \\sin(\\theta)\\sin(\\phi)\\sigma_{y} + \\cos(\\theta)\\sigma_{z}$\n",
        "\n",
        "Calculamos:\n",
        "\n",
        "$(\\vec{n}\\vec{\\sigma})^2 = (\\sin(\\theta))^2(\\cos(\\phi))^2(\\sigma_{x})^2 + (\\sin(\\theta))^2(\\sin(\\phi))^2(\\sigma_{y})^2 + (\\cos(\\theta))^2(\\sigma_{z}))^2 + \\sin(\\theta)\\cos(\\theta)\\cos(\\phi) (\\sigma_x\\sigma_z+\\sigma_z\\sigma_x) + \\sin(\\theta)^2\\cos(\\phi)\\sin(\\phi) (\\sigma_x\\sigma_y+\\sigma_y\\sigma_x) + \\sin(\\theta)\\cos(\\phi)\\sin(\\phi) (\\sigma_y\\sigma_z+\\sigma_z\\sigma_y) = [(\\sin(\\theta))^2(\\cos(\\phi))^2 + (\\sin(\\theta))^2(\\sin(\\phi))^2 + (\\cos(\\theta))^2] I  + \\sin(\\theta)\\cos(\\theta)\\cos(\\phi) (\\sigma_y-\\sigma_y) + \\sin(\\theta)^2\\cos(\\phi)\\sin(\\phi) (\\sigma_z-\\sigma_z) + \\sin(\\theta)\\cos(\\phi)\\sin(\\phi) (\\sigma_x-\\sigma_x) = I$\n",
        "\n",
        "Entonces podemos decir:\n",
        "\n",
        "$R_n(\\alpha )=e^{-i\\alpha \\frac{\\vec{n} \\vec{\\sigma}}{2}} = \\cos(\\frac{\\alpha}{2})I - i\\sin(\\frac{\\alpha}{2})\\vec{n}\\vec{\\sigma}$\n",
        "\n",
        "Sabemos que todas los operadores unitarios se pueden expresar como una rotación en la esfera de Bloch más una global: $U=e^{i\\alpha}R_{\\vec{n}}(\\theta)$\n"
      ]
    },
    {
      "cell_type": "markdown",
      "metadata": {
        "id": "_gWeQubcUNW_"
      },
      "source": [
        "#### 2) Verificar que $X=iR_{x}(\\pi)$, $Y=iR_{y}(\\pi)$, $Z=iR_{z}(\\pi)$, $H=iR_{n}(\\pi)$ con $n = \\frac{1}{\\sqrt{2}}(1,0,1)$ y que por lo tanto $XZX=-Z, XYX=-Y,HXH=Z, HZH=X$."
      ]
    },
    {
      "cell_type": "markdown",
      "metadata": {
        "id": "CxKfWG8uePjg"
      },
      "source": [
        "De forma genérica:\n",
        "\n",
        "$iR_n(\\alpha) = i\\begin{pmatrix}\n",
        "\\cos(\\frac{\\alpha}{2})-i\\sin(\\frac{\\alpha}{2})\\cos(\\theta) &-i\\sin(\\frac{\\alpha}{2})\\sin(\\theta)(\\cos(\\phi)-i\\sin(\\phi))\\\\ \n",
        "-i\\sin(\\frac{\\alpha}{2})\\sin(\\theta)(\\cos(\\phi)+i\\sin(\\phi)) &\\cos(\\frac{\\alpha}{2})+i\\sin(\\frac{\\alpha}{2})\\cos(\\theta)\n",
        "\\end{pmatrix}$\n",
        "\n",
        "Calculo X:\n",
        "\n",
        "$iR_X(\\pi)|_{\\phi=0,\\theta=\\frac{\\pi}{2}} = i\\begin{pmatrix}\n",
        "\\cos(\\frac{\\pi}{2})-i\\sin(\\frac{\\pi}{2})\\cos(\\frac{\\pi}{2}) &-i\\sin(\\frac{\\pi}{2})\\sin(\\frac{\\pi}{2})(\\cos(0)-i\\sin(0))\\\\ \n",
        "-i\\sin(\\frac{\\pi}{2})\\sin(\\frac{\\pi}{2})(\\cos(0)+i\\sin(0)) &\\cos(\\frac{\\pi}{2})+i\\sin(\\frac{\\pi}{2})\\cos(\\frac{\\pi}{2})\n",
        "\\end{pmatrix}=i\\begin{pmatrix}\n",
        "0 &-i \\\\ \n",
        "-i &0 \n",
        "\\end{pmatrix} = \\sigma_x$\n",
        "\n",
        "Calculo Y:\n",
        "\n",
        "$iR_Y(\\pi)|_{\\phi=\\frac{\\pi}{2},\\theta=\\frac{\\pi}{2}} = i\\begin{pmatrix}\n",
        "\\cos(\\frac{\\pi}{2})-i\\sin(\\frac{\\pi}{2})\\cos(\\frac{\\pi}{2}) &-i\\sin(\\frac{\\pi}{2})\\sin(\\frac{\\pi}{2})(\\cos(\\frac{\\pi}{2})-i\\sin(\\frac{\\pi}{2}))\\\\ \n",
        "-i\\sin(\\frac{\\pi}{2})\\sin(\\frac{\\pi}{2})(\\cos(\\frac{\\pi}{2})+i\\sin(\\frac{\\pi}{2})) &\\cos(\\frac{\\pi}{2})+i\\sin(\\frac{\\pi}{2})\\cos(\\frac{\\pi}{2})\n",
        "\\end{pmatrix}=i\\begin{pmatrix}\n",
        "0 &-1 \\\\ \n",
        "1 &0 \n",
        "\\end{pmatrix} = \\sigma_y$\n",
        "\n",
        "Calculo Z:\n",
        "\n",
        "$iR_Z(\\pi)|_{\\phi=\\phi,\\theta=0} = i\\begin{pmatrix}\n",
        "\\cos(\\frac{\\pi}{2})-i\\sin(\\frac{\\pi}{2})\\cos(0) &-i\\sin(\\frac{\\pi}{2})\\sin(0)(\\cos(\\phi)-i\\sin(\\phi))\\\\ \n",
        "-i\\sin(\\frac{\\pi}{2})\\sin(0)(\\cos(\\phi)+i\\sin(\\phi)) &\\cos(\\frac{\\pi}{2})+i\\sin(\\frac{\\pi}{2})\\cos(0)\n",
        "\\end{pmatrix}=i\\begin{pmatrix}\n",
        "-i &0 \\\\ \n",
        "0 &i \n",
        "\\end{pmatrix} = \\sigma_z$\n",
        "\n",
        "Calculo H:\n",
        "\n",
        "$iR_n(\\pi)|_{\\phi=0,\\theta=\\frac{\\pi}{4}} = i\\begin{pmatrix}\n",
        "\\cos(\\frac{\\pi}{2})-i\\sin(\\frac{\\pi}{2})\\cos(\\frac{\\pi}{4}) &-i\\sin(\\frac{\\pi}{2})\\sin(\\frac{\\pi}{4})(\\cos(0)-i\\sin(0))\\\\ \n",
        "-i\\sin(\\frac{\\pi}{2})\\sin(\\frac{\\pi}{4})(\\cos(0)+i\\sin(0)) &\\cos(\\frac{\\pi}{2})+i\\sin(\\frac{\\pi}{2})\\cos(\\frac{\\pi}{4})\n",
        "\\end{pmatrix}=i\\begin{pmatrix}\n",
        "\\frac{-i}{\\sqrt{2}} &\\frac{-i}{\\sqrt{2}} \\\\ \n",
        "\\frac{-i}{\\sqrt{2}} &\\frac{i}{\\sqrt{2}} \n",
        "\\end{pmatrix} = H$\n",
        "\n",
        "Ahora:\n",
        "\n",
        "$XZX=i^{3}R_x(\\pi)R_z1(\\pi)R_x(\\pi)=\\sigma_x\\sigma_z\\sigma_x=-\\sigma_x^{2}\\sigma_z=-\\sigma_z$\n",
        "\n",
        "$XYX=i^{3}R_x(\\pi)R_y1(\\pi)R_x(\\pi)=\\sigma_x\\sigma_y\\sigma_x=-\\sigma_x^{2}\\sigma_y=-\\sigma_y$\n",
        "\n",
        "$HXH=\\frac{1}{2}(\\sigma_x + \\sigma_z)\\sigma_x(\\sigma_x + \\sigma_z) = \\sigma_z$\n",
        "\n",
        "$HZH=\\frac{1}{2}(\\sigma_x + \\sigma_z)\\sigma_z(\\sigma_x + \\sigma_z) = \\sigma_x$\n",
        "\n"
      ]
    },
    {
      "cell_type": "markdown",
      "metadata": {
        "id": "o2i4KG4iU3cQ"
      },
      "source": [
        "#### 3) Determinar los tiempos t y el Hamiltorniano de dos qubits tales que el operaor evolución $U(t)=exp[-iHt/h]$ coincida con $R_{n}(\\theta) \\otimes R_{m}(\\phi)$."
      ]
    },
    {
      "cell_type": "markdown",
      "metadata": {
        "id": "NJlbWoAhqtE3"
      },
      "source": [
        "Sea un $H = I \\otimes H_1 + H_2 \\otimes I$ \n",
        "\n",
        "Podemos expresar: $e^{\\frac{-it(I \\otimes H_1 + H_2 \\otimes I)}{h}} = I \\otimes e^{\\frac{-itH_1}{h}} + e^{\\frac{-itH_2}{h}} \\otimes I$\n",
        "\n",
        "[falta]"
      ]
    },
    {
      "cell_type": "markdown",
      "metadata": {
        "id": "xOZtzwoLW-fk"
      },
      "source": [
        "#### 4) Determinar un Hamiltoniano de dos qubits H y un tiempo t tal que $U=exp[-iHt/h]$ sea el operador QCnot usual $U_{X}$."
      ]
    },
    {
      "cell_type": "markdown",
      "metadata": {
        "id": "ADrwrDK9uHEq"
      },
      "source": [
        "Sea $CNOT = \\begin{pmatrix}\n",
        "1 &0  &0  &0 \\\\ \n",
        "0 &1  &0  &0 \\\\ \n",
        "0 &0  &0  &1 \\\\ \n",
        "0 &0  &1  &0 \n",
        "\\end{pmatrix}$\n",
        "\n",
        "Entonces:\n",
        "\n",
        "$e^{-\\frac{iHt}{h}} = CNOT = \\begin{pmatrix}\n",
        "1 &0  &0  &0 \\\\ \n",
        "0 &1  &0  &0 \\\\ \n",
        "0 &0  &0  &1 \\\\ \n",
        "0 &0  &1  &0 \n",
        "\\end{pmatrix} \\Rightarrow H = -\\frac{h}{it}\\log \\begin{pmatrix}\n",
        "1 &0  &0  &0 \\\\ \n",
        "0 &1  &0  &0 \\\\ \n",
        "0 &0  &0  &1 \\\\ \n",
        "0 &0  &1  &0 \n",
        "\\end{pmatrix}$\n",
        "\n",
        "Siendo $\\log \\begin{pmatrix}\n",
        "1 &0  &0  &0 \\\\ \n",
        "0 &1  &0  &0 \\\\ \n",
        "0 &0  &0  &1 \\\\ \n",
        "0 &0  &1  &0 \n",
        "\\end{pmatrix} = \\begin{pmatrix}\n",
        "2ni\\pi &0  &0  &0 \\\\ \n",
        "0 &2ni\\pi  &0  &0 \\\\ \n",
        "0 &0  &in\\pi+\\frac{(2n+1)i\\pi}{2}  &in\\pi-\\frac{(2n+1)i\\pi}{2} \\\\ \n",
        "0 &0  &in\\pi-\\frac{(2n+1)i\\pi}{2}  &in\\pi+\\frac{(2n+1)i\\pi}{2} \n",
        "\\end{pmatrix}$\n",
        "\n",
        "Entonces $H = -\\frac{h}{it}\\begin{pmatrix}\n",
        "2ni\\pi &0  &0  &0 \\\\ \n",
        "0 &2ni\\pi  &0  &0 \\\\ \n",
        "0 &0  &in\\pi+\\frac{(2n+1)i\\pi}{2}  &in\\pi-\\frac{(2n+1)i\\pi}{2} \\\\ \n",
        "0 &0  &in\\pi-\\frac{(2n+1)i\\pi}{2}  &in\\pi+\\frac{(2n+1)i\\pi}{2} \n",
        "\\end{pmatrix}$\n",
        "\n",
        "Si $t = \\frac{(2n+1)\\pi h}{2}$ entonces:\n",
        "\n",
        "$H = \\begin{pmatrix}\n",
        "1 &0  &0  &0 \\\\ \n",
        "0 &1  &0  &0 \\\\ \n",
        "0 &0  &0  &1 \\\\ \n",
        "0 &0  &1  &0 \n",
        "\\end{pmatrix}$"
      ]
    },
    {
      "cell_type": "markdown",
      "metadata": {
        "id": "Xu9Z-q9WTNU_"
      },
      "source": [
        "### II. Estados de dos qubits y traspuesta parcial"
      ]
    },
    {
      "cell_type": "markdown",
      "metadata": {
        "id": "ZhI76YWqdkyD"
      },
      "source": [
        "#### 1) A partir de la forma general de un estado de dos qubits\n",
        "\n",
        "$$\\rho_{AB}=\\frac{1}{4}[I\\otimes I+\\sum_{i,j=1}^{3}\\delta_{ij}(r_{i}^{A}\\sigma_{i} \\otimes I + r_{i}^{B}I \\otimes \\sigma_{i}) + J_{ij} \\sigma_{i} \\otimes \\sigma_{j}]$$\n",
        "\n",
        "donde $\\sigma_{i}, i = x,y,z$ son las matrices de Pauli de cada qubit."
      ]
    },
    {
      "cell_type": "markdown",
      "metadata": {
        "id": "OsgtOMb5iGrC"
      },
      "source": [
        "##### a) Expresar $r_{i}^{A}$, $r_{i}^{B}$ y $J_{ij}$ en terminos de valores medios de observables del sistema."
      ]
    },
    {
      "cell_type": "markdown",
      "metadata": {
        "id": "b5qjkuxHRsPl"
      },
      "source": [
        "Siendo $Tr\\left \\{(\\sigma_i \\otimes \\sigma_j)(\\sigma_{i'} \\otimes \\sigma_{j'})\\right \\} = Tr_A(\\sigma_i \\sigma_{i'})Tr_B(\\sigma_j \\sigma_{j'}) = 2\\delta_{ii'}2\\delta_{jj'} = 4\\delta_{ii'}\\delta_{jj'}$\n",
        "\n",
        "Entonces $\\left\\{\\begin{matrix}\n",
        "<\\vec{\\sigma}_A> = Tr(\\rho_{AB} \\vec{\\sigma} \\otimes I) = \\vec{r}_A\\\\ \n",
        "<\\vec{\\sigma}_B> = Tr(\\rho_{AB} I \\otimes \\vec{\\sigma}) = \\vec{r}_B\\\\ \n",
        "<\\sigma_i \\otimes \\sigma_i> = Tr(\\rho_{AB} \\sigma_i \\otimes \\sigma_j) = J_{ij}\\\\ \n",
        "\\end{matrix}\\right.$"
      ]
    },
    {
      "cell_type": "markdown",
      "metadata": {
        "id": "UAsxJVq8iXQ9"
      },
      "source": [
        "##### b) Indicar si es siempre posible encontrar ejes locales tales que la matriz de elementos $J_{ij}$ es diagonal."
      ]
    },
    {
      "cell_type": "markdown",
      "metadata": {
        "id": "ABs5fm_USvKn"
      },
      "source": [
        "Sea $\\rho = \\sum_{uv}^{4} J_{uv} \\sigma_{u} \\otimes \\sigma_{v} $ no podemos decir que J sea diagonalizable. Sin embargo, pordemos hacer la descomposición de valores singulares para que quede diagonal: $\\rho_{AB} = \\sum \\lambda_{v} \\sigma_{v}' \\otimes \\sigma_{v}''$"
      ]
    },
    {
      "cell_type": "markdown",
      "metadata": {
        "id": "fzTp3Ep8ihht"
      },
      "source": [
        "##### c) Hallar las matrices densidad reducidas $\\rho_{A}=Tr_{B}(\\rho_{AB})$, $\\rho_{B}=Tr_{A}(\\rho_{AB})$"
      ]
    },
    {
      "cell_type": "markdown",
      "metadata": {
        "id": "1z-LiJ8sUT30"
      },
      "source": [
        "$\\rho_A = Tr_B (\\rho_{AB}) = \\frac{1}{4}[2I_A + r_{Z}^B(\\bra{0}\\sigma_Z^B\\ket{0} + \\bra{1}\\sigma_Z^B\\ket{1})I_A + 2\\vec{\\sigma_A}\\vec{r_A} + \\sum_i (\\bra{0}\\sigma_Z^B\\ket{0} + \\bra{1}\\sigma_Z^B\\ket{1})\\sum_{j=1}^3J_{3j}\\sigma_j^A] = \\frac{1}{4}(2I_A + 2\\vec{\\sigma_A}\\vec{r_A}) = \\frac{1}{2}(I_A + \\vec{\\sigma_A} \\vec{r_A})$\n",
        "\n",
        "$\\rho_B = Tr_A (\\rho_{AB}) = \\frac{1}{4}[2I_B + r_{Z}^A(\\bra{0}\\sigma_Z^A\\ket{0} + \\bra{1}\\sigma_Z^A\\ket{1})I_B + 2\\vec{\\sigma_B}\\vec{r_B} + \\sum_i (\\bra{0}\\sigma_Z^A\\ket{0} + \\bra{1}\\sigma_Z^A\\ket{1})\\sum_{j=1}^3J_{3j}\\sigma_j^B] = \\frac{1}{4}(2I_B + 2\\vec{\\sigma_B}\\vec{r_B}) = \\frac{1}{2}(I_B + \\vec{\\sigma_B} \\vec{r_B})$"
      ]
    },
    {
      "cell_type": "markdown",
      "metadata": {
        "id": "FGpV5u-fi0aQ"
      },
      "source": [
        "##### d) Hallar la traspuesta parcial respecto de B en esta representación."
      ]
    },
    {
      "cell_type": "markdown",
      "metadata": {
        "id": "to-rbTD3eM9f"
      },
      "source": [
        "Como $\\sigma_x^T = \\sigma_x ; \\sigma_y^T = -\\sigma_y ; \\sigma_z^T = \\sigma_z$. Entonces:\n",
        "\n",
        "$\\rho_{AB}^{T_B} = \\frac{1}{4}[I \\otimes I^T + \\vec{r}_A\\vec{\\sigma} \\otimes I^T + I \\otimes \\vec{\\sigma}^T \\vec{r}_B + \\sum_{ij}J_{ij} \\sigma_i \\otimes \\sigma_{j}^{T}] = \\frac{1}{4}[I \\otimes I + \\vec{r}_A\\vec{\\sigma} \\otimes I + I \\otimes \\vec{\\sigma}^T (r_x , -r_y , r_z)_B + \\sum_{ij}J_{ij} \\sigma_i \\otimes \\sigma_{j}^{T}]$"
      ]
    },
    {
      "cell_type": "markdown",
      "metadata": {
        "id": "XSiJ7Ln5i63P"
      },
      "source": [
        "##### e) Expresar en la forma anterior el estado puro $\\rho_{AB} = \\ket{\\Psi}\\bra{\\Psi}$ para (i) $\\Psi = \\frac{1}{\\sqrt{2}}(\\ket{00}+\\ket{11})$ y (ii) $\\Psi = \\frac{1}{\\sqrt{2}}(\\ket{01}+\\ket{10})$"
      ]
    },
    {
      "cell_type": "markdown",
      "metadata": {
        "id": "cPgcrDmlgSJV"
      },
      "source": [
        "i) Sea $\\Psi = \\frac{1}{\\sqrt{2}}(\\ket{00}+\\ket{11})$\n",
        "\n",
        "$\\rho_{AB} = \\ket{\\Psi}\\bra{\\Psi} = \\frac{1}{2}\\begin{pmatrix}\n",
        "1 &0  &0  &1 \\\\ \n",
        "0 &0  &0  &0 \\\\ \n",
        "0 &0  &0  &0 \\\\ \n",
        "1 &0  &0  &1 \n",
        "\\end{pmatrix} = \\left\\{\\begin{matrix}\n",
        "r_A = Tr(\\rho_{AB} \\vec{\\sigma} \\otimes I) = \\vec{0}\\\\ \n",
        "r_B = Tr(\\rho_{AB} I \\otimes \\vec{\\sigma}) = \\vec{0}\\\\ \n",
        "J_{ij} = Tr(\\rho_{AB} \\sigma_i \\otimes \\sigma_j) = \\begin{pmatrix}\n",
        "1 &0  &0 \\\\ \n",
        "0 &-1  &0 \\\\ \n",
        "0 &0  &1 \n",
        "\\end{pmatrix}\n",
        "\\end{matrix}\\right.$"
      ]
    },
    {
      "cell_type": "markdown",
      "metadata": {
        "id": "nheYqhxcjv79"
      },
      "source": [
        "#### 2) Para $\\ket{\\Psi}=\\frac{1}{\\sqrt{2}}(\\ket{01}-\\ket{10})$, considerar el estado $\\rho_{AB}=x\\ket{\\Psi}\\bra{\\Psi}+(1-x)I\\otimes I/4$"
      ]
    },
    {
      "cell_type": "markdown",
      "metadata": {
        "id": "5dX3yPfclZE7"
      },
      "source": [
        "##### a) Indicar para qué valores de x es $\\rho_{AB}$ un estado físico"
      ]
    },
    {
      "cell_type": "markdown",
      "metadata": {
        "id": "mn50KaeEKGsX"
      },
      "source": [
        "Con $\\ket{\\Psi}=\\frac{1}{\\sqrt{2}}(\\ket{01}-\\ket{10})$. Entonces:\n",
        "\n",
        "$\\rho_{AB} =x\\ket{\\Psi}\\bra{\\Psi}+(1-x)I\\otimes I/4 = \\begin{pmatrix}\n",
        "\\frac{1-x}{4} &0  &0  &0 \\\\ \n",
        "0 &\\frac{1-x}{4} + \\frac{x}{2}  & -\\frac{x}{2}  &0 \\\\ \n",
        "0 &-\\frac{x}{2}  &\\frac{1-x}{4} + \\frac{x}{2}  &0 \\\\ \n",
        "0 &0  &0  &\\frac{1-x}{4} \n",
        "\\end{pmatrix}$\n",
        "\n",
        "Ya que se verifica que $Tr(\\rho_{AB})=1$ y que $\\rho = \\rho^{\\dagger}$, solo queda ver para qué valores de x es semi-definida positiva:\n",
        "\n",
        "Calculamos los autovalores y vemos que:\n",
        "\n",
        "$\\left.\\begin{matrix}\n",
        "\\lambda_1=\\lambda_2=\\lambda_3=\\frac{1-x}{4}\\geq 0\\\\ \n",
        "\\lambda_4 = \\frac{1+3x}{4} \\geq 0\n",
        "\\end{matrix}\\right\\} x\\epsilon [-\\frac{1}{3}, 1]$"
      ]
    },
    {
      "cell_type": "markdown",
      "metadata": {
        "id": "_IVmPq0Zli9K"
      },
      "source": [
        "##### b) Indicar para qué valores de x es $\\rho_{AB}$ un estado puro"
      ]
    },
    {
      "cell_type": "markdown",
      "metadata": {
        "id": "dbXuRw3zI0lt"
      },
      "source": [
        "Para que $\\rho_{AB}$ sea un estado puro debemos verificar que $\\rho_{AB}=\\rho_{AB}^2$. Sin embargo, observando el estado $\\rho_{AB} =x\\ket{\\Psi}\\bra{\\Psi}+(1-x)I\\otimes I/4$ podemos asegurar que para un valor de $x=1$ $\\rho_{AB}$ es un estado puro."
      ]
    },
    {
      "cell_type": "markdown",
      "metadata": {
        "id": "D10FhrB4lqZv"
      },
      "source": [
        "##### c) Indicar para qué valores de x se viola la desigualdad de Bell $|Tr(\\rho_{AB}O)| \\leq 2$ con O el observable CHSH descripto en clase."
      ]
    },
    {
      "cell_type": "markdown",
      "metadata": {
        "id": "aavyFVDTOoKX"
      },
      "source": [
        "Dados los observables de CHSH $O=\\sigma_x \\otimes \\sigma_{x'} + \\sigma_z \\otimes \\sigma_{z'} + \\sigma_x \\otimes \\sigma_{z'} - \\sigma_z \\otimes \\sigma_{x'}$ siendo $\\sigma_{x'} = R_y(\\phi) \\sigma_x R_y^{\\dagger}(\\phi)$ y $\\sigma_{z'} = R_y(\\phi) \\sigma_z R_y^{\\dagger}(\\phi)$.\n",
        "\n",
        "Entonces:\n",
        "\n",
        "$<O> = Tr(\\rho O) = -x\\cos(\\phi) - x\\cos(\\phi) - x\\sin(\\phi) - x\\sin(\\phi) = -2x\\sqrt{2}\\cos(\\phi - \\frac{\\pi}{4})$\n",
        "\n",
        "Ya que clásicamente se pueden obtener extremos en $\\pm 2$ . Entonces: \n",
        "\n",
        "$-2x\\sqrt{2}\\cos(\\phi - \\frac{\\pi}{4})<-2 \\xrightarrow{\\cos = 1} x>\\frac{1}{\\sqrt{2}}$"
      ]
    },
    {
      "cell_type": "markdown",
      "metadata": {
        "id": "tqeVyDOhnvbN"
      },
      "source": [
        "##### d) Indicar para qué valores de x es $\\rho_{AB}$ entrelazado."
      ]
    },
    {
      "cell_type": "markdown",
      "metadata": {
        "id": "FNwSzm76SOVD"
      },
      "source": [
        "Sabemos que si $\\rho_{AB} < 0$ el estado es entrelazao cuando hablamos de un sistema de 2 qubits:\n",
        "\n",
        "Con $\\rho_{AB}=\\begin{pmatrix}\n",
        "\\rho_{11} &\\rho_{12}  &\\rho_{13}  &\\rho_{14} \\\\ \n",
        "\\rho_{21} &\\rho_{22}  &\\rho_{23}  &\\rho_{24} \\\\ \n",
        "\\rho_{31} &\\rho_{32}  &\\rho_{33}  &\\rho_{34} \\\\ \n",
        "\\rho_{41} &\\rho_{42}  &\\rho_{43}  &\\rho_{44} \n",
        "\\end{pmatrix} \\rightarrow \\rho_{AB}^{T_B}=\\begin{pmatrix}\n",
        "\\rho_{11} &\\rho_{21}  &\\rho_{13}  &\\rho_{23} \\\\ \n",
        "\\rho_{12} &\\rho_{22}  &\\rho_{14}  &\\rho_{24} \\\\ \n",
        "\\rho_{31} &\\rho_{41}  &\\rho_{33}  &\\rho_{43} \\\\ \n",
        "\\rho_{32} &\\rho_{42}  &\\rho_{34}  &\\rho_{44} \n",
        "\\end{pmatrix}=\\begin{pmatrix}\n",
        "\\frac{1-x}{4} &0  &0  &-\\frac{x}{2} \\\\ \n",
        "0 &\\frac{1-x}{4} + \\frac{x}{2}  & 0  &0 \\\\ \n",
        "0 &0  &\\frac{1-x}{4} + \\frac{x}{2}  &0 \\\\ \n",
        "-\\frac{x}{2} &0  &0  &\\frac{1-x}{4} \n",
        "\\end{pmatrix}$\n",
        "\n",
        "Por lo tanto: \n",
        "\n",
        "$\\left.\\begin{matrix}\n",
        "\\lambda_1 = \\frac{1-3x}{4}<0 \\rightarrow x>\\frac{1}{3}\\\\ \n",
        "\\lambda_2 = \\lambda_3 = \\lambda_4 = \\frac{1+x}{4}<0 \\rightarrow x<-1\n",
        "\\end{matrix}\\right\\}$ \n",
        "\n",
        "Sumando estas restricciones a las de sistemas físicos reales calculadas en los incisos anteriores, podemos definir el rango de $x\\epsilon [\\frac{1}{3}, 1]$.\n"
      ]
    },
    {
      "cell_type": "markdown",
      "metadata": {
        "id": "GDRGAyA6n2-R"
      },
      "source": [
        "##### e) Evaluar la negatividad, concurrencia y entrelazamiento de formación de $\\rho_{AB}$."
      ]
    },
    {
      "cell_type": "markdown",
      "metadata": {
        "id": "r6P7mpfQSPns"
      },
      "source": [
        "Negatividad: $N(x) = \\begin{cases}\n",
        "0 & \\text{ si } x\\epsilon [-\\frac{1}{3}, \\frac{1}{3}] \\\\ \n",
        "\\frac{3x-1}{4} & \\text{ si }x\\epsilon (\\frac{1}{3}, 1] \\\\ \n",
        "\\end{cases}$ ya que el sistema solo presenta autovalores negativos para $x>\\frac{1}{3}$.\n",
        "\n",
        "Concurrencia: $C(x) = max(2\\lambda_{max}(R)-Tr(R), 0)$ con $R = (\\rho^{1/2}_{AB} (\\sigma_y \\otimes \\sigma_y) \\rho^{*}_{AB}(\\sigma_y \\otimes \\sigma_y) \\rho^{1/2}_{AB})^{1/2}$.\n",
        "\n",
        "Entrelazamiento: $E(x) = \\sum_{i=0,1}p_i \\log_{2}p_i$ con $p_i = \\frac{1+(-1)^i \\sqrt{(1-C^2)}}{2}$"
      ]
    },
    {
      "cell_type": "code",
      "metadata": {
        "id": "jxT3TclPgJAc"
      },
      "source": [
        ""
      ],
      "execution_count": null,
      "outputs": []
    }
  ]
}